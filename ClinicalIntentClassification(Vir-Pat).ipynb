{
  "cells": [
    {
      "cell_type": "markdown",
      "source": [
        "# ***PREPROCESSING***"
      ],
      "metadata": {
        "id": "CQs8bKAFecIj"
      }
    },
    {
      "cell_type": "code",
      "execution_count": null,
      "metadata": {
        "colab": {
          "base_uri": "https://localhost:8080/"
        },
        "id": "VY97DfNVAU1Q",
        "outputId": "6462835f-c494-40e5-d96a-6dc6ddbd1a49"
      },
      "outputs": [
        {
          "output_type": "stream",
          "name": "stdout",
          "text": [
            "Mounted at /content/drive\n"
          ]
        }
      ],
      "source": [
        "from google.colab import drive\n",
        "drive.mount('/content/drive')"
      ]
    },
    {
      "cell_type": "code",
      "execution_count": null,
      "metadata": {
        "colab": {
          "base_uri": "https://localhost:8080/"
        },
        "id": "jasJ3UahuW7H",
        "outputId": "a9e7022e-6165-4bb4-a5b1-85658af8da71"
      },
      "outputs": [
        {
          "output_type": "stream",
          "name": "stdout",
          "text": [
            "Looking in indexes: https://pypi.org/simple, https://us-python.pkg.dev/colab-wheels/public/simple/\n",
            "Collecting torch==1.10.2\n",
            "  Downloading torch-1.10.2-cp39-cp39-manylinux1_x86_64.whl (881.9 MB)\n",
            "\u001b[2K     \u001b[90m━━━━━━━━━━━━━━━━━━━━━━━━━━━━━━━━━━━━━━━\u001b[0m \u001b[32m881.9/881.9 MB\u001b[0m \u001b[31m2.0 MB/s\u001b[0m eta \u001b[36m0:00:00\u001b[0m\n",
            "\u001b[?25hRequirement already satisfied: typing-extensions in /usr/local/lib/python3.9/dist-packages (from torch==1.10.2) (4.5.0)\n",
            "Installing collected packages: torch\n",
            "  Attempting uninstall: torch\n",
            "    Found existing installation: torch 1.13.1+cu116\n",
            "    Uninstalling torch-1.13.1+cu116:\n",
            "      Successfully uninstalled torch-1.13.1+cu116\n",
            "\u001b[31mERROR: pip's dependency resolver does not currently take into account all the packages that are installed. This behaviour is the source of the following dependency conflicts.\n",
            "torchvision 0.14.1+cu116 requires torch==1.13.1, but you have torch 1.10.2 which is incompatible.\n",
            "torchtext 0.14.1 requires torch==1.13.1, but you have torch 1.10.2 which is incompatible.\n",
            "torchaudio 0.13.1+cu116 requires torch==1.13.1, but you have torch 1.10.2 which is incompatible.\u001b[0m\u001b[31m\n",
            "\u001b[0mSuccessfully installed torch-1.10.2\n",
            "Looking in indexes: https://pypi.org/simple, https://us-python.pkg.dev/colab-wheels/public/simple/\n",
            "Requirement already satisfied: pandas in /usr/local/lib/python3.9/dist-packages (1.4.4)\n",
            "Requirement already satisfied: numpy>=1.18.5 in /usr/local/lib/python3.9/dist-packages (from pandas) (1.22.4)\n",
            "Requirement already satisfied: pytz>=2020.1 in /usr/local/lib/python3.9/dist-packages (from pandas) (2022.7.1)\n",
            "Requirement already satisfied: python-dateutil>=2.8.1 in /usr/local/lib/python3.9/dist-packages (from pandas) (2.8.2)\n",
            "Requirement already satisfied: six>=1.5 in /usr/local/lib/python3.9/dist-packages (from python-dateutil>=2.8.1->pandas) (1.15.0)\n",
            "Looking in indexes: https://pypi.org/simple, https://us-python.pkg.dev/colab-wheels/public/simple/\n",
            "Collecting transformers==4.16.2\n",
            "  Downloading transformers-4.16.2-py3-none-any.whl (3.5 MB)\n",
            "\u001b[2K     \u001b[90m━━━━━━━━━━━━━━━━━━━━━━━━━━━━━━━━━━━━━━━━\u001b[0m \u001b[32m3.5/3.5 MB\u001b[0m \u001b[31m37.5 MB/s\u001b[0m eta \u001b[36m0:00:00\u001b[0m\n",
            "\u001b[?25hCollecting huggingface-hub<1.0,>=0.1.0\n",
            "  Downloading huggingface_hub-0.13.2-py3-none-any.whl (199 kB)\n",
            "\u001b[2K     \u001b[90m━━━━━━━━━━━━━━━━━━━━━━━━━━━━━━━━━━━━━━\u001b[0m \u001b[32m199.2/199.2 KB\u001b[0m \u001b[31m27.4 MB/s\u001b[0m eta \u001b[36m0:00:00\u001b[0m\n",
            "\u001b[?25hRequirement already satisfied: numpy>=1.17 in /usr/local/lib/python3.9/dist-packages (from transformers==4.16.2) (1.22.4)\n",
            "Requirement already satisfied: regex!=2019.12.17 in /usr/local/lib/python3.9/dist-packages (from transformers==4.16.2) (2022.6.2)\n",
            "Requirement already satisfied: pyyaml>=5.1 in /usr/local/lib/python3.9/dist-packages (from transformers==4.16.2) (6.0)\n",
            "Collecting sacremoses\n",
            "  Downloading sacremoses-0.0.53.tar.gz (880 kB)\n",
            "\u001b[2K     \u001b[90m━━━━━━━━━━━━━━━━━━━━━━━━━━━━━━━━━━━━━━\u001b[0m \u001b[32m880.6/880.6 KB\u001b[0m \u001b[31m57.1 MB/s\u001b[0m eta \u001b[36m0:00:00\u001b[0m\n",
            "\u001b[?25h  Preparing metadata (setup.py) ... \u001b[?25l\u001b[?25hdone\n",
            "Requirement already satisfied: requests in /usr/local/lib/python3.9/dist-packages (from transformers==4.16.2) (2.25.1)\n",
            "Requirement already satisfied: packaging>=20.0 in /usr/local/lib/python3.9/dist-packages (from transformers==4.16.2) (23.0)\n",
            "Requirement already satisfied: tqdm>=4.27 in /usr/local/lib/python3.9/dist-packages (from transformers==4.16.2) (4.65.0)\n",
            "Collecting tokenizers!=0.11.3,>=0.10.1\n",
            "  Downloading tokenizers-0.13.2-cp39-cp39-manylinux_2_17_x86_64.manylinux2014_x86_64.whl (7.6 MB)\n",
            "\u001b[2K     \u001b[90m━━━━━━━━━━━━━━━━━━━━━━━━━━━━━━━━━━━━━━━━\u001b[0m \u001b[32m7.6/7.6 MB\u001b[0m \u001b[31m96.2 MB/s\u001b[0m eta \u001b[36m0:00:00\u001b[0m\n",
            "\u001b[?25hRequirement already satisfied: filelock in /usr/local/lib/python3.9/dist-packages (from transformers==4.16.2) (3.9.0)\n",
            "Requirement already satisfied: typing-extensions>=3.7.4.3 in /usr/local/lib/python3.9/dist-packages (from huggingface-hub<1.0,>=0.1.0->transformers==4.16.2) (4.5.0)\n",
            "Requirement already satisfied: idna<3,>=2.5 in /usr/local/lib/python3.9/dist-packages (from requests->transformers==4.16.2) (2.10)\n",
            "Requirement already satisfied: chardet<5,>=3.0.2 in /usr/local/lib/python3.9/dist-packages (from requests->transformers==4.16.2) (4.0.0)\n",
            "Requirement already satisfied: urllib3<1.27,>=1.21.1 in /usr/local/lib/python3.9/dist-packages (from requests->transformers==4.16.2) (1.26.15)\n",
            "Requirement already satisfied: certifi>=2017.4.17 in /usr/local/lib/python3.9/dist-packages (from requests->transformers==4.16.2) (2022.12.7)\n",
            "Requirement already satisfied: six in /usr/local/lib/python3.9/dist-packages (from sacremoses->transformers==4.16.2) (1.15.0)\n",
            "Requirement already satisfied: click in /usr/local/lib/python3.9/dist-packages (from sacremoses->transformers==4.16.2) (8.1.3)\n",
            "Requirement already satisfied: joblib in /usr/local/lib/python3.9/dist-packages (from sacremoses->transformers==4.16.2) (1.1.1)\n",
            "Building wheels for collected packages: sacremoses\n",
            "  Building wheel for sacremoses (setup.py) ... \u001b[?25l\u001b[?25hdone\n",
            "  Created wheel for sacremoses: filename=sacremoses-0.0.53-py3-none-any.whl size=895258 sha256=bc353c4711536aad9d4bdf622526912bff251423875f26107be03a90f3b19da4\n",
            "  Stored in directory: /root/.cache/pip/wheels/12/1c/3d/46cf06718d63a32ff798a89594b61e7f345ab6b36d909ce033\n",
            "Successfully built sacremoses\n",
            "Installing collected packages: tokenizers, sacremoses, huggingface-hub, transformers\n",
            "Successfully installed huggingface-hub-0.13.2 sacremoses-0.0.53 tokenizers-0.13.2 transformers-4.16.2\n",
            "Looking in indexes: https://pypi.org/simple, https://us-python.pkg.dev/colab-wheels/public/simple/\n",
            "Requirement already satisfied: matplotlib in /usr/local/lib/python3.9/dist-packages (3.5.3)\n",
            "Requirement already satisfied: packaging>=20.0 in /usr/local/lib/python3.9/dist-packages (from matplotlib) (23.0)\n",
            "Requirement already satisfied: fonttools>=4.22.0 in /usr/local/lib/python3.9/dist-packages (from matplotlib) (4.39.0)\n",
            "Requirement already satisfied: pyparsing>=2.2.1 in /usr/local/lib/python3.9/dist-packages (from matplotlib) (3.0.9)\n",
            "Requirement already satisfied: python-dateutil>=2.7 in /usr/local/lib/python3.9/dist-packages (from matplotlib) (2.8.2)\n",
            "Requirement already satisfied: numpy>=1.17 in /usr/local/lib/python3.9/dist-packages (from matplotlib) (1.22.4)\n",
            "Requirement already satisfied: kiwisolver>=1.0.1 in /usr/local/lib/python3.9/dist-packages (from matplotlib) (1.4.4)\n",
            "Requirement already satisfied: cycler>=0.10 in /usr/local/lib/python3.9/dist-packages (from matplotlib) (0.11.0)\n",
            "Requirement already satisfied: pillow>=6.2.0 in /usr/local/lib/python3.9/dist-packages (from matplotlib) (8.4.0)\n",
            "Requirement already satisfied: six>=1.5 in /usr/local/lib/python3.9/dist-packages (from python-dateutil>=2.7->matplotlib) (1.15.0)\n"
          ]
        }
      ],
      "source": [
        "# install torch\n",
        "!pip install \"torch == 1.10.2\"\n",
        "# install pandas\n",
        "!pip install pandas\n",
        "!pip install \"transformers ==4.16.2\"\n",
        "!pip install matplotlib\n",
        "\n"
      ]
    },
    {
      "cell_type": "code",
      "execution_count": null,
      "metadata": {
        "colab": {
          "base_uri": "https://localhost:8080/"
        },
        "id": "G_dIV-EqFZv_",
        "outputId": "f9e3cb2d-f48e-4874-9cc3-9e5f4d71af3d"
      },
      "outputs": [
        {
          "output_type": "stream",
          "name": "stdout",
          "text": [
            "Looking in indexes: https://pypi.org/simple, https://us-python.pkg.dev/colab-wheels/public/simple/\n",
            "Collecting sklearn\n",
            "  Downloading sklearn-0.0.post1.tar.gz (3.6 kB)\n",
            "  Preparing metadata (setup.py) ... \u001b[?25l\u001b[?25hdone\n",
            "Building wheels for collected packages: sklearn\n",
            "  Building wheel for sklearn (setup.py) ... \u001b[?25l\u001b[?25hdone\n",
            "  Created wheel for sklearn: filename=sklearn-0.0.post1-py3-none-any.whl size=2955 sha256=4f21e967226ddd8d6ef84e0f182b10049fdd586c8903858634cb516efa37593c\n",
            "  Stored in directory: /root/.cache/pip/wheels/f8/e0/3d/9d0c2020c44a519b9f02ab4fa6d2a4a996c98d79ab2f569fa1\n",
            "Successfully built sklearn\n",
            "Installing collected packages: sklearn\n",
            "Successfully installed sklearn-0.0.post1\n"
          ]
        }
      ],
      "source": [
        "#not in colab\n",
        "!pip install sklearn"
      ]
    },
    {
      "cell_type": "code",
      "execution_count": null,
      "metadata": {
        "id": "u4pCGzP4uYtN"
      },
      "outputs": [],
      "source": [
        "import torch\n",
        "from torch.utils.data import TensorDataset, DataLoader, RandomSampler, SequentialSampler\n",
        "import pandas as pd\n",
        "import re\n",
        "import string\n",
        "from transformers import AutoTokenizer\n",
        "import matplotlib.pyplot as plt\n",
        "from sklearn.preprocessing import LabelEncoder\n",
        "from sklearn.model_selection import train_test_split\n",
        "from transformers import XLMRobertaForSequenceClassification, AdamW, get_linear_schedule_with_warmup\n",
        "import time\n",
        "from sklearn.metrics import confusion_matrix, classification_report\n",
        "import numpy as np\n",
        "\n"
      ]
    },
    {
      "cell_type": "code",
      "execution_count": null,
      "metadata": {
        "colab": {
          "base_uri": "https://localhost:8080/"
        },
        "id": "CdrMD7qkAhk4",
        "outputId": "07c0f2d3-b406-46b9-aba4-2bfe653de941"
      },
      "outputs": [
        {
          "output_type": "stream",
          "name": "stdout",
          "text": [
            "There are 1 GPU(s) available.\n",
            "GPU is: Tesla T4\n"
          ]
        }
      ],
      "source": [
        "# check if we have cuda installed\n",
        "if torch.cuda.is_available():\n",
        "    # to use GPU\n",
        "    device = torch.device(\"cuda\")\n",
        "    print('There are %d GPU(s) available.' % torch.cuda.device_count())\n",
        "    print('GPU is:', torch.cuda.get_device_name(0))\n",
        "else:\n",
        "    print('No GPU available, using the CPU instead.')\n",
        "    device = torch.device(\"cpu\")"
      ]
    },
    {
      "cell_type": "code",
      "execution_count": null,
      "metadata": {
        "colab": {
          "base_uri": "https://localhost:8080/"
        },
        "id": "_Nd5Ru-vAtQm",
        "outputId": "c24b6f80-702e-4119-b1ca-41700b155d47"
      },
      "outputs": [
        {
          "output_type": "stream",
          "name": "stdout",
          "text": [
            "306\n",
            "2079\n"
          ]
        }
      ],
      "source": [
        "# read in train dataset\n",
        "df_val = pd.read_csv('/content/drive/My Drive/TFG-Janire-Mikel/DeepLearning/val.csv', encoding='UTF-8')\n",
        "print(len(df_val))\n",
        "df_train = pd.read_csv('/content/drive/My Drive/TFG-Janire-Mikel/DeepLearning/train.csv', encoding='UTF-8')\n",
        "print(len(df_train))\n",
        "#df = pd.concat([df_train, df_val], ignore_index=True)\n",
        "#df"
      ]
    },
    {
      "cell_type": "code",
      "execution_count": null,
      "metadata": {
        "colab": {
          "base_uri": "https://localhost:8080/"
        },
        "id": "0As771kWAuXf",
        "outputId": "6cde69a5-7122-4523-9ddc-77e4172159df"
      },
      "outputs": [
        {
          "output_type": "stream",
          "name": "stdout",
          "text": [
            "145\n"
          ]
        },
        {
          "output_type": "execute_result",
          "data": {
            "text/plain": [
              "{'afirmar': 11,\n",
              " 'despedida': 4,\n",
              " 'estado': 5,\n",
              " 'motivo_de_consulta': 49,\n",
              " 'otros': 3,\n",
              " 'personal_adiccion_alcohol_cantidad': 6,\n",
              " 'personal_adiccion_alcohol_describir': 3,\n",
              " 'personal_adiccion_alcohol_duracion': 3,\n",
              " 'personal_adiccion_alcohol_frecuencia': 3,\n",
              " 'personal_adiccion_alcohol_otros': 3,\n",
              " 'personal_adiccion_alcohol_si_o_no': 12,\n",
              " 'personal_adiccion_fumar_cantidad': 10,\n",
              " 'personal_adiccion_fumar_duracion': 3,\n",
              " 'personal_adiccion_fumar_frecuencia': 3,\n",
              " 'personal_adiccion_fumar_inicio': 3,\n",
              " 'personal_adiccion_fumar_si_o_no': 20,\n",
              " 'personal_adiccion_otros_describir': 7,\n",
              " 'personal_adiccion_otros_si_o_no': 6,\n",
              " 'personal_contacto': 5,\n",
              " 'personal_datos_direccion': 5,\n",
              " 'personal_datos_edad': 17,\n",
              " 'personal_datos_fecha_de_nacimiento': 4,\n",
              " 'personal_datos_nombre': 19,\n",
              " 'personal_deporte_cantidad': 3,\n",
              " 'personal_deporte_cuando': 3,\n",
              " 'personal_deporte_describir': 7,\n",
              " 'personal_deporte_frecuencia': 3,\n",
              " 'personal_deporte_si_o_no': 8,\n",
              " 'personal_dieta_cantidad': 3,\n",
              " 'personal_dieta_cuando': 3,\n",
              " 'personal_dieta_describir': 9,\n",
              " 'personal_dieta_duracion': 3,\n",
              " 'personal_dieta_frecuencia': 3,\n",
              " 'personal_dieta_otros': 3,\n",
              " 'personal_dieta_si_o_no': 19,\n",
              " 'personal_entorno_describir': 3,\n",
              " 'personal_entorno_hijos_describir': 2,\n",
              " 'personal_entorno_hijos_edad': 3,\n",
              " 'personal_entorno_hijos_nombre': 3,\n",
              " 'personal_entorno_hijos_otros': 3,\n",
              " 'personal_entorno_hijos_si_o_no': 15,\n",
              " 'personal_entorno_mascota_si_o_no': 3,\n",
              " 'personal_entorno_otros_describir': 3,\n",
              " 'personal_entorno_otros_si_o_no': 7,\n",
              " 'personal_entorno_padres_si_o_no': 3,\n",
              " 'personal_entorno_pareja_nombre': 3,\n",
              " 'personal_entorno_pareja_otros': 2,\n",
              " 'personal_entorno_pareja_si_o_no': 7,\n",
              " 'personal_fisico_altura': 12,\n",
              " 'personal_fisico_peso_cambio': 10,\n",
              " 'personal_fisico_peso_duracion': 3,\n",
              " 'personal_fisico_peso_peso': 18,\n",
              " 'personal_otros_describir': 4,\n",
              " 'personal_otros_si_o_no': 6,\n",
              " 'personal_sueño_describir': 3,\n",
              " 'personal_sueño_horas': 4,\n",
              " 'personal_sueño_si_o_no': 3,\n",
              " 'personal_trabajo_anterior': 3,\n",
              " 'personal_trabajo_describir': 14,\n",
              " 'personal_trabajo_duracion': 3,\n",
              " 'personal_trabajo_horas': 3,\n",
              " 'personal_trabajo_lugar': 3,\n",
              " 'personal_trabajo_otros': 3,\n",
              " 'personal_trabajo_si_o_no': 3,\n",
              " 'personal_viajes_describir': 3,\n",
              " 'personal_viajes_otros': 3,\n",
              " 'personal_viajes_si_o_no': 4,\n",
              " 'psiquiatria': 35,\n",
              " 'psiquiatria_estado de animo_describir': 7,\n",
              " 'psiquiatria_estado de animo_si_o_no': 5,\n",
              " 'saludo': 20,\n",
              " 'sintoma_bebe_peso': 3,\n",
              " 'sintoma_bebe_si_o_no': 3,\n",
              " 'sintoma_entorno_si_o_no': 16,\n",
              " 'sintoma_familia_describir': 10,\n",
              " 'sintoma_familia_inicio': 3,\n",
              " 'sintoma_familia_si_o_no': 21,\n",
              " 'sintoma_paciente_alergia_describir': 18,\n",
              " 'sintoma_paciente_alergia_si_o_no': 6,\n",
              " 'sintoma_paciente_antecedentes_describir': 11,\n",
              " 'sintoma_paciente_antecedentes_si_o_no': 31,\n",
              " 'sintoma_paciente_aparicion_describir': 29,\n",
              " 'sintoma_paciente_aparicion_si_o_no': 97,\n",
              " 'sintoma_paciente_cambio_describir': 23,\n",
              " 'sintoma_paciente_cambio_si_o_no': 50,\n",
              " 'sintoma_paciente_capacidad_describir': 6,\n",
              " 'sintoma_paciente_capacidad_si_o_no': 27,\n",
              " 'sintoma_paciente_causa_describir': 23,\n",
              " 'sintoma_paciente_causa_si_o_no': 26,\n",
              " 'sintoma_paciente_describir': 154,\n",
              " 'sintoma_paciente_duracion': 19,\n",
              " 'sintoma_paciente_embarazo_antecedentes': 3,\n",
              " 'sintoma_paciente_embarazo_cantidad': 3,\n",
              " 'sintoma_paciente_embarazo_describir': 3,\n",
              " 'sintoma_paciente_embarazo_fin': 3,\n",
              " 'sintoma_paciente_embarazo_otros': 2,\n",
              " 'sintoma_paciente_embarazo_si_o_no': 2,\n",
              " 'sintoma_paciente_fiebre_describir': 9,\n",
              " 'sintoma_paciente_fiebre_si_o_no': 11,\n",
              " 'sintoma_paciente_frecuencia': 12,\n",
              " 'sintoma_paciente_inicio': 36,\n",
              " 'sintoma_paciente_localizacion_describir': 26,\n",
              " 'sintoma_paciente_localizacion_si_o_no': 32,\n",
              " 'sintoma_paciente_secuela_describir': 6,\n",
              " 'sintoma_paciente_secuela_si_o_no': 17,\n",
              " 'sintoma_paciente_seguimiento_describir': 3,\n",
              " 'sintoma_paciente_seguimiento_si_o_no': 3,\n",
              " 'sintoma_paciente_si_o_no': 530,\n",
              " 'tratamiento_anticonceptivos_describir': 3,\n",
              " 'tratamiento_anticonceptivos_frecuencia': 3,\n",
              " 'tratamiento_anticonceptivos_si_o_no': 8,\n",
              " 'tratamiento_consulta_describir': 5,\n",
              " 'tratamiento_consulta_especialista_si_o_no': 3,\n",
              " 'tratamiento_consulta_fecha': 3,\n",
              " 'tratamiento_consulta_si_o_no': 11,\n",
              " 'tratamiento_diagnostico_como': 3,\n",
              " 'tratamiento_diagnostico_fecha': 3,\n",
              " 'tratamiento_diagnostico_quien': 3,\n",
              " 'tratamiento_diagnostico_si_o_no': 3,\n",
              " 'tratamiento_historial_describir': 6,\n",
              " 'tratamiento_historial_si_o_no': 3,\n",
              " 'tratamiento_medicacion_antecedentes': 3,\n",
              " 'tratamiento_medicacion_cuando': 3,\n",
              " 'tratamiento_medicacion_describir': 28,\n",
              " 'tratamiento_medicacion_dosis': 3,\n",
              " 'tratamiento_medicacion_duracion': 3,\n",
              " 'tratamiento_medicacion_frecuencia': 3,\n",
              " 'tratamiento_medicacion_motivo': 3,\n",
              " 'tratamiento_medicacion_otros': 3,\n",
              " 'tratamiento_medicacion_receta': 3,\n",
              " 'tratamiento_medicacion_si_o_no': 24,\n",
              " 'tratamiento_operacion_complicaciones': 3,\n",
              " 'tratamiento_operacion_describir': 39,\n",
              " 'tratamiento_operacion_dosis': 3,\n",
              " 'tratamiento_operacion_especialista': 3,\n",
              " 'tratamiento_operacion_fecha': 14,\n",
              " 'tratamiento_operacion_frecuencia': 3,\n",
              " 'tratamiento_operacion_motivo': 3,\n",
              " 'tratamiento_operacion_resultados': 23,\n",
              " 'tratamiento_operacion_si_o_no': 61,\n",
              " 'vida_sexual_describir': 3,\n",
              " 'vida_sexual_edad': 3,\n",
              " 'vida_sexual_frecuencia': 3,\n",
              " 'vida_sexual_otros': 3,\n",
              " 'vida_sexual_si_o_no': 5}"
            ]
          },
          "metadata": {},
          "execution_count": 7
        }
      ],
      "source": [
        "hizte = dict(df_train.groupby(\"intent_4\").count()[\"texto\"])\n",
        "print(len(hizte))\n",
        "hizte"
      ]
    },
    {
      "cell_type": "code",
      "execution_count": null,
      "metadata": {
        "id": "PVx9wjlWCch0"
      },
      "outputs": [],
      "source": [
        "# text processing function\n",
        "# I want to twy with out preprocessing the text and processing the text\n",
        "def clean_text(text):\n",
        "    # to lower case\n",
        "    text = text.lower()\n",
        "    # remove punctuation\n",
        "    text = re.sub('[%s]' % re.escape(string.punctuation), '', text)\n",
        "    # remove next line\n",
        "    text = re.sub(r'[^ \\w\\.]', '', text)\n",
        "\n",
        "    return text\n",
        "# Create a new column called \"Text\" for collecting clean text\n",
        "df_train['text'] = df_train.texto.apply(lambda x: clean_text(x))\n",
        "df_val['text'] = df_val.texto.apply(lambda x: clean_text(x))"
      ]
    },
    {
      "cell_type": "code",
      "execution_count": null,
      "metadata": {
        "colab": {
          "base_uri": "https://localhost:8080/",
          "height": 423
        },
        "id": "Bp5JbEq6d_3W",
        "outputId": "ecd623a9-eca8-45b3-b18e-9cf80d4ffd05"
      },
      "outputs": [
        {
          "output_type": "execute_result",
          "data": {
            "text/plain": [
              "                              texto categoria_general intent_1 intent_2  \\\n",
              "0                                ok           afirmar      NaN      NaN   \n",
              "1                                sí           afirmar      NaN      NaN   \n",
              "2            ok te revisaré primero           afirmar      NaN      NaN   \n",
              "3                        de acuerdo           afirmar      NaN      NaN   \n",
              "4                                ok           afirmar      NaN      NaN   \n",
              "...                             ...               ...      ...      ...   \n",
              "2074  ¿Es usted sexualmente activo?       vida_sexual  si_o_no      NaN   \n",
              "2075  ¿es usted sexualmente activo?       vida_sexual  si_o_no      NaN   \n",
              "2076    es usted sexualmente activo       vida_sexual  si_o_no      NaN   \n",
              "2077   ¿has tenido alguna vez sexo?       vida_sexual  si_o_no      NaN   \n",
              "2078  ha tenido relaciones sexuales       vida_sexual  si_o_no      NaN   \n",
              "\n",
              "     intent_3             intent_4                           text  \n",
              "0         NaN              afirmar                             ok  \n",
              "1         NaN              afirmar                             sí  \n",
              "2         NaN              afirmar         ok te revisaré primero  \n",
              "3         NaN              afirmar                     de acuerdo  \n",
              "4         NaN              afirmar                             ok  \n",
              "...       ...                  ...                            ...  \n",
              "2074      NaN  vida_sexual_si_o_no    es usted sexualmente activo  \n",
              "2075      NaN  vida_sexual_si_o_no    es usted sexualmente activo  \n",
              "2076      NaN  vida_sexual_si_o_no    es usted sexualmente activo  \n",
              "2077      NaN  vida_sexual_si_o_no     has tenido alguna vez sexo  \n",
              "2078      NaN  vida_sexual_si_o_no  ha tenido relaciones sexuales  \n",
              "\n",
              "[2079 rows x 7 columns]"
            ],
            "text/html": [
              "\n",
              "  <div id=\"df-90477671-f7e4-409b-bcd0-5168e65183a0\">\n",
              "    <div class=\"colab-df-container\">\n",
              "      <div>\n",
              "<style scoped>\n",
              "    .dataframe tbody tr th:only-of-type {\n",
              "        vertical-align: middle;\n",
              "    }\n",
              "\n",
              "    .dataframe tbody tr th {\n",
              "        vertical-align: top;\n",
              "    }\n",
              "\n",
              "    .dataframe thead th {\n",
              "        text-align: right;\n",
              "    }\n",
              "</style>\n",
              "<table border=\"1\" class=\"dataframe\">\n",
              "  <thead>\n",
              "    <tr style=\"text-align: right;\">\n",
              "      <th></th>\n",
              "      <th>texto</th>\n",
              "      <th>categoria_general</th>\n",
              "      <th>intent_1</th>\n",
              "      <th>intent_2</th>\n",
              "      <th>intent_3</th>\n",
              "      <th>intent_4</th>\n",
              "      <th>text</th>\n",
              "    </tr>\n",
              "  </thead>\n",
              "  <tbody>\n",
              "    <tr>\n",
              "      <th>0</th>\n",
              "      <td>ok</td>\n",
              "      <td>afirmar</td>\n",
              "      <td>NaN</td>\n",
              "      <td>NaN</td>\n",
              "      <td>NaN</td>\n",
              "      <td>afirmar</td>\n",
              "      <td>ok</td>\n",
              "    </tr>\n",
              "    <tr>\n",
              "      <th>1</th>\n",
              "      <td>sí</td>\n",
              "      <td>afirmar</td>\n",
              "      <td>NaN</td>\n",
              "      <td>NaN</td>\n",
              "      <td>NaN</td>\n",
              "      <td>afirmar</td>\n",
              "      <td>sí</td>\n",
              "    </tr>\n",
              "    <tr>\n",
              "      <th>2</th>\n",
              "      <td>ok te revisaré primero</td>\n",
              "      <td>afirmar</td>\n",
              "      <td>NaN</td>\n",
              "      <td>NaN</td>\n",
              "      <td>NaN</td>\n",
              "      <td>afirmar</td>\n",
              "      <td>ok te revisaré primero</td>\n",
              "    </tr>\n",
              "    <tr>\n",
              "      <th>3</th>\n",
              "      <td>de acuerdo</td>\n",
              "      <td>afirmar</td>\n",
              "      <td>NaN</td>\n",
              "      <td>NaN</td>\n",
              "      <td>NaN</td>\n",
              "      <td>afirmar</td>\n",
              "      <td>de acuerdo</td>\n",
              "    </tr>\n",
              "    <tr>\n",
              "      <th>4</th>\n",
              "      <td>ok</td>\n",
              "      <td>afirmar</td>\n",
              "      <td>NaN</td>\n",
              "      <td>NaN</td>\n",
              "      <td>NaN</td>\n",
              "      <td>afirmar</td>\n",
              "      <td>ok</td>\n",
              "    </tr>\n",
              "    <tr>\n",
              "      <th>...</th>\n",
              "      <td>...</td>\n",
              "      <td>...</td>\n",
              "      <td>...</td>\n",
              "      <td>...</td>\n",
              "      <td>...</td>\n",
              "      <td>...</td>\n",
              "      <td>...</td>\n",
              "    </tr>\n",
              "    <tr>\n",
              "      <th>2074</th>\n",
              "      <td>¿Es usted sexualmente activo?</td>\n",
              "      <td>vida_sexual</td>\n",
              "      <td>si_o_no</td>\n",
              "      <td>NaN</td>\n",
              "      <td>NaN</td>\n",
              "      <td>vida_sexual_si_o_no</td>\n",
              "      <td>es usted sexualmente activo</td>\n",
              "    </tr>\n",
              "    <tr>\n",
              "      <th>2075</th>\n",
              "      <td>¿es usted sexualmente activo?</td>\n",
              "      <td>vida_sexual</td>\n",
              "      <td>si_o_no</td>\n",
              "      <td>NaN</td>\n",
              "      <td>NaN</td>\n",
              "      <td>vida_sexual_si_o_no</td>\n",
              "      <td>es usted sexualmente activo</td>\n",
              "    </tr>\n",
              "    <tr>\n",
              "      <th>2076</th>\n",
              "      <td>es usted sexualmente activo</td>\n",
              "      <td>vida_sexual</td>\n",
              "      <td>si_o_no</td>\n",
              "      <td>NaN</td>\n",
              "      <td>NaN</td>\n",
              "      <td>vida_sexual_si_o_no</td>\n",
              "      <td>es usted sexualmente activo</td>\n",
              "    </tr>\n",
              "    <tr>\n",
              "      <th>2077</th>\n",
              "      <td>¿has tenido alguna vez sexo?</td>\n",
              "      <td>vida_sexual</td>\n",
              "      <td>si_o_no</td>\n",
              "      <td>NaN</td>\n",
              "      <td>NaN</td>\n",
              "      <td>vida_sexual_si_o_no</td>\n",
              "      <td>has tenido alguna vez sexo</td>\n",
              "    </tr>\n",
              "    <tr>\n",
              "      <th>2078</th>\n",
              "      <td>ha tenido relaciones sexuales</td>\n",
              "      <td>vida_sexual</td>\n",
              "      <td>si_o_no</td>\n",
              "      <td>NaN</td>\n",
              "      <td>NaN</td>\n",
              "      <td>vida_sexual_si_o_no</td>\n",
              "      <td>ha tenido relaciones sexuales</td>\n",
              "    </tr>\n",
              "  </tbody>\n",
              "</table>\n",
              "<p>2079 rows × 7 columns</p>\n",
              "</div>\n",
              "      <button class=\"colab-df-convert\" onclick=\"convertToInteractive('df-90477671-f7e4-409b-bcd0-5168e65183a0')\"\n",
              "              title=\"Convert this dataframe to an interactive table.\"\n",
              "              style=\"display:none;\">\n",
              "        \n",
              "  <svg xmlns=\"http://www.w3.org/2000/svg\" height=\"24px\"viewBox=\"0 0 24 24\"\n",
              "       width=\"24px\">\n",
              "    <path d=\"M0 0h24v24H0V0z\" fill=\"none\"/>\n",
              "    <path d=\"M18.56 5.44l.94 2.06.94-2.06 2.06-.94-2.06-.94-.94-2.06-.94 2.06-2.06.94zm-11 1L8.5 8.5l.94-2.06 2.06-.94-2.06-.94L8.5 2.5l-.94 2.06-2.06.94zm10 10l.94 2.06.94-2.06 2.06-.94-2.06-.94-.94-2.06-.94 2.06-2.06.94z\"/><path d=\"M17.41 7.96l-1.37-1.37c-.4-.4-.92-.59-1.43-.59-.52 0-1.04.2-1.43.59L10.3 9.45l-7.72 7.72c-.78.78-.78 2.05 0 2.83L4 21.41c.39.39.9.59 1.41.59.51 0 1.02-.2 1.41-.59l7.78-7.78 2.81-2.81c.8-.78.8-2.07 0-2.86zM5.41 20L4 18.59l7.72-7.72 1.47 1.35L5.41 20z\"/>\n",
              "  </svg>\n",
              "      </button>\n",
              "      \n",
              "  <style>\n",
              "    .colab-df-container {\n",
              "      display:flex;\n",
              "      flex-wrap:wrap;\n",
              "      gap: 12px;\n",
              "    }\n",
              "\n",
              "    .colab-df-convert {\n",
              "      background-color: #E8F0FE;\n",
              "      border: none;\n",
              "      border-radius: 50%;\n",
              "      cursor: pointer;\n",
              "      display: none;\n",
              "      fill: #1967D2;\n",
              "      height: 32px;\n",
              "      padding: 0 0 0 0;\n",
              "      width: 32px;\n",
              "    }\n",
              "\n",
              "    .colab-df-convert:hover {\n",
              "      background-color: #E2EBFA;\n",
              "      box-shadow: 0px 1px 2px rgba(60, 64, 67, 0.3), 0px 1px 3px 1px rgba(60, 64, 67, 0.15);\n",
              "      fill: #174EA6;\n",
              "    }\n",
              "\n",
              "    [theme=dark] .colab-df-convert {\n",
              "      background-color: #3B4455;\n",
              "      fill: #D2E3FC;\n",
              "    }\n",
              "\n",
              "    [theme=dark] .colab-df-convert:hover {\n",
              "      background-color: #434B5C;\n",
              "      box-shadow: 0px 1px 3px 1px rgba(0, 0, 0, 0.15);\n",
              "      filter: drop-shadow(0px 1px 2px rgba(0, 0, 0, 0.3));\n",
              "      fill: #FFFFFF;\n",
              "    }\n",
              "  </style>\n",
              "\n",
              "      <script>\n",
              "        const buttonEl =\n",
              "          document.querySelector('#df-90477671-f7e4-409b-bcd0-5168e65183a0 button.colab-df-convert');\n",
              "        buttonEl.style.display =\n",
              "          google.colab.kernel.accessAllowed ? 'block' : 'none';\n",
              "\n",
              "        async function convertToInteractive(key) {\n",
              "          const element = document.querySelector('#df-90477671-f7e4-409b-bcd0-5168e65183a0');\n",
              "          const dataTable =\n",
              "            await google.colab.kernel.invokeFunction('convertToInteractive',\n",
              "                                                     [key], {});\n",
              "          if (!dataTable) return;\n",
              "\n",
              "          const docLinkHtml = 'Like what you see? Visit the ' +\n",
              "            '<a target=\"_blank\" href=https://colab.research.google.com/notebooks/data_table.ipynb>data table notebook</a>'\n",
              "            + ' to learn more about interactive tables.';\n",
              "          element.innerHTML = '';\n",
              "          dataTable['output_type'] = 'display_data';\n",
              "          await google.colab.output.renderOutput(dataTable, element);\n",
              "          const docLink = document.createElement('div');\n",
              "          docLink.innerHTML = docLinkHtml;\n",
              "          element.appendChild(docLink);\n",
              "        }\n",
              "      </script>\n",
              "    </div>\n",
              "  </div>\n",
              "  "
            ]
          },
          "metadata": {},
          "execution_count": 9
        }
      ],
      "source": [
        "df_train"
      ]
    },
    {
      "cell_type": "code",
      "execution_count": null,
      "metadata": {
        "colab": {
          "base_uri": "https://localhost:8080/",
          "height": 423
        },
        "id": "kpRsh_i1gakO",
        "outputId": "c05a88dc-556a-47dc-f0b5-a3b51313084e"
      },
      "outputs": [
        {
          "output_type": "execute_result",
          "data": {
            "text/plain": [
              "                                                 texto   categoria_general  \\\n",
              "0                                           de acuerdo             afirmar   \n",
              "1       adiós señor, mis mejores deseos para su esposa           despedida   \n",
              "2                                         ¿cómo estás?              estado   \n",
              "3                                        ¿qué te pasa?  motivo_de_consulta   \n",
              "4                     ¿Cuál es el motivo de su visita?  motivo_de_consulta   \n",
              "..                                                 ...                 ...   \n",
              "301                          háblame de tu vida_sexual         vida_sexual   \n",
              "302  ¿Qué edad tenías cuando tuviste tus primeras r...         vida_sexual   \n",
              "303  ¿Con qué frecuencia tiene usted relaciones sex...         vida_sexual   \n",
              "304  ha tenido relaciones sexuales bajo la influenc...         vida_sexual   \n",
              "305                        es usted sexualmente activo         vida_sexual   \n",
              "\n",
              "       intent_1 intent_2 intent_3                intent_4  \\\n",
              "0           NaN      NaN      NaN                 afirmar   \n",
              "1           NaN      NaN      NaN               despedida   \n",
              "2           NaN      NaN      NaN                  estado   \n",
              "3           NaN      NaN      NaN      motivo_de_consulta   \n",
              "4           NaN      NaN      NaN      motivo_de_consulta   \n",
              "..          ...      ...      ...                     ...   \n",
              "301   describir      NaN      NaN   vida_sexual_describir   \n",
              "302        edad      NaN      NaN        vida_sexual_edad   \n",
              "303  frecuencia      NaN      NaN  vida_sexual_frecuencia   \n",
              "304       otros      NaN      NaN       vida_sexual_otros   \n",
              "305     si_o_no      NaN      NaN     vida_sexual_si_o_no   \n",
              "\n",
              "                                                  text  \n",
              "0                                           de acuerdo  \n",
              "1        adiós señor mis mejores deseos para su esposa  \n",
              "2                                           cómo estás  \n",
              "3                                          qué te pasa  \n",
              "4                       cuál es el motivo de su visita  \n",
              "..                                                 ...  \n",
              "301                           háblame de tu vidasexual  \n",
              "302  qué edad tenías cuando tuviste tus primeras re...  \n",
              "303  con qué frecuencia tiene usted relaciones sexu...  \n",
              "304  ha tenido relaciones sexuales bajo la influenc...  \n",
              "305                        es usted sexualmente activo  \n",
              "\n",
              "[306 rows x 7 columns]"
            ],
            "text/html": [
              "\n",
              "  <div id=\"df-3d8c21ff-fa57-4419-bf03-c88ca4273c8c\">\n",
              "    <div class=\"colab-df-container\">\n",
              "      <div>\n",
              "<style scoped>\n",
              "    .dataframe tbody tr th:only-of-type {\n",
              "        vertical-align: middle;\n",
              "    }\n",
              "\n",
              "    .dataframe tbody tr th {\n",
              "        vertical-align: top;\n",
              "    }\n",
              "\n",
              "    .dataframe thead th {\n",
              "        text-align: right;\n",
              "    }\n",
              "</style>\n",
              "<table border=\"1\" class=\"dataframe\">\n",
              "  <thead>\n",
              "    <tr style=\"text-align: right;\">\n",
              "      <th></th>\n",
              "      <th>texto</th>\n",
              "      <th>categoria_general</th>\n",
              "      <th>intent_1</th>\n",
              "      <th>intent_2</th>\n",
              "      <th>intent_3</th>\n",
              "      <th>intent_4</th>\n",
              "      <th>text</th>\n",
              "    </tr>\n",
              "  </thead>\n",
              "  <tbody>\n",
              "    <tr>\n",
              "      <th>0</th>\n",
              "      <td>de acuerdo</td>\n",
              "      <td>afirmar</td>\n",
              "      <td>NaN</td>\n",
              "      <td>NaN</td>\n",
              "      <td>NaN</td>\n",
              "      <td>afirmar</td>\n",
              "      <td>de acuerdo</td>\n",
              "    </tr>\n",
              "    <tr>\n",
              "      <th>1</th>\n",
              "      <td>adiós señor, mis mejores deseos para su esposa</td>\n",
              "      <td>despedida</td>\n",
              "      <td>NaN</td>\n",
              "      <td>NaN</td>\n",
              "      <td>NaN</td>\n",
              "      <td>despedida</td>\n",
              "      <td>adiós señor mis mejores deseos para su esposa</td>\n",
              "    </tr>\n",
              "    <tr>\n",
              "      <th>2</th>\n",
              "      <td>¿cómo estás?</td>\n",
              "      <td>estado</td>\n",
              "      <td>NaN</td>\n",
              "      <td>NaN</td>\n",
              "      <td>NaN</td>\n",
              "      <td>estado</td>\n",
              "      <td>cómo estás</td>\n",
              "    </tr>\n",
              "    <tr>\n",
              "      <th>3</th>\n",
              "      <td>¿qué te pasa?</td>\n",
              "      <td>motivo_de_consulta</td>\n",
              "      <td>NaN</td>\n",
              "      <td>NaN</td>\n",
              "      <td>NaN</td>\n",
              "      <td>motivo_de_consulta</td>\n",
              "      <td>qué te pasa</td>\n",
              "    </tr>\n",
              "    <tr>\n",
              "      <th>4</th>\n",
              "      <td>¿Cuál es el motivo de su visita?</td>\n",
              "      <td>motivo_de_consulta</td>\n",
              "      <td>NaN</td>\n",
              "      <td>NaN</td>\n",
              "      <td>NaN</td>\n",
              "      <td>motivo_de_consulta</td>\n",
              "      <td>cuál es el motivo de su visita</td>\n",
              "    </tr>\n",
              "    <tr>\n",
              "      <th>...</th>\n",
              "      <td>...</td>\n",
              "      <td>...</td>\n",
              "      <td>...</td>\n",
              "      <td>...</td>\n",
              "      <td>...</td>\n",
              "      <td>...</td>\n",
              "      <td>...</td>\n",
              "    </tr>\n",
              "    <tr>\n",
              "      <th>301</th>\n",
              "      <td>háblame de tu vida_sexual</td>\n",
              "      <td>vida_sexual</td>\n",
              "      <td>describir</td>\n",
              "      <td>NaN</td>\n",
              "      <td>NaN</td>\n",
              "      <td>vida_sexual_describir</td>\n",
              "      <td>háblame de tu vidasexual</td>\n",
              "    </tr>\n",
              "    <tr>\n",
              "      <th>302</th>\n",
              "      <td>¿Qué edad tenías cuando tuviste tus primeras r...</td>\n",
              "      <td>vida_sexual</td>\n",
              "      <td>edad</td>\n",
              "      <td>NaN</td>\n",
              "      <td>NaN</td>\n",
              "      <td>vida_sexual_edad</td>\n",
              "      <td>qué edad tenías cuando tuviste tus primeras re...</td>\n",
              "    </tr>\n",
              "    <tr>\n",
              "      <th>303</th>\n",
              "      <td>¿Con qué frecuencia tiene usted relaciones sex...</td>\n",
              "      <td>vida_sexual</td>\n",
              "      <td>frecuencia</td>\n",
              "      <td>NaN</td>\n",
              "      <td>NaN</td>\n",
              "      <td>vida_sexual_frecuencia</td>\n",
              "      <td>con qué frecuencia tiene usted relaciones sexu...</td>\n",
              "    </tr>\n",
              "    <tr>\n",
              "      <th>304</th>\n",
              "      <td>ha tenido relaciones sexuales bajo la influenc...</td>\n",
              "      <td>vida_sexual</td>\n",
              "      <td>otros</td>\n",
              "      <td>NaN</td>\n",
              "      <td>NaN</td>\n",
              "      <td>vida_sexual_otros</td>\n",
              "      <td>ha tenido relaciones sexuales bajo la influenc...</td>\n",
              "    </tr>\n",
              "    <tr>\n",
              "      <th>305</th>\n",
              "      <td>es usted sexualmente activo</td>\n",
              "      <td>vida_sexual</td>\n",
              "      <td>si_o_no</td>\n",
              "      <td>NaN</td>\n",
              "      <td>NaN</td>\n",
              "      <td>vida_sexual_si_o_no</td>\n",
              "      <td>es usted sexualmente activo</td>\n",
              "    </tr>\n",
              "  </tbody>\n",
              "</table>\n",
              "<p>306 rows × 7 columns</p>\n",
              "</div>\n",
              "      <button class=\"colab-df-convert\" onclick=\"convertToInteractive('df-3d8c21ff-fa57-4419-bf03-c88ca4273c8c')\"\n",
              "              title=\"Convert this dataframe to an interactive table.\"\n",
              "              style=\"display:none;\">\n",
              "        \n",
              "  <svg xmlns=\"http://www.w3.org/2000/svg\" height=\"24px\"viewBox=\"0 0 24 24\"\n",
              "       width=\"24px\">\n",
              "    <path d=\"M0 0h24v24H0V0z\" fill=\"none\"/>\n",
              "    <path d=\"M18.56 5.44l.94 2.06.94-2.06 2.06-.94-2.06-.94-.94-2.06-.94 2.06-2.06.94zm-11 1L8.5 8.5l.94-2.06 2.06-.94-2.06-.94L8.5 2.5l-.94 2.06-2.06.94zm10 10l.94 2.06.94-2.06 2.06-.94-2.06-.94-.94-2.06-.94 2.06-2.06.94z\"/><path d=\"M17.41 7.96l-1.37-1.37c-.4-.4-.92-.59-1.43-.59-.52 0-1.04.2-1.43.59L10.3 9.45l-7.72 7.72c-.78.78-.78 2.05 0 2.83L4 21.41c.39.39.9.59 1.41.59.51 0 1.02-.2 1.41-.59l7.78-7.78 2.81-2.81c.8-.78.8-2.07 0-2.86zM5.41 20L4 18.59l7.72-7.72 1.47 1.35L5.41 20z\"/>\n",
              "  </svg>\n",
              "      </button>\n",
              "      \n",
              "  <style>\n",
              "    .colab-df-container {\n",
              "      display:flex;\n",
              "      flex-wrap:wrap;\n",
              "      gap: 12px;\n",
              "    }\n",
              "\n",
              "    .colab-df-convert {\n",
              "      background-color: #E8F0FE;\n",
              "      border: none;\n",
              "      border-radius: 50%;\n",
              "      cursor: pointer;\n",
              "      display: none;\n",
              "      fill: #1967D2;\n",
              "      height: 32px;\n",
              "      padding: 0 0 0 0;\n",
              "      width: 32px;\n",
              "    }\n",
              "\n",
              "    .colab-df-convert:hover {\n",
              "      background-color: #E2EBFA;\n",
              "      box-shadow: 0px 1px 2px rgba(60, 64, 67, 0.3), 0px 1px 3px 1px rgba(60, 64, 67, 0.15);\n",
              "      fill: #174EA6;\n",
              "    }\n",
              "\n",
              "    [theme=dark] .colab-df-convert {\n",
              "      background-color: #3B4455;\n",
              "      fill: #D2E3FC;\n",
              "    }\n",
              "\n",
              "    [theme=dark] .colab-df-convert:hover {\n",
              "      background-color: #434B5C;\n",
              "      box-shadow: 0px 1px 3px 1px rgba(0, 0, 0, 0.15);\n",
              "      filter: drop-shadow(0px 1px 2px rgba(0, 0, 0, 0.3));\n",
              "      fill: #FFFFFF;\n",
              "    }\n",
              "  </style>\n",
              "\n",
              "      <script>\n",
              "        const buttonEl =\n",
              "          document.querySelector('#df-3d8c21ff-fa57-4419-bf03-c88ca4273c8c button.colab-df-convert');\n",
              "        buttonEl.style.display =\n",
              "          google.colab.kernel.accessAllowed ? 'block' : 'none';\n",
              "\n",
              "        async function convertToInteractive(key) {\n",
              "          const element = document.querySelector('#df-3d8c21ff-fa57-4419-bf03-c88ca4273c8c');\n",
              "          const dataTable =\n",
              "            await google.colab.kernel.invokeFunction('convertToInteractive',\n",
              "                                                     [key], {});\n",
              "          if (!dataTable) return;\n",
              "\n",
              "          const docLinkHtml = 'Like what you see? Visit the ' +\n",
              "            '<a target=\"_blank\" href=https://colab.research.google.com/notebooks/data_table.ipynb>data table notebook</a>'\n",
              "            + ' to learn more about interactive tables.';\n",
              "          element.innerHTML = '';\n",
              "          dataTable['output_type'] = 'display_data';\n",
              "          await google.colab.output.renderOutput(dataTable, element);\n",
              "          const docLink = document.createElement('div');\n",
              "          docLink.innerHTML = docLinkHtml;\n",
              "          element.appendChild(docLink);\n",
              "        }\n",
              "      </script>\n",
              "    </div>\n",
              "  </div>\n",
              "  "
            ]
          },
          "metadata": {},
          "execution_count": 10
        }
      ],
      "source": [
        "df_val"
      ]
    },
    {
      "cell_type": "code",
      "execution_count": null,
      "metadata": {
        "colab": {
          "base_uri": "https://localhost:8080/",
          "height": 177,
          "referenced_widgets": [
            "248212f00b544825836aecd2df4c7801",
            "cc54dac72a5e452fb40d1fc2868f07ca",
            "0645ba2a42ba44909f125beff79aa14b",
            "93f08bd14434400484083b50c66d3ea2",
            "37c61dff2e6b4151beb997206f19cfa2",
            "a3aa53ed787144669842babdc4ef5d96",
            "738c853411334277af0e89460c4fce24",
            "c4a32a6e1bac471bb6df8eb5f7770f7d",
            "934f4874c78443f0bcda86cc9568bf53",
            "aaebf7dafd6d4cfca924d2f2697fe374",
            "15404ce7f7f546009a8cc1cf571e1196",
            "f31875c9e1ee4213b746ef6b83206569",
            "469e2228c65a49f9be9c377471bd3b92",
            "9f61884db57f4170908b11a58ac3695b",
            "7c03a56d06814f5c9e870f45220c22a5",
            "77ce8c1847c843d29dbcaec9eaf7a128",
            "81c1d27b985d40bb8af82de0235bbdfe",
            "522e865cb70544c28201bdb2401c7194",
            "30ea9d6c2b6a44c996e2346285f2d190",
            "85bd2132f38b4fc0b09feb43de818573",
            "af0db34503f54671ab8b9e834d936f60",
            "5edc0308d2c547279278491a72c47309",
            "7afd1b75983f441ab82623fcd914dd33",
            "42838aa3e4a445f199efdb62958719a2",
            "f6804d92518b4191875a3c6f57c5aa4c",
            "0ac98c58429948008b0706ebe9a7f1b2",
            "e60c0271040c4788a37c561ee8f041f7",
            "4a816f4388924c9eaa8fe86888ccbcf8",
            "e03ff2ceb4054cd99d48ead432d961fb",
            "fee2fb30325345c48c30d0f720e5b1ed",
            "8a6b307cd012474bb815d1e056c186bd",
            "69df3ac3bc43458a8d3288507bb22ff4",
            "dda6db07ef5943bea7fbef8f12a65400",
            "27337a45dfe94c0b92e28eea27d1c622",
            "154ce7dbc8b94c5e942c04783e2b8a19",
            "0b437e35e21b4209abb231987476eb80",
            "eea9cdd82a7e4ebdabca97a15742f344",
            "cbeaf285be1b420cbf10579900b8ec58",
            "05e7546de5c24bf7b33747cb74558dbc",
            "f9d22049ff034d1db1e7544a7d6f556e",
            "d3c91c0c5da34087af84646417b60ea7",
            "8167cd93e14046c3ab5e2f3ad5818871",
            "373376a036294ebeba5a602fb65643b5",
            "6a46ada853874064b4037ecc4cc530cb",
            "358793d7e2e4417f8c9738e00df7ea6a",
            "31edc72681174fd3b8992b3f1c8cbb68",
            "b33ec54ec54d42e7ac488f8f2e4ca99f",
            "bdb4a021be0f4e1591fd08a56d641b1f",
            "de36fc2446c644379b1fe8b464729ecf",
            "e4525f1ebb58441a9f6806570f367312",
            "261dc253681a4166b9b6aa589e769996",
            "2e4afa9fe0b447858f997990b5dab224",
            "5719ada4ac0941f6810f399605d7d9f0",
            "960c47b3764146b792d0f3f5588fc6b0",
            "82a4f8e9e11e49c899cc0aaae4ecddcf"
          ]
        },
        "id": "RSjSHAykDRAZ",
        "outputId": "a1b86c56-fbd0-4c1b-a624-36ea22104595"
      },
      "outputs": [
        {
          "output_type": "display_data",
          "data": {
            "text/plain": [
              "Downloading:   0%|          | 0.00/1.22k [00:00<?, ?B/s]"
            ],
            "application/vnd.jupyter.widget-view+json": {
              "version_major": 2,
              "version_minor": 0,
              "model_id": "248212f00b544825836aecd2df4c7801"
            }
          },
          "metadata": {}
        },
        {
          "output_type": "display_data",
          "data": {
            "text/plain": [
              "Downloading:   0%|          | 0.00/613 [00:00<?, ?B/s]"
            ],
            "application/vnd.jupyter.widget-view+json": {
              "version_major": 2,
              "version_minor": 0,
              "model_id": "f31875c9e1ee4213b746ef6b83206569"
            }
          },
          "metadata": {}
        },
        {
          "output_type": "display_data",
          "data": {
            "text/plain": [
              "Downloading:   0%|          | 0.00/1.12M [00:00<?, ?B/s]"
            ],
            "application/vnd.jupyter.widget-view+json": {
              "version_major": 2,
              "version_minor": 0,
              "model_id": "7afd1b75983f441ab82623fcd914dd33"
            }
          },
          "metadata": {}
        },
        {
          "output_type": "display_data",
          "data": {
            "text/plain": [
              "Downloading:   0%|          | 0.00/509k [00:00<?, ?B/s]"
            ],
            "application/vnd.jupyter.widget-view+json": {
              "version_major": 2,
              "version_minor": 0,
              "model_id": "27337a45dfe94c0b92e28eea27d1c622"
            }
          },
          "metadata": {}
        },
        {
          "output_type": "display_data",
          "data": {
            "text/plain": [
              "Downloading:   0%|          | 0.00/772 [00:00<?, ?B/s]"
            ],
            "application/vnd.jupyter.widget-view+json": {
              "version_major": 2,
              "version_minor": 0,
              "model_id": "358793d7e2e4417f8c9738e00df7ea6a"
            }
          },
          "metadata": {}
        }
      ],
      "source": [
        "model_name = \"PlanTL-GOB-ES/bsc-bio-ehr-es\" # 'jfarray/Model_dccuchile_bert-base-spanish-wwm-uncased_100_Epochs'\n",
        "tokenizer = AutoTokenizer.from_pretrained(model_name)"
      ]
    },
    {
      "cell_type": "code",
      "execution_count": null,
      "metadata": {
        "colab": {
          "base_uri": "https://localhost:8080/"
        },
        "id": "cD6zY1XaDXdi",
        "outputId": "fa318c3f-4681-4635-eeba-19cb1fa3de51"
      },
      "outputs": [
        {
          "output_type": "stream",
          "name": "stdout",
          "text": [
            "['cuál', 'fue', 'el', 'peso', 'del', 'bebé', 'al', 'nacer']\n",
            "{'cuál': [4780], 'fue': [786], 'el': [297], 'peso': [1813], 'del': [330], 'bebé': [4297], 'al': [337], 'nacer': [9949]}\n"
          ]
        }
      ],
      "source": [
        "print(df_train.text.values[500].split())\n",
        "print({x : tokenizer.encode(x, add_special_tokens=False) for x in df_train.text.values[500].split()})"
      ]
    },
    {
      "cell_type": "code",
      "execution_count": null,
      "metadata": {
        "colab": {
          "base_uri": "https://localhost:8080/"
        },
        "id": "qZmZYE9JD09l",
        "outputId": "828c3b0c-19d1-43d9-8913-e6a83edf7edc"
      },
      "outputs": [
        {
          "output_type": "execute_result",
          "data": {
            "text/plain": [
              "[0, 4780, 786, 297, 1813, 330, 4297, 337, 9949, 2]"
            ]
          },
          "metadata": {},
          "execution_count": 13
        }
      ],
      "source": [
        "tokenizer(df_train.text.values[500])['input_ids']\n"
      ]
    },
    {
      "cell_type": "code",
      "execution_count": null,
      "metadata": {
        "colab": {
          "base_uri": "https://localhost:8080/",
          "height": 717
        },
        "id": "fQ-2Xf7JEM-1",
        "outputId": "2d2639c4-4d54-4499-d974-56aef0c42c7b"
      },
      "outputs": [
        {
          "output_type": "stream",
          "name": "stdout",
          "text": [
            "max:  27\n",
            "min:  3\n"
          ]
        },
        {
          "output_type": "execute_result",
          "data": {
            "text/plain": [
              "(array([  0., 100., 200., 300., 400., 500., 600., 700., 800.]),\n",
              " [Text(0, 0, ''),\n",
              "  Text(0, 0, ''),\n",
              "  Text(0, 0, ''),\n",
              "  Text(0, 0, ''),\n",
              "  Text(0, 0, ''),\n",
              "  Text(0, 0, ''),\n",
              "  Text(0, 0, ''),\n",
              "  Text(0, 0, ''),\n",
              "  Text(0, 0, '')])"
            ]
          },
          "metadata": {},
          "execution_count": 14
        },
        {
          "output_type": "display_data",
          "data": {
            "text/plain": [
              "<Figure size 1440x576 with 1 Axes>"
            ],
            "image/png": "[encoded data removed]"
          },
          "metadata": {
            "needs_background": "light"
          }
        }
      ],
      "source": [
        "\n",
        "# tokenize the text feature\n",
        "tokenized_feature_raw = tokenizer.batch_encode_plus(\n",
        "                            # Sentences to encode\n",
        "                            df_train.text.values.tolist(),\n",
        "                            # Add '[CLS]' and '[SEP]'\n",
        "                            add_special_tokens = True\n",
        "                   )\n",
        "tokenized_feature_raw_val = tokenizer.batch_encode_plus(\n",
        "                            # Sentences to encode\n",
        "                            df_val.text.values.tolist(),\n",
        "                            # Add '[CLS]' and '[SEP]'\n",
        "                            add_special_tokens = True\n",
        "                   )\n",
        "# collect tokenized sentence length\n",
        "token_sentence_length = [len(x) for x in tokenized_feature_raw['input_ids']]\n",
        "print('max: ', max(token_sentence_length))\n",
        "print('min: ', min(token_sentence_length))\n",
        "# plot the distribution\n",
        "plt.figure(figsize=(20, 8))\n",
        "plt.hist(token_sentence_length, rwidth = 0.9)\n",
        "plt.xlabel('Sequence Length', fontsize = 18)\n",
        "plt.ylabel('# of Samples', fontsize = 18)\n",
        "plt.xticks(fontsize = 14)\n",
        "plt.yticks(fontsize = 14)"
      ]
    },
    {
      "cell_type": "code",
      "execution_count": null,
      "metadata": {
        "id": "xU5aPkB5EiZo"
      },
      "outputs": [],
      "source": [
        "# identify features and target\n",
        "features = df_train.text.values.tolist()\n",
        "target = df_train.intent_4.values.tolist()\n",
        "features_val = df_val.text.values.tolist()\n",
        "target_val = df_val.intent_4.values.tolist()"
      ]
    },
    {
      "cell_type": "code",
      "execution_count": null,
      "metadata": {
        "id": "6FU037t9Evur"
      },
      "outputs": [],
      "source": [
        "# tokenize features\n",
        "MAX_LEN = 40\n",
        "tokenized_feature = tokenizer.batch_encode_plus(\n",
        "                            # Sentences to encode\n",
        "                            features,\n",
        "                            # Add '[CLS]' and '[SEP]'\n",
        "                            add_special_tokens = True,\n",
        "                            # Add empty tokens if len(text)<MAX_LEN\n",
        "                            padding = 'max_length',\n",
        "                            # Truncate all sentences to max length\n",
        "                            truncation=True,\n",
        "                            # Set the maximum length\n",
        "                            max_length = MAX_LEN,\n",
        "                            # Return attention mask\n",
        "                            return_attention_mask = True,\n",
        "                            # Return pytorch tensors\n",
        "                            return_tensors = 'pt'\n",
        "                   )\n",
        "tokenized_feature_val = tokenizer.batch_encode_plus(\n",
        "                            # Sentences to encode\n",
        "                            features_val,\n",
        "                            # Add '[CLS]' and '[SEP]'\n",
        "                            add_special_tokens = True,\n",
        "                            # Add empty tokens if len(text)<MAX_LEN\n",
        "                            padding = 'max_length',\n",
        "                            # Truncate all sentences to max length\n",
        "                            truncation=True,\n",
        "                            # Set the maximum length\n",
        "                            max_length = MAX_LEN,\n",
        "                            # Return attention mask\n",
        "                            return_attention_mask = True,\n",
        "                            # Return pytorch tensors\n",
        "                            return_tensors = 'pt'\n",
        "                   )"
      ]
    },
    {
      "cell_type": "code",
      "execution_count": null,
      "metadata": {
        "id": "9DtaMmkuE_Kp"
      },
      "outputs": [],
      "source": [
        "# convert label into numeric\n",
        "le = LabelEncoder()\n",
        "le.fit(target)\n",
        "target_num = le.transform(target)\n",
        "\n",
        "\n",
        "le_val = LabelEncoder()\n",
        "le_val.fit(target_val)\n",
        "target_num_val = le.transform(target_val)\n",
        "\n",
        "\n"
      ]
    },
    {
      "cell_type": "code",
      "execution_count": null,
      "metadata": {
        "id": "StK-jcm2FgtW"
      },
      "outputs": [],
      "source": [
        "# Use 80% for training and 20% for validation and if we want to split uncomment\n",
        "#train_inputs, validation_inputs, train_labels, validation_labels, train_masks, validation_masks = train_test_split(tokenized_feature['input_ids'],target_num,tokenized_feature['attention_mask'],random_state=2018, test_size=0.13, stratify=target)\n"
      ]
    },
    {
      "cell_type": "markdown",
      "source": [
        "# **TRAINING**"
      ],
      "metadata": {
        "id": "7qbEIhE1esAN"
      }
    },
    {
      "cell_type": "code",
      "execution_count": null,
      "metadata": {
        "id": "O3wHGBGcb8RB"
      },
      "outputs": [],
      "source": [
        "# define batch_size\n",
        "batch_size = 32\n",
        "# Create the DataLoader for our training set\n",
        "train_data = TensorDataset(tokenized_feature['input_ids'],tokenized_feature['attention_mask'], torch.tensor(target_num))\n",
        "train_sampler = RandomSampler(train_data)\n",
        "train_dataloader = DataLoader(train_data, sampler=train_sampler, batch_size=batch_size)\n",
        "# Create the DataLoader for our test set\n",
        "validation_data = TensorDataset(tokenized_feature_val['input_ids'], tokenized_feature_val['attention_mask'], torch.tensor(target_num_val))\n",
        "validation_sampler = SequentialSampler(validation_data)\n",
        "validation_dataloader = DataLoader(validation_data, sampler=validation_sampler, batch_size=batch_size)"
      ]
    },
    {
      "cell_type": "code",
      "execution_count": null,
      "metadata": {
        "colab": {
          "base_uri": "https://localhost:8080/"
        },
        "id": "LH0E0FSkcG1O",
        "outputId": "167acf91-abaa-4cb7-bd49-4cd0288da9e3"
      },
      "outputs": [
        {
          "output_type": "stream",
          "name": "stderr",
          "text": [
            "You are using a model of type roberta to instantiate a model of type xlm-roberta. This is not supported for all configurations of models and can yield errors.\n",
            "Some weights of the model checkpoint at PlanTL-GOB-ES/bsc-bio-ehr-es were not used when initializing XLMRobertaForSequenceClassification: ['lm_head.layer_norm.weight', 'lm_head.layer_norm.bias', 'lm_head.dense.bias', 'lm_head.decoder.bias', 'lm_head.dense.weight', 'lm_head.bias', 'lm_head.decoder.weight']\n",
            "- This IS expected if you are initializing XLMRobertaForSequenceClassification from the checkpoint of a model trained on another task or with another architecture (e.g. initializing a BertForSequenceClassification model from a BertForPreTraining model).\n",
            "- This IS NOT expected if you are initializing XLMRobertaForSequenceClassification from the checkpoint of a model that you expect to be exactly identical (initializing a BertForSequenceClassification model from a BertForSequenceClassification model).\n",
            "Some weights of XLMRobertaForSequenceClassification were not initialized from the model checkpoint at PlanTL-GOB-ES/bsc-bio-ehr-es and are newly initialized: ['classifier.dense.weight', 'classifier.out_proj.bias', 'classifier.dense.bias', 'classifier.out_proj.weight']\n",
            "You should probably TRAIN this model on a down-stream task to be able to use it for predictions and inference.\n"
          ]
        }
      ],
      "source": [
        "# BertForSequenceClassification\n",
        "model = XLMRobertaForSequenceClassification.from_pretrained(\n",
        "    model_name,\n",
        "    # Specify number of classes\n",
        "    num_labels = len(set(target)),\n",
        "    # Whether the model returns attentions weights\n",
        "    output_attentions = False,\n",
        "    # Whether the model returns all hidden-states\n",
        "    output_hidden_states = False\n",
        ")"
      ]
    },
    {
      "cell_type": "code",
      "execution_count": null,
      "metadata": {
        "colab": {
          "base_uri": "https://localhost:8080/"
        },
        "id": "phoTK9bTciRp",
        "outputId": "f51ef2de-cf17-4407-eb03-3a69e598e42c"
      },
      "outputs": [
        {
          "output_type": "stream",
          "name": "stderr",
          "text": [
            "/usr/local/lib/python3.9/dist-packages/transformers/optimization.py:306: FutureWarning: This implementation of AdamW is deprecated and will be removed in a future version. Use thePyTorch implementation torch.optim.AdamW instead, or set `no_deprecation_warning=True` to disable this warning\n",
            "  warnings.warn(\n"
          ]
        }
      ],
      "source": [
        "# Optimizer & Learning Rate Scheduler\n",
        "optimizer = AdamW(model.parameters(),\n",
        "                  lr =5e-5,\n",
        "                  eps = 1e-8\n",
        "                )#5e-5"
      ]
    },
    {
      "cell_type": "code",
      "execution_count": null,
      "metadata": {
        "id": "HOfTH_p2crxi"
      },
      "outputs": [],
      "source": [
        "# Number of training epochs\n",
        "epochs = 50\n",
        "# Total number of training steps is number of batches * number of epochs.\n",
        "total_steps = len(train_dataloader) * epochs\n",
        "# Create the learning rate scheduler\n",
        "scheduler = get_linear_schedule_with_warmup(optimizer,\n",
        "                                            num_warmup_steps = 0.05,\n",
        "                                            num_training_steps = total_steps)"
      ]
    },
    {
      "cell_type": "code",
      "execution_count": null,
      "metadata": {
        "colab": {
          "base_uri": "https://localhost:8080/"
        },
        "id": "gI66mle4ZSY8",
        "outputId": "92db9c49-df1f-4c88-e20a-c14c975a9a4a"
      },
      "outputs": [
        {
          "output_type": "execute_result",
          "data": {
            "text/plain": [
              "XLMRobertaForSequenceClassification(\n",
              "  (roberta): RobertaModel(\n",
              "    (embeddings): RobertaEmbeddings(\n",
              "      (word_embeddings): Embedding(50262, 768, padding_idx=1)\n",
              "      (position_embeddings): Embedding(514, 768, padding_idx=1)\n",
              "      (token_type_embeddings): Embedding(1, 768)\n",
              "      (LayerNorm): LayerNorm((768,), eps=1e-05, elementwise_affine=True)\n",
              "      (dropout): Dropout(p=0.1, inplace=False)\n",
              "    )\n",
              "    (encoder): RobertaEncoder(\n",
              "      (layer): ModuleList(\n",
              "        (0): RobertaLayer(\n",
              "          (attention): RobertaAttention(\n",
              "            (self): RobertaSelfAttention(\n",
              "              (query): Linear(in_features=768, out_features=768, bias=True)\n",
              "              (key): Linear(in_features=768, out_features=768, bias=True)\n",
              "              (value): Linear(in_features=768, out_features=768, bias=True)\n",
              "              (dropout): Dropout(p=0.1, inplace=False)\n",
              "            )\n",
              "            (output): RobertaSelfOutput(\n",
              "              (dense): Linear(in_features=768, out_features=768, bias=True)\n",
              "              (LayerNorm): LayerNorm((768,), eps=1e-05, elementwise_affine=True)\n",
              "              (dropout): Dropout(p=0.1, inplace=False)\n",
              "            )\n",
              "          )\n",
              "          (intermediate): RobertaIntermediate(\n",
              "            (dense): Linear(in_features=768, out_features=3072, bias=True)\n",
              "          )\n",
              "          (output): RobertaOutput(\n",
              "            (dense): Linear(in_features=3072, out_features=768, bias=True)\n",
              "            (LayerNorm): LayerNorm((768,), eps=1e-05, elementwise_affine=True)\n",
              "            (dropout): Dropout(p=0.1, inplace=False)\n",
              "          )\n",
              "        )\n",
              "        (1): RobertaLayer(\n",
              "          (attention): RobertaAttention(\n",
              "            (self): RobertaSelfAttention(\n",
              "              (query): Linear(in_features=768, out_features=768, bias=True)\n",
              "              (key): Linear(in_features=768, out_features=768, bias=True)\n",
              "              (value): Linear(in_features=768, out_features=768, bias=True)\n",
              "              (dropout): Dropout(p=0.1, inplace=False)\n",
              "            )\n",
              "            (output): RobertaSelfOutput(\n",
              "              (dense): Linear(in_features=768, out_features=768, bias=True)\n",
              "              (LayerNorm): LayerNorm((768,), eps=1e-05, elementwise_affine=True)\n",
              "              (dropout): Dropout(p=0.1, inplace=False)\n",
              "            )\n",
              "          )\n",
              "          (intermediate): RobertaIntermediate(\n",
              "            (dense): Linear(in_features=768, out_features=3072, bias=True)\n",
              "          )\n",
              "          (output): RobertaOutput(\n",
              "            (dense): Linear(in_features=3072, out_features=768, bias=True)\n",
              "            (LayerNorm): LayerNorm((768,), eps=1e-05, elementwise_affine=True)\n",
              "            (dropout): Dropout(p=0.1, inplace=False)\n",
              "          )\n",
              "        )\n",
              "        (2): RobertaLayer(\n",
              "          (attention): RobertaAttention(\n",
              "            (self): RobertaSelfAttention(\n",
              "              (query): Linear(in_features=768, out_features=768, bias=True)\n",
              "              (key): Linear(in_features=768, out_features=768, bias=True)\n",
              "              (value): Linear(in_features=768, out_features=768, bias=True)\n",
              "              (dropout): Dropout(p=0.1, inplace=False)\n",
              "            )\n",
              "            (output): RobertaSelfOutput(\n",
              "              (dense): Linear(in_features=768, out_features=768, bias=True)\n",
              "              (LayerNorm): LayerNorm((768,), eps=1e-05, elementwise_affine=True)\n",
              "              (dropout): Dropout(p=0.1, inplace=False)\n",
              "            )\n",
              "          )\n",
              "          (intermediate): RobertaIntermediate(\n",
              "            (dense): Linear(in_features=768, out_features=3072, bias=True)\n",
              "          )\n",
              "          (output): RobertaOutput(\n",
              "            (dense): Linear(in_features=3072, out_features=768, bias=True)\n",
              "            (LayerNorm): LayerNorm((768,), eps=1e-05, elementwise_affine=True)\n",
              "            (dropout): Dropout(p=0.1, inplace=False)\n",
              "          )\n",
              "        )\n",
              "        (3): RobertaLayer(\n",
              "          (attention): RobertaAttention(\n",
              "            (self): RobertaSelfAttention(\n",
              "              (query): Linear(in_features=768, out_features=768, bias=True)\n",
              "              (key): Linear(in_features=768, out_features=768, bias=True)\n",
              "              (value): Linear(in_features=768, out_features=768, bias=True)\n",
              "              (dropout): Dropout(p=0.1, inplace=False)\n",
              "            )\n",
              "            (output): RobertaSelfOutput(\n",
              "              (dense): Linear(in_features=768, out_features=768, bias=True)\n",
              "              (LayerNorm): LayerNorm((768,), eps=1e-05, elementwise_affine=True)\n",
              "              (dropout): Dropout(p=0.1, inplace=False)\n",
              "            )\n",
              "          )\n",
              "          (intermediate): RobertaIntermediate(\n",
              "            (dense): Linear(in_features=768, out_features=3072, bias=True)\n",
              "          )\n",
              "          (output): RobertaOutput(\n",
              "            (dense): Linear(in_features=3072, out_features=768, bias=True)\n",
              "            (LayerNorm): LayerNorm((768,), eps=1e-05, elementwise_affine=True)\n",
              "            (dropout): Dropout(p=0.1, inplace=False)\n",
              "          )\n",
              "        )\n",
              "        (4): RobertaLayer(\n",
              "          (attention): RobertaAttention(\n",
              "            (self): RobertaSelfAttention(\n",
              "              (query): Linear(in_features=768, out_features=768, bias=True)\n",
              "              (key): Linear(in_features=768, out_features=768, bias=True)\n",
              "              (value): Linear(in_features=768, out_features=768, bias=True)\n",
              "              (dropout): Dropout(p=0.1, inplace=False)\n",
              "            )\n",
              "            (output): RobertaSelfOutput(\n",
              "              (dense): Linear(in_features=768, out_features=768, bias=True)\n",
              "              (LayerNorm): LayerNorm((768,), eps=1e-05, elementwise_affine=True)\n",
              "              (dropout): Dropout(p=0.1, inplace=False)\n",
              "            )\n",
              "          )\n",
              "          (intermediate): RobertaIntermediate(\n",
              "            (dense): Linear(in_features=768, out_features=3072, bias=True)\n",
              "          )\n",
              "          (output): RobertaOutput(\n",
              "            (dense): Linear(in_features=3072, out_features=768, bias=True)\n",
              "            (LayerNorm): LayerNorm((768,), eps=1e-05, elementwise_affine=True)\n",
              "            (dropout): Dropout(p=0.1, inplace=False)\n",
              "          )\n",
              "        )\n",
              "        (5): RobertaLayer(\n",
              "          (attention): RobertaAttention(\n",
              "            (self): RobertaSelfAttention(\n",
              "              (query): Linear(in_features=768, out_features=768, bias=True)\n",
              "              (key): Linear(in_features=768, out_features=768, bias=True)\n",
              "              (value): Linear(in_features=768, out_features=768, bias=True)\n",
              "              (dropout): Dropout(p=0.1, inplace=False)\n",
              "            )\n",
              "            (output): RobertaSelfOutput(\n",
              "              (dense): Linear(in_features=768, out_features=768, bias=True)\n",
              "              (LayerNorm): LayerNorm((768,), eps=1e-05, elementwise_affine=True)\n",
              "              (dropout): Dropout(p=0.1, inplace=False)\n",
              "            )\n",
              "          )\n",
              "          (intermediate): RobertaIntermediate(\n",
              "            (dense): Linear(in_features=768, out_features=3072, bias=True)\n",
              "          )\n",
              "          (output): RobertaOutput(\n",
              "            (dense): Linear(in_features=3072, out_features=768, bias=True)\n",
              "            (LayerNorm): LayerNorm((768,), eps=1e-05, elementwise_affine=True)\n",
              "            (dropout): Dropout(p=0.1, inplace=False)\n",
              "          )\n",
              "        )\n",
              "        (6): RobertaLayer(\n",
              "          (attention): RobertaAttention(\n",
              "            (self): RobertaSelfAttention(\n",
              "              (query): Linear(in_features=768, out_features=768, bias=True)\n",
              "              (key): Linear(in_features=768, out_features=768, bias=True)\n",
              "              (value): Linear(in_features=768, out_features=768, bias=True)\n",
              "              (dropout): Dropout(p=0.1, inplace=False)\n",
              "            )\n",
              "            (output): RobertaSelfOutput(\n",
              "              (dense): Linear(in_features=768, out_features=768, bias=True)\n",
              "              (LayerNorm): LayerNorm((768,), eps=1e-05, elementwise_affine=True)\n",
              "              (dropout): Dropout(p=0.1, inplace=False)\n",
              "            )\n",
              "          )\n",
              "          (intermediate): RobertaIntermediate(\n",
              "            (dense): Linear(in_features=768, out_features=3072, bias=True)\n",
              "          )\n",
              "          (output): RobertaOutput(\n",
              "            (dense): Linear(in_features=3072, out_features=768, bias=True)\n",
              "            (LayerNorm): LayerNorm((768,), eps=1e-05, elementwise_affine=True)\n",
              "            (dropout): Dropout(p=0.1, inplace=False)\n",
              "          )\n",
              "        )\n",
              "        (7): RobertaLayer(\n",
              "          (attention): RobertaAttention(\n",
              "            (self): RobertaSelfAttention(\n",
              "              (query): Linear(in_features=768, out_features=768, bias=True)\n",
              "              (key): Linear(in_features=768, out_features=768, bias=True)\n",
              "              (value): Linear(in_features=768, out_features=768, bias=True)\n",
              "              (dropout): Dropout(p=0.1, inplace=False)\n",
              "            )\n",
              "            (output): RobertaSelfOutput(\n",
              "              (dense): Linear(in_features=768, out_features=768, bias=True)\n",
              "              (LayerNorm): LayerNorm((768,), eps=1e-05, elementwise_affine=True)\n",
              "              (dropout): Dropout(p=0.1, inplace=False)\n",
              "            )\n",
              "          )\n",
              "          (intermediate): RobertaIntermediate(\n",
              "            (dense): Linear(in_features=768, out_features=3072, bias=True)\n",
              "          )\n",
              "          (output): RobertaOutput(\n",
              "            (dense): Linear(in_features=3072, out_features=768, bias=True)\n",
              "            (LayerNorm): LayerNorm((768,), eps=1e-05, elementwise_affine=True)\n",
              "            (dropout): Dropout(p=0.1, inplace=False)\n",
              "          )\n",
              "        )\n",
              "        (8): RobertaLayer(\n",
              "          (attention): RobertaAttention(\n",
              "            (self): RobertaSelfAttention(\n",
              "              (query): Linear(in_features=768, out_features=768, bias=True)\n",
              "              (key): Linear(in_features=768, out_features=768, bias=True)\n",
              "              (value): Linear(in_features=768, out_features=768, bias=True)\n",
              "              (dropout): Dropout(p=0.1, inplace=False)\n",
              "            )\n",
              "            (output): RobertaSelfOutput(\n",
              "              (dense): Linear(in_features=768, out_features=768, bias=True)\n",
              "              (LayerNorm): LayerNorm((768,), eps=1e-05, elementwise_affine=True)\n",
              "              (dropout): Dropout(p=0.1, inplace=False)\n",
              "            )\n",
              "          )\n",
              "          (intermediate): RobertaIntermediate(\n",
              "            (dense): Linear(in_features=768, out_features=3072, bias=True)\n",
              "          )\n",
              "          (output): RobertaOutput(\n",
              "            (dense): Linear(in_features=3072, out_features=768, bias=True)\n",
              "            (LayerNorm): LayerNorm((768,), eps=1e-05, elementwise_affine=True)\n",
              "            (dropout): Dropout(p=0.1, inplace=False)\n",
              "          )\n",
              "        )\n",
              "        (9): RobertaLayer(\n",
              "          (attention): RobertaAttention(\n",
              "            (self): RobertaSelfAttention(\n",
              "              (query): Linear(in_features=768, out_features=768, bias=True)\n",
              "              (key): Linear(in_features=768, out_features=768, bias=True)\n",
              "              (value): Linear(in_features=768, out_features=768, bias=True)\n",
              "              (dropout): Dropout(p=0.1, inplace=False)\n",
              "            )\n",
              "            (output): RobertaSelfOutput(\n",
              "              (dense): Linear(in_features=768, out_features=768, bias=True)\n",
              "              (LayerNorm): LayerNorm((768,), eps=1e-05, elementwise_affine=True)\n",
              "              (dropout): Dropout(p=0.1, inplace=False)\n",
              "            )\n",
              "          )\n",
              "          (intermediate): RobertaIntermediate(\n",
              "            (dense): Linear(in_features=768, out_features=3072, bias=True)\n",
              "          )\n",
              "          (output): RobertaOutput(\n",
              "            (dense): Linear(in_features=3072, out_features=768, bias=True)\n",
              "            (LayerNorm): LayerNorm((768,), eps=1e-05, elementwise_affine=True)\n",
              "            (dropout): Dropout(p=0.1, inplace=False)\n",
              "          )\n",
              "        )\n",
              "        (10): RobertaLayer(\n",
              "          (attention): RobertaAttention(\n",
              "            (self): RobertaSelfAttention(\n",
              "              (query): Linear(in_features=768, out_features=768, bias=True)\n",
              "              (key): Linear(in_features=768, out_features=768, bias=True)\n",
              "              (value): Linear(in_features=768, out_features=768, bias=True)\n",
              "              (dropout): Dropout(p=0.1, inplace=False)\n",
              "            )\n",
              "            (output): RobertaSelfOutput(\n",
              "              (dense): Linear(in_features=768, out_features=768, bias=True)\n",
              "              (LayerNorm): LayerNorm((768,), eps=1e-05, elementwise_affine=True)\n",
              "              (dropout): Dropout(p=0.1, inplace=False)\n",
              "            )\n",
              "          )\n",
              "          (intermediate): RobertaIntermediate(\n",
              "            (dense): Linear(in_features=768, out_features=3072, bias=True)\n",
              "          )\n",
              "          (output): RobertaOutput(\n",
              "            (dense): Linear(in_features=3072, out_features=768, bias=True)\n",
              "            (LayerNorm): LayerNorm((768,), eps=1e-05, elementwise_affine=True)\n",
              "            (dropout): Dropout(p=0.1, inplace=False)\n",
              "          )\n",
              "        )\n",
              "        (11): RobertaLayer(\n",
              "          (attention): RobertaAttention(\n",
              "            (self): RobertaSelfAttention(\n",
              "              (query): Linear(in_features=768, out_features=768, bias=True)\n",
              "              (key): Linear(in_features=768, out_features=768, bias=True)\n",
              "              (value): Linear(in_features=768, out_features=768, bias=True)\n",
              "              (dropout): Dropout(p=0.1, inplace=False)\n",
              "            )\n",
              "            (output): RobertaSelfOutput(\n",
              "              (dense): Linear(in_features=768, out_features=768, bias=True)\n",
              "              (LayerNorm): LayerNorm((768,), eps=1e-05, elementwise_affine=True)\n",
              "              (dropout): Dropout(p=0.1, inplace=False)\n",
              "            )\n",
              "          )\n",
              "          (intermediate): RobertaIntermediate(\n",
              "            (dense): Linear(in_features=768, out_features=3072, bias=True)\n",
              "          )\n",
              "          (output): RobertaOutput(\n",
              "            (dense): Linear(in_features=3072, out_features=768, bias=True)\n",
              "            (LayerNorm): LayerNorm((768,), eps=1e-05, elementwise_affine=True)\n",
              "            (dropout): Dropout(p=0.1, inplace=False)\n",
              "          )\n",
              "        )\n",
              "      )\n",
              "    )\n",
              "  )\n",
              "  (classifier): RobertaClassificationHead(\n",
              "    (dense): Linear(in_features=768, out_features=768, bias=True)\n",
              "    (dropout): Dropout(p=0.1, inplace=False)\n",
              "    (out_proj): Linear(in_features=768, out_features=145, bias=True)\n",
              "  )\n",
              ")"
            ]
          },
          "metadata": {},
          "execution_count": 77
        }
      ],
      "source": [
        "model.cuda()\n"
      ]
    },
    {
      "cell_type": "code",
      "execution_count": null,
      "metadata": {
        "colab": {
          "base_uri": "https://localhost:8080/"
        },
        "id": "DUw0ifMWap79",
        "outputId": "4993d386-1263-4a56-b94a-b60ae55f1f9e"
      },
      "outputs": [
        {
          "output_type": "stream",
          "name": "stdout",
          "text": [
            "total steps per epoch:  2.03125\n",
            "training on epoch:  0\n",
            "training on step:  50\n",
            "total time used is: 12.12 s\n"
          ]
        },
        {
          "output_type": "stream",
          "name": "stderr",
          "text": [
            "/usr/local/lib/python3.9/dist-packages/sklearn/metrics/_classification.py:1344: UndefinedMetricWarning: Precision and F-score are ill-defined and being set to 0.0 in labels with no predicted samples. Use `zero_division` parameter to control this behavior.\n",
            "  _warn_prf(average, modifier, msg_start, len(result))\n",
            "/usr/local/lib/python3.9/dist-packages/sklearn/metrics/_classification.py:1344: UndefinedMetricWarning: Precision and F-score are ill-defined and being set to 0.0 in labels with no predicted samples. Use `zero_division` parameter to control this behavior.\n",
            "  _warn_prf(average, modifier, msg_start, len(result))\n",
            "/usr/local/lib/python3.9/dist-packages/sklearn/metrics/_classification.py:1344: UndefinedMetricWarning: Precision and F-score are ill-defined and being set to 0.0 in labels with no predicted samples. Use `zero_division` parameter to control this behavior.\n",
            "  _warn_prf(average, modifier, msg_start, len(result))\n"
          ]
        },
        {
          "output_type": "stream",
          "name": "stdout",
          "text": [
            "0.15487626818388628\n",
            "average training loss: 3.95\n",
            "training on epoch:  1\n",
            "training on step:  50\n",
            "total time used is: 11.65 s\n"
          ]
        },
        {
          "output_type": "stream",
          "name": "stderr",
          "text": [
            "/usr/local/lib/python3.9/dist-packages/sklearn/metrics/_classification.py:1344: UndefinedMetricWarning: Precision and F-score are ill-defined and being set to 0.0 in labels with no predicted samples. Use `zero_division` parameter to control this behavior.\n",
            "  _warn_prf(average, modifier, msg_start, len(result))\n",
            "/usr/local/lib/python3.9/dist-packages/sklearn/metrics/_classification.py:1344: UndefinedMetricWarning: Precision and F-score are ill-defined and being set to 0.0 in labels with no predicted samples. Use `zero_division` parameter to control this behavior.\n",
            "  _warn_prf(average, modifier, msg_start, len(result))\n",
            "/usr/local/lib/python3.9/dist-packages/sklearn/metrics/_classification.py:1344: UndefinedMetricWarning: Precision and F-score are ill-defined and being set to 0.0 in labels with no predicted samples. Use `zero_division` parameter to control this behavior.\n",
            "  _warn_prf(average, modifier, msg_start, len(result))\n"
          ]
        },
        {
          "output_type": "stream",
          "name": "stdout",
          "text": [
            "0.335426240068088\n",
            "average training loss: 2.89\n",
            "training on epoch:  2\n",
            "training on step:  50\n",
            "total time used is: 11.76 s\n"
          ]
        },
        {
          "output_type": "stream",
          "name": "stderr",
          "text": [
            "/usr/local/lib/python3.9/dist-packages/sklearn/metrics/_classification.py:1344: UndefinedMetricWarning: Precision and F-score are ill-defined and being set to 0.0 in labels with no predicted samples. Use `zero_division` parameter to control this behavior.\n",
            "  _warn_prf(average, modifier, msg_start, len(result))\n",
            "/usr/local/lib/python3.9/dist-packages/sklearn/metrics/_classification.py:1344: UndefinedMetricWarning: Precision and F-score are ill-defined and being set to 0.0 in labels with no predicted samples. Use `zero_division` parameter to control this behavior.\n",
            "  _warn_prf(average, modifier, msg_start, len(result))\n",
            "/usr/local/lib/python3.9/dist-packages/sklearn/metrics/_classification.py:1344: UndefinedMetricWarning: Precision and F-score are ill-defined and being set to 0.0 in labels with no predicted samples. Use `zero_division` parameter to control this behavior.\n",
            "  _warn_prf(average, modifier, msg_start, len(result))\n"
          ]
        },
        {
          "output_type": "stream",
          "name": "stdout",
          "text": [
            "0.45736099985325995\n",
            "average training loss: 2.16\n",
            "training on epoch:  3\n",
            "training on step:  50\n",
            "total time used is: 11.88 s\n"
          ]
        },
        {
          "output_type": "stream",
          "name": "stderr",
          "text": [
            "/usr/local/lib/python3.9/dist-packages/sklearn/metrics/_classification.py:1344: UndefinedMetricWarning: Precision and F-score are ill-defined and being set to 0.0 in labels with no predicted samples. Use `zero_division` parameter to control this behavior.\n",
            "  _warn_prf(average, modifier, msg_start, len(result))\n",
            "/usr/local/lib/python3.9/dist-packages/sklearn/metrics/_classification.py:1344: UndefinedMetricWarning: Precision and F-score are ill-defined and being set to 0.0 in labels with no predicted samples. Use `zero_division` parameter to control this behavior.\n",
            "  _warn_prf(average, modifier, msg_start, len(result))\n",
            "/usr/local/lib/python3.9/dist-packages/sklearn/metrics/_classification.py:1344: UndefinedMetricWarning: Precision and F-score are ill-defined and being set to 0.0 in labels with no predicted samples. Use `zero_division` parameter to control this behavior.\n",
            "  _warn_prf(average, modifier, msg_start, len(result))\n"
          ]
        },
        {
          "output_type": "stream",
          "name": "stdout",
          "text": [
            "0.533394126391495\n",
            "average training loss: 1.65\n",
            "training on epoch:  4\n",
            "training on step:  50\n",
            "total time used is: 11.96 s\n"
          ]
        },
        {
          "output_type": "stream",
          "name": "stderr",
          "text": [
            "/usr/local/lib/python3.9/dist-packages/sklearn/metrics/_classification.py:1344: UndefinedMetricWarning: Precision and F-score are ill-defined and being set to 0.0 in labels with no predicted samples. Use `zero_division` parameter to control this behavior.\n",
            "  _warn_prf(average, modifier, msg_start, len(result))\n",
            "/usr/local/lib/python3.9/dist-packages/sklearn/metrics/_classification.py:1344: UndefinedMetricWarning: Precision and F-score are ill-defined and being set to 0.0 in labels with no predicted samples. Use `zero_division` parameter to control this behavior.\n",
            "  _warn_prf(average, modifier, msg_start, len(result))\n",
            "/usr/local/lib/python3.9/dist-packages/sklearn/metrics/_classification.py:1344: UndefinedMetricWarning: Precision and F-score are ill-defined and being set to 0.0 in labels with no predicted samples. Use `zero_division` parameter to control this behavior.\n",
            "  _warn_prf(average, modifier, msg_start, len(result))\n"
          ]
        },
        {
          "output_type": "stream",
          "name": "stdout",
          "text": [
            "0.5926459553857635\n",
            "average training loss: 1.27\n",
            "training on epoch:  5\n",
            "training on step:  50\n",
            "total time used is: 12.04 s\n"
          ]
        },
        {
          "output_type": "stream",
          "name": "stderr",
          "text": [
            "/usr/local/lib/python3.9/dist-packages/sklearn/metrics/_classification.py:1344: UndefinedMetricWarning: Precision and F-score are ill-defined and being set to 0.0 in labels with no predicted samples. Use `zero_division` parameter to control this behavior.\n",
            "  _warn_prf(average, modifier, msg_start, len(result))\n",
            "/usr/local/lib/python3.9/dist-packages/sklearn/metrics/_classification.py:1344: UndefinedMetricWarning: Precision and F-score are ill-defined and being set to 0.0 in labels with no predicted samples. Use `zero_division` parameter to control this behavior.\n",
            "  _warn_prf(average, modifier, msg_start, len(result))\n",
            "/usr/local/lib/python3.9/dist-packages/sklearn/metrics/_classification.py:1344: UndefinedMetricWarning: Precision and F-score are ill-defined and being set to 0.0 in labels with no predicted samples. Use `zero_division` parameter to control this behavior.\n",
            "  _warn_prf(average, modifier, msg_start, len(result))\n"
          ]
        },
        {
          "output_type": "stream",
          "name": "stdout",
          "text": [
            "0.7034277739588414\n",
            "average training loss: 0.99\n",
            "training on epoch:  6\n",
            "training on step:  50\n",
            "total time used is: 12.09 s\n"
          ]
        },
        {
          "output_type": "stream",
          "name": "stderr",
          "text": [
            "/usr/local/lib/python3.9/dist-packages/sklearn/metrics/_classification.py:1344: UndefinedMetricWarning: Precision and F-score are ill-defined and being set to 0.0 in labels with no predicted samples. Use `zero_division` parameter to control this behavior.\n",
            "  _warn_prf(average, modifier, msg_start, len(result))\n",
            "/usr/local/lib/python3.9/dist-packages/sklearn/metrics/_classification.py:1344: UndefinedMetricWarning: Precision and F-score are ill-defined and being set to 0.0 in labels with no predicted samples. Use `zero_division` parameter to control this behavior.\n",
            "  _warn_prf(average, modifier, msg_start, len(result))\n",
            "/usr/local/lib/python3.9/dist-packages/sklearn/metrics/_classification.py:1344: UndefinedMetricWarning: Precision and F-score are ill-defined and being set to 0.0 in labels with no predicted samples. Use `zero_division` parameter to control this behavior.\n",
            "  _warn_prf(average, modifier, msg_start, len(result))\n"
          ]
        },
        {
          "output_type": "stream",
          "name": "stdout",
          "text": [
            "0.708524572740259\n",
            "average training loss: 0.78\n",
            "training on epoch:  7\n",
            "training on step:  50\n",
            "total time used is: 12.27 s\n"
          ]
        },
        {
          "output_type": "stream",
          "name": "stderr",
          "text": [
            "/usr/local/lib/python3.9/dist-packages/sklearn/metrics/_classification.py:1344: UndefinedMetricWarning: Precision and F-score are ill-defined and being set to 0.0 in labels with no predicted samples. Use `zero_division` parameter to control this behavior.\n",
            "  _warn_prf(average, modifier, msg_start, len(result))\n",
            "/usr/local/lib/python3.9/dist-packages/sklearn/metrics/_classification.py:1344: UndefinedMetricWarning: Precision and F-score are ill-defined and being set to 0.0 in labels with no predicted samples. Use `zero_division` parameter to control this behavior.\n",
            "  _warn_prf(average, modifier, msg_start, len(result))\n",
            "/usr/local/lib/python3.9/dist-packages/sklearn/metrics/_classification.py:1344: UndefinedMetricWarning: Precision and F-score are ill-defined and being set to 0.0 in labels with no predicted samples. Use `zero_division` parameter to control this behavior.\n",
            "  _warn_prf(average, modifier, msg_start, len(result))\n"
          ]
        },
        {
          "output_type": "stream",
          "name": "stdout",
          "text": [
            "0.7488265609657736\n",
            "average training loss: 0.63\n",
            "training on epoch:  8\n",
            "training on step:  50\n",
            "total time used is: 12.21 s\n"
          ]
        },
        {
          "output_type": "stream",
          "name": "stderr",
          "text": [
            "/usr/local/lib/python3.9/dist-packages/sklearn/metrics/_classification.py:1344: UndefinedMetricWarning: Precision and F-score are ill-defined and being set to 0.0 in labels with no predicted samples. Use `zero_division` parameter to control this behavior.\n",
            "  _warn_prf(average, modifier, msg_start, len(result))\n",
            "/usr/local/lib/python3.9/dist-packages/sklearn/metrics/_classification.py:1344: UndefinedMetricWarning: Precision and F-score are ill-defined and being set to 0.0 in labels with no predicted samples. Use `zero_division` parameter to control this behavior.\n",
            "  _warn_prf(average, modifier, msg_start, len(result))\n",
            "/usr/local/lib/python3.9/dist-packages/sklearn/metrics/_classification.py:1344: UndefinedMetricWarning: Precision and F-score are ill-defined and being set to 0.0 in labels with no predicted samples. Use `zero_division` parameter to control this behavior.\n",
            "  _warn_prf(average, modifier, msg_start, len(result))\n"
          ]
        },
        {
          "output_type": "stream",
          "name": "stdout",
          "text": [
            "0.8080061457751558\n",
            "average training loss: 0.51\n",
            "training on epoch:  9\n",
            "training on step:  50\n",
            "total time used is: 12.25 s\n"
          ]
        },
        {
          "output_type": "stream",
          "name": "stderr",
          "text": [
            "/usr/local/lib/python3.9/dist-packages/sklearn/metrics/_classification.py:1344: UndefinedMetricWarning: Precision and F-score are ill-defined and being set to 0.0 in labels with no predicted samples. Use `zero_division` parameter to control this behavior.\n",
            "  _warn_prf(average, modifier, msg_start, len(result))\n",
            "/usr/local/lib/python3.9/dist-packages/sklearn/metrics/_classification.py:1344: UndefinedMetricWarning: Precision and F-score are ill-defined and being set to 0.0 in labels with no predicted samples. Use `zero_division` parameter to control this behavior.\n",
            "  _warn_prf(average, modifier, msg_start, len(result))\n",
            "/usr/local/lib/python3.9/dist-packages/sklearn/metrics/_classification.py:1344: UndefinedMetricWarning: Precision and F-score are ill-defined and being set to 0.0 in labels with no predicted samples. Use `zero_division` parameter to control this behavior.\n",
            "  _warn_prf(average, modifier, msg_start, len(result))\n"
          ]
        },
        {
          "output_type": "stream",
          "name": "stdout",
          "text": [
            "0.8073388991087649\n",
            "average training loss: 0.41\n",
            "training on epoch:  10\n",
            "training on step:  50\n",
            "total time used is: 12.32 s\n"
          ]
        },
        {
          "output_type": "stream",
          "name": "stderr",
          "text": [
            "/usr/local/lib/python3.9/dist-packages/sklearn/metrics/_classification.py:1344: UndefinedMetricWarning: Precision and F-score are ill-defined and being set to 0.0 in labels with no predicted samples. Use `zero_division` parameter to control this behavior.\n",
            "  _warn_prf(average, modifier, msg_start, len(result))\n",
            "/usr/local/lib/python3.9/dist-packages/sklearn/metrics/_classification.py:1344: UndefinedMetricWarning: Precision and F-score are ill-defined and being set to 0.0 in labels with no predicted samples. Use `zero_division` parameter to control this behavior.\n",
            "  _warn_prf(average, modifier, msg_start, len(result))\n",
            "/usr/local/lib/python3.9/dist-packages/sklearn/metrics/_classification.py:1344: UndefinedMetricWarning: Precision and F-score are ill-defined and being set to 0.0 in labels with no predicted samples. Use `zero_division` parameter to control this behavior.\n",
            "  _warn_prf(average, modifier, msg_start, len(result))\n"
          ]
        },
        {
          "output_type": "stream",
          "name": "stdout",
          "text": [
            "0.8309402625771375\n",
            "average training loss: 0.32\n",
            "training on epoch:  11\n",
            "training on step:  50\n",
            "total time used is: 12.62 s\n"
          ]
        },
        {
          "output_type": "stream",
          "name": "stderr",
          "text": [
            "/usr/local/lib/python3.9/dist-packages/sklearn/metrics/_classification.py:1344: UndefinedMetricWarning: Precision and F-score are ill-defined and being set to 0.0 in labels with no predicted samples. Use `zero_division` parameter to control this behavior.\n",
            "  _warn_prf(average, modifier, msg_start, len(result))\n",
            "/usr/local/lib/python3.9/dist-packages/sklearn/metrics/_classification.py:1344: UndefinedMetricWarning: Precision and F-score are ill-defined and being set to 0.0 in labels with no predicted samples. Use `zero_division` parameter to control this behavior.\n",
            "  _warn_prf(average, modifier, msg_start, len(result))\n",
            "/usr/local/lib/python3.9/dist-packages/sklearn/metrics/_classification.py:1344: UndefinedMetricWarning: Precision and F-score are ill-defined and being set to 0.0 in labels with no predicted samples. Use `zero_division` parameter to control this behavior.\n",
            "  _warn_prf(average, modifier, msg_start, len(result))\n"
          ]
        },
        {
          "output_type": "stream",
          "name": "stdout",
          "text": [
            "0.8320052091390038\n",
            "average training loss: 0.26\n",
            "training on epoch:  12\n",
            "training on step:  50\n",
            "total time used is: 12.38 s\n"
          ]
        },
        {
          "output_type": "stream",
          "name": "stderr",
          "text": [
            "/usr/local/lib/python3.9/dist-packages/sklearn/metrics/_classification.py:1344: UndefinedMetricWarning: Precision and F-score are ill-defined and being set to 0.0 in labels with no predicted samples. Use `zero_division` parameter to control this behavior.\n",
            "  _warn_prf(average, modifier, msg_start, len(result))\n",
            "/usr/local/lib/python3.9/dist-packages/sklearn/metrics/_classification.py:1344: UndefinedMetricWarning: Precision and F-score are ill-defined and being set to 0.0 in labels with no predicted samples. Use `zero_division` parameter to control this behavior.\n",
            "  _warn_prf(average, modifier, msg_start, len(result))\n",
            "/usr/local/lib/python3.9/dist-packages/sklearn/metrics/_classification.py:1344: UndefinedMetricWarning: Precision and F-score are ill-defined and being set to 0.0 in labels with no predicted samples. Use `zero_division` parameter to control this behavior.\n",
            "  _warn_prf(average, modifier, msg_start, len(result))\n"
          ]
        },
        {
          "output_type": "stream",
          "name": "stdout",
          "text": [
            "0.8343112385311874\n",
            "average training loss: 0.21\n",
            "training on epoch:  13\n",
            "training on step:  50\n",
            "total time used is: 12.48 s\n"
          ]
        },
        {
          "output_type": "stream",
          "name": "stderr",
          "text": [
            "/usr/local/lib/python3.9/dist-packages/sklearn/metrics/_classification.py:1344: UndefinedMetricWarning: Precision and F-score are ill-defined and being set to 0.0 in labels with no predicted samples. Use `zero_division` parameter to control this behavior.\n",
            "  _warn_prf(average, modifier, msg_start, len(result))\n",
            "/usr/local/lib/python3.9/dist-packages/sklearn/metrics/_classification.py:1344: UndefinedMetricWarning: Precision and F-score are ill-defined and being set to 0.0 in labels with no predicted samples. Use `zero_division` parameter to control this behavior.\n",
            "  _warn_prf(average, modifier, msg_start, len(result))\n",
            "/usr/local/lib/python3.9/dist-packages/sklearn/metrics/_classification.py:1344: UndefinedMetricWarning: Precision and F-score are ill-defined and being set to 0.0 in labels with no predicted samples. Use `zero_division` parameter to control this behavior.\n",
            "  _warn_prf(average, modifier, msg_start, len(result))\n"
          ]
        },
        {
          "output_type": "stream",
          "name": "stdout",
          "text": [
            "0.8313073977997683\n",
            "average training loss: 0.17\n",
            "training on epoch:  14\n",
            "training on step:  50\n",
            "total time used is: 12.42 s\n"
          ]
        },
        {
          "output_type": "stream",
          "name": "stderr",
          "text": [
            "/usr/local/lib/python3.9/dist-packages/sklearn/metrics/_classification.py:1344: UndefinedMetricWarning: Precision and F-score are ill-defined and being set to 0.0 in labels with no predicted samples. Use `zero_division` parameter to control this behavior.\n",
            "  _warn_prf(average, modifier, msg_start, len(result))\n",
            "/usr/local/lib/python3.9/dist-packages/sklearn/metrics/_classification.py:1344: UndefinedMetricWarning: Precision and F-score are ill-defined and being set to 0.0 in labels with no predicted samples. Use `zero_division` parameter to control this behavior.\n",
            "  _warn_prf(average, modifier, msg_start, len(result))\n",
            "/usr/local/lib/python3.9/dist-packages/sklearn/metrics/_classification.py:1344: UndefinedMetricWarning: Precision and F-score are ill-defined and being set to 0.0 in labels with no predicted samples. Use `zero_division` parameter to control this behavior.\n",
            "  _warn_prf(average, modifier, msg_start, len(result))\n"
          ]
        },
        {
          "output_type": "stream",
          "name": "stdout",
          "text": [
            "0.8533915659661611\n",
            "average training loss: 0.14\n",
            "training on epoch:  15\n",
            "training on step:  50\n",
            "total time used is: 12.40 s\n"
          ]
        },
        {
          "output_type": "stream",
          "name": "stderr",
          "text": [
            "/usr/local/lib/python3.9/dist-packages/sklearn/metrics/_classification.py:1344: UndefinedMetricWarning: Precision and F-score are ill-defined and being set to 0.0 in labels with no predicted samples. Use `zero_division` parameter to control this behavior.\n",
            "  _warn_prf(average, modifier, msg_start, len(result))\n",
            "/usr/local/lib/python3.9/dist-packages/sklearn/metrics/_classification.py:1344: UndefinedMetricWarning: Precision and F-score are ill-defined and being set to 0.0 in labels with no predicted samples. Use `zero_division` parameter to control this behavior.\n",
            "  _warn_prf(average, modifier, msg_start, len(result))\n",
            "/usr/local/lib/python3.9/dist-packages/sklearn/metrics/_classification.py:1344: UndefinedMetricWarning: Precision and F-score are ill-defined and being set to 0.0 in labels with no predicted samples. Use `zero_division` parameter to control this behavior.\n",
            "  _warn_prf(average, modifier, msg_start, len(result))\n"
          ]
        },
        {
          "output_type": "stream",
          "name": "stdout",
          "text": [
            "0.8549460254968413\n",
            "average training loss: 0.11\n",
            "training on epoch:  16\n",
            "training on step:  50\n",
            "total time used is: 12.46 s\n"
          ]
        },
        {
          "output_type": "stream",
          "name": "stderr",
          "text": [
            "/usr/local/lib/python3.9/dist-packages/sklearn/metrics/_classification.py:1344: UndefinedMetricWarning: Precision and F-score are ill-defined and being set to 0.0 in labels with no predicted samples. Use `zero_division` parameter to control this behavior.\n",
            "  _warn_prf(average, modifier, msg_start, len(result))\n",
            "/usr/local/lib/python3.9/dist-packages/sklearn/metrics/_classification.py:1344: UndefinedMetricWarning: Precision and F-score are ill-defined and being set to 0.0 in labels with no predicted samples. Use `zero_division` parameter to control this behavior.\n",
            "  _warn_prf(average, modifier, msg_start, len(result))\n",
            "/usr/local/lib/python3.9/dist-packages/sklearn/metrics/_classification.py:1344: UndefinedMetricWarning: Precision and F-score are ill-defined and being set to 0.0 in labels with no predicted samples. Use `zero_division` parameter to control this behavior.\n",
            "  _warn_prf(average, modifier, msg_start, len(result))\n"
          ]
        },
        {
          "output_type": "stream",
          "name": "stdout",
          "text": [
            "0.849202037804857\n",
            "average training loss: 0.10\n",
            "training on epoch:  17\n",
            "training on step:  50\n",
            "total time used is: 12.46 s\n"
          ]
        },
        {
          "output_type": "stream",
          "name": "stderr",
          "text": [
            "/usr/local/lib/python3.9/dist-packages/sklearn/metrics/_classification.py:1344: UndefinedMetricWarning: Precision and F-score are ill-defined and being set to 0.0 in labels with no predicted samples. Use `zero_division` parameter to control this behavior.\n",
            "  _warn_prf(average, modifier, msg_start, len(result))\n",
            "/usr/local/lib/python3.9/dist-packages/sklearn/metrics/_classification.py:1344: UndefinedMetricWarning: Precision and F-score are ill-defined and being set to 0.0 in labels with no predicted samples. Use `zero_division` parameter to control this behavior.\n",
            "  _warn_prf(average, modifier, msg_start, len(result))\n",
            "/usr/local/lib/python3.9/dist-packages/sklearn/metrics/_classification.py:1344: UndefinedMetricWarning: Precision and F-score are ill-defined and being set to 0.0 in labels with no predicted samples. Use `zero_division` parameter to control this behavior.\n",
            "  _warn_prf(average, modifier, msg_start, len(result))\n"
          ]
        },
        {
          "output_type": "stream",
          "name": "stdout",
          "text": [
            "0.8368118721497373\n",
            "average training loss: 0.08\n",
            "training on epoch:  18\n",
            "training on step:  50\n",
            "total time used is: 12.41 s\n"
          ]
        },
        {
          "output_type": "stream",
          "name": "stderr",
          "text": [
            "/usr/local/lib/python3.9/dist-packages/sklearn/metrics/_classification.py:1344: UndefinedMetricWarning: Precision and F-score are ill-defined and being set to 0.0 in labels with no predicted samples. Use `zero_division` parameter to control this behavior.\n",
            "  _warn_prf(average, modifier, msg_start, len(result))\n",
            "/usr/local/lib/python3.9/dist-packages/sklearn/metrics/_classification.py:1344: UndefinedMetricWarning: Precision and F-score are ill-defined and being set to 0.0 in labels with no predicted samples. Use `zero_division` parameter to control this behavior.\n",
            "  _warn_prf(average, modifier, msg_start, len(result))\n",
            "/usr/local/lib/python3.9/dist-packages/sklearn/metrics/_classification.py:1344: UndefinedMetricWarning: Precision and F-score are ill-defined and being set to 0.0 in labels with no predicted samples. Use `zero_division` parameter to control this behavior.\n",
            "  _warn_prf(average, modifier, msg_start, len(result))\n"
          ]
        },
        {
          "output_type": "stream",
          "name": "stdout",
          "text": [
            "0.8481447887458119\n",
            "average training loss: 0.07\n",
            "training on epoch:  19\n",
            "training on step:  50\n",
            "total time used is: 12.40 s\n"
          ]
        },
        {
          "output_type": "stream",
          "name": "stderr",
          "text": [
            "/usr/local/lib/python3.9/dist-packages/sklearn/metrics/_classification.py:1344: UndefinedMetricWarning: Precision and F-score are ill-defined and being set to 0.0 in labels with no predicted samples. Use `zero_division` parameter to control this behavior.\n",
            "  _warn_prf(average, modifier, msg_start, len(result))\n",
            "/usr/local/lib/python3.9/dist-packages/sklearn/metrics/_classification.py:1344: UndefinedMetricWarning: Precision and F-score are ill-defined and being set to 0.0 in labels with no predicted samples. Use `zero_division` parameter to control this behavior.\n",
            "  _warn_prf(average, modifier, msg_start, len(result))\n",
            "/usr/local/lib/python3.9/dist-packages/sklearn/metrics/_classification.py:1344: UndefinedMetricWarning: Precision and F-score are ill-defined and being set to 0.0 in labels with no predicted samples. Use `zero_division` parameter to control this behavior.\n",
            "  _warn_prf(average, modifier, msg_start, len(result))\n"
          ]
        },
        {
          "output_type": "stream",
          "name": "stdout",
          "text": [
            "0.8516923436041083\n",
            "average training loss: 0.06\n",
            "training on epoch:  20\n",
            "training on step:  50\n",
            "total time used is: 12.39 s\n"
          ]
        },
        {
          "output_type": "stream",
          "name": "stderr",
          "text": [
            "/usr/local/lib/python3.9/dist-packages/sklearn/metrics/_classification.py:1344: UndefinedMetricWarning: Precision and F-score are ill-defined and being set to 0.0 in labels with no predicted samples. Use `zero_division` parameter to control this behavior.\n",
            "  _warn_prf(average, modifier, msg_start, len(result))\n",
            "/usr/local/lib/python3.9/dist-packages/sklearn/metrics/_classification.py:1344: UndefinedMetricWarning: Precision and F-score are ill-defined and being set to 0.0 in labels with no predicted samples. Use `zero_division` parameter to control this behavior.\n",
            "  _warn_prf(average, modifier, msg_start, len(result))\n",
            "/usr/local/lib/python3.9/dist-packages/sklearn/metrics/_classification.py:1344: UndefinedMetricWarning: Precision and F-score are ill-defined and being set to 0.0 in labels with no predicted samples. Use `zero_division` parameter to control this behavior.\n",
            "  _warn_prf(average, modifier, msg_start, len(result))\n"
          ]
        },
        {
          "output_type": "stream",
          "name": "stdout",
          "text": [
            "0.8328524281162919\n",
            "average training loss: 0.06\n",
            "training on epoch:  21\n",
            "training on step:  50\n",
            "total time used is: 12.35 s\n"
          ]
        },
        {
          "output_type": "stream",
          "name": "stderr",
          "text": [
            "/usr/local/lib/python3.9/dist-packages/sklearn/metrics/_classification.py:1344: UndefinedMetricWarning: Precision and F-score are ill-defined and being set to 0.0 in labels with no predicted samples. Use `zero_division` parameter to control this behavior.\n",
            "  _warn_prf(average, modifier, msg_start, len(result))\n",
            "/usr/local/lib/python3.9/dist-packages/sklearn/metrics/_classification.py:1344: UndefinedMetricWarning: Precision and F-score are ill-defined and being set to 0.0 in labels with no predicted samples. Use `zero_division` parameter to control this behavior.\n",
            "  _warn_prf(average, modifier, msg_start, len(result))\n",
            "/usr/local/lib/python3.9/dist-packages/sklearn/metrics/_classification.py:1344: UndefinedMetricWarning: Precision and F-score are ill-defined and being set to 0.0 in labels with no predicted samples. Use `zero_division` parameter to control this behavior.\n",
            "  _warn_prf(average, modifier, msg_start, len(result))\n"
          ]
        },
        {
          "output_type": "stream",
          "name": "stdout",
          "text": [
            "0.8499148650514918\n",
            "average training loss: 0.05\n",
            "training on epoch:  22\n",
            "training on step:  50\n",
            "total time used is: 12.34 s\n"
          ]
        },
        {
          "output_type": "stream",
          "name": "stderr",
          "text": [
            "/usr/local/lib/python3.9/dist-packages/sklearn/metrics/_classification.py:1344: UndefinedMetricWarning: Precision and F-score are ill-defined and being set to 0.0 in labels with no predicted samples. Use `zero_division` parameter to control this behavior.\n",
            "  _warn_prf(average, modifier, msg_start, len(result))\n",
            "/usr/local/lib/python3.9/dist-packages/sklearn/metrics/_classification.py:1344: UndefinedMetricWarning: Precision and F-score are ill-defined and being set to 0.0 in labels with no predicted samples. Use `zero_division` parameter to control this behavior.\n",
            "  _warn_prf(average, modifier, msg_start, len(result))\n",
            "/usr/local/lib/python3.9/dist-packages/sklearn/metrics/_classification.py:1344: UndefinedMetricWarning: Precision and F-score are ill-defined and being set to 0.0 in labels with no predicted samples. Use `zero_division` parameter to control this behavior.\n",
            "  _warn_prf(average, modifier, msg_start, len(result))\n"
          ]
        },
        {
          "output_type": "stream",
          "name": "stdout",
          "text": [
            "0.8506822795453173\n",
            "average training loss: 0.05\n",
            "training on epoch:  23\n",
            "training on step:  50\n",
            "total time used is: 12.34 s\n"
          ]
        },
        {
          "output_type": "stream",
          "name": "stderr",
          "text": [
            "/usr/local/lib/python3.9/dist-packages/sklearn/metrics/_classification.py:1344: UndefinedMetricWarning: Precision and F-score are ill-defined and being set to 0.0 in labels with no predicted samples. Use `zero_division` parameter to control this behavior.\n",
            "  _warn_prf(average, modifier, msg_start, len(result))\n",
            "/usr/local/lib/python3.9/dist-packages/sklearn/metrics/_classification.py:1344: UndefinedMetricWarning: Precision and F-score are ill-defined and being set to 0.0 in labels with no predicted samples. Use `zero_division` parameter to control this behavior.\n",
            "  _warn_prf(average, modifier, msg_start, len(result))\n",
            "/usr/local/lib/python3.9/dist-packages/sklearn/metrics/_classification.py:1344: UndefinedMetricWarning: Precision and F-score are ill-defined and being set to 0.0 in labels with no predicted samples. Use `zero_division` parameter to control this behavior.\n",
            "  _warn_prf(average, modifier, msg_start, len(result))\n"
          ]
        },
        {
          "output_type": "stream",
          "name": "stdout",
          "text": [
            "0.8484058969353088\n",
            "average training loss: 0.04\n",
            "training on epoch:  24\n",
            "training on step:  50\n",
            "total time used is: 12.41 s\n"
          ]
        },
        {
          "output_type": "stream",
          "name": "stderr",
          "text": [
            "/usr/local/lib/python3.9/dist-packages/sklearn/metrics/_classification.py:1344: UndefinedMetricWarning: Precision and F-score are ill-defined and being set to 0.0 in labels with no predicted samples. Use `zero_division` parameter to control this behavior.\n",
            "  _warn_prf(average, modifier, msg_start, len(result))\n",
            "/usr/local/lib/python3.9/dist-packages/sklearn/metrics/_classification.py:1344: UndefinedMetricWarning: Precision and F-score are ill-defined and being set to 0.0 in labels with no predicted samples. Use `zero_division` parameter to control this behavior.\n",
            "  _warn_prf(average, modifier, msg_start, len(result))\n",
            "/usr/local/lib/python3.9/dist-packages/sklearn/metrics/_classification.py:1344: UndefinedMetricWarning: Precision and F-score are ill-defined and being set to 0.0 in labels with no predicted samples. Use `zero_division` parameter to control this behavior.\n",
            "  _warn_prf(average, modifier, msg_start, len(result))\n"
          ]
        },
        {
          "output_type": "stream",
          "name": "stdout",
          "text": [
            "0.853459283604459\n",
            "average training loss: 0.04\n",
            "training on epoch:  25\n",
            "training on step:  50\n",
            "total time used is: 12.38 s\n"
          ]
        },
        {
          "output_type": "stream",
          "name": "stderr",
          "text": [
            "/usr/local/lib/python3.9/dist-packages/sklearn/metrics/_classification.py:1344: UndefinedMetricWarning: Precision and F-score are ill-defined and being set to 0.0 in labels with no predicted samples. Use `zero_division` parameter to control this behavior.\n",
            "  _warn_prf(average, modifier, msg_start, len(result))\n",
            "/usr/local/lib/python3.9/dist-packages/sklearn/metrics/_classification.py:1344: UndefinedMetricWarning: Precision and F-score are ill-defined and being set to 0.0 in labels with no predicted samples. Use `zero_division` parameter to control this behavior.\n",
            "  _warn_prf(average, modifier, msg_start, len(result))\n",
            "/usr/local/lib/python3.9/dist-packages/sklearn/metrics/_classification.py:1344: UndefinedMetricWarning: Precision and F-score are ill-defined and being set to 0.0 in labels with no predicted samples. Use `zero_division` parameter to control this behavior.\n",
            "  _warn_prf(average, modifier, msg_start, len(result))\n"
          ]
        },
        {
          "output_type": "stream",
          "name": "stdout",
          "text": [
            "0.8442652109576774\n",
            "average training loss: 0.04\n",
            "training on epoch:  26\n",
            "training on step:  50\n",
            "total time used is: 12.39 s\n"
          ]
        },
        {
          "output_type": "stream",
          "name": "stderr",
          "text": [
            "/usr/local/lib/python3.9/dist-packages/sklearn/metrics/_classification.py:1344: UndefinedMetricWarning: Precision and F-score are ill-defined and being set to 0.0 in labels with no predicted samples. Use `zero_division` parameter to control this behavior.\n",
            "  _warn_prf(average, modifier, msg_start, len(result))\n",
            "/usr/local/lib/python3.9/dist-packages/sklearn/metrics/_classification.py:1344: UndefinedMetricWarning: Precision and F-score are ill-defined and being set to 0.0 in labels with no predicted samples. Use `zero_division` parameter to control this behavior.\n",
            "  _warn_prf(average, modifier, msg_start, len(result))\n",
            "/usr/local/lib/python3.9/dist-packages/sklearn/metrics/_classification.py:1344: UndefinedMetricWarning: Precision and F-score are ill-defined and being set to 0.0 in labels with no predicted samples. Use `zero_division` parameter to control this behavior.\n",
            "  _warn_prf(average, modifier, msg_start, len(result))\n"
          ]
        },
        {
          "output_type": "stream",
          "name": "stdout",
          "text": [
            "0.8473049453699608\n",
            "average training loss: 0.04\n",
            "training on epoch:  27\n",
            "training on step:  50\n",
            "total time used is: 12.43 s\n"
          ]
        },
        {
          "output_type": "stream",
          "name": "stderr",
          "text": [
            "/usr/local/lib/python3.9/dist-packages/sklearn/metrics/_classification.py:1344: UndefinedMetricWarning: Precision and F-score are ill-defined and being set to 0.0 in labels with no predicted samples. Use `zero_division` parameter to control this behavior.\n",
            "  _warn_prf(average, modifier, msg_start, len(result))\n",
            "/usr/local/lib/python3.9/dist-packages/sklearn/metrics/_classification.py:1344: UndefinedMetricWarning: Precision and F-score are ill-defined and being set to 0.0 in labels with no predicted samples. Use `zero_division` parameter to control this behavior.\n",
            "  _warn_prf(average, modifier, msg_start, len(result))\n",
            "/usr/local/lib/python3.9/dist-packages/sklearn/metrics/_classification.py:1344: UndefinedMetricWarning: Precision and F-score are ill-defined and being set to 0.0 in labels with no predicted samples. Use `zero_division` parameter to control this behavior.\n",
            "  _warn_prf(average, modifier, msg_start, len(result))\n"
          ]
        },
        {
          "output_type": "stream",
          "name": "stdout",
          "text": [
            "0.853552013297404\n",
            "average training loss: 0.04\n",
            "training on epoch:  28\n",
            "training on step:  50\n",
            "total time used is: 12.43 s\n"
          ]
        },
        {
          "output_type": "stream",
          "name": "stderr",
          "text": [
            "/usr/local/lib/python3.9/dist-packages/sklearn/metrics/_classification.py:1344: UndefinedMetricWarning: Precision and F-score are ill-defined and being set to 0.0 in labels with no predicted samples. Use `zero_division` parameter to control this behavior.\n",
            "  _warn_prf(average, modifier, msg_start, len(result))\n",
            "/usr/local/lib/python3.9/dist-packages/sklearn/metrics/_classification.py:1344: UndefinedMetricWarning: Precision and F-score are ill-defined and being set to 0.0 in labels with no predicted samples. Use `zero_division` parameter to control this behavior.\n",
            "  _warn_prf(average, modifier, msg_start, len(result))\n",
            "/usr/local/lib/python3.9/dist-packages/sklearn/metrics/_classification.py:1344: UndefinedMetricWarning: Precision and F-score are ill-defined and being set to 0.0 in labels with no predicted samples. Use `zero_division` parameter to control this behavior.\n",
            "  _warn_prf(average, modifier, msg_start, len(result))\n"
          ]
        },
        {
          "output_type": "stream",
          "name": "stdout",
          "text": [
            "0.8476687313484783\n",
            "average training loss: 0.03\n",
            "training on epoch:  29\n",
            "training on step:  50\n",
            "total time used is: 12.43 s\n"
          ]
        },
        {
          "output_type": "stream",
          "name": "stderr",
          "text": [
            "/usr/local/lib/python3.9/dist-packages/sklearn/metrics/_classification.py:1344: UndefinedMetricWarning: Precision and F-score are ill-defined and being set to 0.0 in labels with no predicted samples. Use `zero_division` parameter to control this behavior.\n",
            "  _warn_prf(average, modifier, msg_start, len(result))\n",
            "/usr/local/lib/python3.9/dist-packages/sklearn/metrics/_classification.py:1344: UndefinedMetricWarning: Precision and F-score are ill-defined and being set to 0.0 in labels with no predicted samples. Use `zero_division` parameter to control this behavior.\n",
            "  _warn_prf(average, modifier, msg_start, len(result))\n",
            "/usr/local/lib/python3.9/dist-packages/sklearn/metrics/_classification.py:1344: UndefinedMetricWarning: Precision and F-score are ill-defined and being set to 0.0 in labels with no predicted samples. Use `zero_division` parameter to control this behavior.\n",
            "  _warn_prf(average, modifier, msg_start, len(result))\n"
          ]
        },
        {
          "output_type": "stream",
          "name": "stdout",
          "text": [
            "0.8506462186396913\n",
            "average training loss: 0.03\n",
            "training on epoch:  30\n",
            "training on step:  50\n",
            "total time used is: 12.43 s\n"
          ]
        },
        {
          "output_type": "stream",
          "name": "stderr",
          "text": [
            "/usr/local/lib/python3.9/dist-packages/sklearn/metrics/_classification.py:1344: UndefinedMetricWarning: Precision and F-score are ill-defined and being set to 0.0 in labels with no predicted samples. Use `zero_division` parameter to control this behavior.\n",
            "  _warn_prf(average, modifier, msg_start, len(result))\n",
            "/usr/local/lib/python3.9/dist-packages/sklearn/metrics/_classification.py:1344: UndefinedMetricWarning: Precision and F-score are ill-defined and being set to 0.0 in labels with no predicted samples. Use `zero_division` parameter to control this behavior.\n",
            "  _warn_prf(average, modifier, msg_start, len(result))\n",
            "/usr/local/lib/python3.9/dist-packages/sklearn/metrics/_classification.py:1344: UndefinedMetricWarning: Precision and F-score are ill-defined and being set to 0.0 in labels with no predicted samples. Use `zero_division` parameter to control this behavior.\n",
            "  _warn_prf(average, modifier, msg_start, len(result))\n"
          ]
        },
        {
          "output_type": "stream",
          "name": "stdout",
          "text": [
            "0.8538829140917803\n",
            "average training loss: 0.03\n",
            "training on epoch:  31\n",
            "training on step:  50\n",
            "total time used is: 12.38 s\n"
          ]
        },
        {
          "output_type": "stream",
          "name": "stderr",
          "text": [
            "/usr/local/lib/python3.9/dist-packages/sklearn/metrics/_classification.py:1344: UndefinedMetricWarning: Precision and F-score are ill-defined and being set to 0.0 in labels with no predicted samples. Use `zero_division` parameter to control this behavior.\n",
            "  _warn_prf(average, modifier, msg_start, len(result))\n",
            "/usr/local/lib/python3.9/dist-packages/sklearn/metrics/_classification.py:1344: UndefinedMetricWarning: Precision and F-score are ill-defined and being set to 0.0 in labels with no predicted samples. Use `zero_division` parameter to control this behavior.\n",
            "  _warn_prf(average, modifier, msg_start, len(result))\n",
            "/usr/local/lib/python3.9/dist-packages/sklearn/metrics/_classification.py:1344: UndefinedMetricWarning: Precision and F-score are ill-defined and being set to 0.0 in labels with no predicted samples. Use `zero_division` parameter to control this behavior.\n",
            "  _warn_prf(average, modifier, msg_start, len(result))\n"
          ]
        },
        {
          "output_type": "stream",
          "name": "stdout",
          "text": [
            "0.8474808611468998\n",
            "average training loss: 0.03\n",
            "training on epoch:  32\n",
            "training on step:  50\n",
            "total time used is: 12.36 s\n"
          ]
        },
        {
          "output_type": "stream",
          "name": "stderr",
          "text": [
            "/usr/local/lib/python3.9/dist-packages/sklearn/metrics/_classification.py:1344: UndefinedMetricWarning: Precision and F-score are ill-defined and being set to 0.0 in labels with no predicted samples. Use `zero_division` parameter to control this behavior.\n",
            "  _warn_prf(average, modifier, msg_start, len(result))\n",
            "/usr/local/lib/python3.9/dist-packages/sklearn/metrics/_classification.py:1344: UndefinedMetricWarning: Precision and F-score are ill-defined and being set to 0.0 in labels with no predicted samples. Use `zero_division` parameter to control this behavior.\n",
            "  _warn_prf(average, modifier, msg_start, len(result))\n",
            "/usr/local/lib/python3.9/dist-packages/sklearn/metrics/_classification.py:1344: UndefinedMetricWarning: Precision and F-score are ill-defined and being set to 0.0 in labels with no predicted samples. Use `zero_division` parameter to control this behavior.\n",
            "  _warn_prf(average, modifier, msg_start, len(result))\n"
          ]
        },
        {
          "output_type": "stream",
          "name": "stdout",
          "text": [
            "0.8567129739275069\n",
            "average training loss: 0.03\n",
            "training on epoch:  33\n",
            "training on step:  50\n",
            "total time used is: 12.35 s\n"
          ]
        },
        {
          "output_type": "stream",
          "name": "stderr",
          "text": [
            "/usr/local/lib/python3.9/dist-packages/sklearn/metrics/_classification.py:1344: UndefinedMetricWarning: Precision and F-score are ill-defined and being set to 0.0 in labels with no predicted samples. Use `zero_division` parameter to control this behavior.\n",
            "  _warn_prf(average, modifier, msg_start, len(result))\n",
            "/usr/local/lib/python3.9/dist-packages/sklearn/metrics/_classification.py:1344: UndefinedMetricWarning: Precision and F-score are ill-defined and being set to 0.0 in labels with no predicted samples. Use `zero_division` parameter to control this behavior.\n",
            "  _warn_prf(average, modifier, msg_start, len(result))\n",
            "/usr/local/lib/python3.9/dist-packages/sklearn/metrics/_classification.py:1344: UndefinedMetricWarning: Precision and F-score are ill-defined and being set to 0.0 in labels with no predicted samples. Use `zero_division` parameter to control this behavior.\n",
            "  _warn_prf(average, modifier, msg_start, len(result))\n"
          ]
        },
        {
          "output_type": "stream",
          "name": "stdout",
          "text": [
            "0.847403590179648\n",
            "average training loss: 0.03\n",
            "training on epoch:  34\n",
            "training on step:  50\n",
            "total time used is: 12.35 s\n"
          ]
        },
        {
          "output_type": "stream",
          "name": "stderr",
          "text": [
            "/usr/local/lib/python3.9/dist-packages/sklearn/metrics/_classification.py:1344: UndefinedMetricWarning: Precision and F-score are ill-defined and being set to 0.0 in labels with no predicted samples. Use `zero_division` parameter to control this behavior.\n",
            "  _warn_prf(average, modifier, msg_start, len(result))\n",
            "/usr/local/lib/python3.9/dist-packages/sklearn/metrics/_classification.py:1344: UndefinedMetricWarning: Precision and F-score are ill-defined and being set to 0.0 in labels with no predicted samples. Use `zero_division` parameter to control this behavior.\n",
            "  _warn_prf(average, modifier, msg_start, len(result))\n",
            "/usr/local/lib/python3.9/dist-packages/sklearn/metrics/_classification.py:1344: UndefinedMetricWarning: Precision and F-score are ill-defined and being set to 0.0 in labels with no predicted samples. Use `zero_division` parameter to control this behavior.\n",
            "  _warn_prf(average, modifier, msg_start, len(result))\n"
          ]
        },
        {
          "output_type": "stream",
          "name": "stdout",
          "text": [
            "0.8447662540799796\n",
            "average training loss: 0.02\n",
            "training on epoch:  35\n",
            "training on step:  50\n",
            "total time used is: 12.36 s\n"
          ]
        },
        {
          "output_type": "stream",
          "name": "stderr",
          "text": [
            "/usr/local/lib/python3.9/dist-packages/sklearn/metrics/_classification.py:1344: UndefinedMetricWarning: Precision and F-score are ill-defined and being set to 0.0 in labels with no predicted samples. Use `zero_division` parameter to control this behavior.\n",
            "  _warn_prf(average, modifier, msg_start, len(result))\n",
            "/usr/local/lib/python3.9/dist-packages/sklearn/metrics/_classification.py:1344: UndefinedMetricWarning: Precision and F-score are ill-defined and being set to 0.0 in labels with no predicted samples. Use `zero_division` parameter to control this behavior.\n",
            "  _warn_prf(average, modifier, msg_start, len(result))\n",
            "/usr/local/lib/python3.9/dist-packages/sklearn/metrics/_classification.py:1344: UndefinedMetricWarning: Precision and F-score are ill-defined and being set to 0.0 in labels with no predicted samples. Use `zero_division` parameter to control this behavior.\n",
            "  _warn_prf(average, modifier, msg_start, len(result))\n"
          ]
        },
        {
          "output_type": "stream",
          "name": "stdout",
          "text": [
            "0.8570032871688588\n",
            "average training loss: 0.03\n",
            "training on epoch:  36\n",
            "training on step:  50\n",
            "total time used is: 12.37 s\n"
          ]
        },
        {
          "output_type": "stream",
          "name": "stderr",
          "text": [
            "/usr/local/lib/python3.9/dist-packages/sklearn/metrics/_classification.py:1344: UndefinedMetricWarning: Precision and F-score are ill-defined and being set to 0.0 in labels with no predicted samples. Use `zero_division` parameter to control this behavior.\n",
            "  _warn_prf(average, modifier, msg_start, len(result))\n",
            "/usr/local/lib/python3.9/dist-packages/sklearn/metrics/_classification.py:1344: UndefinedMetricWarning: Precision and F-score are ill-defined and being set to 0.0 in labels with no predicted samples. Use `zero_division` parameter to control this behavior.\n",
            "  _warn_prf(average, modifier, msg_start, len(result))\n",
            "/usr/local/lib/python3.9/dist-packages/sklearn/metrics/_classification.py:1344: UndefinedMetricWarning: Precision and F-score are ill-defined and being set to 0.0 in labels with no predicted samples. Use `zero_division` parameter to control this behavior.\n",
            "  _warn_prf(average, modifier, msg_start, len(result))\n"
          ]
        },
        {
          "output_type": "stream",
          "name": "stdout",
          "text": [
            "0.8518327258247521\n",
            "average training loss: 0.03\n",
            "training on epoch:  37\n",
            "training on step:  50\n",
            "total time used is: 12.39 s\n"
          ]
        },
        {
          "output_type": "stream",
          "name": "stderr",
          "text": [
            "/usr/local/lib/python3.9/dist-packages/sklearn/metrics/_classification.py:1344: UndefinedMetricWarning: Precision and F-score are ill-defined and being set to 0.0 in labels with no predicted samples. Use `zero_division` parameter to control this behavior.\n",
            "  _warn_prf(average, modifier, msg_start, len(result))\n",
            "/usr/local/lib/python3.9/dist-packages/sklearn/metrics/_classification.py:1344: UndefinedMetricWarning: Precision and F-score are ill-defined and being set to 0.0 in labels with no predicted samples. Use `zero_division` parameter to control this behavior.\n",
            "  _warn_prf(average, modifier, msg_start, len(result))\n",
            "/usr/local/lib/python3.9/dist-packages/sklearn/metrics/_classification.py:1344: UndefinedMetricWarning: Precision and F-score are ill-defined and being set to 0.0 in labels with no predicted samples. Use `zero_division` parameter to control this behavior.\n",
            "  _warn_prf(average, modifier, msg_start, len(result))\n"
          ]
        },
        {
          "output_type": "stream",
          "name": "stdout",
          "text": [
            "0.8535539904330139\n",
            "average training loss: 0.02\n",
            "training on epoch:  38\n",
            "training on step:  50\n",
            "total time used is: 12.35 s\n"
          ]
        },
        {
          "output_type": "stream",
          "name": "stderr",
          "text": [
            "/usr/local/lib/python3.9/dist-packages/sklearn/metrics/_classification.py:1344: UndefinedMetricWarning: Precision and F-score are ill-defined and being set to 0.0 in labels with no predicted samples. Use `zero_division` parameter to control this behavior.\n",
            "  _warn_prf(average, modifier, msg_start, len(result))\n",
            "/usr/local/lib/python3.9/dist-packages/sklearn/metrics/_classification.py:1344: UndefinedMetricWarning: Precision and F-score are ill-defined and being set to 0.0 in labels with no predicted samples. Use `zero_division` parameter to control this behavior.\n",
            "  _warn_prf(average, modifier, msg_start, len(result))\n",
            "/usr/local/lib/python3.9/dist-packages/sklearn/metrics/_classification.py:1344: UndefinedMetricWarning: Precision and F-score are ill-defined and being set to 0.0 in labels with no predicted samples. Use `zero_division` parameter to control this behavior.\n",
            "  _warn_prf(average, modifier, msg_start, len(result))\n"
          ]
        },
        {
          "output_type": "stream",
          "name": "stdout",
          "text": [
            "0.8564078892234451\n",
            "average training loss: 0.02\n",
            "training on epoch:  39\n",
            "training on step:  50\n",
            "total time used is: 12.34 s\n"
          ]
        },
        {
          "output_type": "stream",
          "name": "stderr",
          "text": [
            "/usr/local/lib/python3.9/dist-packages/sklearn/metrics/_classification.py:1344: UndefinedMetricWarning: Precision and F-score are ill-defined and being set to 0.0 in labels with no predicted samples. Use `zero_division` parameter to control this behavior.\n",
            "  _warn_prf(average, modifier, msg_start, len(result))\n",
            "/usr/local/lib/python3.9/dist-packages/sklearn/metrics/_classification.py:1344: UndefinedMetricWarning: Precision and F-score are ill-defined and being set to 0.0 in labels with no predicted samples. Use `zero_division` parameter to control this behavior.\n",
            "  _warn_prf(average, modifier, msg_start, len(result))\n",
            "/usr/local/lib/python3.9/dist-packages/sklearn/metrics/_classification.py:1344: UndefinedMetricWarning: Precision and F-score are ill-defined and being set to 0.0 in labels with no predicted samples. Use `zero_division` parameter to control this behavior.\n",
            "  _warn_prf(average, modifier, msg_start, len(result))\n"
          ]
        },
        {
          "output_type": "stream",
          "name": "stdout",
          "text": [
            "0.84844186933185\n",
            "average training loss: 0.02\n",
            "training on epoch:  40\n",
            "training on step:  50\n",
            "total time used is: 12.32 s\n"
          ]
        },
        {
          "output_type": "stream",
          "name": "stderr",
          "text": [
            "/usr/local/lib/python3.9/dist-packages/sklearn/metrics/_classification.py:1344: UndefinedMetricWarning: Precision and F-score are ill-defined and being set to 0.0 in labels with no predicted samples. Use `zero_division` parameter to control this behavior.\n",
            "  _warn_prf(average, modifier, msg_start, len(result))\n",
            "/usr/local/lib/python3.9/dist-packages/sklearn/metrics/_classification.py:1344: UndefinedMetricWarning: Precision and F-score are ill-defined and being set to 0.0 in labels with no predicted samples. Use `zero_division` parameter to control this behavior.\n",
            "  _warn_prf(average, modifier, msg_start, len(result))\n",
            "/usr/local/lib/python3.9/dist-packages/sklearn/metrics/_classification.py:1344: UndefinedMetricWarning: Precision and F-score are ill-defined and being set to 0.0 in labels with no predicted samples. Use `zero_division` parameter to control this behavior.\n",
            "  _warn_prf(average, modifier, msg_start, len(result))\n"
          ]
        },
        {
          "output_type": "stream",
          "name": "stdout",
          "text": [
            "0.8515831647729298\n",
            "average training loss: 0.02\n",
            "training on epoch:  41\n",
            "training on step:  50\n",
            "total time used is: 12.33 s\n"
          ]
        },
        {
          "output_type": "stream",
          "name": "stderr",
          "text": [
            "/usr/local/lib/python3.9/dist-packages/sklearn/metrics/_classification.py:1344: UndefinedMetricWarning: Precision and F-score are ill-defined and being set to 0.0 in labels with no predicted samples. Use `zero_division` parameter to control this behavior.\n",
            "  _warn_prf(average, modifier, msg_start, len(result))\n",
            "/usr/local/lib/python3.9/dist-packages/sklearn/metrics/_classification.py:1344: UndefinedMetricWarning: Precision and F-score are ill-defined and being set to 0.0 in labels with no predicted samples. Use `zero_division` parameter to control this behavior.\n",
            "  _warn_prf(average, modifier, msg_start, len(result))\n",
            "/usr/local/lib/python3.9/dist-packages/sklearn/metrics/_classification.py:1344: UndefinedMetricWarning: Precision and F-score are ill-defined and being set to 0.0 in labels with no predicted samples. Use `zero_division` parameter to control this behavior.\n",
            "  _warn_prf(average, modifier, msg_start, len(result))\n"
          ]
        },
        {
          "output_type": "stream",
          "name": "stdout",
          "text": [
            "0.84844186933185\n",
            "average training loss: 0.02\n",
            "training on epoch:  42\n",
            "training on step:  50\n",
            "total time used is: 12.34 s\n"
          ]
        },
        {
          "output_type": "stream",
          "name": "stderr",
          "text": [
            "/usr/local/lib/python3.9/dist-packages/sklearn/metrics/_classification.py:1344: UndefinedMetricWarning: Precision and F-score are ill-defined and being set to 0.0 in labels with no predicted samples. Use `zero_division` parameter to control this behavior.\n",
            "  _warn_prf(average, modifier, msg_start, len(result))\n",
            "/usr/local/lib/python3.9/dist-packages/sklearn/metrics/_classification.py:1344: UndefinedMetricWarning: Precision and F-score are ill-defined and being set to 0.0 in labels with no predicted samples. Use `zero_division` parameter to control this behavior.\n",
            "  _warn_prf(average, modifier, msg_start, len(result))\n",
            "/usr/local/lib/python3.9/dist-packages/sklearn/metrics/_classification.py:1344: UndefinedMetricWarning: Precision and F-score are ill-defined and being set to 0.0 in labels with no predicted samples. Use `zero_division` parameter to control this behavior.\n",
            "  _warn_prf(average, modifier, msg_start, len(result))\n"
          ]
        },
        {
          "output_type": "stream",
          "name": "stdout",
          "text": [
            "0.8489025718385884\n",
            "average training loss: 0.02\n",
            "training on epoch:  43\n",
            "training on step:  50\n",
            "total time used is: 12.33 s\n"
          ]
        },
        {
          "output_type": "stream",
          "name": "stderr",
          "text": [
            "/usr/local/lib/python3.9/dist-packages/sklearn/metrics/_classification.py:1344: UndefinedMetricWarning: Precision and F-score are ill-defined and being set to 0.0 in labels with no predicted samples. Use `zero_division` parameter to control this behavior.\n",
            "  _warn_prf(average, modifier, msg_start, len(result))\n",
            "/usr/local/lib/python3.9/dist-packages/sklearn/metrics/_classification.py:1344: UndefinedMetricWarning: Precision and F-score are ill-defined and being set to 0.0 in labels with no predicted samples. Use `zero_division` parameter to control this behavior.\n",
            "  _warn_prf(average, modifier, msg_start, len(result))\n",
            "/usr/local/lib/python3.9/dist-packages/sklearn/metrics/_classification.py:1344: UndefinedMetricWarning: Precision and F-score are ill-defined and being set to 0.0 in labels with no predicted samples. Use `zero_division` parameter to control this behavior.\n",
            "  _warn_prf(average, modifier, msg_start, len(result))\n"
          ]
        },
        {
          "output_type": "stream",
          "name": "stdout",
          "text": [
            "0.8482240044081029\n",
            "average training loss: 0.02\n",
            "training on epoch:  44\n",
            "training on step:  50\n",
            "total time used is: 12.34 s\n"
          ]
        },
        {
          "output_type": "stream",
          "name": "stderr",
          "text": [
            "/usr/local/lib/python3.9/dist-packages/sklearn/metrics/_classification.py:1344: UndefinedMetricWarning: Precision and F-score are ill-defined and being set to 0.0 in labels with no predicted samples. Use `zero_division` parameter to control this behavior.\n",
            "  _warn_prf(average, modifier, msg_start, len(result))\n",
            "/usr/local/lib/python3.9/dist-packages/sklearn/metrics/_classification.py:1344: UndefinedMetricWarning: Precision and F-score are ill-defined and being set to 0.0 in labels with no predicted samples. Use `zero_division` parameter to control this behavior.\n",
            "  _warn_prf(average, modifier, msg_start, len(result))\n",
            "/usr/local/lib/python3.9/dist-packages/sklearn/metrics/_classification.py:1344: UndefinedMetricWarning: Precision and F-score are ill-defined and being set to 0.0 in labels with no predicted samples. Use `zero_division` parameter to control this behavior.\n",
            "  _warn_prf(average, modifier, msg_start, len(result))\n"
          ]
        },
        {
          "output_type": "stream",
          "name": "stdout",
          "text": [
            "0.8482240044081029\n",
            "average training loss: 0.02\n",
            "training on epoch:  45\n",
            "training on step:  50\n",
            "total time used is: 12.41 s\n"
          ]
        },
        {
          "output_type": "stream",
          "name": "stderr",
          "text": [
            "/usr/local/lib/python3.9/dist-packages/sklearn/metrics/_classification.py:1344: UndefinedMetricWarning: Precision and F-score are ill-defined and being set to 0.0 in labels with no predicted samples. Use `zero_division` parameter to control this behavior.\n",
            "  _warn_prf(average, modifier, msg_start, len(result))\n",
            "/usr/local/lib/python3.9/dist-packages/sklearn/metrics/_classification.py:1344: UndefinedMetricWarning: Precision and F-score are ill-defined and being set to 0.0 in labels with no predicted samples. Use `zero_division` parameter to control this behavior.\n",
            "  _warn_prf(average, modifier, msg_start, len(result))\n",
            "/usr/local/lib/python3.9/dist-packages/sklearn/metrics/_classification.py:1344: UndefinedMetricWarning: Precision and F-score are ill-defined and being set to 0.0 in labels with no predicted samples. Use `zero_division` parameter to control this behavior.\n",
            "  _warn_prf(average, modifier, msg_start, len(result))\n"
          ]
        },
        {
          "output_type": "stream",
          "name": "stdout",
          "text": [
            "0.8482240044081029\n",
            "average training loss: 0.02\n",
            "training on epoch:  46\n",
            "training on step:  50\n",
            "total time used is: 12.36 s\n"
          ]
        },
        {
          "output_type": "stream",
          "name": "stderr",
          "text": [
            "/usr/local/lib/python3.9/dist-packages/sklearn/metrics/_classification.py:1344: UndefinedMetricWarning: Precision and F-score are ill-defined and being set to 0.0 in labels with no predicted samples. Use `zero_division` parameter to control this behavior.\n",
            "  _warn_prf(average, modifier, msg_start, len(result))\n",
            "/usr/local/lib/python3.9/dist-packages/sklearn/metrics/_classification.py:1344: UndefinedMetricWarning: Precision and F-score are ill-defined and being set to 0.0 in labels with no predicted samples. Use `zero_division` parameter to control this behavior.\n",
            "  _warn_prf(average, modifier, msg_start, len(result))\n",
            "/usr/local/lib/python3.9/dist-packages/sklearn/metrics/_classification.py:1344: UndefinedMetricWarning: Precision and F-score are ill-defined and being set to 0.0 in labels with no predicted samples. Use `zero_division` parameter to control this behavior.\n",
            "  _warn_prf(average, modifier, msg_start, len(result))\n"
          ]
        },
        {
          "output_type": "stream",
          "name": "stdout",
          "text": [
            "0.8485290891121644\n",
            "average training loss: 0.02\n",
            "training on epoch:  47\n",
            "training on step:  50\n",
            "total time used is: 12.40 s\n"
          ]
        },
        {
          "output_type": "stream",
          "name": "stderr",
          "text": [
            "/usr/local/lib/python3.9/dist-packages/sklearn/metrics/_classification.py:1344: UndefinedMetricWarning: Precision and F-score are ill-defined and being set to 0.0 in labels with no predicted samples. Use `zero_division` parameter to control this behavior.\n",
            "  _warn_prf(average, modifier, msg_start, len(result))\n",
            "/usr/local/lib/python3.9/dist-packages/sklearn/metrics/_classification.py:1344: UndefinedMetricWarning: Precision and F-score are ill-defined and being set to 0.0 in labels with no predicted samples. Use `zero_division` parameter to control this behavior.\n",
            "  _warn_prf(average, modifier, msg_start, len(result))\n",
            "/usr/local/lib/python3.9/dist-packages/sklearn/metrics/_classification.py:1344: UndefinedMetricWarning: Precision and F-score are ill-defined and being set to 0.0 in labels with no predicted samples. Use `zero_division` parameter to control this behavior.\n",
            "  _warn_prf(average, modifier, msg_start, len(result))\n"
          ]
        },
        {
          "output_type": "stream",
          "name": "stdout",
          "text": [
            "0.8451429267586903\n",
            "average training loss: 0.02\n",
            "training on epoch:  48\n",
            "training on step:  50\n",
            "total time used is: 12.41 s\n"
          ]
        },
        {
          "output_type": "stream",
          "name": "stderr",
          "text": [
            "/usr/local/lib/python3.9/dist-packages/sklearn/metrics/_classification.py:1344: UndefinedMetricWarning: Precision and F-score are ill-defined and being set to 0.0 in labels with no predicted samples. Use `zero_division` parameter to control this behavior.\n",
            "  _warn_prf(average, modifier, msg_start, len(result))\n",
            "/usr/local/lib/python3.9/dist-packages/sklearn/metrics/_classification.py:1344: UndefinedMetricWarning: Precision and F-score are ill-defined and being set to 0.0 in labels with no predicted samples. Use `zero_division` parameter to control this behavior.\n",
            "  _warn_prf(average, modifier, msg_start, len(result))\n",
            "/usr/local/lib/python3.9/dist-packages/sklearn/metrics/_classification.py:1344: UndefinedMetricWarning: Precision and F-score are ill-defined and being set to 0.0 in labels with no predicted samples. Use `zero_division` parameter to control this behavior.\n",
            "  _warn_prf(average, modifier, msg_start, len(result))\n"
          ]
        },
        {
          "output_type": "stream",
          "name": "stdout",
          "text": [
            "0.8445935282553276\n",
            "average training loss: 0.02\n",
            "training on epoch:  49\n",
            "training on step:  50\n",
            "total time used is: 12.42 s\n",
            "0.8445935282553276\n",
            "average training loss: 0.02\n"
          ]
        },
        {
          "output_type": "stream",
          "name": "stderr",
          "text": [
            "/usr/local/lib/python3.9/dist-packages/sklearn/metrics/_classification.py:1344: UndefinedMetricWarning: Precision and F-score are ill-defined and being set to 0.0 in labels with no predicted samples. Use `zero_division` parameter to control this behavior.\n",
            "  _warn_prf(average, modifier, msg_start, len(result))\n",
            "/usr/local/lib/python3.9/dist-packages/sklearn/metrics/_classification.py:1344: UndefinedMetricWarning: Precision and F-score are ill-defined and being set to 0.0 in labels with no predicted samples. Use `zero_division` parameter to control this behavior.\n",
            "  _warn_prf(average, modifier, msg_start, len(result))\n",
            "/usr/local/lib/python3.9/dist-packages/sklearn/metrics/_classification.py:1344: UndefinedMetricWarning: Precision and F-score are ill-defined and being set to 0.0 in labels with no predicted samples. Use `zero_division` parameter to control this behavior.\n",
            "  _warn_prf(average, modifier, msg_start, len(result))\n"
          ]
        }
      ],
      "source": [
        "# Training\n",
        "# Store the average loss after each epoch\n",
        "fscores=[]\n",
        "loss_values = []\n",
        "# number of total steps for each epoch\n",
        "print('total steps per epoch: ',  len(train_dataloader) / batch_size)\n",
        "# looping over epochs\n",
        "for epoch_i in range(0, epochs):\n",
        "\n",
        "    print('training on epoch: ', epoch_i)\n",
        "    # set start time\n",
        "    t0 = time.time()\n",
        "    # reset total loss\n",
        "    total_loss = 0\n",
        "    # model in training\n",
        "    model.train()\n",
        "    # loop through batch\n",
        "    for step, batch in enumerate(train_dataloader):\n",
        "        # Progress update every 50 step\n",
        "        if step % 50 == 0 and not step == 0:\n",
        "            print('training on step: ', step)\n",
        "            print('total time used is: {0:.2f} s'.format(time.time() - t0))\n",
        "\n",
        "        # load data from dataloader\n",
        "        b_input_ids = batch[0].to(device)\n",
        "        b_input_mask = batch[1].to(device)\n",
        "        b_labels = batch[2].to(device)\n",
        "\n",
        "        # get outputs\n",
        "        outputs = model(b_input_ids,\n",
        "                        token_type_ids=None,\n",
        "                        attention_mask=b_input_mask,\n",
        "                        labels=b_labels)\n",
        "        # get loss\n",
        "        loss = outputs[0]\n",
        "        loss.backward()\n",
        "        # total loss\n",
        "        total_loss += loss.item()\n",
        "        #print(loss.item())\n",
        "        # clip the norm of the gradients to 1.0.\n",
        "        torch.nn.utils.clip_grad_norm_(model.parameters(), 1.0)\n",
        "        # update optimizer\n",
        "        optimizer.step()\n",
        "        # update learning rate\n",
        "        scheduler.step()\n",
        "        # clear any previously calculated gradients\n",
        "        model.zero_grad()\n",
        "    #######################\n",
        "    # model in validation mode\n",
        "    model.eval()\n",
        "    # save prediction\n",
        "    predictions,true_labels =[],[]\n",
        "    # evaluate data for one epoch\n",
        "    for batch in validation_dataloader:\n",
        "        # Add batch to GPU\n",
        "        batch = tuple(t.to(device) for t in batch)\n",
        "        # Unpack the inputs from our dataloader\n",
        "        b_input_ids, b_input_mask, b_labels = batch\n",
        "        # validation\n",
        "        with torch.no_grad():\n",
        "            outputs = model(b_input_ids,\n",
        "                            token_type_ids=None,\n",
        "                            attention_mask=b_input_mask)\n",
        "        # get output\n",
        "        logits = outputs[0]\n",
        "        # move logits and labels to CPU\n",
        "        logits = logits.detach().cpu().numpy()\n",
        "        label_ids = b_labels.to('cpu').numpy()\n",
        "        final_prediction = np.argmax(logits, axis=-1).flatten()\n",
        "        predictions.append(final_prediction)\n",
        "        true_labels.append(label_ids)\n",
        "    final_prediction_list = le.inverse_transform(np.concatenate(predictions))\n",
        "    final_truelabel_list = le.inverse_transform(np.concatenate(true_labels))\n",
        "    cr = classification_report(final_truelabel_list,\n",
        "                        final_prediction_list,\n",
        "                        output_dict=True)\n",
        "    print(cr[\"weighted avg\"][\"f1-score\"])\n",
        "    fscores.append(cr[\"weighted avg\"][\"f1-score\"])\n",
        "    #######################\n",
        "\n",
        "    # Calculate the average loss over the training data.\n",
        "    avg_train_loss = total_loss / len(train_dataloader)\n",
        "    # Store the loss value for plotting the learning curve.\n",
        "    loss_values.append(avg_train_loss)\n",
        "    print(\"average training loss: {0:.2f}\".format(avg_train_loss))"
      ]
    },
    {
      "cell_type": "code",
      "execution_count": null,
      "metadata": {
        "id": "mzyl0DKqa7U4",
        "colab": {
          "base_uri": "https://localhost:8080/"
        },
        "outputId": "0133e715-124c-4e9a-9155-3798d7fb1ccb"
      },
      "outputs": [
        {
          "output_type": "stream",
          "name": "stdout",
          "text": [
            "total time used is: 0.73 s\n"
          ]
        }
      ],
      "source": [
        "# Test\n",
        "t0 = time.time()\n",
        "# model in validation mode\n",
        "model.eval()\n",
        "# save prediction\n",
        "predictions,true_labels =[],[]\n",
        "# evaluate data for one epoch\n",
        "for batch in validation_dataloader:\n",
        "    # Add batch to GPU\n",
        "    batch = tuple(t.to(device) for t in batch)\n",
        "    # Unpack the inputs from our dataloader\n",
        "    b_input_ids, b_input_mask, b_labels = batch\n",
        "    # validation\n",
        "    with torch.no_grad():\n",
        "        outputs = model(b_input_ids,\n",
        "                        token_type_ids=None,\n",
        "                        attention_mask=b_input_mask)\n",
        "    # get output\n",
        "    logits = outputs[0]\n",
        "    # move logits and labels to CPU\n",
        "    logits = logits.detach().cpu().numpy()\n",
        "    label_ids = b_labels.to('cpu').numpy()\n",
        "    final_prediction = np.argmax(logits, axis=-1).flatten()\n",
        "    predictions.append(final_prediction)\n",
        "    true_labels.append(label_ids)\n",
        "\n",
        "print('total time used is: {0:.2f} s'.format(time.time() - t0))"
      ]
    },
    {
      "cell_type": "code",
      "execution_count": null,
      "metadata": {
        "id": "Y2PFNoOmbOvM",
        "colab": {
          "base_uri": "https://localhost:8080/"
        },
        "outputId": "92226ee4-381c-4065-e9d1-f83fd75f6225"
      },
      "outputs": [
        {
          "output_type": "execute_result",
          "data": {
            "text/plain": [
              "[array([ 0, 70,  2,  3,  3,  3,  3,  3,  3,  4, 30,  6,  7,  8,  9, 10, 11,\n",
              "        12, 13, 14, 15, 15, 16, 17, 18, 19, 20, 20, 21, 22, 22, 23]),\n",
              " array([24, 25, 26, 27, 30, 29, 30, 31, 32, 33, 34, 34, 35, 20, 38, 39, 70,\n",
              "        40, 41, 42, 43, 44, 45, 47, 48, 49, 50, 51, 51, 52, 53, 54]),\n",
              " array([ 55,  56,  57,  58,  58,  59,  60,  61,  62,  63,  64,  65,  66,\n",
              "         67, 107, 107,  67,  67,  67,  67,  70,  70,  71,  72,  73,  73,\n",
              "         74,  75,  76,  76,  77,  77]),\n",
              " array([ 78,  74, 107,  80, 107, 107,  81,  81,  81,  81,  82,  82,  82,\n",
              "         82,  82, 107,  82,  82,  82, 107,  82,  82,  83,  83,  84,  84,\n",
              "         84,  84,  84,  84,  84,  85]),\n",
              " array([ 86,  86,  86, 104,  87,  87,  88,  88,  88,  89, 101,  89,  89,\n",
              "         84,  89, 107, 107,  89,  89,  89, 102,  89,  89,  89,  89,  89,\n",
              "        107,  89,  89,  90,  90,  91]),\n",
              " array([ 92,  93,  94,  97,  98,  98,  89,  89, 100,  81, 100, 100, 100,\n",
              "        101, 101, 101, 101, 102, 102, 102, 103, 104,  82,  79, 106, 107,\n",
              "        107, 107, 107,  80, 107, 107]),\n",
              " array([107, 107, 107, 107, 139, 107, 107, 107, 107, 107, 107, 107, 102,\n",
              "         89, 107, 107, 107, 107, 107, 107, 107, 107, 107, 107, 107, 107,\n",
              "        107, 107, 107, 107, 107, 107]),\n",
              " array([107,  80, 107, 102, 107, 107,  89, 107, 107, 107,  80, 107, 107,\n",
              "        107,  82, 107, 107, 107, 107, 107, 107, 107, 107, 107, 107, 107,\n",
              "        107, 108, 109, 110, 111, 112]),\n",
              " array([113, 114, 114, 115, 116, 117, 118, 119, 120, 121, 122, 123, 130,\n",
              "        132, 123, 124, 125, 126, 127, 128, 129, 107, 130, 130, 131, 132,\n",
              "        139, 132, 132, 133, 134, 135]),\n",
              " array([135, 136, 137, 138, 138, 138, 139, 132, 139, 139, 139, 139, 139,\n",
              "        140, 141, 142,  73, 144])]"
            ]
          },
          "metadata": {},
          "execution_count": 80
        }
      ],
      "source": [
        "predictions"
      ]
    },
    {
      "cell_type": "code",
      "execution_count": null,
      "metadata": {
        "id": "FLBHiyWHbZNI"
      },
      "outputs": [],
      "source": [
        "# convert numeric label to string\n",
        "final_prediction_list = le.inverse_transform(np.concatenate(predictions))\n",
        "final_truelabel_list = le.inverse_transform(np.concatenate(true_labels))"
      ]
    },
    {
      "cell_type": "code",
      "execution_count": null,
      "metadata": {
        "id": "a-zRTlX_bq83",
        "colab": {
          "base_uri": "https://localhost:8080/"
        },
        "outputId": "857731ba-1c3f-4a87-e71d-231755f26fe8"
      },
      "outputs": [
        {
          "output_type": "execute_result",
          "data": {
            "text/plain": [
              "array(['afirmar', 'saludo', 'estado', 'motivo_de_consulta',\n",
              "       'motivo_de_consulta', 'motivo_de_consulta', 'motivo_de_consulta',\n",
              "       'motivo_de_consulta', 'motivo_de_consulta', 'otros',\n",
              "       'personal_dieta_describir', 'personal_adiccion_alcohol_describir',\n",
              "       'personal_adiccion_alcohol_duracion',\n",
              "       'personal_adiccion_alcohol_frecuencia',\n",
              "       'personal_adiccion_alcohol_otros',\n",
              "       'personal_adiccion_alcohol_si_o_no',\n",
              "       'personal_adiccion_fumar_cantidad',\n",
              "       'personal_adiccion_fumar_duracion',\n",
              "       'personal_adiccion_fumar_frecuencia',\n",
              "       'personal_adiccion_fumar_inicio',\n",
              "       'personal_adiccion_fumar_si_o_no',\n",
              "       'personal_adiccion_fumar_si_o_no',\n",
              "       'personal_adiccion_otros_describir',\n",
              "       'personal_adiccion_otros_si_o_no', 'personal_contacto',\n",
              "       'personal_datos_direccion', 'personal_datos_edad',\n",
              "       'personal_datos_edad', 'personal_datos_fecha_de_nacimiento',\n",
              "       'personal_datos_nombre', 'personal_datos_nombre',\n",
              "       'personal_deporte_cantidad', 'personal_deporte_cuando',\n",
              "       'personal_deporte_describir', 'personal_deporte_frecuencia',\n",
              "       'personal_deporte_si_o_no', 'personal_dieta_describir',\n",
              "       'personal_dieta_cuando', 'personal_dieta_describir',\n",
              "       'personal_dieta_duracion', 'personal_dieta_frecuencia',\n",
              "       'personal_dieta_otros', 'personal_dieta_si_o_no',\n",
              "       'personal_dieta_si_o_no', 'personal_entorno_describir',\n",
              "       'personal_datos_edad', 'personal_entorno_hijos_nombre',\n",
              "       'personal_entorno_hijos_otros', 'saludo',\n",
              "       'personal_entorno_hijos_si_o_no',\n",
              "       'personal_entorno_mascota_si_o_no',\n",
              "       'personal_entorno_otros_describir',\n",
              "       'personal_entorno_otros_si_o_no',\n",
              "       'personal_entorno_padres_si_o_no',\n",
              "       'personal_entorno_pareja_nombre',\n",
              "       'personal_entorno_pareja_si_o_no', 'personal_fisico_altura',\n",
              "       'personal_fisico_peso_cambio', 'personal_fisico_peso_duracion',\n",
              "       'personal_fisico_peso_peso', 'personal_fisico_peso_peso',\n",
              "       'personal_otros_describir', 'personal_otros_si_o_no',\n",
              "       'personal_sueño_describir', 'personal_sueño_horas',\n",
              "       'personal_sueño_si_o_no', 'personal_trabajo_anterior',\n",
              "       'personal_trabajo_describir', 'personal_trabajo_describir',\n",
              "       'personal_trabajo_duracion', 'personal_trabajo_horas',\n",
              "       'personal_trabajo_lugar', 'personal_trabajo_otros',\n",
              "       'personal_trabajo_si_o_no', 'personal_viajes_describir',\n",
              "       'personal_viajes_otros', 'personal_viajes_si_o_no', 'psiquiatria',\n",
              "       'sintoma_paciente_si_o_no', 'sintoma_paciente_si_o_no',\n",
              "       'psiquiatria', 'psiquiatria', 'psiquiatria', 'psiquiatria',\n",
              "       'saludo', 'saludo', 'sintoma_bebe_peso', 'sintoma_bebe_si_o_no',\n",
              "       'sintoma_entorno_si_o_no', 'sintoma_entorno_si_o_no',\n",
              "       'sintoma_familia_describir', 'sintoma_familia_inicio',\n",
              "       'sintoma_familia_si_o_no', 'sintoma_familia_si_o_no',\n",
              "       'sintoma_paciente_alergia_describir',\n",
              "       'sintoma_paciente_alergia_describir',\n",
              "       'sintoma_paciente_alergia_si_o_no', 'sintoma_familia_describir',\n",
              "       'sintoma_paciente_si_o_no',\n",
              "       'sintoma_paciente_antecedentes_si_o_no',\n",
              "       'sintoma_paciente_si_o_no', 'sintoma_paciente_si_o_no',\n",
              "       'sintoma_paciente_aparicion_describir',\n",
              "       'sintoma_paciente_aparicion_describir',\n",
              "       'sintoma_paciente_aparicion_describir',\n",
              "       'sintoma_paciente_aparicion_describir',\n",
              "       'sintoma_paciente_aparicion_si_o_no',\n",
              "       'sintoma_paciente_aparicion_si_o_no',\n",
              "       'sintoma_paciente_aparicion_si_o_no',\n",
              "       'sintoma_paciente_aparicion_si_o_no',\n",
              "       'sintoma_paciente_aparicion_si_o_no', 'sintoma_paciente_si_o_no',\n",
              "       'sintoma_paciente_aparicion_si_o_no',\n",
              "       'sintoma_paciente_aparicion_si_o_no',\n",
              "       'sintoma_paciente_aparicion_si_o_no', 'sintoma_paciente_si_o_no',\n",
              "       'sintoma_paciente_aparicion_si_o_no',\n",
              "       'sintoma_paciente_aparicion_si_o_no',\n",
              "       'sintoma_paciente_cambio_describir',\n",
              "       'sintoma_paciente_cambio_describir',\n",
              "       'sintoma_paciente_cambio_si_o_no',\n",
              "       'sintoma_paciente_cambio_si_o_no',\n",
              "       'sintoma_paciente_cambio_si_o_no',\n",
              "       'sintoma_paciente_cambio_si_o_no',\n",
              "       'sintoma_paciente_cambio_si_o_no',\n",
              "       'sintoma_paciente_cambio_si_o_no',\n",
              "       'sintoma_paciente_cambio_si_o_no',\n",
              "       'sintoma_paciente_capacidad_describir',\n",
              "       'sintoma_paciente_capacidad_si_o_no',\n",
              "       'sintoma_paciente_capacidad_si_o_no',\n",
              "       'sintoma_paciente_capacidad_si_o_no',\n",
              "       'sintoma_paciente_secuela_si_o_no',\n",
              "       'sintoma_paciente_causa_describir',\n",
              "       'sintoma_paciente_causa_describir',\n",
              "       'sintoma_paciente_causa_si_o_no', 'sintoma_paciente_causa_si_o_no',\n",
              "       'sintoma_paciente_causa_si_o_no', 'sintoma_paciente_describir',\n",
              "       'sintoma_paciente_localizacion_describir',\n",
              "       'sintoma_paciente_describir', 'sintoma_paciente_describir',\n",
              "       'sintoma_paciente_cambio_si_o_no', 'sintoma_paciente_describir',\n",
              "       'sintoma_paciente_si_o_no', 'sintoma_paciente_si_o_no',\n",
              "       'sintoma_paciente_describir', 'sintoma_paciente_describir',\n",
              "       'sintoma_paciente_describir',\n",
              "       'sintoma_paciente_localizacion_si_o_no',\n",
              "       'sintoma_paciente_describir', 'sintoma_paciente_describir',\n",
              "       'sintoma_paciente_describir', 'sintoma_paciente_describir',\n",
              "       'sintoma_paciente_describir', 'sintoma_paciente_si_o_no',\n",
              "       'sintoma_paciente_describir', 'sintoma_paciente_describir',\n",
              "       'sintoma_paciente_duracion', 'sintoma_paciente_duracion',\n",
              "       'sintoma_paciente_embarazo_antecedentes',\n",
              "       'sintoma_paciente_embarazo_cantidad',\n",
              "       'sintoma_paciente_embarazo_describir',\n",
              "       'sintoma_paciente_embarazo_fin',\n",
              "       'sintoma_paciente_fiebre_describir',\n",
              "       'sintoma_paciente_fiebre_si_o_no',\n",
              "       'sintoma_paciente_fiebre_si_o_no', 'sintoma_paciente_describir',\n",
              "       'sintoma_paciente_describir', 'sintoma_paciente_inicio',\n",
              "       'sintoma_paciente_aparicion_describir', 'sintoma_paciente_inicio',\n",
              "       'sintoma_paciente_inicio', 'sintoma_paciente_inicio',\n",
              "       'sintoma_paciente_localizacion_describir',\n",
              "       'sintoma_paciente_localizacion_describir',\n",
              "       'sintoma_paciente_localizacion_describir',\n",
              "       'sintoma_paciente_localizacion_describir',\n",
              "       'sintoma_paciente_localizacion_si_o_no',\n",
              "       'sintoma_paciente_localizacion_si_o_no',\n",
              "       'sintoma_paciente_localizacion_si_o_no',\n",
              "       'sintoma_paciente_secuela_describir',\n",
              "       'sintoma_paciente_secuela_si_o_no',\n",
              "       'sintoma_paciente_aparicion_si_o_no',\n",
              "       'sintoma_paciente_antecedentes_describir',\n",
              "       'sintoma_paciente_seguimiento_si_o_no', 'sintoma_paciente_si_o_no',\n",
              "       'sintoma_paciente_si_o_no', 'sintoma_paciente_si_o_no',\n",
              "       'sintoma_paciente_si_o_no',\n",
              "       'sintoma_paciente_antecedentes_si_o_no',\n",
              "       'sintoma_paciente_si_o_no', 'sintoma_paciente_si_o_no',\n",
              "       'sintoma_paciente_si_o_no', 'sintoma_paciente_si_o_no',\n",
              "       'sintoma_paciente_si_o_no', 'sintoma_paciente_si_o_no',\n",
              "       'tratamiento_operacion_si_o_no', 'sintoma_paciente_si_o_no',\n",
              "       'sintoma_paciente_si_o_no', 'sintoma_paciente_si_o_no',\n",
              "       'sintoma_paciente_si_o_no', 'sintoma_paciente_si_o_no',\n",
              "       'sintoma_paciente_si_o_no', 'sintoma_paciente_si_o_no',\n",
              "       'sintoma_paciente_localizacion_si_o_no',\n",
              "       'sintoma_paciente_describir', 'sintoma_paciente_si_o_no',\n",
              "       'sintoma_paciente_si_o_no', 'sintoma_paciente_si_o_no',\n",
              "       'sintoma_paciente_si_o_no', 'sintoma_paciente_si_o_no',\n",
              "       'sintoma_paciente_si_o_no', 'sintoma_paciente_si_o_no',\n",
              "       'sintoma_paciente_si_o_no', 'sintoma_paciente_si_o_no',\n",
              "       'sintoma_paciente_si_o_no', 'sintoma_paciente_si_o_no',\n",
              "       'sintoma_paciente_si_o_no', 'sintoma_paciente_si_o_no',\n",
              "       'sintoma_paciente_si_o_no', 'sintoma_paciente_si_o_no',\n",
              "       'sintoma_paciente_si_o_no', 'sintoma_paciente_si_o_no',\n",
              "       'sintoma_paciente_si_o_no', 'sintoma_paciente_si_o_no',\n",
              "       'sintoma_paciente_antecedentes_si_o_no',\n",
              "       'sintoma_paciente_si_o_no',\n",
              "       'sintoma_paciente_localizacion_si_o_no',\n",
              "       'sintoma_paciente_si_o_no', 'sintoma_paciente_si_o_no',\n",
              "       'sintoma_paciente_describir', 'sintoma_paciente_si_o_no',\n",
              "       'sintoma_paciente_si_o_no', 'sintoma_paciente_si_o_no',\n",
              "       'sintoma_paciente_antecedentes_si_o_no',\n",
              "       'sintoma_paciente_si_o_no', 'sintoma_paciente_si_o_no',\n",
              "       'sintoma_paciente_si_o_no', 'sintoma_paciente_aparicion_si_o_no',\n",
              "       'sintoma_paciente_si_o_no', 'sintoma_paciente_si_o_no',\n",
              "       'sintoma_paciente_si_o_no', 'sintoma_paciente_si_o_no',\n",
              "       'sintoma_paciente_si_o_no', 'sintoma_paciente_si_o_no',\n",
              "       'sintoma_paciente_si_o_no', 'sintoma_paciente_si_o_no',\n",
              "       'sintoma_paciente_si_o_no', 'sintoma_paciente_si_o_no',\n",
              "       'sintoma_paciente_si_o_no', 'sintoma_paciente_si_o_no',\n",
              "       'tratamiento_anticonceptivos_describir',\n",
              "       'tratamiento_anticonceptivos_frecuencia',\n",
              "       'tratamiento_anticonceptivos_si_o_no',\n",
              "       'tratamiento_consulta_describir',\n",
              "       'tratamiento_consulta_especialista_si_o_no',\n",
              "       'tratamiento_consulta_fecha', 'tratamiento_consulta_si_o_no',\n",
              "       'tratamiento_consulta_si_o_no', 'tratamiento_diagnostico_como',\n",
              "       'tratamiento_diagnostico_fecha', 'tratamiento_diagnostico_quien',\n",
              "       'tratamiento_diagnostico_si_o_no',\n",
              "       'tratamiento_historial_describir', 'tratamiento_historial_si_o_no',\n",
              "       'tratamiento_medicacion_antecedentes',\n",
              "       'tratamiento_medicacion_cuando',\n",
              "       'tratamiento_medicacion_describir',\n",
              "       'tratamiento_medicacion_si_o_no',\n",
              "       'tratamiento_operacion_describir',\n",
              "       'tratamiento_medicacion_describir', 'tratamiento_medicacion_dosis',\n",
              "       'tratamiento_medicacion_duracion',\n",
              "       'tratamiento_medicacion_frecuencia',\n",
              "       'tratamiento_medicacion_motivo', 'tratamiento_medicacion_otros',\n",
              "       'tratamiento_medicacion_receta', 'sintoma_paciente_si_o_no',\n",
              "       'tratamiento_medicacion_si_o_no', 'tratamiento_medicacion_si_o_no',\n",
              "       'tratamiento_operacion_complicaciones',\n",
              "       'tratamiento_operacion_describir', 'tratamiento_operacion_si_o_no',\n",
              "       'tratamiento_operacion_describir',\n",
              "       'tratamiento_operacion_describir', 'tratamiento_operacion_dosis',\n",
              "       'tratamiento_operacion_especialista',\n",
              "       'tratamiento_operacion_fecha', 'tratamiento_operacion_fecha',\n",
              "       'tratamiento_operacion_frecuencia', 'tratamiento_operacion_motivo',\n",
              "       'tratamiento_operacion_resultados',\n",
              "       'tratamiento_operacion_resultados',\n",
              "       'tratamiento_operacion_resultados',\n",
              "       'tratamiento_operacion_si_o_no', 'tratamiento_operacion_describir',\n",
              "       'tratamiento_operacion_si_o_no', 'tratamiento_operacion_si_o_no',\n",
              "       'tratamiento_operacion_si_o_no', 'tratamiento_operacion_si_o_no',\n",
              "       'tratamiento_operacion_si_o_no', 'vida_sexual_describir',\n",
              "       'vida_sexual_edad', 'vida_sexual_frecuencia',\n",
              "       'sintoma_entorno_si_o_no', 'vida_sexual_si_o_no'], dtype='<U41')"
            ]
          },
          "metadata": {},
          "execution_count": 82
        }
      ],
      "source": [
        "final_prediction_list\n"
      ]
    },
    {
      "cell_type": "code",
      "execution_count": null,
      "metadata": {
        "id": "NEyhz846btw6",
        "colab": {
          "base_uri": "https://localhost:8080/"
        },
        "outputId": "18f52cf7-e1f6-4b56-f1e4-1f8fd18bcdc2"
      },
      "outputs": [
        {
          "output_type": "stream",
          "name": "stdout",
          "text": [
            "                                           precision    recall  f1-score   support\n",
            "\n",
            "                                  afirmar       1.00      1.00      1.00         1\n",
            "                                despedida       0.00      0.00      0.00         1\n",
            "                                   estado       1.00      1.00      1.00         1\n",
            "                       motivo_de_consulta       1.00      1.00      1.00         6\n",
            "                                    otros       1.00      1.00      1.00         1\n",
            "       personal_adiccion_alcohol_cantidad       0.00      0.00      0.00         1\n",
            "      personal_adiccion_alcohol_describir       1.00      1.00      1.00         1\n",
            "       personal_adiccion_alcohol_duracion       1.00      1.00      1.00         1\n",
            "     personal_adiccion_alcohol_frecuencia       1.00      1.00      1.00         1\n",
            "          personal_adiccion_alcohol_otros       1.00      1.00      1.00         1\n",
            "        personal_adiccion_alcohol_si_o_no       1.00      1.00      1.00         1\n",
            "         personal_adiccion_fumar_cantidad       1.00      1.00      1.00         1\n",
            "         personal_adiccion_fumar_duracion       1.00      1.00      1.00         1\n",
            "       personal_adiccion_fumar_frecuencia       1.00      1.00      1.00         1\n",
            "           personal_adiccion_fumar_inicio       1.00      1.00      1.00         1\n",
            "          personal_adiccion_fumar_si_o_no       1.00      1.00      1.00         2\n",
            "        personal_adiccion_otros_describir       1.00      1.00      1.00         1\n",
            "          personal_adiccion_otros_si_o_no       1.00      1.00      1.00         1\n",
            "                        personal_contacto       1.00      1.00      1.00         1\n",
            "                 personal_datos_direccion       1.00      1.00      1.00         1\n",
            "                      personal_datos_edad       0.67      1.00      0.80         2\n",
            "       personal_datos_fecha_de_nacimiento       1.00      1.00      1.00         1\n",
            "                    personal_datos_nombre       1.00      1.00      1.00         2\n",
            "                personal_deporte_cantidad       1.00      1.00      1.00         1\n",
            "                  personal_deporte_cuando       1.00      1.00      1.00         1\n",
            "               personal_deporte_describir       1.00      1.00      1.00         1\n",
            "              personal_deporte_frecuencia       1.00      1.00      1.00         1\n",
            "                 personal_deporte_si_o_no       1.00      1.00      1.00         1\n",
            "                  personal_dieta_cantidad       0.00      0.00      0.00         1\n",
            "                    personal_dieta_cuando       1.00      1.00      1.00         1\n",
            "                 personal_dieta_describir       0.33      1.00      0.50         1\n",
            "                  personal_dieta_duracion       1.00      1.00      1.00         1\n",
            "                personal_dieta_frecuencia       1.00      1.00      1.00         1\n",
            "                     personal_dieta_otros       1.00      1.00      1.00         1\n",
            "                   personal_dieta_si_o_no       1.00      1.00      1.00         2\n",
            "               personal_entorno_describir       1.00      1.00      1.00         1\n",
            "              personal_entorno_hijos_edad       0.00      0.00      0.00         1\n",
            "            personal_entorno_hijos_nombre       1.00      1.00      1.00         1\n",
            "             personal_entorno_hijos_otros       1.00      1.00      1.00         1\n",
            "           personal_entorno_hijos_si_o_no       1.00      0.50      0.67         2\n",
            "         personal_entorno_mascota_si_o_no       1.00      1.00      1.00         1\n",
            "         personal_entorno_otros_describir       1.00      1.00      1.00         1\n",
            "           personal_entorno_otros_si_o_no       1.00      1.00      1.00         1\n",
            "          personal_entorno_padres_si_o_no       1.00      1.00      1.00         1\n",
            "           personal_entorno_pareja_nombre       1.00      1.00      1.00         1\n",
            "          personal_entorno_pareja_si_o_no       1.00      1.00      1.00         1\n",
            "                   personal_fisico_altura       1.00      1.00      1.00         1\n",
            "              personal_fisico_peso_cambio       1.00      1.00      1.00         1\n",
            "            personal_fisico_peso_duracion       1.00      1.00      1.00         1\n",
            "                personal_fisico_peso_peso       1.00      1.00      1.00         2\n",
            "                 personal_otros_describir       1.00      1.00      1.00         1\n",
            "                   personal_otros_si_o_no       1.00      1.00      1.00         1\n",
            "                 personal_sueño_describir       1.00      1.00      1.00         1\n",
            "                     personal_sueño_horas       1.00      1.00      1.00         1\n",
            "                   personal_sueño_si_o_no       1.00      1.00      1.00         1\n",
            "                personal_trabajo_anterior       1.00      1.00      1.00         1\n",
            "               personal_trabajo_describir       1.00      1.00      1.00         2\n",
            "                personal_trabajo_duracion       1.00      1.00      1.00         1\n",
            "                   personal_trabajo_horas       1.00      1.00      1.00         1\n",
            "                   personal_trabajo_lugar       1.00      1.00      1.00         1\n",
            "                   personal_trabajo_otros       1.00      1.00      1.00         1\n",
            "                 personal_trabajo_si_o_no       1.00      1.00      1.00         1\n",
            "                personal_viajes_describir       1.00      1.00      1.00         1\n",
            "                    personal_viajes_otros       1.00      1.00      1.00         1\n",
            "                  personal_viajes_si_o_no       1.00      1.00      1.00         1\n",
            "                              psiquiatria       0.60      0.60      0.60         5\n",
            "    psiquiatria_estado de animo_describir       0.00      0.00      0.00         1\n",
            "      psiquiatria_estado de animo_si_o_no       0.00      0.00      0.00         1\n",
            "                                   saludo       0.50      1.00      0.67         2\n",
            "                        sintoma_bebe_peso       1.00      1.00      1.00         1\n",
            "                     sintoma_bebe_si_o_no       1.00      1.00      1.00         1\n",
            "                  sintoma_entorno_si_o_no       0.67      1.00      0.80         2\n",
            "                sintoma_familia_describir       0.50      1.00      0.67         1\n",
            "                   sintoma_familia_inicio       1.00      1.00      1.00         1\n",
            "                  sintoma_familia_si_o_no       1.00      1.00      1.00         2\n",
            "       sintoma_paciente_alergia_describir       1.00      1.00      1.00         2\n",
            "         sintoma_paciente_alergia_si_o_no       1.00      1.00      1.00         1\n",
            "  sintoma_paciente_antecedentes_describir       0.00      0.00      0.00         1\n",
            "    sintoma_paciente_antecedentes_si_o_no       0.25      0.25      0.25         4\n",
            "     sintoma_paciente_aparicion_describir       0.80      1.00      0.89         4\n",
            "       sintoma_paciente_aparicion_si_o_no       0.83      0.83      0.83        12\n",
            "        sintoma_paciente_cambio_describir       1.00      0.67      0.80         3\n",
            "          sintoma_paciente_cambio_si_o_no       0.75      1.00      0.86         6\n",
            "     sintoma_paciente_capacidad_describir       1.00      1.00      1.00         1\n",
            "       sintoma_paciente_capacidad_si_o_no       1.00      1.00      1.00         3\n",
            "         sintoma_paciente_causa_describir       1.00      0.67      0.80         3\n",
            "           sintoma_paciente_causa_si_o_no       1.00      1.00      1.00         3\n",
            "               sintoma_paciente_describir       0.78      0.70      0.74        20\n",
            "                sintoma_paciente_duracion       1.00      1.00      1.00         2\n",
            "   sintoma_paciente_embarazo_antecedentes       1.00      1.00      1.00         1\n",
            "       sintoma_paciente_embarazo_cantidad       1.00      1.00      1.00         1\n",
            "      sintoma_paciente_embarazo_describir       1.00      1.00      1.00         1\n",
            "            sintoma_paciente_embarazo_fin       1.00      1.00      1.00         1\n",
            "        sintoma_paciente_fiebre_describir       1.00      1.00      1.00         1\n",
            "          sintoma_paciente_fiebre_si_o_no       1.00      1.00      1.00         2\n",
            "              sintoma_paciente_frecuencia       0.00      0.00      0.00         2\n",
            "                  sintoma_paciente_inicio       1.00      0.80      0.89         5\n",
            "  sintoma_paciente_localizacion_describir       0.60      1.00      0.75         3\n",
            "    sintoma_paciente_localizacion_si_o_no       0.50      0.75      0.60         4\n",
            "       sintoma_paciente_secuela_describir       1.00      1.00      1.00         1\n",
            "         sintoma_paciente_secuela_si_o_no       0.50      0.50      0.50         2\n",
            "   sintoma_paciente_seguimiento_describir       0.00      0.00      0.00         1\n",
            "     sintoma_paciente_seguimiento_si_o_no       1.00      1.00      1.00         1\n",
            "                 sintoma_paciente_si_o_no       0.84      0.86      0.85        66\n",
            "    tratamiento_anticonceptivos_describir       1.00      1.00      1.00         1\n",
            "   tratamiento_anticonceptivos_frecuencia       1.00      1.00      1.00         1\n",
            "      tratamiento_anticonceptivos_si_o_no       1.00      1.00      1.00         1\n",
            "           tratamiento_consulta_describir       1.00      1.00      1.00         1\n",
            "tratamiento_consulta_especialista_si_o_no       1.00      1.00      1.00         1\n",
            "               tratamiento_consulta_fecha       1.00      1.00      1.00         1\n",
            "             tratamiento_consulta_si_o_no       1.00      1.00      1.00         2\n",
            "             tratamiento_diagnostico_como       1.00      1.00      1.00         1\n",
            "            tratamiento_diagnostico_fecha       1.00      1.00      1.00         1\n",
            "            tratamiento_diagnostico_quien       1.00      1.00      1.00         1\n",
            "          tratamiento_diagnostico_si_o_no       1.00      1.00      1.00         1\n",
            "          tratamiento_historial_describir       1.00      1.00      1.00         1\n",
            "            tratamiento_historial_si_o_no       1.00      1.00      1.00         1\n",
            "      tratamiento_medicacion_antecedentes       1.00      1.00      1.00         1\n",
            "            tratamiento_medicacion_cuando       1.00      1.00      1.00         1\n",
            "         tratamiento_medicacion_describir       1.00      0.50      0.67         4\n",
            "             tratamiento_medicacion_dosis       1.00      1.00      1.00         1\n",
            "          tratamiento_medicacion_duracion       1.00      1.00      1.00         1\n",
            "        tratamiento_medicacion_frecuencia       1.00      1.00      1.00         1\n",
            "            tratamiento_medicacion_motivo       1.00      1.00      1.00         1\n",
            "             tratamiento_medicacion_otros       1.00      1.00      1.00         1\n",
            "            tratamiento_medicacion_receta       1.00      1.00      1.00         1\n",
            "           tratamiento_medicacion_si_o_no       0.67      0.67      0.67         3\n",
            "     tratamiento_operacion_complicaciones       1.00      1.00      1.00         1\n",
            "          tratamiento_operacion_describir       0.60      0.75      0.67         4\n",
            "              tratamiento_operacion_dosis       1.00      1.00      1.00         1\n",
            "       tratamiento_operacion_especialista       1.00      1.00      1.00         1\n",
            "              tratamiento_operacion_fecha       1.00      1.00      1.00         2\n",
            "         tratamiento_operacion_frecuencia       1.00      1.00      1.00         1\n",
            "             tratamiento_operacion_motivo       1.00      1.00      1.00         1\n",
            "         tratamiento_operacion_resultados       1.00      1.00      1.00         3\n",
            "            tratamiento_operacion_si_o_no       0.75      0.86      0.80         7\n",
            "                    vida_sexual_describir       1.00      1.00      1.00         1\n",
            "                         vida_sexual_edad       1.00      1.00      1.00         1\n",
            "                   vida_sexual_frecuencia       1.00      1.00      1.00         1\n",
            "                        vida_sexual_otros       0.00      0.00      0.00         1\n",
            "                      vida_sexual_si_o_no       1.00      1.00      1.00         1\n",
            "\n",
            "                                 accuracy                           0.86       306\n",
            "                                macro avg       0.88      0.89      0.88       306\n",
            "                             weighted avg       0.84      0.86      0.84       306\n",
            "\n"
          ]
        },
        {
          "output_type": "stream",
          "name": "stderr",
          "text": [
            "/usr/local/lib/python3.9/dist-packages/sklearn/metrics/_classification.py:1344: UndefinedMetricWarning: Precision and F-score are ill-defined and being set to 0.0 in labels with no predicted samples. Use `zero_division` parameter to control this behavior.\n",
            "  _warn_prf(average, modifier, msg_start, len(result))\n",
            "/usr/local/lib/python3.9/dist-packages/sklearn/metrics/_classification.py:1344: UndefinedMetricWarning: Precision and F-score are ill-defined and being set to 0.0 in labels with no predicted samples. Use `zero_division` parameter to control this behavior.\n",
            "  _warn_prf(average, modifier, msg_start, len(result))\n",
            "/usr/local/lib/python3.9/dist-packages/sklearn/metrics/_classification.py:1344: UndefinedMetricWarning: Precision and F-score are ill-defined and being set to 0.0 in labels with no predicted samples. Use `zero_division` parameter to control this behavior.\n",
            "  _warn_prf(average, modifier, msg_start, len(result))\n"
          ]
        }
      ],
      "source": [
        "cr = classification_report(final_truelabel_list,\n",
        "                           final_prediction_list,\n",
        "                           output_dict=False)\n",
        "print(cr)\n"
      ]
    },
    {
      "cell_type": "code",
      "execution_count": null,
      "metadata": {
        "id": "0yCTBZNkMfp0"
      },
      "outputs": [],
      "source": [
        "# Plot best learning rate\n",
        "# Original code from: http://scikit-learn.org/stable/auto_examples/model_selection/plot_learning_curve.html\n",
        "\n",
        "\n",
        "\n",
        "def plot_learning_curve(par_values, scores1,  title =\" Learning Rate Curve\", ylim=None, xlab=\"Learning rate\", ylab=\"F-Scores\"):\n",
        "    \"\"\"\n",
        "    Generate a simple plot of the test and training learning curve.\n",
        "\n",
        "    Parameters\n",
        "    ----------\n",
        "    par_values : list of checked values of the current parameter.\n",
        "\n",
        "    train_scores : list of scores obtained in training set (same length as par_values).\n",
        "\n",
        "    test_scores : list of scores obtained in dev set (same length as par_values)\n",
        "\n",
        "    title : string\n",
        "        Title for the chart.\n",
        "\n",
        "    ylim : tuple, shape (ymin, ymax), optional\n",
        "        Defines minimum and maximum yvalues plotted.\n",
        "\n",
        "    \"\"\"\n",
        "    plt.figure()\n",
        "    plt.title(title)\n",
        "    if ylim is not None:\n",
        "        plt.ylim(*ylim)\n",
        "    plt.xlabel(xlab)\n",
        "    plt.ylabel(ylab)\n",
        "\n",
        "    plt.grid()\n",
        "\n",
        "\n",
        "    plt.plot(par_values, scores1, 'o-', color=\"r\",\n",
        "             label=\"Dev Score\")\n",
        "\n",
        "\n",
        "\n",
        "    plt.legend(loc=\"best\")\n",
        "    return plt"
      ]
    },
    {
      "cell_type": "code",
      "execution_count": null,
      "metadata": {
        "id": "_3C7oonHLtWw",
        "colab": {
          "base_uri": "https://localhost:8080/",
          "height": 312
        },
        "outputId": "6a73f0a4-58d2-4524-9268-4184024e2445"
      },
      "outputs": [
        {
          "output_type": "execute_result",
          "data": {
            "text/plain": [
              "<module 'matplotlib.pyplot' from '/usr/local/lib/python3.9/dist-packages/matplotlib/pyplot.py'>"
            ]
          },
          "metadata": {},
          "execution_count": 93
        },
        {
          "output_type": "display_data",
          "data": {
            "text/plain": [
              "<Figure size 432x288 with 1 Axes>"
            ],
            "image/png": "[encoded data removed]"
          },
          "metadata": {
            "needs_background": "light"
          }
        }
      ],
      "source": [
        "plot_learning_curve([i for i in range(50)], fscores,  title =\"Dev Learning Curve\", xlab=\"Epoch\")"
      ]
    },
    {
      "cell_type": "markdown",
      "source": [
        "# **TESTING**"
      ],
      "metadata": {
        "id": "G_OApwtQe6sX"
      }
    },
    {
      "cell_type": "code",
      "source": [
        "df_test = pd.read_csv('/content/drive/My Drive/TFG-Janire-Mikel/DeepLearning/test.csv', encoding='UTF-8')\n",
        "df_test['text'] = df_test.texto.apply(lambda x: clean_text(x))"
      ],
      "metadata": {
        "id": "XQTmJgIK1xT0"
      },
      "execution_count": null,
      "outputs": []
    },
    {
      "cell_type": "code",
      "source": [
        "tokenized_feature_raw_val = tokenizer.batch_encode_plus(\n",
        "                            # Sentences to encode\n",
        "                            df_test.text.values.tolist(),\n",
        "                            # Add '[CLS]' and '[SEP]'\n",
        "                            add_special_tokens = True\n",
        "                   )"
      ],
      "metadata": {
        "id": "wHiNgSJo2OsD"
      },
      "execution_count": null,
      "outputs": []
    },
    {
      "cell_type": "code",
      "source": [
        "features_test = df_test.text.values.tolist()\n",
        "target_test = df_test.intent_4.values.tolist()"
      ],
      "metadata": {
        "id": "aVmnU2ty2iBG"
      },
      "execution_count": null,
      "outputs": []
    },
    {
      "cell_type": "code",
      "source": [
        "tokenized_feature_test = tokenizer.batch_encode_plus(\n",
        "                            # Sentences to encode\n",
        "                            features_test,\n",
        "                            # Add '[CLS]' and '[SEP]'\n",
        "                            add_special_tokens = True,\n",
        "                            # Add empty tokens if len(text)<MAX_LEN\n",
        "                            padding = 'max_length',\n",
        "                            # Truncate all sentences to max length\n",
        "                            truncation=True,\n",
        "                            # Set the maximum length\n",
        "                            max_length = MAX_LEN,\n",
        "                            # Return attention mask\n",
        "                            return_attention_mask = True,\n",
        "                            # Return pytorch tensors\n",
        "                            return_tensors = 'pt'\n",
        "                   )"
      ],
      "metadata": {
        "id": "-lbZVVni2uXw"
      },
      "execution_count": null,
      "outputs": []
    },
    {
      "cell_type": "code",
      "source": [
        "le_test = LabelEncoder()\n",
        "le_test.fit(target_test)\n",
        "target_num_test = le.transform(target_test)"
      ],
      "metadata": {
        "id": "SnIVLHKd2zAX"
      },
      "execution_count": null,
      "outputs": []
    },
    {
      "cell_type": "code",
      "source": [
        "test_data = TensorDataset(tokenized_feature_test['input_ids'], tokenized_feature_test['attention_mask'], torch.tensor(target_num_test))\n",
        "test_sampler = SequentialSampler(test_data)\n",
        "test_dataloader = DataLoader(test_data, sampler=validation_sampler, batch_size=batch_size)"
      ],
      "metadata": {
        "id": "LA6-rc9i3I8w"
      },
      "execution_count": null,
      "outputs": []
    },
    {
      "cell_type": "code",
      "source": [
        "# Test\n",
        "t0 = time.time()\n",
        "# model in validation mode\n",
        "model.eval()\n",
        "# save prediction\n",
        "predictions,true_labels =[],[]\n",
        "# evaluate data for one epoch\n",
        "for batch in test_dataloader:\n",
        "    # Add batch to GPU\n",
        "    batch = tuple(t.to(device) for t in batch)\n",
        "    # Unpack the inputs from our dataloader\n",
        "    b_input_ids, b_input_mask, b_labels = batch\n",
        "    # validation\n",
        "    with torch.no_grad():\n",
        "        outputs = model(b_input_ids,\n",
        "                        token_type_ids=None,\n",
        "                        attention_mask=b_input_mask)\n",
        "    # get output\n",
        "    logits = outputs[0]\n",
        "    # move logits and labels to CPU\n",
        "    logits = logits.detach().cpu().numpy()\n",
        "    label_ids = b_labels.to('cpu').numpy()\n",
        "    final_prediction = np.argmax(logits, axis=-1).flatten()\n",
        "    predictions.append(final_prediction)\n",
        "    true_labels.append(label_ids)\n",
        "\n",
        "print('total time used is: {0:.2f} s'.format(time.time() - t0))"
      ],
      "metadata": {
        "colab": {
          "base_uri": "https://localhost:8080/"
        },
        "id": "vYswZIvv3o0E",
        "outputId": "abe926f8-37cb-465e-c683-c95cef6831b6"
      },
      "execution_count": null,
      "outputs": [
        {
          "output_type": "stream",
          "name": "stdout",
          "text": [
            "total time used is: 0.73 s\n"
          ]
        }
      ]
    },
    {
      "cell_type": "code",
      "source": [
        "final_prediction_list = le.inverse_transform(np.concatenate(predictions))\n",
        "final_truelabel_list = le.inverse_transform(np.concatenate(true_labels))"
      ],
      "metadata": {
        "id": "D3sATs3R30AZ"
      },
      "execution_count": null,
      "outputs": []
    },
    {
      "cell_type": "code",
      "source": [
        "cr = classification_report(final_truelabel_list,\n",
        "                           final_prediction_list,\n",
        "                           output_dict=False)\n",
        "print(cr)"
      ],
      "metadata": {
        "colab": {
          "base_uri": "https://localhost:8080/"
        },
        "id": "3SxD9ZC230rZ",
        "outputId": "eab9bf01-3699-4ba4-a339-d61ad9409ef4"
      },
      "execution_count": null,
      "outputs": [
        {
          "output_type": "stream",
          "name": "stdout",
          "text": [
            "                                           precision    recall  f1-score   support\n",
            "\n",
            "                                  afirmar       1.00      1.00      1.00         1\n",
            "                                despedida       0.00      0.00      0.00         1\n",
            "                                   estado       1.00      1.00      1.00         1\n",
            "                       motivo_de_consulta       1.00      1.00      1.00         6\n",
            "                                    otros       1.00      1.00      1.00         1\n",
            "       personal_adiccion_alcohol_cantidad       0.00      0.00      0.00         1\n",
            "      personal_adiccion_alcohol_describir       1.00      1.00      1.00         1\n",
            "       personal_adiccion_alcohol_duracion       1.00      1.00      1.00         1\n",
            "     personal_adiccion_alcohol_frecuencia       1.00      1.00      1.00         1\n",
            "          personal_adiccion_alcohol_otros       1.00      1.00      1.00         1\n",
            "        personal_adiccion_alcohol_si_o_no       1.00      1.00      1.00         2\n",
            "         personal_adiccion_fumar_cantidad       0.50      1.00      0.67         1\n",
            "         personal_adiccion_fumar_duracion       1.00      1.00      1.00         1\n",
            "       personal_adiccion_fumar_frecuencia       1.00      1.00      1.00         1\n",
            "           personal_adiccion_fumar_inicio       1.00      1.00      1.00         1\n",
            "          personal_adiccion_fumar_si_o_no       1.00      0.67      0.80         3\n",
            "        personal_adiccion_otros_describir       1.00      1.00      1.00         1\n",
            "          personal_adiccion_otros_si_o_no       1.00      1.00      1.00         1\n",
            "                        personal_contacto       1.00      1.00      1.00         1\n",
            "                 personal_datos_direccion       1.00      1.00      1.00         1\n",
            "                      personal_datos_edad       0.67      1.00      0.80         2\n",
            "       personal_datos_fecha_de_nacimiento       1.00      1.00      1.00         1\n",
            "                    personal_datos_nombre       1.00      1.00      1.00         3\n",
            "                personal_deporte_cantidad       1.00      1.00      1.00         1\n",
            "                  personal_deporte_cuando       1.00      1.00      1.00         1\n",
            "               personal_deporte_describir       1.00      1.00      1.00         1\n",
            "              personal_deporte_frecuencia       1.00      1.00      1.00         1\n",
            "                 personal_deporte_si_o_no       1.00      1.00      1.00         1\n",
            "                  personal_dieta_cantidad       0.00      0.00      0.00         1\n",
            "                    personal_dieta_cuando       1.00      1.00      1.00         1\n",
            "                 personal_dieta_describir       0.33      1.00      0.50         1\n",
            "                  personal_dieta_duracion       1.00      1.00      1.00         1\n",
            "                personal_dieta_frecuencia       1.00      1.00      1.00         1\n",
            "                     personal_dieta_otros       1.00      1.00      1.00         1\n",
            "                   personal_dieta_si_o_no       1.00      1.00      1.00         3\n",
            "               personal_entorno_describir       1.00      1.00      1.00         1\n",
            "              personal_entorno_hijos_edad       0.00      0.00      0.00         1\n",
            "            personal_entorno_hijos_nombre       1.00      1.00      1.00         1\n",
            "             personal_entorno_hijos_otros       1.00      1.00      1.00         1\n",
            "           personal_entorno_hijos_si_o_no       1.00      0.50      0.67         2\n",
            "         personal_entorno_mascota_si_o_no       1.00      1.00      1.00         1\n",
            "         personal_entorno_otros_describir       1.00      1.00      1.00         1\n",
            "           personal_entorno_otros_si_o_no       1.00      1.00      1.00         1\n",
            "          personal_entorno_padres_si_o_no       1.00      1.00      1.00         1\n",
            "           personal_entorno_pareja_nombre       1.00      1.00      1.00         1\n",
            "          personal_entorno_pareja_si_o_no       1.00      1.00      1.00         1\n",
            "                   personal_fisico_altura       1.00      1.00      1.00         2\n",
            "              personal_fisico_peso_cambio       1.00      1.00      1.00         1\n",
            "            personal_fisico_peso_duracion       1.00      1.00      1.00         1\n",
            "                personal_fisico_peso_peso       1.00      1.00      1.00         2\n",
            "                 personal_otros_describir       1.00      1.00      1.00         1\n",
            "                   personal_otros_si_o_no       1.00      1.00      1.00         1\n",
            "                 personal_sueño_describir       1.00      1.00      1.00         1\n",
            "                     personal_sueño_horas       1.00      1.00      1.00         1\n",
            "                   personal_sueño_si_o_no       1.00      1.00      1.00         1\n",
            "                personal_trabajo_anterior       1.00      1.00      1.00         1\n",
            "               personal_trabajo_describir       1.00      1.00      1.00         1\n",
            "                personal_trabajo_duracion       1.00      1.00      1.00         1\n",
            "                   personal_trabajo_horas       1.00      1.00      1.00         1\n",
            "                   personal_trabajo_lugar       1.00      1.00      1.00         1\n",
            "                   personal_trabajo_otros       1.00      1.00      1.00         1\n",
            "                 personal_trabajo_si_o_no       1.00      1.00      1.00         1\n",
            "                personal_viajes_describir       1.00      1.00      1.00         1\n",
            "                    personal_viajes_otros       1.00      1.00      1.00         1\n",
            "                  personal_viajes_si_o_no       1.00      1.00      1.00         1\n",
            "                              psiquiatria       0.00      0.00      0.00         4\n",
            "    psiquiatria_estado de animo_describir       0.00      0.00      0.00         1\n",
            "      psiquiatria_estado de animo_si_o_no       0.00      0.00      0.00         1\n",
            "                                   saludo       0.75      1.00      0.86         3\n",
            "                        sintoma_bebe_peso       1.00      1.00      1.00         1\n",
            "                     sintoma_bebe_si_o_no       1.00      1.00      1.00         1\n",
            "                  sintoma_entorno_si_o_no       0.67      1.00      0.80         2\n",
            "                sintoma_familia_describir       1.00      1.00      1.00         1\n",
            "                   sintoma_familia_inicio       1.00      1.00      1.00         1\n",
            "                  sintoma_familia_si_o_no       1.00      1.00      1.00         3\n",
            "       sintoma_paciente_alergia_describir       1.00      1.00      1.00         2\n",
            "         sintoma_paciente_alergia_si_o_no       1.00      1.00      1.00         1\n",
            "  sintoma_paciente_antecedentes_describir       0.50      1.00      0.67         1\n",
            "    sintoma_paciente_antecedentes_si_o_no       1.00      0.50      0.67         4\n",
            "     sintoma_paciente_aparicion_describir       0.67      0.67      0.67         3\n",
            "       sintoma_paciente_aparicion_si_o_no       0.70      0.58      0.64        12\n",
            "        sintoma_paciente_cambio_describir       1.00      0.50      0.67         2\n",
            "          sintoma_paciente_cambio_si_o_no       0.75      0.86      0.80         7\n",
            "     sintoma_paciente_capacidad_describir       1.00      1.00      1.00         1\n",
            "       sintoma_paciente_capacidad_si_o_no       1.00      0.75      0.86         4\n",
            "         sintoma_paciente_causa_describir       1.00      1.00      1.00         3\n",
            "           sintoma_paciente_causa_si_o_no       0.67      0.67      0.67         3\n",
            "               sintoma_paciente_describir       0.71      0.79      0.75        19\n",
            "                sintoma_paciente_duracion       1.00      1.00      1.00         2\n",
            "   sintoma_paciente_embarazo_antecedentes       1.00      1.00      1.00         1\n",
            "       sintoma_paciente_embarazo_cantidad       0.50      1.00      0.67         1\n",
            "      sintoma_paciente_embarazo_describir       1.00      1.00      1.00         1\n",
            "            sintoma_paciente_embarazo_fin       1.00      1.00      1.00         1\n",
            "        sintoma_paciente_fiebre_describir       1.00      1.00      1.00         1\n",
            "          sintoma_paciente_fiebre_si_o_no       1.00      1.00      1.00         1\n",
            "              sintoma_paciente_frecuencia       1.00      1.00      1.00         1\n",
            "                  sintoma_paciente_inicio       1.00      1.00      1.00         4\n",
            "  sintoma_paciente_localizacion_describir       0.60      1.00      0.75         3\n",
            "    sintoma_paciente_localizacion_si_o_no       1.00      0.75      0.86         4\n",
            "       sintoma_paciente_secuela_describir       1.00      1.00      1.00         1\n",
            "         sintoma_paciente_secuela_si_o_no       1.00      1.00      1.00         2\n",
            "   sintoma_paciente_seguimiento_describir       0.00      0.00      0.00         1\n",
            "     sintoma_paciente_seguimiento_si_o_no       1.00      1.00      1.00         1\n",
            "                 sintoma_paciente_si_o_no       0.83      0.88      0.85        66\n",
            "    tratamiento_anticonceptivos_describir       1.00      1.00      1.00         1\n",
            "   tratamiento_anticonceptivos_frecuencia       1.00      1.00      1.00         1\n",
            "      tratamiento_anticonceptivos_si_o_no       0.50      1.00      0.67         1\n",
            "           tratamiento_consulta_describir       1.00      1.00      1.00         1\n",
            "tratamiento_consulta_especialista_si_o_no       0.50      1.00      0.67         1\n",
            "               tratamiento_consulta_fecha       1.00      1.00      1.00         1\n",
            "             tratamiento_consulta_si_o_no       0.00      0.00      0.00         1\n",
            "             tratamiento_diagnostico_como       1.00      1.00      1.00         1\n",
            "            tratamiento_diagnostico_fecha       1.00      1.00      1.00         1\n",
            "            tratamiento_diagnostico_quien       1.00      1.00      1.00         1\n",
            "          tratamiento_diagnostico_si_o_no       1.00      1.00      1.00         1\n",
            "          tratamiento_historial_describir       1.00      1.00      1.00         1\n",
            "            tratamiento_historial_si_o_no       1.00      1.00      1.00         1\n",
            "      tratamiento_medicacion_antecedentes       1.00      1.00      1.00         1\n",
            "            tratamiento_medicacion_cuando       1.00      1.00      1.00         1\n",
            "         tratamiento_medicacion_describir       1.00      1.00      1.00         3\n",
            "             tratamiento_medicacion_dosis       1.00      1.00      1.00         1\n",
            "          tratamiento_medicacion_duracion       1.00      1.00      1.00         1\n",
            "        tratamiento_medicacion_frecuencia       1.00      1.00      1.00         1\n",
            "            tratamiento_medicacion_motivo       1.00      1.00      1.00         1\n",
            "             tratamiento_medicacion_otros       1.00      1.00      1.00         1\n",
            "            tratamiento_medicacion_receta       1.00      1.00      1.00         1\n",
            "           tratamiento_medicacion_si_o_no       1.00      0.67      0.80         3\n",
            "     tratamiento_operacion_complicaciones       1.00      1.00      1.00         1\n",
            "          tratamiento_operacion_describir       1.00      1.00      1.00         5\n",
            "              tratamiento_operacion_dosis       1.00      1.00      1.00         1\n",
            "       tratamiento_operacion_especialista       1.00      1.00      1.00         1\n",
            "              tratamiento_operacion_fecha       1.00      1.00      1.00         1\n",
            "         tratamiento_operacion_frecuencia       1.00      1.00      1.00         1\n",
            "             tratamiento_operacion_motivo       1.00      1.00      1.00         1\n",
            "         tratamiento_operacion_resultados       1.00      1.00      1.00         3\n",
            "            tratamiento_operacion_si_o_no       0.78      0.88      0.82         8\n",
            "                    vida_sexual_describir       1.00      1.00      1.00         1\n",
            "                         vida_sexual_edad       1.00      1.00      1.00         1\n",
            "                   vida_sexual_frecuencia       1.00      1.00      1.00         1\n",
            "                        vida_sexual_otros       0.00      0.00      0.00         1\n",
            "                      vida_sexual_si_o_no       1.00      1.00      1.00         1\n",
            "\n",
            "                                 accuracy                           0.86       306\n",
            "                                macro avg       0.88      0.90      0.88       306\n",
            "                             weighted avg       0.85      0.86      0.85       306\n",
            "\n"
          ]
        },
        {
          "output_type": "stream",
          "name": "stderr",
          "text": [
            "/usr/local/lib/python3.9/dist-packages/sklearn/metrics/_classification.py:1344: UndefinedMetricWarning: Precision and F-score are ill-defined and being set to 0.0 in labels with no predicted samples. Use `zero_division` parameter to control this behavior.\n",
            "  _warn_prf(average, modifier, msg_start, len(result))\n",
            "/usr/local/lib/python3.9/dist-packages/sklearn/metrics/_classification.py:1344: UndefinedMetricWarning: Precision and F-score are ill-defined and being set to 0.0 in labels with no predicted samples. Use `zero_division` parameter to control this behavior.\n",
            "  _warn_prf(average, modifier, msg_start, len(result))\n",
            "/usr/local/lib/python3.9/dist-packages/sklearn/metrics/_classification.py:1344: UndefinedMetricWarning: Precision and F-score are ill-defined and being set to 0.0 in labels with no predicted samples. Use `zero_division` parameter to control this behavior.\n",
            "  _warn_prf(average, modifier, msg_start, len(result))\n"
          ]
        }
      ]
    }
  ],
  "metadata": {
    "accelerator": "GPU",
    "colab": {
      "provenance": []
    },
    "gpuClass": "standard",
    "kernelspec": {
      "display_name": "Python 3",
      "name": "python3"
    },
    "language_info": {
      "name": "python"
    },
    "widgets": {
      "application/vnd.jupyter.widget-state+json": {
        "248212f00b544825836aecd2df4c7801": {
          "model_module": "@jupyter-widgets/controls",
          "model_name": "HBoxModel",
          "model_module_version": "1.5.0",
          "state": {
            "_dom_classes": [],
            "_model_module": "@jupyter-widgets/controls",
            "_model_module_version": "1.5.0",
            "_model_name": "HBoxModel",
            "_view_count": null,
            "_view_module": "@jupyter-widgets/controls",
            "_view_module_version": "1.5.0",
            "_view_name": "HBoxView",
            "box_style": "",
            "children": [
              "IPY_MODEL_cc54dac72a5e452fb40d1fc2868f07ca",
              "IPY_MODEL_0645ba2a42ba44909f125beff79aa14b",
              "IPY_MODEL_93f08bd14434400484083b50c66d3ea2"
            ],
            "layout": "IPY_MODEL_37c61dff2e6b4151beb997206f19cfa2"
          }
        },
        "cc54dac72a5e452fb40d1fc2868f07ca": {
          "model_module": "@jupyter-widgets/controls",
          "model_name": "HTMLModel",
          "model_module_version": "1.5.0",
          "state": {
            "_dom_classes": [],
            "_model_module": "@jupyter-widgets/controls",
            "_model_module_version": "1.5.0",
            "_model_name": "HTMLModel",
            "_view_count": null,
            "_view_module": "@jupyter-widgets/controls",
            "_view_module_version": "1.5.0",
            "_view_name": "HTMLView",
            "description": "",
            "description_tooltip": null,
            "layout": "IPY_MODEL_a3aa53ed787144669842babdc4ef5d96",
            "placeholder": "​",
            "style": "IPY_MODEL_738c853411334277af0e89460c4fce24",
            "value": "Downloading: 100%"
          }
        },
        "0645ba2a42ba44909f125beff79aa14b": {
          "model_module": "@jupyter-widgets/controls",
          "model_name": "FloatProgressModel",
          "model_module_version": "1.5.0",
          "state": {
            "_dom_classes": [],
            "_model_module": "@jupyter-widgets/controls",
            "_model_module_version": "1.5.0",
            "_model_name": "FloatProgressModel",
            "_view_count": null,
            "_view_module": "@jupyter-widgets/controls",
            "_view_module_version": "1.5.0",
            "_view_name": "ProgressView",
            "bar_style": "success",
            "description": "",
            "description_tooltip": null,
            "layout": "IPY_MODEL_c4a32a6e1bac471bb6df8eb5f7770f7d",
            "max": 1251,
            "min": 0,
            "orientation": "horizontal",
            "style": "IPY_MODEL_934f4874c78443f0bcda86cc9568bf53",
            "value": 1251
          }
        },
        "93f08bd14434400484083b50c66d3ea2": {
          "model_module": "@jupyter-widgets/controls",
          "model_name": "HTMLModel",
          "model_module_version": "1.5.0",
          "state": {
            "_dom_classes": [],
            "_model_module": "@jupyter-widgets/controls",
            "_model_module_version": "1.5.0",
            "_model_name": "HTMLModel",
            "_view_count": null,
            "_view_module": "@jupyter-widgets/controls",
            "_view_module_version": "1.5.0",
            "_view_name": "HTMLView",
            "description": "",
            "description_tooltip": null,
            "layout": "IPY_MODEL_aaebf7dafd6d4cfca924d2f2697fe374",
            "placeholder": "​",
            "style": "IPY_MODEL_15404ce7f7f546009a8cc1cf571e1196",
            "value": " 1.22k/1.22k [00:00&lt;00:00, 63.6kB/s]"
          }
        },
        "37c61dff2e6b4151beb997206f19cfa2": {
          "model_module": "@jupyter-widgets/base",
          "model_name": "LayoutModel",
          "model_module_version": "1.2.0",
          "state": {
            "_model_module": "@jupyter-widgets/base",
            "_model_module_version": "1.2.0",
            "_model_name": "LayoutModel",
            "_view_count": null,
            "_view_module": "@jupyter-widgets/base",
            "_view_module_version": "1.2.0",
            "_view_name": "LayoutView",
            "align_content": null,
            "align_items": null,
            "align_self": null,
            "border": null,
            "bottom": null,
            "display": null,
            "flex": null,
            "flex_flow": null,
            "grid_area": null,
            "grid_auto_columns": null,
            "grid_auto_flow": null,
            "grid_auto_rows": null,
            "grid_column": null,
            "grid_gap": null,
            "grid_row": null,
            "grid_template_areas": null,
            "grid_template_columns": null,
            "grid_template_rows": null,
            "height": null,
            "justify_content": null,
            "justify_items": null,
            "left": null,
            "margin": null,
            "max_height": null,
            "max_width": null,
            "min_height": null,
            "min_width": null,
            "object_fit": null,
            "object_position": null,
            "order": null,
            "overflow": null,
            "overflow_x": null,
            "overflow_y": null,
            "padding": null,
            "right": null,
            "top": null,
            "visibility": null,
            "width": null
          }
        },
        "a3aa53ed787144669842babdc4ef5d96": {
          "model_module": "@jupyter-widgets/base",
          "model_name": "LayoutModel",
          "model_module_version": "1.2.0",
          "state": {
            "_model_module": "@jupyter-widgets/base",
            "_model_module_version": "1.2.0",
            "_model_name": "LayoutModel",
            "_view_count": null,
            "_view_module": "@jupyter-widgets/base",
            "_view_module_version": "1.2.0",
            "_view_name": "LayoutView",
            "align_content": null,
            "align_items": null,
            "align_self": null,
            "border": null,
            "bottom": null,
            "display": null,
            "flex": null,
            "flex_flow": null,
            "grid_area": null,
            "grid_auto_columns": null,
            "grid_auto_flow": null,
            "grid_auto_rows": null,
            "grid_column": null,
            "grid_gap": null,
            "grid_row": null,
            "grid_template_areas": null,
            "grid_template_columns": null,
            "grid_template_rows": null,
            "height": null,
            "justify_content": null,
            "justify_items": null,
            "left": null,
            "margin": null,
            "max_height": null,
            "max_width": null,
            "min_height": null,
            "min_width": null,
            "object_fit": null,
            "object_position": null,
            "order": null,
            "overflow": null,
            "overflow_x": null,
            "overflow_y": null,
            "padding": null,
            "right": null,
            "top": null,
            "visibility": null,
            "width": null
          }
        },
        "738c853411334277af0e89460c4fce24": {
          "model_module": "@jupyter-widgets/controls",
          "model_name": "DescriptionStyleModel",
          "model_module_version": "1.5.0",
          "state": {
            "_model_module": "@jupyter-widgets/controls",
            "_model_module_version": "1.5.0",
            "_model_name": "DescriptionStyleModel",
            "_view_count": null,
            "_view_module": "@jupyter-widgets/base",
            "_view_module_version": "1.2.0",
            "_view_name": "StyleView",
            "description_width": ""
          }
        },
        "c4a32a6e1bac471bb6df8eb5f7770f7d": {
          "model_module": "@jupyter-widgets/base",
          "model_name": "LayoutModel",
          "model_module_version": "1.2.0",
          "state": {
            "_model_module": "@jupyter-widgets/base",
            "_model_module_version": "1.2.0",
            "_model_name": "LayoutModel",
            "_view_count": null,
            "_view_module": "@jupyter-widgets/base",
            "_view_module_version": "1.2.0",
            "_view_name": "LayoutView",
            "align_content": null,
            "align_items": null,
            "align_self": null,
            "border": null,
            "bottom": null,
            "display": null,
            "flex": null,
            "flex_flow": null,
            "grid_area": null,
            "grid_auto_columns": null,
            "grid_auto_flow": null,
            "grid_auto_rows": null,
            "grid_column": null,
            "grid_gap": null,
            "grid_row": null,
            "grid_template_areas": null,
            "grid_template_columns": null,
            "grid_template_rows": null,
            "height": null,
            "justify_content": null,
            "justify_items": null,
            "left": null,
            "margin": null,
            "max_height": null,
            "max_width": null,
            "min_height": null,
            "min_width": null,
            "object_fit": null,
            "object_position": null,
            "order": null,
            "overflow": null,
            "overflow_x": null,
            "overflow_y": null,
            "padding": null,
            "right": null,
            "top": null,
            "visibility": null,
            "width": null
          }
        },
        "934f4874c78443f0bcda86cc9568bf53": {
          "model_module": "@jupyter-widgets/controls",
          "model_name": "ProgressStyleModel",
          "model_module_version": "1.5.0",
          "state": {
            "_model_module": "@jupyter-widgets/controls",
            "_model_module_version": "1.5.0",
            "_model_name": "ProgressStyleModel",
            "_view_count": null,
            "_view_module": "@jupyter-widgets/base",
            "_view_module_version": "1.2.0",
            "_view_name": "StyleView",
            "bar_color": null,
            "description_width": ""
          }
        },
        "aaebf7dafd6d4cfca924d2f2697fe374": {
          "model_module": "@jupyter-widgets/base",
          "model_name": "LayoutModel",
          "model_module_version": "1.2.0",
          "state": {
            "_model_module": "@jupyter-widgets/base",
            "_model_module_version": "1.2.0",
            "_model_name": "LayoutModel",
            "_view_count": null,
            "_view_module": "@jupyter-widgets/base",
            "_view_module_version": "1.2.0",
            "_view_name": "LayoutView",
            "align_content": null,
            "align_items": null,
            "align_self": null,
            "border": null,
            "bottom": null,
            "display": null,
            "flex": null,
            "flex_flow": null,
            "grid_area": null,
            "grid_auto_columns": null,
            "grid_auto_flow": null,
            "grid_auto_rows": null,
            "grid_column": null,
            "grid_gap": null,
            "grid_row": null,
            "grid_template_areas": null,
            "grid_template_columns": null,
            "grid_template_rows": null,
            "height": null,
            "justify_content": null,
            "justify_items": null,
            "left": null,
            "margin": null,
            "max_height": null,
            "max_width": null,
            "min_height": null,
            "min_width": null,
            "object_fit": null,
            "object_position": null,
            "order": null,
            "overflow": null,
            "overflow_x": null,
            "overflow_y": null,
            "padding": null,
            "right": null,
            "top": null,
            "visibility": null,
            "width": null
          }
        },
        "15404ce7f7f546009a8cc1cf571e1196": {
          "model_module": "@jupyter-widgets/controls",
          "model_name": "DescriptionStyleModel",
          "model_module_version": "1.5.0",
          "state": {
            "_model_module": "@jupyter-widgets/controls",
            "_model_module_version": "1.5.0",
            "_model_name": "DescriptionStyleModel",
            "_view_count": null,
            "_view_module": "@jupyter-widgets/base",
            "_view_module_version": "1.2.0",
            "_view_name": "StyleView",
            "description_width": ""
          }
        },
        "f31875c9e1ee4213b746ef6b83206569": {
          "model_module": "@jupyter-widgets/controls",
          "model_name": "HBoxModel",
          "model_module_version": "1.5.0",
          "state": {
            "_dom_classes": [],
            "_model_module": "@jupyter-widgets/controls",
            "_model_module_version": "1.5.0",
            "_model_name": "HBoxModel",
            "_view_count": null,
            "_view_module": "@jupyter-widgets/controls",
            "_view_module_version": "1.5.0",
            "_view_name": "HBoxView",
            "box_style": "",
            "children": [
              "IPY_MODEL_469e2228c65a49f9be9c377471bd3b92",
              "IPY_MODEL_9f61884db57f4170908b11a58ac3695b",
              "IPY_MODEL_7c03a56d06814f5c9e870f45220c22a5"
            ],
            "layout": "IPY_MODEL_77ce8c1847c843d29dbcaec9eaf7a128"
          }
        },
        "469e2228c65a49f9be9c377471bd3b92": {
          "model_module": "@jupyter-widgets/controls",
          "model_name": "HTMLModel",
          "model_module_version": "1.5.0",
          "state": {
            "_dom_classes": [],
            "_model_module": "@jupyter-widgets/controls",
            "_model_module_version": "1.5.0",
            "_model_name": "HTMLModel",
            "_view_count": null,
            "_view_module": "@jupyter-widgets/controls",
            "_view_module_version": "1.5.0",
            "_view_name": "HTMLView",
            "description": "",
            "description_tooltip": null,
            "layout": "IPY_MODEL_81c1d27b985d40bb8af82de0235bbdfe",
            "placeholder": "​",
            "style": "IPY_MODEL_522e865cb70544c28201bdb2401c7194",
            "value": "Downloading: 100%"
          }
        },
        "9f61884db57f4170908b11a58ac3695b": {
          "model_module": "@jupyter-widgets/controls",
          "model_name": "FloatProgressModel",
          "model_module_version": "1.5.0",
          "state": {
            "_dom_classes": [],
            "_model_module": "@jupyter-widgets/controls",
            "_model_module_version": "1.5.0",
            "_model_name": "FloatProgressModel",
            "_view_count": null,
            "_view_module": "@jupyter-widgets/controls",
            "_view_module_version": "1.5.0",
            "_view_name": "ProgressView",
            "bar_style": "success",
            "description": "",
            "description_tooltip": null,
            "layout": "IPY_MODEL_30ea9d6c2b6a44c996e2346285f2d190",
            "max": 613,
            "min": 0,
            "orientation": "horizontal",
            "style": "IPY_MODEL_85bd2132f38b4fc0b09feb43de818573",
            "value": 613
          }
        },
        "7c03a56d06814f5c9e870f45220c22a5": {
          "model_module": "@jupyter-widgets/controls",
          "model_name": "HTMLModel",
          "model_module_version": "1.5.0",
          "state": {
            "_dom_classes": [],
            "_model_module": "@jupyter-widgets/controls",
            "_model_module_version": "1.5.0",
            "_model_name": "HTMLModel",
            "_view_count": null,
            "_view_module": "@jupyter-widgets/controls",
            "_view_module_version": "1.5.0",
            "_view_name": "HTMLView",
            "description": "",
            "description_tooltip": null,
            "layout": "IPY_MODEL_af0db34503f54671ab8b9e834d936f60",
            "placeholder": "​",
            "style": "IPY_MODEL_5edc0308d2c547279278491a72c47309",
            "value": " 613/613 [00:00&lt;00:00, 23.5kB/s]"
          }
        },
        "77ce8c1847c843d29dbcaec9eaf7a128": {
          "model_module": "@jupyter-widgets/base",
          "model_name": "LayoutModel",
          "model_module_version": "1.2.0",
          "state": {
            "_model_module": "@jupyter-widgets/base",
            "_model_module_version": "1.2.0",
            "_model_name": "LayoutModel",
            "_view_count": null,
            "_view_module": "@jupyter-widgets/base",
            "_view_module_version": "1.2.0",
            "_view_name": "LayoutView",
            "align_content": null,
            "align_items": null,
            "align_self": null,
            "border": null,
            "bottom": null,
            "display": null,
            "flex": null,
            "flex_flow": null,
            "grid_area": null,
            "grid_auto_columns": null,
            "grid_auto_flow": null,
            "grid_auto_rows": null,
            "grid_column": null,
            "grid_gap": null,
            "grid_row": null,
            "grid_template_areas": null,
            "grid_template_columns": null,
            "grid_template_rows": null,
            "height": null,
            "justify_content": null,
            "justify_items": null,
            "left": null,
            "margin": null,
            "max_height": null,
            "max_width": null,
            "min_height": null,
            "min_width": null,
            "object_fit": null,
            "object_position": null,
            "order": null,
            "overflow": null,
            "overflow_x": null,
            "overflow_y": null,
            "padding": null,
            "right": null,
            "top": null,
            "visibility": null,
            "width": null
          }
        },
        "81c1d27b985d40bb8af82de0235bbdfe": {
          "model_module": "@jupyter-widgets/base",
          "model_name": "LayoutModel",
          "model_module_version": "1.2.0",
          "state": {
            "_model_module": "@jupyter-widgets/base",
            "_model_module_version": "1.2.0",
            "_model_name": "LayoutModel",
            "_view_count": null,
            "_view_module": "@jupyter-widgets/base",
            "_view_module_version": "1.2.0",
            "_view_name": "LayoutView",
            "align_content": null,
            "align_items": null,
            "align_self": null,
            "border": null,
            "bottom": null,
            "display": null,
            "flex": null,
            "flex_flow": null,
            "grid_area": null,
            "grid_auto_columns": null,
            "grid_auto_flow": null,
            "grid_auto_rows": null,
            "grid_column": null,
            "grid_gap": null,
            "grid_row": null,
            "grid_template_areas": null,
            "grid_template_columns": null,
            "grid_template_rows": null,
            "height": null,
            "justify_content": null,
            "justify_items": null,
            "left": null,
            "margin": null,
            "max_height": null,
            "max_width": null,
            "min_height": null,
            "min_width": null,
            "object_fit": null,
            "object_position": null,
            "order": null,
            "overflow": null,
            "overflow_x": null,
            "overflow_y": null,
            "padding": null,
            "right": null,
            "top": null,
            "visibility": null,
            "width": null
          }
        },
        "522e865cb70544c28201bdb2401c7194": {
          "model_module": "@jupyter-widgets/controls",
          "model_name": "DescriptionStyleModel",
          "model_module_version": "1.5.0",
          "state": {
            "_model_module": "@jupyter-widgets/controls",
            "_model_module_version": "1.5.0",
            "_model_name": "DescriptionStyleModel",
            "_view_count": null,
            "_view_module": "@jupyter-widgets/base",
            "_view_module_version": "1.2.0",
            "_view_name": "StyleView",
            "description_width": ""
          }
        },
        "30ea9d6c2b6a44c996e2346285f2d190": {
          "model_module": "@jupyter-widgets/base",
          "model_name": "LayoutModel",
          "model_module_version": "1.2.0",
          "state": {
            "_model_module": "@jupyter-widgets/base",
            "_model_module_version": "1.2.0",
            "_model_name": "LayoutModel",
            "_view_count": null,
            "_view_module": "@jupyter-widgets/base",
            "_view_module_version": "1.2.0",
            "_view_name": "LayoutView",
            "align_content": null,
            "align_items": null,
            "align_self": null,
            "border": null,
            "bottom": null,
            "display": null,
            "flex": null,
            "flex_flow": null,
            "grid_area": null,
            "grid_auto_columns": null,
            "grid_auto_flow": null,
            "grid_auto_rows": null,
            "grid_column": null,
            "grid_gap": null,
            "grid_row": null,
            "grid_template_areas": null,
            "grid_template_columns": null,
            "grid_template_rows": null,
            "height": null,
            "justify_content": null,
            "justify_items": null,
            "left": null,
            "margin": null,
            "max_height": null,
            "max_width": null,
            "min_height": null,
            "min_width": null,
            "object_fit": null,
            "object_position": null,
            "order": null,
            "overflow": null,
            "overflow_x": null,
            "overflow_y": null,
            "padding": null,
            "right": null,
            "top": null,
            "visibility": null,
            "width": null
          }
        },
        "85bd2132f38b4fc0b09feb43de818573": {
          "model_module": "@jupyter-widgets/controls",
          "model_name": "ProgressStyleModel",
          "model_module_version": "1.5.0",
          "state": {
            "_model_module": "@jupyter-widgets/controls",
            "_model_module_version": "1.5.0",
            "_model_name": "ProgressStyleModel",
            "_view_count": null,
            "_view_module": "@jupyter-widgets/base",
            "_view_module_version": "1.2.0",
            "_view_name": "StyleView",
            "bar_color": null,
            "description_width": ""
          }
        },
        "af0db34503f54671ab8b9e834d936f60": {
          "model_module": "@jupyter-widgets/base",
          "model_name": "LayoutModel",
          "model_module_version": "1.2.0",
          "state": {
            "_model_module": "@jupyter-widgets/base",
            "_model_module_version": "1.2.0",
            "_model_name": "LayoutModel",
            "_view_count": null,
            "_view_module": "@jupyter-widgets/base",
            "_view_module_version": "1.2.0",
            "_view_name": "LayoutView",
            "align_content": null,
            "align_items": null,
            "align_self": null,
            "border": null,
            "bottom": null,
            "display": null,
            "flex": null,
            "flex_flow": null,
            "grid_area": null,
            "grid_auto_columns": null,
            "grid_auto_flow": null,
            "grid_auto_rows": null,
            "grid_column": null,
            "grid_gap": null,
            "grid_row": null,
            "grid_template_areas": null,
            "grid_template_columns": null,
            "grid_template_rows": null,
            "height": null,
            "justify_content": null,
            "justify_items": null,
            "left": null,
            "margin": null,
            "max_height": null,
            "max_width": null,
            "min_height": null,
            "min_width": null,
            "object_fit": null,
            "object_position": null,
            "order": null,
            "overflow": null,
            "overflow_x": null,
            "overflow_y": null,
            "padding": null,
            "right": null,
            "top": null,
            "visibility": null,
            "width": null
          }
        },
        "5edc0308d2c547279278491a72c47309": {
          "model_module": "@jupyter-widgets/controls",
          "model_name": "DescriptionStyleModel",
          "model_module_version": "1.5.0",
          "state": {
            "_model_module": "@jupyter-widgets/controls",
            "_model_module_version": "1.5.0",
            "_model_name": "DescriptionStyleModel",
            "_view_count": null,
            "_view_module": "@jupyter-widgets/base",
            "_view_module_version": "1.2.0",
            "_view_name": "StyleView",
            "description_width": ""
          }
        },
        "7afd1b75983f441ab82623fcd914dd33": {
          "model_module": "@jupyter-widgets/controls",
          "model_name": "HBoxModel",
          "model_module_version": "1.5.0",
          "state": {
            "_dom_classes": [],
            "_model_module": "@jupyter-widgets/controls",
            "_model_module_version": "1.5.0",
            "_model_name": "HBoxModel",
            "_view_count": null,
            "_view_module": "@jupyter-widgets/controls",
            "_view_module_version": "1.5.0",
            "_view_name": "HBoxView",
            "box_style": "",
            "children": [
              "IPY_MODEL_42838aa3e4a445f199efdb62958719a2",
              "IPY_MODEL_f6804d92518b4191875a3c6f57c5aa4c",
              "IPY_MODEL_0ac98c58429948008b0706ebe9a7f1b2"
            ],
            "layout": "IPY_MODEL_e60c0271040c4788a37c561ee8f041f7"
          }
        },
        "42838aa3e4a445f199efdb62958719a2": {
          "model_module": "@jupyter-widgets/controls",
          "model_name": "HTMLModel",
          "model_module_version": "1.5.0",
          "state": {
            "_dom_classes": [],
            "_model_module": "@jupyter-widgets/controls",
            "_model_module_version": "1.5.0",
            "_model_name": "HTMLModel",
            "_view_count": null,
            "_view_module": "@jupyter-widgets/controls",
            "_view_module_version": "1.5.0",
            "_view_name": "HTMLView",
            "description": "",
            "description_tooltip": null,
            "layout": "IPY_MODEL_4a816f4388924c9eaa8fe86888ccbcf8",
            "placeholder": "​",
            "style": "IPY_MODEL_e03ff2ceb4054cd99d48ead432d961fb",
            "value": "Downloading: 100%"
          }
        },
        "f6804d92518b4191875a3c6f57c5aa4c": {
          "model_module": "@jupyter-widgets/controls",
          "model_name": "FloatProgressModel",
          "model_module_version": "1.5.0",
          "state": {
            "_dom_classes": [],
            "_model_module": "@jupyter-widgets/controls",
            "_model_module_version": "1.5.0",
            "_model_name": "FloatProgressModel",
            "_view_count": null,
            "_view_module": "@jupyter-widgets/controls",
            "_view_module_version": "1.5.0",
            "_view_name": "ProgressView",
            "bar_style": "success",
            "description": "",
            "description_tooltip": null,
            "layout": "IPY_MODEL_fee2fb30325345c48c30d0f720e5b1ed",
            "max": 1174940,
            "min": 0,
            "orientation": "horizontal",
            "style": "IPY_MODEL_8a6b307cd012474bb815d1e056c186bd",
            "value": 1174940
          }
        },
        "0ac98c58429948008b0706ebe9a7f1b2": {
          "model_module": "@jupyter-widgets/controls",
          "model_name": "HTMLModel",
          "model_module_version": "1.5.0",
          "state": {
            "_dom_classes": [],
            "_model_module": "@jupyter-widgets/controls",
            "_model_module_version": "1.5.0",
            "_model_name": "HTMLModel",
            "_view_count": null,
            "_view_module": "@jupyter-widgets/controls",
            "_view_module_version": "1.5.0",
            "_view_name": "HTMLView",
            "description": "",
            "description_tooltip": null,
            "layout": "IPY_MODEL_69df3ac3bc43458a8d3288507bb22ff4",
            "placeholder": "​",
            "style": "IPY_MODEL_dda6db07ef5943bea7fbef8f12a65400",
            "value": " 1.12M/1.12M [00:00&lt;00:00, 2.34MB/s]"
          }
        },
        "e60c0271040c4788a37c561ee8f041f7": {
          "model_module": "@jupyter-widgets/base",
          "model_name": "LayoutModel",
          "model_module_version": "1.2.0",
          "state": {
            "_model_module": "@jupyter-widgets/base",
            "_model_module_version": "1.2.0",
            "_model_name": "LayoutModel",
            "_view_count": null,
            "_view_module": "@jupyter-widgets/base",
            "_view_module_version": "1.2.0",
            "_view_name": "LayoutView",
            "align_content": null,
            "align_items": null,
            "align_self": null,
            "border": null,
            "bottom": null,
            "display": null,
            "flex": null,
            "flex_flow": null,
            "grid_area": null,
            "grid_auto_columns": null,
            "grid_auto_flow": null,
            "grid_auto_rows": null,
            "grid_column": null,
            "grid_gap": null,
            "grid_row": null,
            "grid_template_areas": null,
            "grid_template_columns": null,
            "grid_template_rows": null,
            "height": null,
            "justify_content": null,
            "justify_items": null,
            "left": null,
            "margin": null,
            "max_height": null,
            "max_width": null,
            "min_height": null,
            "min_width": null,
            "object_fit": null,
            "object_position": null,
            "order": null,
            "overflow": null,
            "overflow_x": null,
            "overflow_y": null,
            "padding": null,
            "right": null,
            "top": null,
            "visibility": null,
            "width": null
          }
        },
        "4a816f4388924c9eaa8fe86888ccbcf8": {
          "model_module": "@jupyter-widgets/base",
          "model_name": "LayoutModel",
          "model_module_version": "1.2.0",
          "state": {
            "_model_module": "@jupyter-widgets/base",
            "_model_module_version": "1.2.0",
            "_model_name": "LayoutModel",
            "_view_count": null,
            "_view_module": "@jupyter-widgets/base",
            "_view_module_version": "1.2.0",
            "_view_name": "LayoutView",
            "align_content": null,
            "align_items": null,
            "align_self": null,
            "border": null,
            "bottom": null,
            "display": null,
            "flex": null,
            "flex_flow": null,
            "grid_area": null,
            "grid_auto_columns": null,
            "grid_auto_flow": null,
            "grid_auto_rows": null,
            "grid_column": null,
            "grid_gap": null,
            "grid_row": null,
            "grid_template_areas": null,
            "grid_template_columns": null,
            "grid_template_rows": null,
            "height": null,
            "justify_content": null,
            "justify_items": null,
            "left": null,
            "margin": null,
            "max_height": null,
            "max_width": null,
            "min_height": null,
            "min_width": null,
            "object_fit": null,
            "object_position": null,
            "order": null,
            "overflow": null,
            "overflow_x": null,
            "overflow_y": null,
            "padding": null,
            "right": null,
            "top": null,
            "visibility": null,
            "width": null
          }
        },
        "e03ff2ceb4054cd99d48ead432d961fb": {
          "model_module": "@jupyter-widgets/controls",
          "model_name": "DescriptionStyleModel",
          "model_module_version": "1.5.0",
          "state": {
            "_model_module": "@jupyter-widgets/controls",
            "_model_module_version": "1.5.0",
            "_model_name": "DescriptionStyleModel",
            "_view_count": null,
            "_view_module": "@jupyter-widgets/base",
            "_view_module_version": "1.2.0",
            "_view_name": "StyleView",
            "description_width": ""
          }
        },
        "fee2fb30325345c48c30d0f720e5b1ed": {
          "model_module": "@jupyter-widgets/base",
          "model_name": "LayoutModel",
          "model_module_version": "1.2.0",
          "state": {
            "_model_module": "@jupyter-widgets/base",
            "_model_module_version": "1.2.0",
            "_model_name": "LayoutModel",
            "_view_count": null,
            "_view_module": "@jupyter-widgets/base",
            "_view_module_version": "1.2.0",
            "_view_name": "LayoutView",
            "align_content": null,
            "align_items": null,
            "align_self": null,
            "border": null,
            "bottom": null,
            "display": null,
            "flex": null,
            "flex_flow": null,
            "grid_area": null,
            "grid_auto_columns": null,
            "grid_auto_flow": null,
            "grid_auto_rows": null,
            "grid_column": null,
            "grid_gap": null,
            "grid_row": null,
            "grid_template_areas": null,
            "grid_template_columns": null,
            "grid_template_rows": null,
            "height": null,
            "justify_content": null,
            "justify_items": null,
            "left": null,
            "margin": null,
            "max_height": null,
            "max_width": null,
            "min_height": null,
            "min_width": null,
            "object_fit": null,
            "object_position": null,
            "order": null,
            "overflow": null,
            "overflow_x": null,
            "overflow_y": null,
            "padding": null,
            "right": null,
            "top": null,
            "visibility": null,
            "width": null
          }
        },
        "8a6b307cd012474bb815d1e056c186bd": {
          "model_module": "@jupyter-widgets/controls",
          "model_name": "ProgressStyleModel",
          "model_module_version": "1.5.0",
          "state": {
            "_model_module": "@jupyter-widgets/controls",
            "_model_module_version": "1.5.0",
            "_model_name": "ProgressStyleModel",
            "_view_count": null,
            "_view_module": "@jupyter-widgets/base",
            "_view_module_version": "1.2.0",
            "_view_name": "StyleView",
            "bar_color": null,
            "description_width": ""
          }
        },
        "69df3ac3bc43458a8d3288507bb22ff4": {
          "model_module": "@jupyter-widgets/base",
          "model_name": "LayoutModel",
          "model_module_version": "1.2.0",
          "state": {
            "_model_module": "@jupyter-widgets/base",
            "_model_module_version": "1.2.0",
            "_model_name": "LayoutModel",
            "_view_count": null,
            "_view_module": "@jupyter-widgets/base",
            "_view_module_version": "1.2.0",
            "_view_name": "LayoutView",
            "align_content": null,
            "align_items": null,
            "align_self": null,
            "border": null,
            "bottom": null,
            "display": null,
            "flex": null,
            "flex_flow": null,
            "grid_area": null,
            "grid_auto_columns": null,
            "grid_auto_flow": null,
            "grid_auto_rows": null,
            "grid_column": null,
            "grid_gap": null,
            "grid_row": null,
            "grid_template_areas": null,
            "grid_template_columns": null,
            "grid_template_rows": null,
            "height": null,
            "justify_content": null,
            "justify_items": null,
            "left": null,
            "margin": null,
            "max_height": null,
            "max_width": null,
            "min_height": null,
            "min_width": null,
            "object_fit": null,
            "object_position": null,
            "order": null,
            "overflow": null,
            "overflow_x": null,
            "overflow_y": null,
            "padding": null,
            "right": null,
            "top": null,
            "visibility": null,
            "width": null
          }
        },
        "dda6db07ef5943bea7fbef8f12a65400": {
          "model_module": "@jupyter-widgets/controls",
          "model_name": "DescriptionStyleModel",
          "model_module_version": "1.5.0",
          "state": {
            "_model_module": "@jupyter-widgets/controls",
            "_model_module_version": "1.5.0",
            "_model_name": "DescriptionStyleModel",
            "_view_count": null,
            "_view_module": "@jupyter-widgets/base",
            "_view_module_version": "1.2.0",
            "_view_name": "StyleView",
            "description_width": ""
          }
        },
        "27337a45dfe94c0b92e28eea27d1c622": {
          "model_module": "@jupyter-widgets/controls",
          "model_name": "HBoxModel",
          "model_module_version": "1.5.0",
          "state": {
            "_dom_classes": [],
            "_model_module": "@jupyter-widgets/controls",
            "_model_module_version": "1.5.0",
            "_model_name": "HBoxModel",
            "_view_count": null,
            "_view_module": "@jupyter-widgets/controls",
            "_view_module_version": "1.5.0",
            "_view_name": "HBoxView",
            "box_style": "",
            "children": [
              "IPY_MODEL_154ce7dbc8b94c5e942c04783e2b8a19",
              "IPY_MODEL_0b437e35e21b4209abb231987476eb80",
              "IPY_MODEL_eea9cdd82a7e4ebdabca97a15742f344"
            ],
            "layout": "IPY_MODEL_cbeaf285be1b420cbf10579900b8ec58"
          }
        },
        "154ce7dbc8b94c5e942c04783e2b8a19": {
          "model_module": "@jupyter-widgets/controls",
          "model_name": "HTMLModel",
          "model_module_version": "1.5.0",
          "state": {
            "_dom_classes": [],
            "_model_module": "@jupyter-widgets/controls",
            "_model_module_version": "1.5.0",
            "_model_name": "HTMLModel",
            "_view_count": null,
            "_view_module": "@jupyter-widgets/controls",
            "_view_module_version": "1.5.0",
            "_view_name": "HTMLView",
            "description": "",
            "description_tooltip": null,
            "layout": "IPY_MODEL_05e7546de5c24bf7b33747cb74558dbc",
            "placeholder": "​",
            "style": "IPY_MODEL_f9d22049ff034d1db1e7544a7d6f556e",
            "value": "Downloading: 100%"
          }
        },
        "0b437e35e21b4209abb231987476eb80": {
          "model_module": "@jupyter-widgets/controls",
          "model_name": "FloatProgressModel",
          "model_module_version": "1.5.0",
          "state": {
            "_dom_classes": [],
            "_model_module": "@jupyter-widgets/controls",
            "_model_module_version": "1.5.0",
            "_model_name": "FloatProgressModel",
            "_view_count": null,
            "_view_module": "@jupyter-widgets/controls",
            "_view_module_version": "1.5.0",
            "_view_name": "ProgressView",
            "bar_style": "success",
            "description": "",
            "description_tooltip": null,
            "layout": "IPY_MODEL_d3c91c0c5da34087af84646417b60ea7",
            "max": 520889,
            "min": 0,
            "orientation": "horizontal",
            "style": "IPY_MODEL_8167cd93e14046c3ab5e2f3ad5818871",
            "value": 520889
          }
        },
        "eea9cdd82a7e4ebdabca97a15742f344": {
          "model_module": "@jupyter-widgets/controls",
          "model_name": "HTMLModel",
          "model_module_version": "1.5.0",
          "state": {
            "_dom_classes": [],
            "_model_module": "@jupyter-widgets/controls",
            "_model_module_version": "1.5.0",
            "_model_name": "HTMLModel",
            "_view_count": null,
            "_view_module": "@jupyter-widgets/controls",
            "_view_module_version": "1.5.0",
            "_view_name": "HTMLView",
            "description": "",
            "description_tooltip": null,
            "layout": "IPY_MODEL_373376a036294ebeba5a602fb65643b5",
            "placeholder": "​",
            "style": "IPY_MODEL_6a46ada853874064b4037ecc4cc530cb",
            "value": " 509k/509k [00:00&lt;00:00, 1.77MB/s]"
          }
        },
        "cbeaf285be1b420cbf10579900b8ec58": {
          "model_module": "@jupyter-widgets/base",
          "model_name": "LayoutModel",
          "model_module_version": "1.2.0",
          "state": {
            "_model_module": "@jupyter-widgets/base",
            "_model_module_version": "1.2.0",
            "_model_name": "LayoutModel",
            "_view_count": null,
            "_view_module": "@jupyter-widgets/base",
            "_view_module_version": "1.2.0",
            "_view_name": "LayoutView",
            "align_content": null,
            "align_items": null,
            "align_self": null,
            "border": null,
            "bottom": null,
            "display": null,
            "flex": null,
            "flex_flow": null,
            "grid_area": null,
            "grid_auto_columns": null,
            "grid_auto_flow": null,
            "grid_auto_rows": null,
            "grid_column": null,
            "grid_gap": null,
            "grid_row": null,
            "grid_template_areas": null,
            "grid_template_columns": null,
            "grid_template_rows": null,
            "height": null,
            "justify_content": null,
            "justify_items": null,
            "left": null,
            "margin": null,
            "max_height": null,
            "max_width": null,
            "min_height": null,
            "min_width": null,
            "object_fit": null,
            "object_position": null,
            "order": null,
            "overflow": null,
            "overflow_x": null,
            "overflow_y": null,
            "padding": null,
            "right": null,
            "top": null,
            "visibility": null,
            "width": null
          }
        },
        "05e7546de5c24bf7b33747cb74558dbc": {
          "model_module": "@jupyter-widgets/base",
          "model_name": "LayoutModel",
          "model_module_version": "1.2.0",
          "state": {
            "_model_module": "@jupyter-widgets/base",
            "_model_module_version": "1.2.0",
            "_model_name": "LayoutModel",
            "_view_count": null,
            "_view_module": "@jupyter-widgets/base",
            "_view_module_version": "1.2.0",
            "_view_name": "LayoutView",
            "align_content": null,
            "align_items": null,
            "align_self": null,
            "border": null,
            "bottom": null,
            "display": null,
            "flex": null,
            "flex_flow": null,
            "grid_area": null,
            "grid_auto_columns": null,
            "grid_auto_flow": null,
            "grid_auto_rows": null,
            "grid_column": null,
            "grid_gap": null,
            "grid_row": null,
            "grid_template_areas": null,
            "grid_template_columns": null,
            "grid_template_rows": null,
            "height": null,
            "justify_content": null,
            "justify_items": null,
            "left": null,
            "margin": null,
            "max_height": null,
            "max_width": null,
            "min_height": null,
            "min_width": null,
            "object_fit": null,
            "object_position": null,
            "order": null,
            "overflow": null,
            "overflow_x": null,
            "overflow_y": null,
            "padding": null,
            "right": null,
            "top": null,
            "visibility": null,
            "width": null
          }
        },
        "f9d22049ff034d1db1e7544a7d6f556e": {
          "model_module": "@jupyter-widgets/controls",
          "model_name": "DescriptionStyleModel",
          "model_module_version": "1.5.0",
          "state": {
            "_model_module": "@jupyter-widgets/controls",
            "_model_module_version": "1.5.0",
            "_model_name": "DescriptionStyleModel",
            "_view_count": null,
            "_view_module": "@jupyter-widgets/base",
            "_view_module_version": "1.2.0",
            "_view_name": "StyleView",
            "description_width": ""
          }
        },
        "d3c91c0c5da34087af84646417b60ea7": {
          "model_module": "@jupyter-widgets/base",
          "model_name": "LayoutModel",
          "model_module_version": "1.2.0",
          "state": {
            "_model_module": "@jupyter-widgets/base",
            "_model_module_version": "1.2.0",
            "_model_name": "LayoutModel",
            "_view_count": null,
            "_view_module": "@jupyter-widgets/base",
            "_view_module_version": "1.2.0",
            "_view_name": "LayoutView",
            "align_content": null,
            "align_items": null,
            "align_self": null,
            "border": null,
            "bottom": null,
            "display": null,
            "flex": null,
            "flex_flow": null,
            "grid_area": null,
            "grid_auto_columns": null,
            "grid_auto_flow": null,
            "grid_auto_rows": null,
            "grid_column": null,
            "grid_gap": null,
            "grid_row": null,
            "grid_template_areas": null,
            "grid_template_columns": null,
            "grid_template_rows": null,
            "height": null,
            "justify_content": null,
            "justify_items": null,
            "left": null,
            "margin": null,
            "max_height": null,
            "max_width": null,
            "min_height": null,
            "min_width": null,
            "object_fit": null,
            "object_position": null,
            "order": null,
            "overflow": null,
            "overflow_x": null,
            "overflow_y": null,
            "padding": null,
            "right": null,
            "top": null,
            "visibility": null,
            "width": null
          }
        },
        "8167cd93e14046c3ab5e2f3ad5818871": {
          "model_module": "@jupyter-widgets/controls",
          "model_name": "ProgressStyleModel",
          "model_module_version": "1.5.0",
          "state": {
            "_model_module": "@jupyter-widgets/controls",
            "_model_module_version": "1.5.0",
            "_model_name": "ProgressStyleModel",
            "_view_count": null,
            "_view_module": "@jupyter-widgets/base",
            "_view_module_version": "1.2.0",
            "_view_name": "StyleView",
            "bar_color": null,
            "description_width": ""
          }
        },
        "373376a036294ebeba5a602fb65643b5": {
          "model_module": "@jupyter-widgets/base",
          "model_name": "LayoutModel",
          "model_module_version": "1.2.0",
          "state": {
            "_model_module": "@jupyter-widgets/base",
            "_model_module_version": "1.2.0",
            "_model_name": "LayoutModel",
            "_view_count": null,
            "_view_module": "@jupyter-widgets/base",
            "_view_module_version": "1.2.0",
            "_view_name": "LayoutView",
            "align_content": null,
            "align_items": null,
            "align_self": null,
            "border": null,
            "bottom": null,
            "display": null,
            "flex": null,
            "flex_flow": null,
            "grid_area": null,
            "grid_auto_columns": null,
            "grid_auto_flow": null,
            "grid_auto_rows": null,
            "grid_column": null,
            "grid_gap": null,
            "grid_row": null,
            "grid_template_areas": null,
            "grid_template_columns": null,
            "grid_template_rows": null,
            "height": null,
            "justify_content": null,
            "justify_items": null,
            "left": null,
            "margin": null,
            "max_height": null,
            "max_width": null,
            "min_height": null,
            "min_width": null,
            "object_fit": null,
            "object_position": null,
            "order": null,
            "overflow": null,
            "overflow_x": null,
            "overflow_y": null,
            "padding": null,
            "right": null,
            "top": null,
            "visibility": null,
            "width": null
          }
        },
        "6a46ada853874064b4037ecc4cc530cb": {
          "model_module": "@jupyter-widgets/controls",
          "model_name": "DescriptionStyleModel",
          "model_module_version": "1.5.0",
          "state": {
            "_model_module": "@jupyter-widgets/controls",
            "_model_module_version": "1.5.0",
            "_model_name": "DescriptionStyleModel",
            "_view_count": null,
            "_view_module": "@jupyter-widgets/base",
            "_view_module_version": "1.2.0",
            "_view_name": "StyleView",
            "description_width": ""
          }
        },
        "358793d7e2e4417f8c9738e00df7ea6a": {
          "model_module": "@jupyter-widgets/controls",
          "model_name": "HBoxModel",
          "model_module_version": "1.5.0",
          "state": {
            "_dom_classes": [],
            "_model_module": "@jupyter-widgets/controls",
            "_model_module_version": "1.5.0",
            "_model_name": "HBoxModel",
            "_view_count": null,
            "_view_module": "@jupyter-widgets/controls",
            "_view_module_version": "1.5.0",
            "_view_name": "HBoxView",
            "box_style": "",
            "children": [
              "IPY_MODEL_31edc72681174fd3b8992b3f1c8cbb68",
              "IPY_MODEL_b33ec54ec54d42e7ac488f8f2e4ca99f",
              "IPY_MODEL_bdb4a021be0f4e1591fd08a56d641b1f"
            ],
            "layout": "IPY_MODEL_de36fc2446c644379b1fe8b464729ecf"
          }
        },
        "31edc72681174fd3b8992b3f1c8cbb68": {
          "model_module": "@jupyter-widgets/controls",
          "model_name": "HTMLModel",
          "model_module_version": "1.5.0",
          "state": {
            "_dom_classes": [],
            "_model_module": "@jupyter-widgets/controls",
            "_model_module_version": "1.5.0",
            "_model_name": "HTMLModel",
            "_view_count": null,
            "_view_module": "@jupyter-widgets/controls",
            "_view_module_version": "1.5.0",
            "_view_name": "HTMLView",
            "description": "",
            "description_tooltip": null,
            "layout": "IPY_MODEL_e4525f1ebb58441a9f6806570f367312",
            "placeholder": "​",
            "style": "IPY_MODEL_261dc253681a4166b9b6aa589e769996",
            "value": "Downloading: 100%"
          }
        },
        "b33ec54ec54d42e7ac488f8f2e4ca99f": {
          "model_module": "@jupyter-widgets/controls",
          "model_name": "FloatProgressModel",
          "model_module_version": "1.5.0",
          "state": {
            "_dom_classes": [],
            "_model_module": "@jupyter-widgets/controls",
            "_model_module_version": "1.5.0",
            "_model_name": "FloatProgressModel",
            "_view_count": null,
            "_view_module": "@jupyter-widgets/controls",
            "_view_module_version": "1.5.0",
            "_view_name": "ProgressView",
            "bar_style": "success",
            "description": "",
            "description_tooltip": null,
            "layout": "IPY_MODEL_2e4afa9fe0b447858f997990b5dab224",
            "max": 772,
            "min": 0,
            "orientation": "horizontal",
            "style": "IPY_MODEL_5719ada4ac0941f6810f399605d7d9f0",
            "value": 772
          }
        },
        "bdb4a021be0f4e1591fd08a56d641b1f": {
          "model_module": "@jupyter-widgets/controls",
          "model_name": "HTMLModel",
          "model_module_version": "1.5.0",
          "state": {
            "_dom_classes": [],
            "_model_module": "@jupyter-widgets/controls",
            "_model_module_version": "1.5.0",
            "_model_name": "HTMLModel",
            "_view_count": null,
            "_view_module": "@jupyter-widgets/controls",
            "_view_module_version": "1.5.0",
            "_view_name": "HTMLView",
            "description": "",
            "description_tooltip": null,
            "layout": "IPY_MODEL_960c47b3764146b792d0f3f5588fc6b0",
            "placeholder": "​",
            "style": "IPY_MODEL_82a4f8e9e11e49c899cc0aaae4ecddcf",
            "value": " 772/772 [00:00&lt;00:00, 44.2kB/s]"
          }
        },
        "de36fc2446c644379b1fe8b464729ecf": {
          "model_module": "@jupyter-widgets/base",
          "model_name": "LayoutModel",
          "model_module_version": "1.2.0",
          "state": {
            "_model_module": "@jupyter-widgets/base",
            "_model_module_version": "1.2.0",
            "_model_name": "LayoutModel",
            "_view_count": null,
            "_view_module": "@jupyter-widgets/base",
            "_view_module_version": "1.2.0",
            "_view_name": "LayoutView",
            "align_content": null,
            "align_items": null,
            "align_self": null,
            "border": null,
            "bottom": null,
            "display": null,
            "flex": null,
            "flex_flow": null,
            "grid_area": null,
            "grid_auto_columns": null,
            "grid_auto_flow": null,
            "grid_auto_rows": null,
            "grid_column": null,
            "grid_gap": null,
            "grid_row": null,
            "grid_template_areas": null,
            "grid_template_columns": null,
            "grid_template_rows": null,
            "height": null,
            "justify_content": null,
            "justify_items": null,
            "left": null,
            "margin": null,
            "max_height": null,
            "max_width": null,
            "min_height": null,
            "min_width": null,
            "object_fit": null,
            "object_position": null,
            "order": null,
            "overflow": null,
            "overflow_x": null,
            "overflow_y": null,
            "padding": null,
            "right": null,
            "top": null,
            "visibility": null,
            "width": null
          }
        },
        "e4525f1ebb58441a9f6806570f367312": {
          "model_module": "@jupyter-widgets/base",
          "model_name": "LayoutModel",
          "model_module_version": "1.2.0",
          "state": {
            "_model_module": "@jupyter-widgets/base",
            "_model_module_version": "1.2.0",
            "_model_name": "LayoutModel",
            "_view_count": null,
            "_view_module": "@jupyter-widgets/base",
            "_view_module_version": "1.2.0",
            "_view_name": "LayoutView",
            "align_content": null,
            "align_items": null,
            "align_self": null,
            "border": null,
            "bottom": null,
            "display": null,
            "flex": null,
            "flex_flow": null,
            "grid_area": null,
            "grid_auto_columns": null,
            "grid_auto_flow": null,
            "grid_auto_rows": null,
            "grid_column": null,
            "grid_gap": null,
            "grid_row": null,
            "grid_template_areas": null,
            "grid_template_columns": null,
            "grid_template_rows": null,
            "height": null,
            "justify_content": null,
            "justify_items": null,
            "left": null,
            "margin": null,
            "max_height": null,
            "max_width": null,
            "min_height": null,
            "min_width": null,
            "object_fit": null,
            "object_position": null,
            "order": null,
            "overflow": null,
            "overflow_x": null,
            "overflow_y": null,
            "padding": null,
            "right": null,
            "top": null,
            "visibility": null,
            "width": null
          }
        },
        "261dc253681a4166b9b6aa589e769996": {
          "model_module": "@jupyter-widgets/controls",
          "model_name": "DescriptionStyleModel",
          "model_module_version": "1.5.0",
          "state": {
            "_model_module": "@jupyter-widgets/controls",
            "_model_module_version": "1.5.0",
            "_model_name": "DescriptionStyleModel",
            "_view_count": null,
            "_view_module": "@jupyter-widgets/base",
            "_view_module_version": "1.2.0",
            "_view_name": "StyleView",
            "description_width": ""
          }
        },
        "2e4afa9fe0b447858f997990b5dab224": {
          "model_module": "@jupyter-widgets/base",
          "model_name": "LayoutModel",
          "model_module_version": "1.2.0",
          "state": {
            "_model_module": "@jupyter-widgets/base",
            "_model_module_version": "1.2.0",
            "_model_name": "LayoutModel",
            "_view_count": null,
            "_view_module": "@jupyter-widgets/base",
            "_view_module_version": "1.2.0",
            "_view_name": "LayoutView",
            "align_content": null,
            "align_items": null,
            "align_self": null,
            "border": null,
            "bottom": null,
            "display": null,
            "flex": null,
            "flex_flow": null,
            "grid_area": null,
            "grid_auto_columns": null,
            "grid_auto_flow": null,
            "grid_auto_rows": null,
            "grid_column": null,
            "grid_gap": null,
            "grid_row": null,
            "grid_template_areas": null,
            "grid_template_columns": null,
            "grid_template_rows": null,
            "height": null,
            "justify_content": null,
            "justify_items": null,
            "left": null,
            "margin": null,
            "max_height": null,
            "max_width": null,
            "min_height": null,
            "min_width": null,
            "object_fit": null,
            "object_position": null,
            "order": null,
            "overflow": null,
            "overflow_x": null,
            "overflow_y": null,
            "padding": null,
            "right": null,
            "top": null,
            "visibility": null,
            "width": null
          }
        },
        "5719ada4ac0941f6810f399605d7d9f0": {
          "model_module": "@jupyter-widgets/controls",
          "model_name": "ProgressStyleModel",
          "model_module_version": "1.5.0",
          "state": {
            "_model_module": "@jupyter-widgets/controls",
            "_model_module_version": "1.5.0",
            "_model_name": "ProgressStyleModel",
            "_view_count": null,
            "_view_module": "@jupyter-widgets/base",
            "_view_module_version": "1.2.0",
            "_view_name": "StyleView",
            "bar_color": null,
            "description_width": ""
          }
        },
        "960c47b3764146b792d0f3f5588fc6b0": {
          "model_module": "@jupyter-widgets/base",
          "model_name": "LayoutModel",
          "model_module_version": "1.2.0",
          "state": {
            "_model_module": "@jupyter-widgets/base",
            "_model_module_version": "1.2.0",
            "_model_name": "LayoutModel",
            "_view_count": null,
            "_view_module": "@jupyter-widgets/base",
            "_view_module_version": "1.2.0",
            "_view_name": "LayoutView",
            "align_content": null,
            "align_items": null,
            "align_self": null,
            "border": null,
            "bottom": null,
            "display": null,
            "flex": null,
            "flex_flow": null,
            "grid_area": null,
            "grid_auto_columns": null,
            "grid_auto_flow": null,
            "grid_auto_rows": null,
            "grid_column": null,
            "grid_gap": null,
            "grid_row": null,
            "grid_template_areas": null,
            "grid_template_columns": null,
            "grid_template_rows": null,
            "height": null,
            "justify_content": null,
            "justify_items": null,
            "left": null,
            "margin": null,
            "max_height": null,
            "max_width": null,
            "min_height": null,
            "min_width": null,
            "object_fit": null,
            "object_position": null,
            "order": null,
            "overflow": null,
            "overflow_x": null,
            "overflow_y": null,
            "padding": null,
            "right": null,
            "top": null,
            "visibility": null,
            "width": null
          }
        },
        "82a4f8e9e11e49c899cc0aaae4ecddcf": {
          "model_module": "@jupyter-widgets/controls",
          "model_name": "DescriptionStyleModel",
          "model_module_version": "1.5.0",
          "state": {
            "_model_module": "@jupyter-widgets/controls",
            "_model_module_version": "1.5.0",
            "_model_name": "DescriptionStyleModel",
            "_view_count": null,
            "_view_module": "@jupyter-widgets/base",
            "_view_module_version": "1.2.0",
            "_view_name": "StyleView",
            "description_width": ""
          }
        }
      }
    }
  },
  "nbformat": 4,
  "nbformat_minor": 0
}