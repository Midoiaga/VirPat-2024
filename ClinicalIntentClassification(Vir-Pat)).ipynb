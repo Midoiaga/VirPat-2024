{
  "cells": [
    {
      "cell_type": "markdown",
      "source": [
        "# ***PREPROCESSING***"
      ],
      "metadata": {
        "id": "CQs8bKAFecIj"
      }
    },
    {
      "cell_type": "code",
      "execution_count": null,
      "metadata": {
        "colab": {
          "base_uri": "https://localhost:8080/"
        },
        "id": "VY97DfNVAU1Q",
        "outputId": "7d3b754a-3d9d-4e43-fbe4-0f650e0b6224"
      },
      "outputs": [
        {
          "output_type": "stream",
          "name": "stdout",
          "text": [
            "Mounted at /content/drive\n"
          ]
        }
      ],
      "source": [
        "from google.colab import drive\n",
        "drive.mount('/content/drive')"
      ]
    },
    {
      "cell_type": "code",
      "execution_count": null,
      "metadata": {
        "colab": {
          "base_uri": "https://localhost:8080/"
        },
        "id": "jasJ3UahuW7H",
        "outputId": "abbf70bc-cbf5-4403-d8cc-239ee9ac72bd"
      },
      "outputs": [
        {
          "output_type": "stream",
          "name": "stdout",
          "text": [
            "\u001b[31mERROR: Could not find a version that satisfies the requirement torch==1.10.2 (from versions: 1.11.0, 1.12.0, 1.12.1, 1.13.0, 1.13.1, 2.0.0, 2.0.1)\u001b[0m\u001b[31m\n",
            "\u001b[0m\u001b[31mERROR: No matching distribution found for torch==1.10.2\u001b[0m\u001b[31m\n",
            "\u001b[0mRequirement already satisfied: pandas in /usr/local/lib/python3.10/dist-packages (1.5.3)\n",
            "Requirement already satisfied: python-dateutil>=2.8.1 in /usr/local/lib/python3.10/dist-packages (from pandas) (2.8.2)\n",
            "Requirement already satisfied: pytz>=2020.1 in /usr/local/lib/python3.10/dist-packages (from pandas) (2022.7.1)\n",
            "Requirement already satisfied: numpy>=1.21.0 in /usr/local/lib/python3.10/dist-packages (from pandas) (1.22.4)\n",
            "Requirement already satisfied: six>=1.5 in /usr/local/lib/python3.10/dist-packages (from python-dateutil>=2.8.1->pandas) (1.16.0)\n",
            "Collecting transformers==4.16.2\n",
            "  Downloading transformers-4.16.2-py3-none-any.whl (3.5 MB)\n",
            "\u001b[2K     \u001b[90m━━━━━━━━━━━━━━━━━━━━━━━━━━━━━━━━━━━━━━━━\u001b[0m \u001b[32m3.5/3.5 MB\u001b[0m \u001b[31m60.9 MB/s\u001b[0m eta \u001b[36m0:00:00\u001b[0m\n",
            "\u001b[?25hRequirement already satisfied: filelock in /usr/local/lib/python3.10/dist-packages (from transformers==4.16.2) (3.12.2)\n",
            "Collecting huggingface-hub<1.0,>=0.1.0 (from transformers==4.16.2)\n",
            "  Downloading huggingface_hub-0.16.4-py3-none-any.whl (268 kB)\n",
            "\u001b[2K     \u001b[90m━━━━━━━━━━━━━━━━━━━━━━━━━━━━━━━━━━━━━━\u001b[0m \u001b[32m268.8/268.8 kB\u001b[0m \u001b[31m31.7 MB/s\u001b[0m eta \u001b[36m0:00:00\u001b[0m\n",
            "\u001b[?25hRequirement already satisfied: numpy>=1.17 in /usr/local/lib/python3.10/dist-packages (from transformers==4.16.2) (1.22.4)\n",
            "Requirement already satisfied: packaging>=20.0 in /usr/local/lib/python3.10/dist-packages (from transformers==4.16.2) (23.1)\n",
            "Requirement already satisfied: pyyaml>=5.1 in /usr/local/lib/python3.10/dist-packages (from transformers==4.16.2) (6.0)\n",
            "Requirement already satisfied: regex!=2019.12.17 in /usr/local/lib/python3.10/dist-packages (from transformers==4.16.2) (2022.10.31)\n",
            "Requirement already satisfied: requests in /usr/local/lib/python3.10/dist-packages (from transformers==4.16.2) (2.27.1)\n",
            "Collecting sacremoses (from transformers==4.16.2)\n",
            "  Downloading sacremoses-0.0.53.tar.gz (880 kB)\n",
            "\u001b[2K     \u001b[90m━━━━━━━━━━━━━━━━━━━━━━━━━━━━━━━━━━━━━━\u001b[0m \u001b[32m880.6/880.6 kB\u001b[0m \u001b[31m68.3 MB/s\u001b[0m eta \u001b[36m0:00:00\u001b[0m\n",
            "\u001b[?25h  Preparing metadata (setup.py) ... \u001b[?25l\u001b[?25hdone\n",
            "Collecting tokenizers!=0.11.3,>=0.10.1 (from transformers==4.16.2)\n",
            "  Downloading tokenizers-0.13.3-cp310-cp310-manylinux_2_17_x86_64.manylinux2014_x86_64.whl (7.8 MB)\n",
            "\u001b[2K     \u001b[90m━━━━━━━━━━━━━━━━━━━━━━━━━━━━━━━━━━━━━━━━\u001b[0m \u001b[32m7.8/7.8 MB\u001b[0m \u001b[31m62.7 MB/s\u001b[0m eta \u001b[36m0:00:00\u001b[0m\n",
            "\u001b[?25hRequirement already satisfied: tqdm>=4.27 in /usr/local/lib/python3.10/dist-packages (from transformers==4.16.2) (4.65.0)\n",
            "Requirement already satisfied: fsspec in /usr/local/lib/python3.10/dist-packages (from huggingface-hub<1.0,>=0.1.0->transformers==4.16.2) (2023.6.0)\n",
            "Requirement already satisfied: typing-extensions>=3.7.4.3 in /usr/local/lib/python3.10/dist-packages (from huggingface-hub<1.0,>=0.1.0->transformers==4.16.2) (4.6.3)\n",
            "Requirement already satisfied: urllib3<1.27,>=1.21.1 in /usr/local/lib/python3.10/dist-packages (from requests->transformers==4.16.2) (1.26.16)\n",
            "Requirement already satisfied: certifi>=2017.4.17 in /usr/local/lib/python3.10/dist-packages (from requests->transformers==4.16.2) (2023.5.7)\n",
            "Requirement already satisfied: charset-normalizer~=2.0.0 in /usr/local/lib/python3.10/dist-packages (from requests->transformers==4.16.2) (2.0.12)\n",
            "Requirement already satisfied: idna<4,>=2.5 in /usr/local/lib/python3.10/dist-packages (from requests->transformers==4.16.2) (3.4)\n",
            "Requirement already satisfied: six in /usr/local/lib/python3.10/dist-packages (from sacremoses->transformers==4.16.2) (1.16.0)\n",
            "Requirement already satisfied: click in /usr/local/lib/python3.10/dist-packages (from sacremoses->transformers==4.16.2) (8.1.3)\n",
            "Requirement already satisfied: joblib in /usr/local/lib/python3.10/dist-packages (from sacremoses->transformers==4.16.2) (1.2.0)\n",
            "Building wheels for collected packages: sacremoses\n",
            "  Building wheel for sacremoses (setup.py) ... \u001b[?25l\u001b[?25hdone\n",
            "  Created wheel for sacremoses: filename=sacremoses-0.0.53-py3-none-any.whl size=895241 sha256=7f183766640c1077946059271bfa13c8246dd4aeac9223ff131beccb611b5ba1\n",
            "  Stored in directory: /root/.cache/pip/wheels/00/24/97/a2ea5324f36bc626e1ea0267f33db6aa80d157ee977e9e42fb\n",
            "Successfully built sacremoses\n",
            "Installing collected packages: tokenizers, sacremoses, huggingface-hub, transformers\n",
            "Successfully installed huggingface-hub-0.16.4 sacremoses-0.0.53 tokenizers-0.13.3 transformers-4.16.2\n",
            "Requirement already satisfied: matplotlib in /usr/local/lib/python3.10/dist-packages (3.7.1)\n",
            "Requirement already satisfied: contourpy>=1.0.1 in /usr/local/lib/python3.10/dist-packages (from matplotlib) (1.1.0)\n",
            "Requirement already satisfied: cycler>=0.10 in /usr/local/lib/python3.10/dist-packages (from matplotlib) (0.11.0)\n",
            "Requirement already satisfied: fonttools>=4.22.0 in /usr/local/lib/python3.10/dist-packages (from matplotlib) (4.40.0)\n",
            "Requirement already satisfied: kiwisolver>=1.0.1 in /usr/local/lib/python3.10/dist-packages (from matplotlib) (1.4.4)\n",
            "Requirement already satisfied: numpy>=1.20 in /usr/local/lib/python3.10/dist-packages (from matplotlib) (1.22.4)\n",
            "Requirement already satisfied: packaging>=20.0 in /usr/local/lib/python3.10/dist-packages (from matplotlib) (23.1)\n",
            "Requirement already satisfied: pillow>=6.2.0 in /usr/local/lib/python3.10/dist-packages (from matplotlib) (8.4.0)\n",
            "Requirement already satisfied: pyparsing>=2.3.1 in /usr/local/lib/python3.10/dist-packages (from matplotlib) (3.1.0)\n",
            "Requirement already satisfied: python-dateutil>=2.7 in /usr/local/lib/python3.10/dist-packages (from matplotlib) (2.8.2)\n",
            "Requirement already satisfied: six>=1.5 in /usr/local/lib/python3.10/dist-packages (from python-dateutil>=2.7->matplotlib) (1.16.0)\n"
          ]
        }
      ],
      "source": [
        "# install torch\n",
        "!pip install \"torch == 1.10.2\"\n",
        "# install pandas\n",
        "!pip install pandas\n",
        "!pip install \"transformers ==4.16.2\"\n",
        "!pip install matplotlib\n",
        "\n"
      ]
    },
    {
      "cell_type": "code",
      "execution_count": null,
      "metadata": {
        "colab": {
          "base_uri": "https://localhost:8080/"
        },
        "id": "G_dIV-EqFZv_",
        "outputId": "6a85c43d-bed7-4c2a-f85d-9d2470def72d"
      },
      "outputs": [
        {
          "output_type": "stream",
          "name": "stdout",
          "text": [
            "Collecting sklearn\n",
            "  Downloading sklearn-0.0.post5.tar.gz (3.7 kB)\n",
            "  Preparing metadata (setup.py) ... \u001b[?25l\u001b[?25hdone\n",
            "Building wheels for collected packages: sklearn\n",
            "  Building wheel for sklearn (setup.py) ... \u001b[?25l\u001b[?25hdone\n",
            "  Created wheel for sklearn: filename=sklearn-0.0.post5-py3-none-any.whl size=2950 sha256=b2ac8bc599a929f72c026a2f1c7ddccb6f51931d6b1f03d5578e75773ad7d5af\n",
            "  Stored in directory: /root/.cache/pip/wheels/38/1f/8d/4f812c590e074c1e928f5cec67bf5053b71f38e2648739403a\n",
            "Successfully built sklearn\n",
            "Installing collected packages: sklearn\n",
            "Successfully installed sklearn-0.0.post5\n"
          ]
        }
      ],
      "source": [
        "#not in colab\n",
        "!pip install sklearn"
      ]
    },
    {
      "cell_type": "code",
      "execution_count": null,
      "metadata": {
        "id": "u4pCGzP4uYtN"
      },
      "outputs": [],
      "source": [
        "import torch\n",
        "from torch.utils.data import TensorDataset, DataLoader, RandomSampler, SequentialSampler\n",
        "import pandas as pd\n",
        "import re\n",
        "import string\n",
        "from transformers import AutoTokenizer\n",
        "import matplotlib.pyplot as plt\n",
        "from sklearn.preprocessing import LabelEncoder\n",
        "from sklearn.model_selection import train_test_split\n",
        "from transformers import XLMRobertaForSequenceClassification, AdamW, get_linear_schedule_with_warmup\n",
        "import time\n",
        "from sklearn.metrics import confusion_matrix, classification_report\n",
        "import numpy as np\n",
        "\n"
      ]
    },
    {
      "cell_type": "code",
      "execution_count": null,
      "metadata": {
        "colab": {
          "base_uri": "https://localhost:8080/"
        },
        "id": "CdrMD7qkAhk4",
        "outputId": "5d8d9092-57c1-460e-9107-37cb489a5286"
      },
      "outputs": [
        {
          "output_type": "stream",
          "name": "stdout",
          "text": [
            "There are 1 GPU(s) available.\n",
            "GPU is: Tesla T4\n"
          ]
        }
      ],
      "source": [
        "# check if we have cuda installed\n",
        "if torch.cuda.is_available():\n",
        "    # to use GPU\n",
        "    device = torch.device(\"cuda\")\n",
        "    print('There are %d GPU(s) available.' % torch.cuda.device_count())\n",
        "    print('GPU is:', torch.cuda.get_device_name(0))\n",
        "else:\n",
        "    print('No GPU available, using the CPU instead.')\n",
        "    device = torch.device(\"cpu\")"
      ]
    },
    {
      "cell_type": "code",
      "execution_count": null,
      "metadata": {
        "colab": {
          "base_uri": "https://localhost:8080/"
        },
        "id": "_Nd5Ru-vAtQm",
        "outputId": "98af6780-32c2-4d69-cbff-a59b7949291b"
      },
      "outputs": [
        {
          "output_type": "stream",
          "name": "stdout",
          "text": [
            "306\n",
            "2079\n"
          ]
        }
      ],
      "source": [
        "# read in train dataset\n",
        "df_val = pd.read_csv('./Data/IntentClassfication/val.csv', encoding='UTF-8')\n",
        "print(len(df_val))\n",
        "df_train = pd.read_csv('./Data/IntentClassfication/train.csv', encoding='UTF-8')\n",
        "print(len(df_train))\n",
        "#df = pd.concat([df_train, df_val], ignore_index=True)\n",
        "#df"
      ]
    },
    {
      "cell_type": "code",
      "execution_count": null,
      "metadata": {
        "colab": {
          "base_uri": "https://localhost:8080/"
        },
        "id": "0As771kWAuXf",
        "outputId": "d94d3b5b-3e5f-485a-a4cd-4198f078742c"
      },
      "outputs": [
        {
          "output_type": "stream",
          "name": "stdout",
          "text": [
            "145\n"
          ]
        },
        {
          "output_type": "execute_result",
          "data": {
            "text/plain": [
              "{'afirmar': 11,\n",
              " 'despedida': 4,\n",
              " 'estado': 5,\n",
              " 'motivo_de_consulta': 49,\n",
              " 'otros': 3,\n",
              " 'personal_adiccion_alcohol_cantidad': 6,\n",
              " 'personal_adiccion_alcohol_describir': 3,\n",
              " 'personal_adiccion_alcohol_duracion': 3,\n",
              " 'personal_adiccion_alcohol_frecuencia': 3,\n",
              " 'personal_adiccion_alcohol_otros': 3,\n",
              " 'personal_adiccion_alcohol_si_o_no': 12,\n",
              " 'personal_adiccion_fumar_cantidad': 10,\n",
              " 'personal_adiccion_fumar_duracion': 3,\n",
              " 'personal_adiccion_fumar_frecuencia': 3,\n",
              " 'personal_adiccion_fumar_inicio': 3,\n",
              " 'personal_adiccion_fumar_si_o_no': 20,\n",
              " 'personal_adiccion_otros_describir': 7,\n",
              " 'personal_adiccion_otros_si_o_no': 6,\n",
              " 'personal_contacto': 5,\n",
              " 'personal_datos_direccion': 5,\n",
              " 'personal_datos_edad': 17,\n",
              " 'personal_datos_fecha_de_nacimiento': 4,\n",
              " 'personal_datos_nombre': 19,\n",
              " 'personal_deporte_cantidad': 3,\n",
              " 'personal_deporte_cuando': 3,\n",
              " 'personal_deporte_describir': 7,\n",
              " 'personal_deporte_frecuencia': 3,\n",
              " 'personal_deporte_si_o_no': 8,\n",
              " 'personal_dieta_cantidad': 3,\n",
              " 'personal_dieta_cuando': 3,\n",
              " 'personal_dieta_describir': 9,\n",
              " 'personal_dieta_duracion': 3,\n",
              " 'personal_dieta_frecuencia': 3,\n",
              " 'personal_dieta_otros': 3,\n",
              " 'personal_dieta_si_o_no': 19,\n",
              " 'personal_entorno_describir': 3,\n",
              " 'personal_entorno_hijos_describir': 2,\n",
              " 'personal_entorno_hijos_edad': 3,\n",
              " 'personal_entorno_hijos_nombre': 3,\n",
              " 'personal_entorno_hijos_otros': 3,\n",
              " 'personal_entorno_hijos_si_o_no': 15,\n",
              " 'personal_entorno_mascota_si_o_no': 3,\n",
              " 'personal_entorno_otros_describir': 3,\n",
              " 'personal_entorno_otros_si_o_no': 7,\n",
              " 'personal_entorno_padres_si_o_no': 3,\n",
              " 'personal_entorno_pareja_nombre': 3,\n",
              " 'personal_entorno_pareja_otros': 2,\n",
              " 'personal_entorno_pareja_si_o_no': 7,\n",
              " 'personal_fisico_altura': 12,\n",
              " 'personal_fisico_peso_cambio': 10,\n",
              " 'personal_fisico_peso_duracion': 3,\n",
              " 'personal_fisico_peso_peso': 18,\n",
              " 'personal_otros_describir': 4,\n",
              " 'personal_otros_si_o_no': 6,\n",
              " 'personal_sueño_describir': 3,\n",
              " 'personal_sueño_horas': 4,\n",
              " 'personal_sueño_si_o_no': 3,\n",
              " 'personal_trabajo_anterior': 3,\n",
              " 'personal_trabajo_describir': 14,\n",
              " 'personal_trabajo_duracion': 3,\n",
              " 'personal_trabajo_horas': 3,\n",
              " 'personal_trabajo_lugar': 3,\n",
              " 'personal_trabajo_otros': 3,\n",
              " 'personal_trabajo_si_o_no': 3,\n",
              " 'personal_viajes_describir': 3,\n",
              " 'personal_viajes_otros': 3,\n",
              " 'personal_viajes_si_o_no': 4,\n",
              " 'psiquiatria': 35,\n",
              " 'psiquiatria_estado de animo_describir': 7,\n",
              " 'psiquiatria_estado de animo_si_o_no': 5,\n",
              " 'saludo': 20,\n",
              " 'sintoma_bebe_peso': 3,\n",
              " 'sintoma_bebe_si_o_no': 3,\n",
              " 'sintoma_entorno_si_o_no': 16,\n",
              " 'sintoma_familia_describir': 10,\n",
              " 'sintoma_familia_inicio': 3,\n",
              " 'sintoma_familia_si_o_no': 21,\n",
              " 'sintoma_paciente_alergia_describir': 18,\n",
              " 'sintoma_paciente_alergia_si_o_no': 6,\n",
              " 'sintoma_paciente_antecedentes_describir': 11,\n",
              " 'sintoma_paciente_antecedentes_si_o_no': 31,\n",
              " 'sintoma_paciente_aparicion_describir': 29,\n",
              " 'sintoma_paciente_aparicion_si_o_no': 97,\n",
              " 'sintoma_paciente_cambio_describir': 23,\n",
              " 'sintoma_paciente_cambio_si_o_no': 50,\n",
              " 'sintoma_paciente_capacidad_describir': 6,\n",
              " 'sintoma_paciente_capacidad_si_o_no': 27,\n",
              " 'sintoma_paciente_causa_describir': 23,\n",
              " 'sintoma_paciente_causa_si_o_no': 26,\n",
              " 'sintoma_paciente_describir': 154,\n",
              " 'sintoma_paciente_duracion': 19,\n",
              " 'sintoma_paciente_embarazo_antecedentes': 3,\n",
              " 'sintoma_paciente_embarazo_cantidad': 3,\n",
              " 'sintoma_paciente_embarazo_describir': 3,\n",
              " 'sintoma_paciente_embarazo_fin': 3,\n",
              " 'sintoma_paciente_embarazo_otros': 2,\n",
              " 'sintoma_paciente_embarazo_si_o_no': 2,\n",
              " 'sintoma_paciente_fiebre_describir': 9,\n",
              " 'sintoma_paciente_fiebre_si_o_no': 11,\n",
              " 'sintoma_paciente_frecuencia': 12,\n",
              " 'sintoma_paciente_inicio': 36,\n",
              " 'sintoma_paciente_localizacion_describir': 26,\n",
              " 'sintoma_paciente_localizacion_si_o_no': 32,\n",
              " 'sintoma_paciente_secuela_describir': 6,\n",
              " 'sintoma_paciente_secuela_si_o_no': 17,\n",
              " 'sintoma_paciente_seguimiento_describir': 3,\n",
              " 'sintoma_paciente_seguimiento_si_o_no': 3,\n",
              " 'sintoma_paciente_si_o_no': 530,\n",
              " 'tratamiento_anticonceptivos_describir': 3,\n",
              " 'tratamiento_anticonceptivos_frecuencia': 3,\n",
              " 'tratamiento_anticonceptivos_si_o_no': 8,\n",
              " 'tratamiento_consulta_describir': 5,\n",
              " 'tratamiento_consulta_especialista_si_o_no': 3,\n",
              " 'tratamiento_consulta_fecha': 3,\n",
              " 'tratamiento_consulta_si_o_no': 11,\n",
              " 'tratamiento_diagnostico_como': 3,\n",
              " 'tratamiento_diagnostico_fecha': 3,\n",
              " 'tratamiento_diagnostico_quien': 3,\n",
              " 'tratamiento_diagnostico_si_o_no': 3,\n",
              " 'tratamiento_historial_describir': 6,\n",
              " 'tratamiento_historial_si_o_no': 3,\n",
              " 'tratamiento_medicacion_antecedentes': 3,\n",
              " 'tratamiento_medicacion_cuando': 3,\n",
              " 'tratamiento_medicacion_describir': 28,\n",
              " 'tratamiento_medicacion_dosis': 3,\n",
              " 'tratamiento_medicacion_duracion': 3,\n",
              " 'tratamiento_medicacion_frecuencia': 3,\n",
              " 'tratamiento_medicacion_motivo': 3,\n",
              " 'tratamiento_medicacion_otros': 3,\n",
              " 'tratamiento_medicacion_receta': 3,\n",
              " 'tratamiento_medicacion_si_o_no': 24,\n",
              " 'tratamiento_operacion_complicaciones': 3,\n",
              " 'tratamiento_operacion_describir': 39,\n",
              " 'tratamiento_operacion_dosis': 3,\n",
              " 'tratamiento_operacion_especialista': 3,\n",
              " 'tratamiento_operacion_fecha': 14,\n",
              " 'tratamiento_operacion_frecuencia': 3,\n",
              " 'tratamiento_operacion_motivo': 3,\n",
              " 'tratamiento_operacion_resultados': 23,\n",
              " 'tratamiento_operacion_si_o_no': 61,\n",
              " 'vida_sexual_describir': 3,\n",
              " 'vida_sexual_edad': 3,\n",
              " 'vida_sexual_frecuencia': 3,\n",
              " 'vida_sexual_otros': 3,\n",
              " 'vida_sexual_si_o_no': 5}"
            ]
          },
          "metadata": {},
          "execution_count": 7
        }
      ],
      "source": [
        "hizte = dict(df_train.groupby(\"intent_4\").count()[\"texto\"])\n",
        "print(len(hizte))\n",
        "hizte"
      ]
    },
    {
      "cell_type": "code",
      "execution_count": null,
      "metadata": {
        "id": "PVx9wjlWCch0"
      },
      "outputs": [],
      "source": [
        "# text processing function\n",
        "# I want to twy with out preprocessing the text and processing the text\n",
        "def clean_text(text):\n",
        "    # to lower case\n",
        "    text = text.lower()\n",
        "    # remove punctuation\n",
        "    text = re.sub('[%s]' % re.escape(string.punctuation), '', text)\n",
        "    # remove next line\n",
        "    text = re.sub(r'[^ \\w\\.]', '', text)\n",
        "\n",
        "    return text\n",
        "# Create a new column called \"Text\" for collecting clean text\n",
        "df_train['text'] = df_train.texto.apply(lambda x: clean_text(x))\n",
        "df_val['text'] = df_val.texto.apply(lambda x: clean_text(x))"
      ]
    },
    {
      "cell_type": "code",
      "execution_count": null,
      "metadata": {
        "colab": {
          "base_uri": "https://localhost:8080/",
          "height": 424
        },
        "id": "Bp5JbEq6d_3W",
        "outputId": "1c822334-deb8-4893-e607-0491b8ebc61a"
      },
      "outputs": [
        {
          "output_type": "execute_result",
          "data": {
            "text/plain": [
              "                              texto categoria_general intent_1 intent_2  \\\n",
              "0                                ok           afirmar      NaN      NaN   \n",
              "1                                sí           afirmar      NaN      NaN   \n",
              "2            ok te revisaré primero           afirmar      NaN      NaN   \n",
              "3                        de acuerdo           afirmar      NaN      NaN   \n",
              "4                                ok           afirmar      NaN      NaN   \n",
              "...                             ...               ...      ...      ...   \n",
              "2074  ¿Es usted sexualmente activo?       vida_sexual  si_o_no      NaN   \n",
              "2075  ¿es usted sexualmente activo?       vida_sexual  si_o_no      NaN   \n",
              "2076    es usted sexualmente activo       vida_sexual  si_o_no      NaN   \n",
              "2077   ¿has tenido alguna vez sexo?       vida_sexual  si_o_no      NaN   \n",
              "2078  ha tenido relaciones sexuales       vida_sexual  si_o_no      NaN   \n",
              "\n",
              "     intent_3             intent_4                           text  \n",
              "0         NaN              afirmar                             ok  \n",
              "1         NaN              afirmar                             sí  \n",
              "2         NaN              afirmar         ok te revisaré primero  \n",
              "3         NaN              afirmar                     de acuerdo  \n",
              "4         NaN              afirmar                             ok  \n",
              "...       ...                  ...                            ...  \n",
              "2074      NaN  vida_sexual_si_o_no    es usted sexualmente activo  \n",
              "2075      NaN  vida_sexual_si_o_no    es usted sexualmente activo  \n",
              "2076      NaN  vida_sexual_si_o_no    es usted sexualmente activo  \n",
              "2077      NaN  vida_sexual_si_o_no     has tenido alguna vez sexo  \n",
              "2078      NaN  vida_sexual_si_o_no  ha tenido relaciones sexuales  \n",
              "\n",
              "[2079 rows x 7 columns]"
            ],
            "text/html": [
              "\n",
              "\n",
              "  <div id=\"df-a288a1be-8e13-4a53-a6fd-0db37091ea04\">\n",
              "    <div class=\"colab-df-container\">\n",
              "      <div>\n",
              "<style scoped>\n",
              "    .dataframe tbody tr th:only-of-type {\n",
              "        vertical-align: middle;\n",
              "    }\n",
              "\n",
              "    .dataframe tbody tr th {\n",
              "        vertical-align: top;\n",
              "    }\n",
              "\n",
              "    .dataframe thead th {\n",
              "        text-align: right;\n",
              "    }\n",
              "</style>\n",
              "<table border=\"1\" class=\"dataframe\">\n",
              "  <thead>\n",
              "    <tr style=\"text-align: right;\">\n",
              "      <th></th>\n",
              "      <th>texto</th>\n",
              "      <th>categoria_general</th>\n",
              "      <th>intent_1</th>\n",
              "      <th>intent_2</th>\n",
              "      <th>intent_3</th>\n",
              "      <th>intent_4</th>\n",
              "      <th>text</th>\n",
              "    </tr>\n",
              "  </thead>\n",
              "  <tbody>\n",
              "    <tr>\n",
              "      <th>0</th>\n",
              "      <td>ok</td>\n",
              "      <td>afirmar</td>\n",
              "      <td>NaN</td>\n",
              "      <td>NaN</td>\n",
              "      <td>NaN</td>\n",
              "      <td>afirmar</td>\n",
              "      <td>ok</td>\n",
              "    </tr>\n",
              "    <tr>\n",
              "      <th>1</th>\n",
              "      <td>sí</td>\n",
              "      <td>afirmar</td>\n",
              "      <td>NaN</td>\n",
              "      <td>NaN</td>\n",
              "      <td>NaN</td>\n",
              "      <td>afirmar</td>\n",
              "      <td>sí</td>\n",
              "    </tr>\n",
              "    <tr>\n",
              "      <th>2</th>\n",
              "      <td>ok te revisaré primero</td>\n",
              "      <td>afirmar</td>\n",
              "      <td>NaN</td>\n",
              "      <td>NaN</td>\n",
              "      <td>NaN</td>\n",
              "      <td>afirmar</td>\n",
              "      <td>ok te revisaré primero</td>\n",
              "    </tr>\n",
              "    <tr>\n",
              "      <th>3</th>\n",
              "      <td>de acuerdo</td>\n",
              "      <td>afirmar</td>\n",
              "      <td>NaN</td>\n",
              "      <td>NaN</td>\n",
              "      <td>NaN</td>\n",
              "      <td>afirmar</td>\n",
              "      <td>de acuerdo</td>\n",
              "    </tr>\n",
              "    <tr>\n",
              "      <th>4</th>\n",
              "      <td>ok</td>\n",
              "      <td>afirmar</td>\n",
              "      <td>NaN</td>\n",
              "      <td>NaN</td>\n",
              "      <td>NaN</td>\n",
              "      <td>afirmar</td>\n",
              "      <td>ok</td>\n",
              "    </tr>\n",
              "    <tr>\n",
              "      <th>...</th>\n",
              "      <td>...</td>\n",
              "      <td>...</td>\n",
              "      <td>...</td>\n",
              "      <td>...</td>\n",
              "      <td>...</td>\n",
              "      <td>...</td>\n",
              "      <td>...</td>\n",
              "    </tr>\n",
              "    <tr>\n",
              "      <th>2074</th>\n",
              "      <td>¿Es usted sexualmente activo?</td>\n",
              "      <td>vida_sexual</td>\n",
              "      <td>si_o_no</td>\n",
              "      <td>NaN</td>\n",
              "      <td>NaN</td>\n",
              "      <td>vida_sexual_si_o_no</td>\n",
              "      <td>es usted sexualmente activo</td>\n",
              "    </tr>\n",
              "    <tr>\n",
              "      <th>2075</th>\n",
              "      <td>¿es usted sexualmente activo?</td>\n",
              "      <td>vida_sexual</td>\n",
              "      <td>si_o_no</td>\n",
              "      <td>NaN</td>\n",
              "      <td>NaN</td>\n",
              "      <td>vida_sexual_si_o_no</td>\n",
              "      <td>es usted sexualmente activo</td>\n",
              "    </tr>\n",
              "    <tr>\n",
              "      <th>2076</th>\n",
              "      <td>es usted sexualmente activo</td>\n",
              "      <td>vida_sexual</td>\n",
              "      <td>si_o_no</td>\n",
              "      <td>NaN</td>\n",
              "      <td>NaN</td>\n",
              "      <td>vida_sexual_si_o_no</td>\n",
              "      <td>es usted sexualmente activo</td>\n",
              "    </tr>\n",
              "    <tr>\n",
              "      <th>2077</th>\n",
              "      <td>¿has tenido alguna vez sexo?</td>\n",
              "      <td>vida_sexual</td>\n",
              "      <td>si_o_no</td>\n",
              "      <td>NaN</td>\n",
              "      <td>NaN</td>\n",
              "      <td>vida_sexual_si_o_no</td>\n",
              "      <td>has tenido alguna vez sexo</td>\n",
              "    </tr>\n",
              "    <tr>\n",
              "      <th>2078</th>\n",
              "      <td>ha tenido relaciones sexuales</td>\n",
              "      <td>vida_sexual</td>\n",
              "      <td>si_o_no</td>\n",
              "      <td>NaN</td>\n",
              "      <td>NaN</td>\n",
              "      <td>vida_sexual_si_o_no</td>\n",
              "      <td>ha tenido relaciones sexuales</td>\n",
              "    </tr>\n",
              "  </tbody>\n",
              "</table>\n",
              "<p>2079 rows × 7 columns</p>\n",
              "</div>\n",
              "      <button class=\"colab-df-convert\" onclick=\"convertToInteractive('df-a288a1be-8e13-4a53-a6fd-0db37091ea04')\"\n",
              "              title=\"Convert this dataframe to an interactive table.\"\n",
              "              style=\"display:none;\">\n",
              "\n",
              "  <svg xmlns=\"http://www.w3.org/2000/svg\" height=\"24px\"viewBox=\"0 0 24 24\"\n",
              "       width=\"24px\">\n",
              "    <path d=\"M0 0h24v24H0V0z\" fill=\"none\"/>\n",
              "    <path d=\"M18.56 5.44l.94 2.06.94-2.06 2.06-.94-2.06-.94-.94-2.06-.94 2.06-2.06.94zm-11 1L8.5 8.5l.94-2.06 2.06-.94-2.06-.94L8.5 2.5l-.94 2.06-2.06.94zm10 10l.94 2.06.94-2.06 2.06-.94-2.06-.94-.94-2.06-.94 2.06-2.06.94z\"/><path d=\"M17.41 7.96l-1.37-1.37c-.4-.4-.92-.59-1.43-.59-.52 0-1.04.2-1.43.59L10.3 9.45l-7.72 7.72c-.78.78-.78 2.05 0 2.83L4 21.41c.39.39.9.59 1.41.59.51 0 1.02-.2 1.41-.59l7.78-7.78 2.81-2.81c.8-.78.8-2.07 0-2.86zM5.41 20L4 18.59l7.72-7.72 1.47 1.35L5.41 20z\"/>\n",
              "  </svg>\n",
              "      </button>\n",
              "\n",
              "\n",
              "\n",
              "    <div id=\"df-b629a736-3324-45af-baf8-15efe161e99d\">\n",
              "      <button class=\"colab-df-quickchart\" onclick=\"quickchart('df-b629a736-3324-45af-baf8-15efe161e99d')\"\n",
              "              title=\"Suggest charts.\"\n",
              "              style=\"display:none;\">\n",
              "\n",
              "<svg xmlns=\"http://www.w3.org/2000/svg\" height=\"24px\"viewBox=\"0 0 24 24\"\n",
              "     width=\"24px\">\n",
              "    <g>\n",
              "        <path d=\"M19 3H5c-1.1 0-2 .9-2 2v14c0 1.1.9 2 2 2h14c1.1 0 2-.9 2-2V5c0-1.1-.9-2-2-2zM9 17H7v-7h2v7zm4 0h-2V7h2v10zm4 0h-2v-4h2v4z\"/>\n",
              "    </g>\n",
              "</svg>\n",
              "      </button>\n",
              "    </div>\n",
              "\n",
              "<style>\n",
              "  .colab-df-quickchart {\n",
              "    background-color: #E8F0FE;\n",
              "    border: none;\n",
              "    border-radius: 50%;\n",
              "    cursor: pointer;\n",
              "    display: none;\n",
              "    fill: #1967D2;\n",
              "    height: 32px;\n",
              "    padding: 0 0 0 0;\n",
              "    width: 32px;\n",
              "  }\n",
              "\n",
              "  .colab-df-quickchart:hover {\n",
              "    background-color: #E2EBFA;\n",
              "    box-shadow: 0px 1px 2px rgba(60, 64, 67, 0.3), 0px 1px 3px 1px rgba(60, 64, 67, 0.15);\n",
              "    fill: #174EA6;\n",
              "  }\n",
              "\n",
              "  [theme=dark] .colab-df-quickchart {\n",
              "    background-color: #3B4455;\n",
              "    fill: #D2E3FC;\n",
              "  }\n",
              "\n",
              "  [theme=dark] .colab-df-quickchart:hover {\n",
              "    background-color: #434B5C;\n",
              "    box-shadow: 0px 1px 3px 1px rgba(0, 0, 0, 0.15);\n",
              "    filter: drop-shadow(0px 1px 2px rgba(0, 0, 0, 0.3));\n",
              "    fill: #FFFFFF;\n",
              "  }\n",
              "</style>\n",
              "\n",
              "    <script>\n",
              "      async function quickchart(key) {\n",
              "        const containerElement = document.querySelector('#' + key);\n",
              "        const charts = await google.colab.kernel.invokeFunction(\n",
              "            'suggestCharts', [key], {});\n",
              "      }\n",
              "    </script>\n",
              "\n",
              "      <script>\n",
              "\n",
              "function displayQuickchartButton(domScope) {\n",
              "  let quickchartButtonEl =\n",
              "    domScope.querySelector('#df-b629a736-3324-45af-baf8-15efe161e99d button.colab-df-quickchart');\n",
              "  quickchartButtonEl.style.display =\n",
              "    google.colab.kernel.accessAllowed ? 'block' : 'none';\n",
              "}\n",
              "\n",
              "        displayQuickchartButton(document);\n",
              "      </script>\n",
              "      <style>\n",
              "    .colab-df-container {\n",
              "      display:flex;\n",
              "      flex-wrap:wrap;\n",
              "      gap: 12px;\n",
              "    }\n",
              "\n",
              "    .colab-df-convert {\n",
              "      background-color: #E8F0FE;\n",
              "      border: none;\n",
              "      border-radius: 50%;\n",
              "      cursor: pointer;\n",
              "      display: none;\n",
              "      fill: #1967D2;\n",
              "      height: 32px;\n",
              "      padding: 0 0 0 0;\n",
              "      width: 32px;\n",
              "    }\n",
              "\n",
              "    .colab-df-convert:hover {\n",
              "      background-color: #E2EBFA;\n",
              "      box-shadow: 0px 1px 2px rgba(60, 64, 67, 0.3), 0px 1px 3px 1px rgba(60, 64, 67, 0.15);\n",
              "      fill: #174EA6;\n",
              "    }\n",
              "\n",
              "    [theme=dark] .colab-df-convert {\n",
              "      background-color: #3B4455;\n",
              "      fill: #D2E3FC;\n",
              "    }\n",
              "\n",
              "    [theme=dark] .colab-df-convert:hover {\n",
              "      background-color: #434B5C;\n",
              "      box-shadow: 0px 1px 3px 1px rgba(0, 0, 0, 0.15);\n",
              "      filter: drop-shadow(0px 1px 2px rgba(0, 0, 0, 0.3));\n",
              "      fill: #FFFFFF;\n",
              "    }\n",
              "  </style>\n",
              "\n",
              "      <script>\n",
              "        const buttonEl =\n",
              "          document.querySelector('#df-a288a1be-8e13-4a53-a6fd-0db37091ea04 button.colab-df-convert');\n",
              "        buttonEl.style.display =\n",
              "          google.colab.kernel.accessAllowed ? 'block' : 'none';\n",
              "\n",
              "        async function convertToInteractive(key) {\n",
              "          const element = document.querySelector('#df-a288a1be-8e13-4a53-a6fd-0db37091ea04');\n",
              "          const dataTable =\n",
              "            await google.colab.kernel.invokeFunction('convertToInteractive',\n",
              "                                                     [key], {});\n",
              "          if (!dataTable) return;\n",
              "\n",
              "          const docLinkHtml = 'Like what you see? Visit the ' +\n",
              "            '<a target=\"_blank\" href=https://colab.research.google.com/notebooks/data_table.ipynb>data table notebook</a>'\n",
              "            + ' to learn more about interactive tables.';\n",
              "          element.innerHTML = '';\n",
              "          dataTable['output_type'] = 'display_data';\n",
              "          await google.colab.output.renderOutput(dataTable, element);\n",
              "          const docLink = document.createElement('div');\n",
              "          docLink.innerHTML = docLinkHtml;\n",
              "          element.appendChild(docLink);\n",
              "        }\n",
              "      </script>\n",
              "    </div>\n",
              "  </div>\n"
            ]
          },
          "metadata": {},
          "execution_count": 9
        }
      ],
      "source": [
        "df_train"
      ]
    },
    {
      "cell_type": "code",
      "execution_count": null,
      "metadata": {
        "colab": {
          "base_uri": "https://localhost:8080/",
          "height": 424
        },
        "id": "kpRsh_i1gakO",
        "outputId": "edc4d2f7-4258-4c78-c4ad-6831fc41f9a9"
      },
      "outputs": [
        {
          "output_type": "execute_result",
          "data": {
            "text/plain": [
              "                                                 texto   categoria_general  \\\n",
              "0                                           de acuerdo             afirmar   \n",
              "1       adiós señor, mis mejores deseos para su esposa           despedida   \n",
              "2                                         ¿cómo estás?              estado   \n",
              "3                                        ¿qué te pasa?  motivo_de_consulta   \n",
              "4                     ¿Cuál es el motivo de su visita?  motivo_de_consulta   \n",
              "..                                                 ...                 ...   \n",
              "301                          háblame de tu vida_sexual         vida_sexual   \n",
              "302  ¿Qué edad tenías cuando tuviste tus primeras r...         vida_sexual   \n",
              "303  ¿Con qué frecuencia tiene usted relaciones sex...         vida_sexual   \n",
              "304  ha tenido relaciones sexuales bajo la influenc...         vida_sexual   \n",
              "305                        es usted sexualmente activo         vida_sexual   \n",
              "\n",
              "       intent_1 intent_2 intent_3                intent_4  \\\n",
              "0           NaN      NaN      NaN                 afirmar   \n",
              "1           NaN      NaN      NaN               despedida   \n",
              "2           NaN      NaN      NaN                  estado   \n",
              "3           NaN      NaN      NaN      motivo_de_consulta   \n",
              "4           NaN      NaN      NaN      motivo_de_consulta   \n",
              "..          ...      ...      ...                     ...   \n",
              "301   describir      NaN      NaN   vida_sexual_describir   \n",
              "302        edad      NaN      NaN        vida_sexual_edad   \n",
              "303  frecuencia      NaN      NaN  vida_sexual_frecuencia   \n",
              "304       otros      NaN      NaN       vida_sexual_otros   \n",
              "305     si_o_no      NaN      NaN     vida_sexual_si_o_no   \n",
              "\n",
              "                                                  text  \n",
              "0                                           de acuerdo  \n",
              "1        adiós señor mis mejores deseos para su esposa  \n",
              "2                                           cómo estás  \n",
              "3                                          qué te pasa  \n",
              "4                       cuál es el motivo de su visita  \n",
              "..                                                 ...  \n",
              "301                           háblame de tu vidasexual  \n",
              "302  qué edad tenías cuando tuviste tus primeras re...  \n",
              "303  con qué frecuencia tiene usted relaciones sexu...  \n",
              "304  ha tenido relaciones sexuales bajo la influenc...  \n",
              "305                        es usted sexualmente activo  \n",
              "\n",
              "[306 rows x 7 columns]"
            ],
            "text/html": [
              "\n",
              "\n",
              "  <div id=\"df-e41bf7cf-df03-4a37-a887-9dbf7bba0681\">\n",
              "    <div class=\"colab-df-container\">\n",
              "      <div>\n",
              "<style scoped>\n",
              "    .dataframe tbody tr th:only-of-type {\n",
              "        vertical-align: middle;\n",
              "    }\n",
              "\n",
              "    .dataframe tbody tr th {\n",
              "        vertical-align: top;\n",
              "    }\n",
              "\n",
              "    .dataframe thead th {\n",
              "        text-align: right;\n",
              "    }\n",
              "</style>\n",
              "<table border=\"1\" class=\"dataframe\">\n",
              "  <thead>\n",
              "    <tr style=\"text-align: right;\">\n",
              "      <th></th>\n",
              "      <th>texto</th>\n",
              "      <th>categoria_general</th>\n",
              "      <th>intent_1</th>\n",
              "      <th>intent_2</th>\n",
              "      <th>intent_3</th>\n",
              "      <th>intent_4</th>\n",
              "      <th>text</th>\n",
              "    </tr>\n",
              "  </thead>\n",
              "  <tbody>\n",
              "    <tr>\n",
              "      <th>0</th>\n",
              "      <td>de acuerdo</td>\n",
              "      <td>afirmar</td>\n",
              "      <td>NaN</td>\n",
              "      <td>NaN</td>\n",
              "      <td>NaN</td>\n",
              "      <td>afirmar</td>\n",
              "      <td>de acuerdo</td>\n",
              "    </tr>\n",
              "    <tr>\n",
              "      <th>1</th>\n",
              "      <td>adiós señor, mis mejores deseos para su esposa</td>\n",
              "      <td>despedida</td>\n",
              "      <td>NaN</td>\n",
              "      <td>NaN</td>\n",
              "      <td>NaN</td>\n",
              "      <td>despedida</td>\n",
              "      <td>adiós señor mis mejores deseos para su esposa</td>\n",
              "    </tr>\n",
              "    <tr>\n",
              "      <th>2</th>\n",
              "      <td>¿cómo estás?</td>\n",
              "      <td>estado</td>\n",
              "      <td>NaN</td>\n",
              "      <td>NaN</td>\n",
              "      <td>NaN</td>\n",
              "      <td>estado</td>\n",
              "      <td>cómo estás</td>\n",
              "    </tr>\n",
              "    <tr>\n",
              "      <th>3</th>\n",
              "      <td>¿qué te pasa?</td>\n",
              "      <td>motivo_de_consulta</td>\n",
              "      <td>NaN</td>\n",
              "      <td>NaN</td>\n",
              "      <td>NaN</td>\n",
              "      <td>motivo_de_consulta</td>\n",
              "      <td>qué te pasa</td>\n",
              "    </tr>\n",
              "    <tr>\n",
              "      <th>4</th>\n",
              "      <td>¿Cuál es el motivo de su visita?</td>\n",
              "      <td>motivo_de_consulta</td>\n",
              "      <td>NaN</td>\n",
              "      <td>NaN</td>\n",
              "      <td>NaN</td>\n",
              "      <td>motivo_de_consulta</td>\n",
              "      <td>cuál es el motivo de su visita</td>\n",
              "    </tr>\n",
              "    <tr>\n",
              "      <th>...</th>\n",
              "      <td>...</td>\n",
              "      <td>...</td>\n",
              "      <td>...</td>\n",
              "      <td>...</td>\n",
              "      <td>...</td>\n",
              "      <td>...</td>\n",
              "      <td>...</td>\n",
              "    </tr>\n",
              "    <tr>\n",
              "      <th>301</th>\n",
              "      <td>háblame de tu vida_sexual</td>\n",
              "      <td>vida_sexual</td>\n",
              "      <td>describir</td>\n",
              "      <td>NaN</td>\n",
              "      <td>NaN</td>\n",
              "      <td>vida_sexual_describir</td>\n",
              "      <td>háblame de tu vidasexual</td>\n",
              "    </tr>\n",
              "    <tr>\n",
              "      <th>302</th>\n",
              "      <td>¿Qué edad tenías cuando tuviste tus primeras r...</td>\n",
              "      <td>vida_sexual</td>\n",
              "      <td>edad</td>\n",
              "      <td>NaN</td>\n",
              "      <td>NaN</td>\n",
              "      <td>vida_sexual_edad</td>\n",
              "      <td>qué edad tenías cuando tuviste tus primeras re...</td>\n",
              "    </tr>\n",
              "    <tr>\n",
              "      <th>303</th>\n",
              "      <td>¿Con qué frecuencia tiene usted relaciones sex...</td>\n",
              "      <td>vida_sexual</td>\n",
              "      <td>frecuencia</td>\n",
              "      <td>NaN</td>\n",
              "      <td>NaN</td>\n",
              "      <td>vida_sexual_frecuencia</td>\n",
              "      <td>con qué frecuencia tiene usted relaciones sexu...</td>\n",
              "    </tr>\n",
              "    <tr>\n",
              "      <th>304</th>\n",
              "      <td>ha tenido relaciones sexuales bajo la influenc...</td>\n",
              "      <td>vida_sexual</td>\n",
              "      <td>otros</td>\n",
              "      <td>NaN</td>\n",
              "      <td>NaN</td>\n",
              "      <td>vida_sexual_otros</td>\n",
              "      <td>ha tenido relaciones sexuales bajo la influenc...</td>\n",
              "    </tr>\n",
              "    <tr>\n",
              "      <th>305</th>\n",
              "      <td>es usted sexualmente activo</td>\n",
              "      <td>vida_sexual</td>\n",
              "      <td>si_o_no</td>\n",
              "      <td>NaN</td>\n",
              "      <td>NaN</td>\n",
              "      <td>vida_sexual_si_o_no</td>\n",
              "      <td>es usted sexualmente activo</td>\n",
              "    </tr>\n",
              "  </tbody>\n",
              "</table>\n",
              "<p>306 rows × 7 columns</p>\n",
              "</div>\n",
              "      <button class=\"colab-df-convert\" onclick=\"convertToInteractive('df-e41bf7cf-df03-4a37-a887-9dbf7bba0681')\"\n",
              "              title=\"Convert this dataframe to an interactive table.\"\n",
              "              style=\"display:none;\">\n",
              "\n",
              "  <svg xmlns=\"http://www.w3.org/2000/svg\" height=\"24px\"viewBox=\"0 0 24 24\"\n",
              "       width=\"24px\">\n",
              "    <path d=\"M0 0h24v24H0V0z\" fill=\"none\"/>\n",
              "    <path d=\"M18.56 5.44l.94 2.06.94-2.06 2.06-.94-2.06-.94-.94-2.06-.94 2.06-2.06.94zm-11 1L8.5 8.5l.94-2.06 2.06-.94-2.06-.94L8.5 2.5l-.94 2.06-2.06.94zm10 10l.94 2.06.94-2.06 2.06-.94-2.06-.94-.94-2.06-.94 2.06-2.06.94z\"/><path d=\"M17.41 7.96l-1.37-1.37c-.4-.4-.92-.59-1.43-.59-.52 0-1.04.2-1.43.59L10.3 9.45l-7.72 7.72c-.78.78-.78 2.05 0 2.83L4 21.41c.39.39.9.59 1.41.59.51 0 1.02-.2 1.41-.59l7.78-7.78 2.81-2.81c.8-.78.8-2.07 0-2.86zM5.41 20L4 18.59l7.72-7.72 1.47 1.35L5.41 20z\"/>\n",
              "  </svg>\n",
              "      </button>\n",
              "\n",
              "\n",
              "\n",
              "    <div id=\"df-45bdfdca-f2b3-4e0b-a29c-4ae3c1e57081\">\n",
              "      <button class=\"colab-df-quickchart\" onclick=\"quickchart('df-45bdfdca-f2b3-4e0b-a29c-4ae3c1e57081')\"\n",
              "              title=\"Suggest charts.\"\n",
              "              style=\"display:none;\">\n",
              "\n",
              "<svg xmlns=\"http://www.w3.org/2000/svg\" height=\"24px\"viewBox=\"0 0 24 24\"\n",
              "     width=\"24px\">\n",
              "    <g>\n",
              "        <path d=\"M19 3H5c-1.1 0-2 .9-2 2v14c0 1.1.9 2 2 2h14c1.1 0 2-.9 2-2V5c0-1.1-.9-2-2-2zM9 17H7v-7h2v7zm4 0h-2V7h2v10zm4 0h-2v-4h2v4z\"/>\n",
              "    </g>\n",
              "</svg>\n",
              "      </button>\n",
              "    </div>\n",
              "\n",
              "<style>\n",
              "  .colab-df-quickchart {\n",
              "    background-color: #E8F0FE;\n",
              "    border: none;\n",
              "    border-radius: 50%;\n",
              "    cursor: pointer;\n",
              "    display: none;\n",
              "    fill: #1967D2;\n",
              "    height: 32px;\n",
              "    padding: 0 0 0 0;\n",
              "    width: 32px;\n",
              "  }\n",
              "\n",
              "  .colab-df-quickchart:hover {\n",
              "    background-color: #E2EBFA;\n",
              "    box-shadow: 0px 1px 2px rgba(60, 64, 67, 0.3), 0px 1px 3px 1px rgba(60, 64, 67, 0.15);\n",
              "    fill: #174EA6;\n",
              "  }\n",
              "\n",
              "  [theme=dark] .colab-df-quickchart {\n",
              "    background-color: #3B4455;\n",
              "    fill: #D2E3FC;\n",
              "  }\n",
              "\n",
              "  [theme=dark] .colab-df-quickchart:hover {\n",
              "    background-color: #434B5C;\n",
              "    box-shadow: 0px 1px 3px 1px rgba(0, 0, 0, 0.15);\n",
              "    filter: drop-shadow(0px 1px 2px rgba(0, 0, 0, 0.3));\n",
              "    fill: #FFFFFF;\n",
              "  }\n",
              "</style>\n",
              "\n",
              "    <script>\n",
              "      async function quickchart(key) {\n",
              "        const containerElement = document.querySelector('#' + key);\n",
              "        const charts = await google.colab.kernel.invokeFunction(\n",
              "            'suggestCharts', [key], {});\n",
              "      }\n",
              "    </script>\n",
              "\n",
              "      <script>\n",
              "\n",
              "function displayQuickchartButton(domScope) {\n",
              "  let quickchartButtonEl =\n",
              "    domScope.querySelector('#df-45bdfdca-f2b3-4e0b-a29c-4ae3c1e57081 button.colab-df-quickchart');\n",
              "  quickchartButtonEl.style.display =\n",
              "    google.colab.kernel.accessAllowed ? 'block' : 'none';\n",
              "}\n",
              "\n",
              "        displayQuickchartButton(document);\n",
              "      </script>\n",
              "      <style>\n",
              "    .colab-df-container {\n",
              "      display:flex;\n",
              "      flex-wrap:wrap;\n",
              "      gap: 12px;\n",
              "    }\n",
              "\n",
              "    .colab-df-convert {\n",
              "      background-color: #E8F0FE;\n",
              "      border: none;\n",
              "      border-radius: 50%;\n",
              "      cursor: pointer;\n",
              "      display: none;\n",
              "      fill: #1967D2;\n",
              "      height: 32px;\n",
              "      padding: 0 0 0 0;\n",
              "      width: 32px;\n",
              "    }\n",
              "\n",
              "    .colab-df-convert:hover {\n",
              "      background-color: #E2EBFA;\n",
              "      box-shadow: 0px 1px 2px rgba(60, 64, 67, 0.3), 0px 1px 3px 1px rgba(60, 64, 67, 0.15);\n",
              "      fill: #174EA6;\n",
              "    }\n",
              "\n",
              "    [theme=dark] .colab-df-convert {\n",
              "      background-color: #3B4455;\n",
              "      fill: #D2E3FC;\n",
              "    }\n",
              "\n",
              "    [theme=dark] .colab-df-convert:hover {\n",
              "      background-color: #434B5C;\n",
              "      box-shadow: 0px 1px 3px 1px rgba(0, 0, 0, 0.15);\n",
              "      filter: drop-shadow(0px 1px 2px rgba(0, 0, 0, 0.3));\n",
              "      fill: #FFFFFF;\n",
              "    }\n",
              "  </style>\n",
              "\n",
              "      <script>\n",
              "        const buttonEl =\n",
              "          document.querySelector('#df-e41bf7cf-df03-4a37-a887-9dbf7bba0681 button.colab-df-convert');\n",
              "        buttonEl.style.display =\n",
              "          google.colab.kernel.accessAllowed ? 'block' : 'none';\n",
              "\n",
              "        async function convertToInteractive(key) {\n",
              "          const element = document.querySelector('#df-e41bf7cf-df03-4a37-a887-9dbf7bba0681');\n",
              "          const dataTable =\n",
              "            await google.colab.kernel.invokeFunction('convertToInteractive',\n",
              "                                                     [key], {});\n",
              "          if (!dataTable) return;\n",
              "\n",
              "          const docLinkHtml = 'Like what you see? Visit the ' +\n",
              "            '<a target=\"_blank\" href=https://colab.research.google.com/notebooks/data_table.ipynb>data table notebook</a>'\n",
              "            + ' to learn more about interactive tables.';\n",
              "          element.innerHTML = '';\n",
              "          dataTable['output_type'] = 'display_data';\n",
              "          await google.colab.output.renderOutput(dataTable, element);\n",
              "          const docLink = document.createElement('div');\n",
              "          docLink.innerHTML = docLinkHtml;\n",
              "          element.appendChild(docLink);\n",
              "        }\n",
              "      </script>\n",
              "    </div>\n",
              "  </div>\n"
            ]
          },
          "metadata": {},
          "execution_count": 10
        }
      ],
      "source": [
        "df_val"
      ]
    },
    {
      "cell_type": "code",
      "execution_count": null,
      "metadata": {
        "colab": {
          "base_uri": "https://localhost:8080/",
          "height": 145,
          "referenced_widgets": [
            "13e7b60e5b1e42a9bc8d6b5e6e9d85d8",
            "cb1e367ab13b450595001af81803bd2b",
            "91472790aa49498abf0de5c3108be270",
            "f4678b0827524d62b3625315e36e0f91",
            "f6199ac6acdb4ab9a60285b7ad60d6a8",
            "5471224010a24bbba485b55644675624",
            "29aa16fa6d064ec8bf63cdb08e5778e1",
            "a34c206702e6472fa5529118de2e7805",
            "1e2e9b3601724885a7fed0ce0e84bbd7",
            "e6b2a8c5d614418fafb5a78d8b379d9d",
            "345ca83fdb694d3fa0eef3dc357f82c0",
            "4aed64841fee46e39b327dc10fb1669f",
            "dac37e08a44c401f92ed3a6dfda2beff",
            "90f4d8a1a7fb44ce81ff444a03f024c3",
            "ab5e34eb5e6c4e908db22e2d6ec463e1",
            "da39a239f2d74ce69f349a60b125ac43",
            "318b1cc933f94ab2bffc24e49a82ad1f",
            "a8c603d6edb9418eb6fb393832fea1fc",
            "4a18d67907834231be235762b00a6332",
            "3f4f8fa7457b43499052f6af9727652b",
            "f73457f0f30443938c786a5e6c03f296",
            "88a7619936864751b27b1c92d1992ed0",
            "f02b1dea3db54db6a027d99c003d3e0e",
            "da4c7da63d474515bcb462207f28b134",
            "9af9b646223c40c39e5af133769ba35c",
            "e0daa2727c374ff7b4061653b85dd9c1",
            "1e0bcb928ea54febadd50740c4228383",
            "970f1ebac6604d5b85d2f10bf7e66371",
            "6ad4b40cea5f48b4906f7dd729795ec5",
            "fe6250b386a94a84a862c394333eb46e",
            "2b118a4cc8ff4b6e81410baf44e0b958",
            "f611eec8868b40298cb5af77431f4345",
            "4e43c7f391d04d2286b49ca8f8ae1015",
            "d75c4a111b65489685556fe3e4fb1523",
            "e389d49e16d54289ad7d3e204f81d8eb",
            "b969daff8266470c905e0370ac9a0bd0",
            "45a26eca087146f59aa6302a31d29e06",
            "d4823ce3c6954aa291df9680642b4424",
            "1e813ffdd2db4b9f93a7975c83a9f577",
            "5e7b38698d2e4dc0be913e4b7a289210",
            "3eefb49ecbf24a0380efb166ddde0e50",
            "bab64a3dc94e46b59fd608538ccf66e7",
            "d89b077004624b7bbb4395efbd592e0a",
            "1cc91fcbbaec4f6d86a3278c3e81bc39"
          ]
        },
        "id": "RSjSHAykDRAZ",
        "outputId": "30d8c4da-e04c-4733-91ba-05a70a267c0f"
      },
      "outputs": [
        {
          "output_type": "display_data",
          "data": {
            "text/plain": [
              "Downloading:   0%|          | 0.00/481 [00:00<?, ?B/s]"
            ],
            "application/vnd.jupyter.widget-view+json": {
              "version_major": 2,
              "version_minor": 0,
              "model_id": "13e7b60e5b1e42a9bc8d6b5e6e9d85d8"
            }
          },
          "metadata": {}
        },
        {
          "output_type": "display_data",
          "data": {
            "text/plain": [
              "Downloading:   0%|          | 0.00/878k [00:00<?, ?B/s]"
            ],
            "application/vnd.jupyter.widget-view+json": {
              "version_major": 2,
              "version_minor": 0,
              "model_id": "4aed64841fee46e39b327dc10fb1669f"
            }
          },
          "metadata": {}
        },
        {
          "output_type": "display_data",
          "data": {
            "text/plain": [
              "Downloading:   0%|          | 0.00/446k [00:00<?, ?B/s]"
            ],
            "application/vnd.jupyter.widget-view+json": {
              "version_major": 2,
              "version_minor": 0,
              "model_id": "f02b1dea3db54db6a027d99c003d3e0e"
            }
          },
          "metadata": {}
        },
        {
          "output_type": "display_data",
          "data": {
            "text/plain": [
              "Downloading:   0%|          | 0.00/1.29M [00:00<?, ?B/s]"
            ],
            "application/vnd.jupyter.widget-view+json": {
              "version_major": 2,
              "version_minor": 0,
              "model_id": "d75c4a111b65489685556fe3e4fb1523"
            }
          },
          "metadata": {}
        }
      ],
      "source": [
        "model_name = \"roberta-base\" # 'jfarray/Model_dccuchile_bert-base-spanish-wwm-uncased_100_Epochs'\n",
        "tokenizer = AutoTokenizer.from_pretrained(model_name)"
      ]
    },
    {
      "cell_type": "code",
      "execution_count": null,
      "metadata": {
        "colab": {
          "base_uri": "https://localhost:8080/"
        },
        "id": "cD6zY1XaDXdi",
        "outputId": "140c6c6b-3be6-411e-c956-e2a1a0e5d320"
      },
      "outputs": [
        {
          "output_type": "stream",
          "name": "stdout",
          "text": [
            "['cuál', 'fue', 'el', 'peso', 'del', 'bebé', 'al', 'nacer']\n",
            "{'cuál': [16312, 1526, 462], 'fue': [506, 1780], 'el': [523], 'peso': [29270, 139], 'del': [10273], 'bebé': [1610, 428, 1140], 'al': [337], 'nacer': [282, 11937]}\n"
          ]
        }
      ],
      "source": [
        "print(df_train.text.values[500].split())\n",
        "print({x : tokenizer.encode(x, add_special_tokens=False) for x in df_train.text.values[500].split()})"
      ]
    },
    {
      "cell_type": "code",
      "execution_count": null,
      "metadata": {
        "colab": {
          "base_uri": "https://localhost:8080/"
        },
        "id": "qZmZYE9JD09l",
        "outputId": "9951f960-cc23-4fb5-8d9c-b1db67c6beab"
      },
      "outputs": [
        {
          "output_type": "execute_result",
          "data": {
            "text/plain": [
              "[0,\n",
              " 16312,\n",
              " 1526,\n",
              " 462,\n",
              " 13081,\n",
              " 1615,\n",
              " 12165,\n",
              " 139,\n",
              " 2424,\n",
              " 28,\n",
              " 428,\n",
              " 1140,\n",
              " 1076,\n",
              " 295,\n",
              " 11937,\n",
              " 2]"
            ]
          },
          "metadata": {},
          "execution_count": 13
        }
      ],
      "source": [
        "tokenizer(df_train.text.values[500])['input_ids']\n"
      ]
    },
    {
      "cell_type": "code",
      "execution_count": null,
      "metadata": {
        "colab": {
          "base_uri": "https://localhost:8080/",
          "height": 937
        },
        "id": "fQ-2Xf7JEM-1",
        "outputId": "871874dd-7160-41ad-dfa5-ba01079e19a0"
      },
      "outputs": [
        {
          "output_type": "stream",
          "name": "stdout",
          "text": [
            "max:  47\n",
            "min:  3\n"
          ]
        },
        {
          "output_type": "execute_result",
          "data": {
            "text/plain": [
              "(array([  0., 100., 200., 300., 400., 500., 600., 700., 800., 900.]),\n",
              " [Text(0, 0.0, '0'),\n",
              "  Text(0, 100.0, '100'),\n",
              "  Text(0, 200.0, '200'),\n",
              "  Text(0, 300.0, '300'),\n",
              "  Text(0, 400.0, '400'),\n",
              "  Text(0, 500.0, '500'),\n",
              "  Text(0, 600.0, '600'),\n",
              "  Text(0, 700.0, '700'),\n",
              "  Text(0, 800.0, '800'),\n",
              "  Text(0, 900.0, '900')])"
            ]
          },
          "metadata": {},
          "execution_count": 14
        },
        {
          "output_type": "display_data",
          "data": {
            "text/plain": [
              "<Figure size 2000x800 with 1 Axes>"
            ],
            "image/png": "[encoded data removed]"
          },
          "metadata": {}
        }
      ],
      "source": [
        "\n",
        "# tokenize the text feature\n",
        "tokenized_feature_raw = tokenizer.batch_encode_plus(\n",
        "                            # Sentences to encode\n",
        "                            df_train.text.values.tolist(),\n",
        "                            # Add '[CLS]' and '[SEP]'\n",
        "                            add_special_tokens = True\n",
        "                   )\n",
        "tokenized_feature_raw_val = tokenizer.batch_encode_plus(\n",
        "                            # Sentences to encode\n",
        "                            df_val.text.values.tolist(),\n",
        "                            # Add '[CLS]' and '[SEP]'\n",
        "                            add_special_tokens = True\n",
        "                   )\n",
        "# collect tokenized sentence length\n",
        "token_sentence_length = [len(x) for x in tokenized_feature_raw['input_ids']]\n",
        "print('max: ', max(token_sentence_length))\n",
        "print('min: ', min(token_sentence_length))\n",
        "# plot the distribution\n",
        "plt.figure(figsize=(20, 8))\n",
        "plt.hist(token_sentence_length, rwidth = 0.9)\n",
        "plt.xlabel('Sequence Length', fontsize = 18)\n",
        "plt.ylabel('# of Samples', fontsize = 18)\n",
        "plt.xticks(fontsize = 14)\n",
        "plt.yticks(fontsize = 14)"
      ]
    },
    {
      "cell_type": "code",
      "execution_count": null,
      "metadata": {
        "id": "xU5aPkB5EiZo"
      },
      "outputs": [],
      "source": [
        "# identify features and target\n",
        "features = df_train.text.values.tolist()\n",
        "target = df_train.intent_4.values.tolist()\n",
        "features_val = df_val.text.values.tolist()\n",
        "target_val = df_val.intent_4.values.tolist()"
      ]
    },
    {
      "cell_type": "code",
      "execution_count": null,
      "metadata": {
        "id": "6FU037t9Evur"
      },
      "outputs": [],
      "source": [
        "# tokenize features\n",
        "MAX_LEN = 40\n",
        "tokenized_feature = tokenizer.batch_encode_plus(\n",
        "                            # Sentences to encode\n",
        "                            features,\n",
        "                            # Add '[CLS]' and '[SEP]'\n",
        "                            add_special_tokens = True,\n",
        "                            # Add empty tokens if len(text)<MAX_LEN\n",
        "                            padding = 'max_length',\n",
        "                            # Truncate all sentences to max length\n",
        "                            truncation=True,\n",
        "                            # Set the maximum length\n",
        "                            max_length = MAX_LEN,\n",
        "                            # Return attention mask\n",
        "                            return_attention_mask = True,\n",
        "                            # Return pytorch tensors\n",
        "                            return_tensors = 'pt'\n",
        "                   )\n",
        "tokenized_feature_val = tokenizer.batch_encode_plus(\n",
        "                            # Sentences to encode\n",
        "                            features_val,\n",
        "                            # Add '[CLS]' and '[SEP]'\n",
        "                            add_special_tokens = True,\n",
        "                            # Add empty tokens if len(text)<MAX_LEN\n",
        "                            padding = 'max_length',\n",
        "                            # Truncate all sentences to max length\n",
        "                            truncation=True,\n",
        "                            # Set the maximum length\n",
        "                            max_length = MAX_LEN,\n",
        "                            # Return attention mask\n",
        "                            return_attention_mask = True,\n",
        "                            # Return pytorch tensors\n",
        "                            return_tensors = 'pt'\n",
        "                   )"
      ]
    },
    {
      "cell_type": "code",
      "execution_count": null,
      "metadata": {
        "id": "9DtaMmkuE_Kp"
      },
      "outputs": [],
      "source": [
        "# convert label into numeric\n",
        "le = LabelEncoder()\n",
        "le.fit(target)\n",
        "target_num = le.transform(target)\n",
        "\n",
        "\n",
        "le_val = LabelEncoder()\n",
        "le_val.fit(target_val)\n",
        "target_num_val = le.transform(target_val)\n",
        "\n",
        "\n"
      ]
    },
    {
      "cell_type": "code",
      "execution_count": null,
      "metadata": {
        "id": "StK-jcm2FgtW"
      },
      "outputs": [],
      "source": [
        "# Use 80% for training and 20% for validation and if we want to split uncomment\n",
        "#train_inputs, validation_inputs, train_labels, validation_labels, train_masks, validation_masks = train_test_split(tokenized_feature['input_ids'],target_num,tokenized_feature['attention_mask'],random_state=2018, test_size=0.13, stratify=target)\n"
      ]
    },
    {
      "cell_type": "markdown",
      "source": [
        "# **TRAINING**"
      ],
      "metadata": {
        "id": "7qbEIhE1esAN"
      }
    },
    {
      "cell_type": "code",
      "execution_count": null,
      "metadata": {
        "id": "O3wHGBGcb8RB"
      },
      "outputs": [],
      "source": [
        "# define batch_size\n",
        "batch_size = 32\n",
        "# Create the DataLoader for our training set\n",
        "train_data = TensorDataset(tokenized_feature['input_ids'],tokenized_feature['attention_mask'], torch.tensor(target_num))\n",
        "train_sampler = RandomSampler(train_data)\n",
        "train_dataloader = DataLoader(train_data, sampler=train_sampler, batch_size=batch_size)\n",
        "# Create the DataLoader for our test set\n",
        "validation_data = TensorDataset(tokenized_feature_val['input_ids'], tokenized_feature_val['attention_mask'], torch.tensor(target_num_val))\n",
        "validation_sampler = SequentialSampler(validation_data)\n",
        "validation_dataloader = DataLoader(validation_data, sampler=validation_sampler, batch_size=batch_size)"
      ]
    },
    {
      "cell_type": "code",
      "execution_count": null,
      "metadata": {
        "colab": {
          "base_uri": "https://localhost:8080/",
          "height": 173,
          "referenced_widgets": [
            "bb7feccbb6964a0998caa84fdc7fee36",
            "afb0becb08a843b89e8d1448aa1243f1",
            "93fa8b3825e04fe4b54cad682aacae16",
            "b779f117422d469fa465ae1784557488",
            "bcb925067b0042e2ba0adb476eecaf20",
            "9222242e6c7a4b3a80b485dad31fbd70",
            "9e501f7e08ae472fa85e8fdd8bab6644",
            "2bc45e943787446c8d721fd1c45af0f2",
            "03dc0899b39c452aa6158a170c9281e9",
            "db89f5cf7bf147a39bc49df9821fa0ce",
            "3fe5038182394e44b8cb639d021688fa"
          ]
        },
        "id": "LH0E0FSkcG1O",
        "outputId": "bbd92ae0-41af-44e4-b7e8-6f6126001b87"
      },
      "outputs": [
        {
          "output_type": "stream",
          "name": "stderr",
          "text": [
            "You are using a model of type roberta to instantiate a model of type xlm-roberta. This is not supported for all configurations of models and can yield errors.\n"
          ]
        },
        {
          "output_type": "display_data",
          "data": {
            "text/plain": [
              "Downloading:   0%|          | 0.00/478M [00:00<?, ?B/s]"
            ],
            "application/vnd.jupyter.widget-view+json": {
              "version_major": 2,
              "version_minor": 0,
              "model_id": "bb7feccbb6964a0998caa84fdc7fee36"
            }
          },
          "metadata": {}
        },
        {
          "output_type": "stream",
          "name": "stderr",
          "text": [
            "Some weights of the model checkpoint at roberta-base were not used when initializing XLMRobertaForSequenceClassification: ['lm_head.bias', 'lm_head.decoder.weight', 'lm_head.layer_norm.bias', 'lm_head.dense.weight', 'lm_head.layer_norm.weight', 'lm_head.dense.bias', 'roberta.pooler.dense.weight', 'roberta.pooler.dense.bias']\n",
            "- This IS expected if you are initializing XLMRobertaForSequenceClassification from the checkpoint of a model trained on another task or with another architecture (e.g. initializing a BertForSequenceClassification model from a BertForPreTraining model).\n",
            "- This IS NOT expected if you are initializing XLMRobertaForSequenceClassification from the checkpoint of a model that you expect to be exactly identical (initializing a BertForSequenceClassification model from a BertForSequenceClassification model).\n",
            "Some weights of XLMRobertaForSequenceClassification were not initialized from the model checkpoint at roberta-base and are newly initialized: ['classifier.dense.bias', 'classifier.out_proj.bias', 'classifier.dense.weight', 'classifier.out_proj.weight']\n",
            "You should probably TRAIN this model on a down-stream task to be able to use it for predictions and inference.\n"
          ]
        }
      ],
      "source": [
        "# BertForSequenceClassification\n",
        "model = XLMRobertaForSequenceClassification.from_pretrained(\n",
        "    model_name,\n",
        "    # Specify number of classes\n",
        "    num_labels = len(set(target)),\n",
        "    # Whether the model returns attentions weights\n",
        "    output_attentions = False,\n",
        "    # Whether the model returns all hidden-states\n",
        "    output_hidden_states = False\n",
        ")"
      ]
    },
    {
      "cell_type": "code",
      "execution_count": null,
      "metadata": {
        "colab": {
          "base_uri": "https://localhost:8080/"
        },
        "id": "phoTK9bTciRp",
        "outputId": "5544d1ac-86c1-4a7f-863b-65c9fe7b5755"
      },
      "outputs": [
        {
          "output_type": "stream",
          "name": "stderr",
          "text": [
            "/usr/local/lib/python3.10/dist-packages/transformers/optimization.py:306: FutureWarning: This implementation of AdamW is deprecated and will be removed in a future version. Use thePyTorch implementation torch.optim.AdamW instead, or set `no_deprecation_warning=True` to disable this warning\n",
            "  warnings.warn(\n"
          ]
        }
      ],
      "source": [
        "# Optimizer & Learning Rate Scheduler\n",
        "optimizer = AdamW(model.parameters(),\n",
        "                  lr =5e-5,\n",
        "                  eps = 1e-8\n",
        "                )#5e-5"
      ]
    },
    {
      "cell_type": "code",
      "execution_count": null,
      "metadata": {
        "id": "HOfTH_p2crxi"
      },
      "outputs": [],
      "source": [
        "# Number of training epochs\n",
        "epochs = 50\n",
        "# Total number of training steps is number of batches * number of epochs.\n",
        "total_steps = len(train_dataloader) * epochs\n",
        "# Create the learning rate scheduler\n",
        "scheduler = get_linear_schedule_with_warmup(optimizer,\n",
        "                                            num_warmup_steps = 0.05,\n",
        "                                            num_training_steps = total_steps)"
      ]
    },
    {
      "cell_type": "code",
      "execution_count": null,
      "metadata": {
        "colab": {
          "base_uri": "https://localhost:8080/"
        },
        "id": "gI66mle4ZSY8",
        "outputId": "54d4bedf-1d66-4c82-ce88-94d4d4558d01"
      },
      "outputs": [
        {
          "output_type": "execute_result",
          "data": {
            "text/plain": [
              "XLMRobertaForSequenceClassification(\n",
              "  (roberta): RobertaModel(\n",
              "    (embeddings): RobertaEmbeddings(\n",
              "      (word_embeddings): Embedding(50265, 768, padding_idx=1)\n",
              "      (position_embeddings): Embedding(514, 768, padding_idx=1)\n",
              "      (token_type_embeddings): Embedding(1, 768)\n",
              "      (LayerNorm): LayerNorm((768,), eps=1e-05, elementwise_affine=True)\n",
              "      (dropout): Dropout(p=0.1, inplace=False)\n",
              "    )\n",
              "    (encoder): RobertaEncoder(\n",
              "      (layer): ModuleList(\n",
              "        (0-11): 12 x RobertaLayer(\n",
              "          (attention): RobertaAttention(\n",
              "            (self): RobertaSelfAttention(\n",
              "              (query): Linear(in_features=768, out_features=768, bias=True)\n",
              "              (key): Linear(in_features=768, out_features=768, bias=True)\n",
              "              (value): Linear(in_features=768, out_features=768, bias=True)\n",
              "              (dropout): Dropout(p=0.1, inplace=False)\n",
              "            )\n",
              "            (output): RobertaSelfOutput(\n",
              "              (dense): Linear(in_features=768, out_features=768, bias=True)\n",
              "              (LayerNorm): LayerNorm((768,), eps=1e-05, elementwise_affine=True)\n",
              "              (dropout): Dropout(p=0.1, inplace=False)\n",
              "            )\n",
              "          )\n",
              "          (intermediate): RobertaIntermediate(\n",
              "            (dense): Linear(in_features=768, out_features=3072, bias=True)\n",
              "          )\n",
              "          (output): RobertaOutput(\n",
              "            (dense): Linear(in_features=3072, out_features=768, bias=True)\n",
              "            (LayerNorm): LayerNorm((768,), eps=1e-05, elementwise_affine=True)\n",
              "            (dropout): Dropout(p=0.1, inplace=False)\n",
              "          )\n",
              "        )\n",
              "      )\n",
              "    )\n",
              "  )\n",
              "  (classifier): RobertaClassificationHead(\n",
              "    (dense): Linear(in_features=768, out_features=768, bias=True)\n",
              "    (dropout): Dropout(p=0.1, inplace=False)\n",
              "    (out_proj): Linear(in_features=768, out_features=145, bias=True)\n",
              "  )\n",
              ")"
            ]
          },
          "metadata": {},
          "execution_count": 22
        }
      ],
      "source": [
        "model.cuda()\n"
      ]
    },
    {
      "cell_type": "code",
      "execution_count": null,
      "metadata": {
        "colab": {
          "base_uri": "https://localhost:8080/"
        },
        "id": "DUw0ifMWap79",
        "outputId": "4f073b10-9533-4972-f566-2b8220a7f5ce"
      },
      "outputs": [
        {
          "output_type": "stream",
          "name": "stdout",
          "text": [
            "total steps per epoch:  2.03125\n",
            "training on epoch:  0\n",
            "training on step:  50\n",
            "total time used is: 13.33 s\n"
          ]
        },
        {
          "output_type": "stream",
          "name": "stderr",
          "text": [
            "/usr/local/lib/python3.10/dist-packages/sklearn/metrics/_classification.py:1344: UndefinedMetricWarning: Precision and F-score are ill-defined and being set to 0.0 in labels with no predicted samples. Use `zero_division` parameter to control this behavior.\n",
            "  _warn_prf(average, modifier, msg_start, len(result))\n",
            "/usr/local/lib/python3.10/dist-packages/sklearn/metrics/_classification.py:1344: UndefinedMetricWarning: Precision and F-score are ill-defined and being set to 0.0 in labels with no predicted samples. Use `zero_division` parameter to control this behavior.\n",
            "  _warn_prf(average, modifier, msg_start, len(result))\n",
            "/usr/local/lib/python3.10/dist-packages/sklearn/metrics/_classification.py:1344: UndefinedMetricWarning: Precision and F-score are ill-defined and being set to 0.0 in labels with no predicted samples. Use `zero_division` parameter to control this behavior.\n",
            "  _warn_prf(average, modifier, msg_start, len(result))\n"
          ]
        },
        {
          "output_type": "stream",
          "name": "stdout",
          "text": [
            "0.11555087258630216\n",
            "average training loss: 4.03\n",
            "training on epoch:  1\n",
            "training on step:  50\n",
            "total time used is: 10.56 s\n"
          ]
        },
        {
          "output_type": "stream",
          "name": "stderr",
          "text": [
            "/usr/local/lib/python3.10/dist-packages/sklearn/metrics/_classification.py:1344: UndefinedMetricWarning: Precision and F-score are ill-defined and being set to 0.0 in labels with no predicted samples. Use `zero_division` parameter to control this behavior.\n",
            "  _warn_prf(average, modifier, msg_start, len(result))\n",
            "/usr/local/lib/python3.10/dist-packages/sklearn/metrics/_classification.py:1344: UndefinedMetricWarning: Precision and F-score are ill-defined and being set to 0.0 in labels with no predicted samples. Use `zero_division` parameter to control this behavior.\n",
            "  _warn_prf(average, modifier, msg_start, len(result))\n",
            "/usr/local/lib/python3.10/dist-packages/sklearn/metrics/_classification.py:1344: UndefinedMetricWarning: Precision and F-score are ill-defined and being set to 0.0 in labels with no predicted samples. Use `zero_division` parameter to control this behavior.\n",
            "  _warn_prf(average, modifier, msg_start, len(result))\n"
          ]
        },
        {
          "output_type": "stream",
          "name": "stdout",
          "text": [
            "0.16743873410540078\n",
            "average training loss: 3.52\n",
            "training on epoch:  2\n",
            "training on step:  50\n",
            "total time used is: 10.65 s\n"
          ]
        },
        {
          "output_type": "stream",
          "name": "stderr",
          "text": [
            "/usr/local/lib/python3.10/dist-packages/sklearn/metrics/_classification.py:1344: UndefinedMetricWarning: Precision and F-score are ill-defined and being set to 0.0 in labels with no predicted samples. Use `zero_division` parameter to control this behavior.\n",
            "  _warn_prf(average, modifier, msg_start, len(result))\n",
            "/usr/local/lib/python3.10/dist-packages/sklearn/metrics/_classification.py:1344: UndefinedMetricWarning: Precision and F-score are ill-defined and being set to 0.0 in labels with no predicted samples. Use `zero_division` parameter to control this behavior.\n",
            "  _warn_prf(average, modifier, msg_start, len(result))\n",
            "/usr/local/lib/python3.10/dist-packages/sklearn/metrics/_classification.py:1344: UndefinedMetricWarning: Precision and F-score are ill-defined and being set to 0.0 in labels with no predicted samples. Use `zero_division` parameter to control this behavior.\n",
            "  _warn_prf(average, modifier, msg_start, len(result))\n"
          ]
        },
        {
          "output_type": "stream",
          "name": "stdout",
          "text": [
            "0.23390267167673204\n",
            "average training loss: 3.06\n",
            "training on epoch:  3\n",
            "training on step:  50\n",
            "total time used is: 10.77 s\n"
          ]
        },
        {
          "output_type": "stream",
          "name": "stderr",
          "text": [
            "/usr/local/lib/python3.10/dist-packages/sklearn/metrics/_classification.py:1344: UndefinedMetricWarning: Precision and F-score are ill-defined and being set to 0.0 in labels with no predicted samples. Use `zero_division` parameter to control this behavior.\n",
            "  _warn_prf(average, modifier, msg_start, len(result))\n",
            "/usr/local/lib/python3.10/dist-packages/sklearn/metrics/_classification.py:1344: UndefinedMetricWarning: Precision and F-score are ill-defined and being set to 0.0 in labels with no predicted samples. Use `zero_division` parameter to control this behavior.\n",
            "  _warn_prf(average, modifier, msg_start, len(result))\n",
            "/usr/local/lib/python3.10/dist-packages/sklearn/metrics/_classification.py:1344: UndefinedMetricWarning: Precision and F-score are ill-defined and being set to 0.0 in labels with no predicted samples. Use `zero_division` parameter to control this behavior.\n",
            "  _warn_prf(average, modifier, msg_start, len(result))\n"
          ]
        },
        {
          "output_type": "stream",
          "name": "stdout",
          "text": [
            "0.2940794309699459\n",
            "average training loss: 2.61\n",
            "training on epoch:  4\n",
            "training on step:  50\n",
            "total time used is: 10.88 s\n"
          ]
        },
        {
          "output_type": "stream",
          "name": "stderr",
          "text": [
            "/usr/local/lib/python3.10/dist-packages/sklearn/metrics/_classification.py:1344: UndefinedMetricWarning: Precision and F-score are ill-defined and being set to 0.0 in labels with no predicted samples. Use `zero_division` parameter to control this behavior.\n",
            "  _warn_prf(average, modifier, msg_start, len(result))\n",
            "/usr/local/lib/python3.10/dist-packages/sklearn/metrics/_classification.py:1344: UndefinedMetricWarning: Precision and F-score are ill-defined and being set to 0.0 in labels with no predicted samples. Use `zero_division` parameter to control this behavior.\n",
            "  _warn_prf(average, modifier, msg_start, len(result))\n",
            "/usr/local/lib/python3.10/dist-packages/sklearn/metrics/_classification.py:1344: UndefinedMetricWarning: Precision and F-score are ill-defined and being set to 0.0 in labels with no predicted samples. Use `zero_division` parameter to control this behavior.\n",
            "  _warn_prf(average, modifier, msg_start, len(result))\n"
          ]
        },
        {
          "output_type": "stream",
          "name": "stdout",
          "text": [
            "0.37490055439882425\n",
            "average training loss: 2.20\n",
            "training on epoch:  5\n",
            "training on step:  50\n",
            "total time used is: 11.02 s\n"
          ]
        },
        {
          "output_type": "stream",
          "name": "stderr",
          "text": [
            "/usr/local/lib/python3.10/dist-packages/sklearn/metrics/_classification.py:1344: UndefinedMetricWarning: Precision and F-score are ill-defined and being set to 0.0 in labels with no predicted samples. Use `zero_division` parameter to control this behavior.\n",
            "  _warn_prf(average, modifier, msg_start, len(result))\n",
            "/usr/local/lib/python3.10/dist-packages/sklearn/metrics/_classification.py:1344: UndefinedMetricWarning: Precision and F-score are ill-defined and being set to 0.0 in labels with no predicted samples. Use `zero_division` parameter to control this behavior.\n",
            "  _warn_prf(average, modifier, msg_start, len(result))\n",
            "/usr/local/lib/python3.10/dist-packages/sklearn/metrics/_classification.py:1344: UndefinedMetricWarning: Precision and F-score are ill-defined and being set to 0.0 in labels with no predicted samples. Use `zero_division` parameter to control this behavior.\n",
            "  _warn_prf(average, modifier, msg_start, len(result))\n"
          ]
        },
        {
          "output_type": "stream",
          "name": "stdout",
          "text": [
            "0.4691547284608658\n",
            "average training loss: 1.86\n",
            "training on epoch:  6\n",
            "training on step:  50\n",
            "total time used is: 11.66 s\n"
          ]
        },
        {
          "output_type": "stream",
          "name": "stderr",
          "text": [
            "/usr/local/lib/python3.10/dist-packages/sklearn/metrics/_classification.py:1344: UndefinedMetricWarning: Precision and F-score are ill-defined and being set to 0.0 in labels with no predicted samples. Use `zero_division` parameter to control this behavior.\n",
            "  _warn_prf(average, modifier, msg_start, len(result))\n",
            "/usr/local/lib/python3.10/dist-packages/sklearn/metrics/_classification.py:1344: UndefinedMetricWarning: Precision and F-score are ill-defined and being set to 0.0 in labels with no predicted samples. Use `zero_division` parameter to control this behavior.\n",
            "  _warn_prf(average, modifier, msg_start, len(result))\n",
            "/usr/local/lib/python3.10/dist-packages/sklearn/metrics/_classification.py:1344: UndefinedMetricWarning: Precision and F-score are ill-defined and being set to 0.0 in labels with no predicted samples. Use `zero_division` parameter to control this behavior.\n",
            "  _warn_prf(average, modifier, msg_start, len(result))\n"
          ]
        },
        {
          "output_type": "stream",
          "name": "stdout",
          "text": [
            "0.5203905672339337\n",
            "average training loss: 1.54\n",
            "training on epoch:  7\n",
            "training on step:  50\n",
            "total time used is: 11.28 s\n"
          ]
        },
        {
          "output_type": "stream",
          "name": "stderr",
          "text": [
            "/usr/local/lib/python3.10/dist-packages/sklearn/metrics/_classification.py:1344: UndefinedMetricWarning: Precision and F-score are ill-defined and being set to 0.0 in labels with no predicted samples. Use `zero_division` parameter to control this behavior.\n",
            "  _warn_prf(average, modifier, msg_start, len(result))\n",
            "/usr/local/lib/python3.10/dist-packages/sklearn/metrics/_classification.py:1344: UndefinedMetricWarning: Precision and F-score are ill-defined and being set to 0.0 in labels with no predicted samples. Use `zero_division` parameter to control this behavior.\n",
            "  _warn_prf(average, modifier, msg_start, len(result))\n",
            "/usr/local/lib/python3.10/dist-packages/sklearn/metrics/_classification.py:1344: UndefinedMetricWarning: Precision and F-score are ill-defined and being set to 0.0 in labels with no predicted samples. Use `zero_division` parameter to control this behavior.\n",
            "  _warn_prf(average, modifier, msg_start, len(result))\n"
          ]
        },
        {
          "output_type": "stream",
          "name": "stdout",
          "text": [
            "0.5369588907824202\n",
            "average training loss: 1.29\n",
            "training on epoch:  8\n",
            "training on step:  50\n",
            "total time used is: 11.11 s\n"
          ]
        },
        {
          "output_type": "stream",
          "name": "stderr",
          "text": [
            "/usr/local/lib/python3.10/dist-packages/sklearn/metrics/_classification.py:1344: UndefinedMetricWarning: Precision and F-score are ill-defined and being set to 0.0 in labels with no predicted samples. Use `zero_division` parameter to control this behavior.\n",
            "  _warn_prf(average, modifier, msg_start, len(result))\n",
            "/usr/local/lib/python3.10/dist-packages/sklearn/metrics/_classification.py:1344: UndefinedMetricWarning: Precision and F-score are ill-defined and being set to 0.0 in labels with no predicted samples. Use `zero_division` parameter to control this behavior.\n",
            "  _warn_prf(average, modifier, msg_start, len(result))\n",
            "/usr/local/lib/python3.10/dist-packages/sklearn/metrics/_classification.py:1344: UndefinedMetricWarning: Precision and F-score are ill-defined and being set to 0.0 in labels with no predicted samples. Use `zero_division` parameter to control this behavior.\n",
            "  _warn_prf(average, modifier, msg_start, len(result))\n"
          ]
        },
        {
          "output_type": "stream",
          "name": "stdout",
          "text": [
            "0.5934355687965881\n",
            "average training loss: 1.07\n",
            "training on epoch:  9\n",
            "training on step:  50\n",
            "total time used is: 11.06 s\n"
          ]
        },
        {
          "output_type": "stream",
          "name": "stderr",
          "text": [
            "/usr/local/lib/python3.10/dist-packages/sklearn/metrics/_classification.py:1344: UndefinedMetricWarning: Precision and F-score are ill-defined and being set to 0.0 in labels with no predicted samples. Use `zero_division` parameter to control this behavior.\n",
            "  _warn_prf(average, modifier, msg_start, len(result))\n",
            "/usr/local/lib/python3.10/dist-packages/sklearn/metrics/_classification.py:1344: UndefinedMetricWarning: Precision and F-score are ill-defined and being set to 0.0 in labels with no predicted samples. Use `zero_division` parameter to control this behavior.\n",
            "  _warn_prf(average, modifier, msg_start, len(result))\n",
            "/usr/local/lib/python3.10/dist-packages/sklearn/metrics/_classification.py:1344: UndefinedMetricWarning: Precision and F-score are ill-defined and being set to 0.0 in labels with no predicted samples. Use `zero_division` parameter to control this behavior.\n",
            "  _warn_prf(average, modifier, msg_start, len(result))\n"
          ]
        },
        {
          "output_type": "stream",
          "name": "stdout",
          "text": [
            "0.6045489620601485\n",
            "average training loss: 0.87\n",
            "training on epoch:  10\n",
            "training on step:  50\n",
            "total time used is: 11.08 s\n"
          ]
        },
        {
          "output_type": "stream",
          "name": "stderr",
          "text": [
            "/usr/local/lib/python3.10/dist-packages/sklearn/metrics/_classification.py:1344: UndefinedMetricWarning: Precision and F-score are ill-defined and being set to 0.0 in labels with no predicted samples. Use `zero_division` parameter to control this behavior.\n",
            "  _warn_prf(average, modifier, msg_start, len(result))\n",
            "/usr/local/lib/python3.10/dist-packages/sklearn/metrics/_classification.py:1344: UndefinedMetricWarning: Precision and F-score are ill-defined and being set to 0.0 in labels with no predicted samples. Use `zero_division` parameter to control this behavior.\n",
            "  _warn_prf(average, modifier, msg_start, len(result))\n",
            "/usr/local/lib/python3.10/dist-packages/sklearn/metrics/_classification.py:1344: UndefinedMetricWarning: Precision and F-score are ill-defined and being set to 0.0 in labels with no predicted samples. Use `zero_division` parameter to control this behavior.\n",
            "  _warn_prf(average, modifier, msg_start, len(result))\n"
          ]
        },
        {
          "output_type": "stream",
          "name": "stdout",
          "text": [
            "0.6414888783268796\n",
            "average training loss: 0.74\n",
            "training on epoch:  11\n",
            "training on step:  50\n",
            "total time used is: 11.14 s\n"
          ]
        },
        {
          "output_type": "stream",
          "name": "stderr",
          "text": [
            "/usr/local/lib/python3.10/dist-packages/sklearn/metrics/_classification.py:1344: UndefinedMetricWarning: Precision and F-score are ill-defined and being set to 0.0 in labels with no predicted samples. Use `zero_division` parameter to control this behavior.\n",
            "  _warn_prf(average, modifier, msg_start, len(result))\n",
            "/usr/local/lib/python3.10/dist-packages/sklearn/metrics/_classification.py:1344: UndefinedMetricWarning: Precision and F-score are ill-defined and being set to 0.0 in labels with no predicted samples. Use `zero_division` parameter to control this behavior.\n",
            "  _warn_prf(average, modifier, msg_start, len(result))\n",
            "/usr/local/lib/python3.10/dist-packages/sklearn/metrics/_classification.py:1344: UndefinedMetricWarning: Precision and F-score are ill-defined and being set to 0.0 in labels with no predicted samples. Use `zero_division` parameter to control this behavior.\n",
            "  _warn_prf(average, modifier, msg_start, len(result))\n"
          ]
        },
        {
          "output_type": "stream",
          "name": "stdout",
          "text": [
            "0.6651949739099563\n",
            "average training loss: 0.60\n",
            "training on epoch:  12\n",
            "training on step:  50\n",
            "total time used is: 11.51 s\n"
          ]
        },
        {
          "output_type": "stream",
          "name": "stderr",
          "text": [
            "/usr/local/lib/python3.10/dist-packages/sklearn/metrics/_classification.py:1344: UndefinedMetricWarning: Precision and F-score are ill-defined and being set to 0.0 in labels with no predicted samples. Use `zero_division` parameter to control this behavior.\n",
            "  _warn_prf(average, modifier, msg_start, len(result))\n",
            "/usr/local/lib/python3.10/dist-packages/sklearn/metrics/_classification.py:1344: UndefinedMetricWarning: Precision and F-score are ill-defined and being set to 0.0 in labels with no predicted samples. Use `zero_division` parameter to control this behavior.\n",
            "  _warn_prf(average, modifier, msg_start, len(result))\n",
            "/usr/local/lib/python3.10/dist-packages/sklearn/metrics/_classification.py:1344: UndefinedMetricWarning: Precision and F-score are ill-defined and being set to 0.0 in labels with no predicted samples. Use `zero_division` parameter to control this behavior.\n",
            "  _warn_prf(average, modifier, msg_start, len(result))\n"
          ]
        },
        {
          "output_type": "stream",
          "name": "stdout",
          "text": [
            "0.6947798609776444\n",
            "average training loss: 0.49\n",
            "training on epoch:  13\n",
            "training on step:  50\n",
            "total time used is: 11.22 s\n"
          ]
        },
        {
          "output_type": "stream",
          "name": "stderr",
          "text": [
            "/usr/local/lib/python3.10/dist-packages/sklearn/metrics/_classification.py:1344: UndefinedMetricWarning: Precision and F-score are ill-defined and being set to 0.0 in labels with no predicted samples. Use `zero_division` parameter to control this behavior.\n",
            "  _warn_prf(average, modifier, msg_start, len(result))\n",
            "/usr/local/lib/python3.10/dist-packages/sklearn/metrics/_classification.py:1344: UndefinedMetricWarning: Precision and F-score are ill-defined and being set to 0.0 in labels with no predicted samples. Use `zero_division` parameter to control this behavior.\n",
            "  _warn_prf(average, modifier, msg_start, len(result))\n",
            "/usr/local/lib/python3.10/dist-packages/sklearn/metrics/_classification.py:1344: UndefinedMetricWarning: Precision and F-score are ill-defined and being set to 0.0 in labels with no predicted samples. Use `zero_division` parameter to control this behavior.\n",
            "  _warn_prf(average, modifier, msg_start, len(result))\n"
          ]
        },
        {
          "output_type": "stream",
          "name": "stdout",
          "text": [
            "0.7025093962810226\n",
            "average training loss: 0.40\n",
            "training on epoch:  14\n",
            "training on step:  50\n",
            "total time used is: 11.12 s\n"
          ]
        },
        {
          "output_type": "stream",
          "name": "stderr",
          "text": [
            "/usr/local/lib/python3.10/dist-packages/sklearn/metrics/_classification.py:1344: UndefinedMetricWarning: Precision and F-score are ill-defined and being set to 0.0 in labels with no predicted samples. Use `zero_division` parameter to control this behavior.\n",
            "  _warn_prf(average, modifier, msg_start, len(result))\n",
            "/usr/local/lib/python3.10/dist-packages/sklearn/metrics/_classification.py:1344: UndefinedMetricWarning: Precision and F-score are ill-defined and being set to 0.0 in labels with no predicted samples. Use `zero_division` parameter to control this behavior.\n",
            "  _warn_prf(average, modifier, msg_start, len(result))\n",
            "/usr/local/lib/python3.10/dist-packages/sklearn/metrics/_classification.py:1344: UndefinedMetricWarning: Precision and F-score are ill-defined and being set to 0.0 in labels with no predicted samples. Use `zero_division` parameter to control this behavior.\n",
            "  _warn_prf(average, modifier, msg_start, len(result))\n"
          ]
        },
        {
          "output_type": "stream",
          "name": "stdout",
          "text": [
            "0.7341329505012368\n",
            "average training loss: 0.32\n",
            "training on epoch:  15\n",
            "training on step:  50\n",
            "total time used is: 11.13 s\n"
          ]
        },
        {
          "output_type": "stream",
          "name": "stderr",
          "text": [
            "/usr/local/lib/python3.10/dist-packages/sklearn/metrics/_classification.py:1344: UndefinedMetricWarning: Precision and F-score are ill-defined and being set to 0.0 in labels with no predicted samples. Use `zero_division` parameter to control this behavior.\n",
            "  _warn_prf(average, modifier, msg_start, len(result))\n",
            "/usr/local/lib/python3.10/dist-packages/sklearn/metrics/_classification.py:1344: UndefinedMetricWarning: Precision and F-score are ill-defined and being set to 0.0 in labels with no predicted samples. Use `zero_division` parameter to control this behavior.\n",
            "  _warn_prf(average, modifier, msg_start, len(result))\n",
            "/usr/local/lib/python3.10/dist-packages/sklearn/metrics/_classification.py:1344: UndefinedMetricWarning: Precision and F-score are ill-defined and being set to 0.0 in labels with no predicted samples. Use `zero_division` parameter to control this behavior.\n",
            "  _warn_prf(average, modifier, msg_start, len(result))\n"
          ]
        },
        {
          "output_type": "stream",
          "name": "stdout",
          "text": [
            "0.7342391722126783\n",
            "average training loss: 0.27\n",
            "training on epoch:  16\n",
            "training on step:  50\n",
            "total time used is: 11.10 s\n"
          ]
        },
        {
          "output_type": "stream",
          "name": "stderr",
          "text": [
            "/usr/local/lib/python3.10/dist-packages/sklearn/metrics/_classification.py:1344: UndefinedMetricWarning: Precision and F-score are ill-defined and being set to 0.0 in labels with no predicted samples. Use `zero_division` parameter to control this behavior.\n",
            "  _warn_prf(average, modifier, msg_start, len(result))\n",
            "/usr/local/lib/python3.10/dist-packages/sklearn/metrics/_classification.py:1344: UndefinedMetricWarning: Precision and F-score are ill-defined and being set to 0.0 in labels with no predicted samples. Use `zero_division` parameter to control this behavior.\n",
            "  _warn_prf(average, modifier, msg_start, len(result))\n",
            "/usr/local/lib/python3.10/dist-packages/sklearn/metrics/_classification.py:1344: UndefinedMetricWarning: Precision and F-score are ill-defined and being set to 0.0 in labels with no predicted samples. Use `zero_division` parameter to control this behavior.\n",
            "  _warn_prf(average, modifier, msg_start, len(result))\n"
          ]
        },
        {
          "output_type": "stream",
          "name": "stdout",
          "text": [
            "0.7432731675049498\n",
            "average training loss: 0.21\n",
            "training on epoch:  17\n",
            "training on step:  50\n",
            "total time used is: 11.14 s\n"
          ]
        },
        {
          "output_type": "stream",
          "name": "stderr",
          "text": [
            "/usr/local/lib/python3.10/dist-packages/sklearn/metrics/_classification.py:1344: UndefinedMetricWarning: Precision and F-score are ill-defined and being set to 0.0 in labels with no predicted samples. Use `zero_division` parameter to control this behavior.\n",
            "  _warn_prf(average, modifier, msg_start, len(result))\n",
            "/usr/local/lib/python3.10/dist-packages/sklearn/metrics/_classification.py:1344: UndefinedMetricWarning: Precision and F-score are ill-defined and being set to 0.0 in labels with no predicted samples. Use `zero_division` parameter to control this behavior.\n",
            "  _warn_prf(average, modifier, msg_start, len(result))\n",
            "/usr/local/lib/python3.10/dist-packages/sklearn/metrics/_classification.py:1344: UndefinedMetricWarning: Precision and F-score are ill-defined and being set to 0.0 in labels with no predicted samples. Use `zero_division` parameter to control this behavior.\n",
            "  _warn_prf(average, modifier, msg_start, len(result))\n"
          ]
        },
        {
          "output_type": "stream",
          "name": "stdout",
          "text": [
            "0.7431401804170313\n",
            "average training loss: 0.18\n",
            "training on epoch:  18\n",
            "training on step:  50\n",
            "total time used is: 11.15 s\n"
          ]
        },
        {
          "output_type": "stream",
          "name": "stderr",
          "text": [
            "/usr/local/lib/python3.10/dist-packages/sklearn/metrics/_classification.py:1344: UndefinedMetricWarning: Precision and F-score are ill-defined and being set to 0.0 in labels with no predicted samples. Use `zero_division` parameter to control this behavior.\n",
            "  _warn_prf(average, modifier, msg_start, len(result))\n",
            "/usr/local/lib/python3.10/dist-packages/sklearn/metrics/_classification.py:1344: UndefinedMetricWarning: Precision and F-score are ill-defined and being set to 0.0 in labels with no predicted samples. Use `zero_division` parameter to control this behavior.\n",
            "  _warn_prf(average, modifier, msg_start, len(result))\n",
            "/usr/local/lib/python3.10/dist-packages/sklearn/metrics/_classification.py:1344: UndefinedMetricWarning: Precision and F-score are ill-defined and being set to 0.0 in labels with no predicted samples. Use `zero_division` parameter to control this behavior.\n",
            "  _warn_prf(average, modifier, msg_start, len(result))\n"
          ]
        },
        {
          "output_type": "stream",
          "name": "stdout",
          "text": [
            "0.7366947031090848\n",
            "average training loss: 0.13\n",
            "training on epoch:  19\n",
            "training on step:  50\n",
            "total time used is: 11.15 s\n"
          ]
        },
        {
          "output_type": "stream",
          "name": "stderr",
          "text": [
            "/usr/local/lib/python3.10/dist-packages/sklearn/metrics/_classification.py:1344: UndefinedMetricWarning: Precision and F-score are ill-defined and being set to 0.0 in labels with no predicted samples. Use `zero_division` parameter to control this behavior.\n",
            "  _warn_prf(average, modifier, msg_start, len(result))\n",
            "/usr/local/lib/python3.10/dist-packages/sklearn/metrics/_classification.py:1344: UndefinedMetricWarning: Precision and F-score are ill-defined and being set to 0.0 in labels with no predicted samples. Use `zero_division` parameter to control this behavior.\n",
            "  _warn_prf(average, modifier, msg_start, len(result))\n",
            "/usr/local/lib/python3.10/dist-packages/sklearn/metrics/_classification.py:1344: UndefinedMetricWarning: Precision and F-score are ill-defined and being set to 0.0 in labels with no predicted samples. Use `zero_division` parameter to control this behavior.\n",
            "  _warn_prf(average, modifier, msg_start, len(result))\n"
          ]
        },
        {
          "output_type": "stream",
          "name": "stdout",
          "text": [
            "0.7556989025852405\n",
            "average training loss: 0.11\n",
            "training on epoch:  20\n",
            "training on step:  50\n",
            "total time used is: 11.12 s\n"
          ]
        },
        {
          "output_type": "stream",
          "name": "stderr",
          "text": [
            "/usr/local/lib/python3.10/dist-packages/sklearn/metrics/_classification.py:1344: UndefinedMetricWarning: Precision and F-score are ill-defined and being set to 0.0 in labels with no predicted samples. Use `zero_division` parameter to control this behavior.\n",
            "  _warn_prf(average, modifier, msg_start, len(result))\n",
            "/usr/local/lib/python3.10/dist-packages/sklearn/metrics/_classification.py:1344: UndefinedMetricWarning: Precision and F-score are ill-defined and being set to 0.0 in labels with no predicted samples. Use `zero_division` parameter to control this behavior.\n",
            "  _warn_prf(average, modifier, msg_start, len(result))\n",
            "/usr/local/lib/python3.10/dist-packages/sklearn/metrics/_classification.py:1344: UndefinedMetricWarning: Precision and F-score are ill-defined and being set to 0.0 in labels with no predicted samples. Use `zero_division` parameter to control this behavior.\n",
            "  _warn_prf(average, modifier, msg_start, len(result))\n"
          ]
        },
        {
          "output_type": "stream",
          "name": "stdout",
          "text": [
            "0.7798959727440472\n",
            "average training loss: 0.08\n",
            "training on epoch:  21\n",
            "training on step:  50\n",
            "total time used is: 11.14 s\n"
          ]
        },
        {
          "output_type": "stream",
          "name": "stderr",
          "text": [
            "/usr/local/lib/python3.10/dist-packages/sklearn/metrics/_classification.py:1344: UndefinedMetricWarning: Precision and F-score are ill-defined and being set to 0.0 in labels with no predicted samples. Use `zero_division` parameter to control this behavior.\n",
            "  _warn_prf(average, modifier, msg_start, len(result))\n",
            "/usr/local/lib/python3.10/dist-packages/sklearn/metrics/_classification.py:1344: UndefinedMetricWarning: Precision and F-score are ill-defined and being set to 0.0 in labels with no predicted samples. Use `zero_division` parameter to control this behavior.\n",
            "  _warn_prf(average, modifier, msg_start, len(result))\n",
            "/usr/local/lib/python3.10/dist-packages/sklearn/metrics/_classification.py:1344: UndefinedMetricWarning: Precision and F-score are ill-defined and being set to 0.0 in labels with no predicted samples. Use `zero_division` parameter to control this behavior.\n",
            "  _warn_prf(average, modifier, msg_start, len(result))\n"
          ]
        },
        {
          "output_type": "stream",
          "name": "stdout",
          "text": [
            "0.7535016460461057\n",
            "average training loss: 0.07\n",
            "training on epoch:  22\n",
            "training on step:  50\n",
            "total time used is: 11.12 s\n"
          ]
        },
        {
          "output_type": "stream",
          "name": "stderr",
          "text": [
            "/usr/local/lib/python3.10/dist-packages/sklearn/metrics/_classification.py:1344: UndefinedMetricWarning: Precision and F-score are ill-defined and being set to 0.0 in labels with no predicted samples. Use `zero_division` parameter to control this behavior.\n",
            "  _warn_prf(average, modifier, msg_start, len(result))\n",
            "/usr/local/lib/python3.10/dist-packages/sklearn/metrics/_classification.py:1344: UndefinedMetricWarning: Precision and F-score are ill-defined and being set to 0.0 in labels with no predicted samples. Use `zero_division` parameter to control this behavior.\n",
            "  _warn_prf(average, modifier, msg_start, len(result))\n",
            "/usr/local/lib/python3.10/dist-packages/sklearn/metrics/_classification.py:1344: UndefinedMetricWarning: Precision and F-score are ill-defined and being set to 0.0 in labels with no predicted samples. Use `zero_division` parameter to control this behavior.\n",
            "  _warn_prf(average, modifier, msg_start, len(result))\n"
          ]
        },
        {
          "output_type": "stream",
          "name": "stdout",
          "text": [
            "0.7547589523292848\n",
            "average training loss: 0.06\n",
            "training on epoch:  23\n",
            "training on step:  50\n",
            "total time used is: 11.10 s\n"
          ]
        },
        {
          "output_type": "stream",
          "name": "stderr",
          "text": [
            "/usr/local/lib/python3.10/dist-packages/sklearn/metrics/_classification.py:1344: UndefinedMetricWarning: Precision and F-score are ill-defined and being set to 0.0 in labels with no predicted samples. Use `zero_division` parameter to control this behavior.\n",
            "  _warn_prf(average, modifier, msg_start, len(result))\n",
            "/usr/local/lib/python3.10/dist-packages/sklearn/metrics/_classification.py:1344: UndefinedMetricWarning: Precision and F-score are ill-defined and being set to 0.0 in labels with no predicted samples. Use `zero_division` parameter to control this behavior.\n",
            "  _warn_prf(average, modifier, msg_start, len(result))\n",
            "/usr/local/lib/python3.10/dist-packages/sklearn/metrics/_classification.py:1344: UndefinedMetricWarning: Precision and F-score are ill-defined and being set to 0.0 in labels with no predicted samples. Use `zero_division` parameter to control this behavior.\n",
            "  _warn_prf(average, modifier, msg_start, len(result))\n"
          ]
        },
        {
          "output_type": "stream",
          "name": "stdout",
          "text": [
            "0.7766274221898577\n",
            "average training loss: 0.05\n",
            "training on epoch:  24\n",
            "training on step:  50\n",
            "total time used is: 11.09 s\n"
          ]
        },
        {
          "output_type": "stream",
          "name": "stderr",
          "text": [
            "/usr/local/lib/python3.10/dist-packages/sklearn/metrics/_classification.py:1344: UndefinedMetricWarning: Precision and F-score are ill-defined and being set to 0.0 in labels with no predicted samples. Use `zero_division` parameter to control this behavior.\n",
            "  _warn_prf(average, modifier, msg_start, len(result))\n",
            "/usr/local/lib/python3.10/dist-packages/sklearn/metrics/_classification.py:1344: UndefinedMetricWarning: Precision and F-score are ill-defined and being set to 0.0 in labels with no predicted samples. Use `zero_division` parameter to control this behavior.\n",
            "  _warn_prf(average, modifier, msg_start, len(result))\n",
            "/usr/local/lib/python3.10/dist-packages/sklearn/metrics/_classification.py:1344: UndefinedMetricWarning: Precision and F-score are ill-defined and being set to 0.0 in labels with no predicted samples. Use `zero_division` parameter to control this behavior.\n",
            "  _warn_prf(average, modifier, msg_start, len(result))\n"
          ]
        },
        {
          "output_type": "stream",
          "name": "stdout",
          "text": [
            "0.7659460554836616\n",
            "average training loss: 0.04\n",
            "training on epoch:  25\n",
            "training on step:  50\n",
            "total time used is: 11.12 s\n"
          ]
        },
        {
          "output_type": "stream",
          "name": "stderr",
          "text": [
            "/usr/local/lib/python3.10/dist-packages/sklearn/metrics/_classification.py:1344: UndefinedMetricWarning: Precision and F-score are ill-defined and being set to 0.0 in labels with no predicted samples. Use `zero_division` parameter to control this behavior.\n",
            "  _warn_prf(average, modifier, msg_start, len(result))\n",
            "/usr/local/lib/python3.10/dist-packages/sklearn/metrics/_classification.py:1344: UndefinedMetricWarning: Precision and F-score are ill-defined and being set to 0.0 in labels with no predicted samples. Use `zero_division` parameter to control this behavior.\n",
            "  _warn_prf(average, modifier, msg_start, len(result))\n",
            "/usr/local/lib/python3.10/dist-packages/sklearn/metrics/_classification.py:1344: UndefinedMetricWarning: Precision and F-score are ill-defined and being set to 0.0 in labels with no predicted samples. Use `zero_division` parameter to control this behavior.\n",
            "  _warn_prf(average, modifier, msg_start, len(result))\n"
          ]
        },
        {
          "output_type": "stream",
          "name": "stdout",
          "text": [
            "0.7798182376387015\n",
            "average training loss: 0.04\n",
            "training on epoch:  26\n",
            "training on step:  50\n",
            "total time used is: 11.12 s\n"
          ]
        },
        {
          "output_type": "stream",
          "name": "stderr",
          "text": [
            "/usr/local/lib/python3.10/dist-packages/sklearn/metrics/_classification.py:1344: UndefinedMetricWarning: Precision and F-score are ill-defined and being set to 0.0 in labels with no predicted samples. Use `zero_division` parameter to control this behavior.\n",
            "  _warn_prf(average, modifier, msg_start, len(result))\n",
            "/usr/local/lib/python3.10/dist-packages/sklearn/metrics/_classification.py:1344: UndefinedMetricWarning: Precision and F-score are ill-defined and being set to 0.0 in labels with no predicted samples. Use `zero_division` parameter to control this behavior.\n",
            "  _warn_prf(average, modifier, msg_start, len(result))\n",
            "/usr/local/lib/python3.10/dist-packages/sklearn/metrics/_classification.py:1344: UndefinedMetricWarning: Precision and F-score are ill-defined and being set to 0.0 in labels with no predicted samples. Use `zero_division` parameter to control this behavior.\n",
            "  _warn_prf(average, modifier, msg_start, len(result))\n"
          ]
        },
        {
          "output_type": "stream",
          "name": "stdout",
          "text": [
            "0.7720040344550148\n",
            "average training loss: 0.03\n",
            "training on epoch:  27\n",
            "training on step:  50\n",
            "total time used is: 11.11 s\n"
          ]
        },
        {
          "output_type": "stream",
          "name": "stderr",
          "text": [
            "/usr/local/lib/python3.10/dist-packages/sklearn/metrics/_classification.py:1344: UndefinedMetricWarning: Precision and F-score are ill-defined and being set to 0.0 in labels with no predicted samples. Use `zero_division` parameter to control this behavior.\n",
            "  _warn_prf(average, modifier, msg_start, len(result))\n",
            "/usr/local/lib/python3.10/dist-packages/sklearn/metrics/_classification.py:1344: UndefinedMetricWarning: Precision and F-score are ill-defined and being set to 0.0 in labels with no predicted samples. Use `zero_division` parameter to control this behavior.\n",
            "  _warn_prf(average, modifier, msg_start, len(result))\n",
            "/usr/local/lib/python3.10/dist-packages/sklearn/metrics/_classification.py:1344: UndefinedMetricWarning: Precision and F-score are ill-defined and being set to 0.0 in labels with no predicted samples. Use `zero_division` parameter to control this behavior.\n",
            "  _warn_prf(average, modifier, msg_start, len(result))\n"
          ]
        },
        {
          "output_type": "stream",
          "name": "stdout",
          "text": [
            "0.7613459784209547\n",
            "average training loss: 0.03\n",
            "training on epoch:  28\n",
            "training on step:  50\n",
            "total time used is: 11.12 s\n"
          ]
        },
        {
          "output_type": "stream",
          "name": "stderr",
          "text": [
            "/usr/local/lib/python3.10/dist-packages/sklearn/metrics/_classification.py:1344: UndefinedMetricWarning: Precision and F-score are ill-defined and being set to 0.0 in labels with no predicted samples. Use `zero_division` parameter to control this behavior.\n",
            "  _warn_prf(average, modifier, msg_start, len(result))\n",
            "/usr/local/lib/python3.10/dist-packages/sklearn/metrics/_classification.py:1344: UndefinedMetricWarning: Precision and F-score are ill-defined and being set to 0.0 in labels with no predicted samples. Use `zero_division` parameter to control this behavior.\n",
            "  _warn_prf(average, modifier, msg_start, len(result))\n",
            "/usr/local/lib/python3.10/dist-packages/sklearn/metrics/_classification.py:1344: UndefinedMetricWarning: Precision and F-score are ill-defined and being set to 0.0 in labels with no predicted samples. Use `zero_division` parameter to control this behavior.\n",
            "  _warn_prf(average, modifier, msg_start, len(result))\n"
          ]
        },
        {
          "output_type": "stream",
          "name": "stdout",
          "text": [
            "0.7550869735241419\n",
            "average training loss: 0.03\n",
            "training on epoch:  29\n",
            "training on step:  50\n",
            "total time used is: 11.12 s\n"
          ]
        },
        {
          "output_type": "stream",
          "name": "stderr",
          "text": [
            "/usr/local/lib/python3.10/dist-packages/sklearn/metrics/_classification.py:1344: UndefinedMetricWarning: Precision and F-score are ill-defined and being set to 0.0 in labels with no predicted samples. Use `zero_division` parameter to control this behavior.\n",
            "  _warn_prf(average, modifier, msg_start, len(result))\n",
            "/usr/local/lib/python3.10/dist-packages/sklearn/metrics/_classification.py:1344: UndefinedMetricWarning: Precision and F-score are ill-defined and being set to 0.0 in labels with no predicted samples. Use `zero_division` parameter to control this behavior.\n",
            "  _warn_prf(average, modifier, msg_start, len(result))\n",
            "/usr/local/lib/python3.10/dist-packages/sklearn/metrics/_classification.py:1344: UndefinedMetricWarning: Precision and F-score are ill-defined and being set to 0.0 in labels with no predicted samples. Use `zero_division` parameter to control this behavior.\n",
            "  _warn_prf(average, modifier, msg_start, len(result))\n"
          ]
        },
        {
          "output_type": "stream",
          "name": "stdout",
          "text": [
            "0.7507076626153358\n",
            "average training loss: 0.03\n",
            "training on epoch:  30\n",
            "training on step:  50\n",
            "total time used is: 11.14 s\n"
          ]
        },
        {
          "output_type": "stream",
          "name": "stderr",
          "text": [
            "/usr/local/lib/python3.10/dist-packages/sklearn/metrics/_classification.py:1344: UndefinedMetricWarning: Precision and F-score are ill-defined and being set to 0.0 in labels with no predicted samples. Use `zero_division` parameter to control this behavior.\n",
            "  _warn_prf(average, modifier, msg_start, len(result))\n",
            "/usr/local/lib/python3.10/dist-packages/sklearn/metrics/_classification.py:1344: UndefinedMetricWarning: Precision and F-score are ill-defined and being set to 0.0 in labels with no predicted samples. Use `zero_division` parameter to control this behavior.\n",
            "  _warn_prf(average, modifier, msg_start, len(result))\n",
            "/usr/local/lib/python3.10/dist-packages/sklearn/metrics/_classification.py:1344: UndefinedMetricWarning: Precision and F-score are ill-defined and being set to 0.0 in labels with no predicted samples. Use `zero_division` parameter to control this behavior.\n",
            "  _warn_prf(average, modifier, msg_start, len(result))\n"
          ]
        },
        {
          "output_type": "stream",
          "name": "stdout",
          "text": [
            "0.7505678439561749\n",
            "average training loss: 0.02\n",
            "training on epoch:  31\n",
            "training on step:  50\n",
            "total time used is: 11.13 s\n"
          ]
        },
        {
          "output_type": "stream",
          "name": "stderr",
          "text": [
            "/usr/local/lib/python3.10/dist-packages/sklearn/metrics/_classification.py:1344: UndefinedMetricWarning: Precision and F-score are ill-defined and being set to 0.0 in labels with no predicted samples. Use `zero_division` parameter to control this behavior.\n",
            "  _warn_prf(average, modifier, msg_start, len(result))\n",
            "/usr/local/lib/python3.10/dist-packages/sklearn/metrics/_classification.py:1344: UndefinedMetricWarning: Precision and F-score are ill-defined and being set to 0.0 in labels with no predicted samples. Use `zero_division` parameter to control this behavior.\n",
            "  _warn_prf(average, modifier, msg_start, len(result))\n",
            "/usr/local/lib/python3.10/dist-packages/sklearn/metrics/_classification.py:1344: UndefinedMetricWarning: Precision and F-score are ill-defined and being set to 0.0 in labels with no predicted samples. Use `zero_division` parameter to control this behavior.\n",
            "  _warn_prf(average, modifier, msg_start, len(result))\n"
          ]
        },
        {
          "output_type": "stream",
          "name": "stdout",
          "text": [
            "0.7475166639190897\n",
            "average training loss: 0.02\n",
            "training on epoch:  32\n",
            "training on step:  50\n",
            "total time used is: 11.12 s\n"
          ]
        },
        {
          "output_type": "stream",
          "name": "stderr",
          "text": [
            "/usr/local/lib/python3.10/dist-packages/sklearn/metrics/_classification.py:1344: UndefinedMetricWarning: Precision and F-score are ill-defined and being set to 0.0 in labels with no predicted samples. Use `zero_division` parameter to control this behavior.\n",
            "  _warn_prf(average, modifier, msg_start, len(result))\n",
            "/usr/local/lib/python3.10/dist-packages/sklearn/metrics/_classification.py:1344: UndefinedMetricWarning: Precision and F-score are ill-defined and being set to 0.0 in labels with no predicted samples. Use `zero_division` parameter to control this behavior.\n",
            "  _warn_prf(average, modifier, msg_start, len(result))\n",
            "/usr/local/lib/python3.10/dist-packages/sklearn/metrics/_classification.py:1344: UndefinedMetricWarning: Precision and F-score are ill-defined and being set to 0.0 in labels with no predicted samples. Use `zero_division` parameter to control this behavior.\n",
            "  _warn_prf(average, modifier, msg_start, len(result))\n"
          ]
        },
        {
          "output_type": "stream",
          "name": "stdout",
          "text": [
            "0.7498286442636845\n",
            "average training loss: 0.02\n",
            "training on epoch:  33\n",
            "training on step:  50\n",
            "total time used is: 11.11 s\n"
          ]
        },
        {
          "output_type": "stream",
          "name": "stderr",
          "text": [
            "/usr/local/lib/python3.10/dist-packages/sklearn/metrics/_classification.py:1344: UndefinedMetricWarning: Precision and F-score are ill-defined and being set to 0.0 in labels with no predicted samples. Use `zero_division` parameter to control this behavior.\n",
            "  _warn_prf(average, modifier, msg_start, len(result))\n",
            "/usr/local/lib/python3.10/dist-packages/sklearn/metrics/_classification.py:1344: UndefinedMetricWarning: Precision and F-score are ill-defined and being set to 0.0 in labels with no predicted samples. Use `zero_division` parameter to control this behavior.\n",
            "  _warn_prf(average, modifier, msg_start, len(result))\n",
            "/usr/local/lib/python3.10/dist-packages/sklearn/metrics/_classification.py:1344: UndefinedMetricWarning: Precision and F-score are ill-defined and being set to 0.0 in labels with no predicted samples. Use `zero_division` parameter to control this behavior.\n",
            "  _warn_prf(average, modifier, msg_start, len(result))\n"
          ]
        },
        {
          "output_type": "stream",
          "name": "stdout",
          "text": [
            "0.7516533818473744\n",
            "average training loss: 0.02\n",
            "training on epoch:  34\n",
            "training on step:  50\n",
            "total time used is: 11.11 s\n"
          ]
        },
        {
          "output_type": "stream",
          "name": "stderr",
          "text": [
            "/usr/local/lib/python3.10/dist-packages/sklearn/metrics/_classification.py:1344: UndefinedMetricWarning: Precision and F-score are ill-defined and being set to 0.0 in labels with no predicted samples. Use `zero_division` parameter to control this behavior.\n",
            "  _warn_prf(average, modifier, msg_start, len(result))\n",
            "/usr/local/lib/python3.10/dist-packages/sklearn/metrics/_classification.py:1344: UndefinedMetricWarning: Precision and F-score are ill-defined and being set to 0.0 in labels with no predicted samples. Use `zero_division` parameter to control this behavior.\n",
            "  _warn_prf(average, modifier, msg_start, len(result))\n",
            "/usr/local/lib/python3.10/dist-packages/sklearn/metrics/_classification.py:1344: UndefinedMetricWarning: Precision and F-score are ill-defined and being set to 0.0 in labels with no predicted samples. Use `zero_division` parameter to control this behavior.\n",
            "  _warn_prf(average, modifier, msg_start, len(result))\n"
          ]
        },
        {
          "output_type": "stream",
          "name": "stdout",
          "text": [
            "0.7478968516068247\n",
            "average training loss: 0.03\n",
            "training on epoch:  35\n",
            "training on step:  50\n",
            "total time used is: 11.13 s\n"
          ]
        },
        {
          "output_type": "stream",
          "name": "stderr",
          "text": [
            "/usr/local/lib/python3.10/dist-packages/sklearn/metrics/_classification.py:1344: UndefinedMetricWarning: Precision and F-score are ill-defined and being set to 0.0 in labels with no predicted samples. Use `zero_division` parameter to control this behavior.\n",
            "  _warn_prf(average, modifier, msg_start, len(result))\n",
            "/usr/local/lib/python3.10/dist-packages/sklearn/metrics/_classification.py:1344: UndefinedMetricWarning: Precision and F-score are ill-defined and being set to 0.0 in labels with no predicted samples. Use `zero_division` parameter to control this behavior.\n",
            "  _warn_prf(average, modifier, msg_start, len(result))\n",
            "/usr/local/lib/python3.10/dist-packages/sklearn/metrics/_classification.py:1344: UndefinedMetricWarning: Precision and F-score are ill-defined and being set to 0.0 in labels with no predicted samples. Use `zero_division` parameter to control this behavior.\n",
            "  _warn_prf(average, modifier, msg_start, len(result))\n"
          ]
        },
        {
          "output_type": "stream",
          "name": "stdout",
          "text": [
            "0.7607052659071402\n",
            "average training loss: 0.02\n",
            "training on epoch:  36\n",
            "training on step:  50\n",
            "total time used is: 11.11 s\n"
          ]
        },
        {
          "output_type": "stream",
          "name": "stderr",
          "text": [
            "/usr/local/lib/python3.10/dist-packages/sklearn/metrics/_classification.py:1344: UndefinedMetricWarning: Precision and F-score are ill-defined and being set to 0.0 in labels with no predicted samples. Use `zero_division` parameter to control this behavior.\n",
            "  _warn_prf(average, modifier, msg_start, len(result))\n",
            "/usr/local/lib/python3.10/dist-packages/sklearn/metrics/_classification.py:1344: UndefinedMetricWarning: Precision and F-score are ill-defined and being set to 0.0 in labels with no predicted samples. Use `zero_division` parameter to control this behavior.\n",
            "  _warn_prf(average, modifier, msg_start, len(result))\n",
            "/usr/local/lib/python3.10/dist-packages/sklearn/metrics/_classification.py:1344: UndefinedMetricWarning: Precision and F-score are ill-defined and being set to 0.0 in labels with no predicted samples. Use `zero_division` parameter to control this behavior.\n",
            "  _warn_prf(average, modifier, msg_start, len(result))\n"
          ]
        },
        {
          "output_type": "stream",
          "name": "stdout",
          "text": [
            "0.7571408082641679\n",
            "average training loss: 0.02\n",
            "training on epoch:  37\n",
            "training on step:  50\n",
            "total time used is: 11.13 s\n"
          ]
        },
        {
          "output_type": "stream",
          "name": "stderr",
          "text": [
            "/usr/local/lib/python3.10/dist-packages/sklearn/metrics/_classification.py:1344: UndefinedMetricWarning: Precision and F-score are ill-defined and being set to 0.0 in labels with no predicted samples. Use `zero_division` parameter to control this behavior.\n",
            "  _warn_prf(average, modifier, msg_start, len(result))\n",
            "/usr/local/lib/python3.10/dist-packages/sklearn/metrics/_classification.py:1344: UndefinedMetricWarning: Precision and F-score are ill-defined and being set to 0.0 in labels with no predicted samples. Use `zero_division` parameter to control this behavior.\n",
            "  _warn_prf(average, modifier, msg_start, len(result))\n",
            "/usr/local/lib/python3.10/dist-packages/sklearn/metrics/_classification.py:1344: UndefinedMetricWarning: Precision and F-score are ill-defined and being set to 0.0 in labels with no predicted samples. Use `zero_division` parameter to control this behavior.\n",
            "  _warn_prf(average, modifier, msg_start, len(result))\n"
          ]
        },
        {
          "output_type": "stream",
          "name": "stdout",
          "text": [
            "0.752129100094684\n",
            "average training loss: 0.02\n",
            "training on epoch:  38\n",
            "training on step:  50\n",
            "total time used is: 11.12 s\n"
          ]
        },
        {
          "output_type": "stream",
          "name": "stderr",
          "text": [
            "/usr/local/lib/python3.10/dist-packages/sklearn/metrics/_classification.py:1344: UndefinedMetricWarning: Precision and F-score are ill-defined and being set to 0.0 in labels with no predicted samples. Use `zero_division` parameter to control this behavior.\n",
            "  _warn_prf(average, modifier, msg_start, len(result))\n",
            "/usr/local/lib/python3.10/dist-packages/sklearn/metrics/_classification.py:1344: UndefinedMetricWarning: Precision and F-score are ill-defined and being set to 0.0 in labels with no predicted samples. Use `zero_division` parameter to control this behavior.\n",
            "  _warn_prf(average, modifier, msg_start, len(result))\n",
            "/usr/local/lib/python3.10/dist-packages/sklearn/metrics/_classification.py:1344: UndefinedMetricWarning: Precision and F-score are ill-defined and being set to 0.0 in labels with no predicted samples. Use `zero_division` parameter to control this behavior.\n",
            "  _warn_prf(average, modifier, msg_start, len(result))\n"
          ]
        },
        {
          "output_type": "stream",
          "name": "stdout",
          "text": [
            "0.7553283324320841\n",
            "average training loss: 0.02\n",
            "training on epoch:  39\n",
            "training on step:  50\n",
            "total time used is: 11.14 s\n"
          ]
        },
        {
          "output_type": "stream",
          "name": "stderr",
          "text": [
            "/usr/local/lib/python3.10/dist-packages/sklearn/metrics/_classification.py:1344: UndefinedMetricWarning: Precision and F-score are ill-defined and being set to 0.0 in labels with no predicted samples. Use `zero_division` parameter to control this behavior.\n",
            "  _warn_prf(average, modifier, msg_start, len(result))\n",
            "/usr/local/lib/python3.10/dist-packages/sklearn/metrics/_classification.py:1344: UndefinedMetricWarning: Precision and F-score are ill-defined and being set to 0.0 in labels with no predicted samples. Use `zero_division` parameter to control this behavior.\n",
            "  _warn_prf(average, modifier, msg_start, len(result))\n",
            "/usr/local/lib/python3.10/dist-packages/sklearn/metrics/_classification.py:1344: UndefinedMetricWarning: Precision and F-score are ill-defined and being set to 0.0 in labels with no predicted samples. Use `zero_division` parameter to control this behavior.\n",
            "  _warn_prf(average, modifier, msg_start, len(result))\n"
          ]
        },
        {
          "output_type": "stream",
          "name": "stdout",
          "text": [
            "0.7580052478766185\n",
            "average training loss: 0.02\n",
            "training on epoch:  40\n",
            "training on step:  50\n",
            "total time used is: 11.13 s\n"
          ]
        },
        {
          "output_type": "stream",
          "name": "stderr",
          "text": [
            "/usr/local/lib/python3.10/dist-packages/sklearn/metrics/_classification.py:1344: UndefinedMetricWarning: Precision and F-score are ill-defined and being set to 0.0 in labels with no predicted samples. Use `zero_division` parameter to control this behavior.\n",
            "  _warn_prf(average, modifier, msg_start, len(result))\n",
            "/usr/local/lib/python3.10/dist-packages/sklearn/metrics/_classification.py:1344: UndefinedMetricWarning: Precision and F-score are ill-defined and being set to 0.0 in labels with no predicted samples. Use `zero_division` parameter to control this behavior.\n",
            "  _warn_prf(average, modifier, msg_start, len(result))\n",
            "/usr/local/lib/python3.10/dist-packages/sklearn/metrics/_classification.py:1344: UndefinedMetricWarning: Precision and F-score are ill-defined and being set to 0.0 in labels with no predicted samples. Use `zero_division` parameter to control this behavior.\n",
            "  _warn_prf(average, modifier, msg_start, len(result))\n"
          ]
        },
        {
          "output_type": "stream",
          "name": "stdout",
          "text": [
            "0.7588251079844044\n",
            "average training loss: 0.02\n",
            "training on epoch:  41\n",
            "training on step:  50\n",
            "total time used is: 11.14 s\n"
          ]
        },
        {
          "output_type": "stream",
          "name": "stderr",
          "text": [
            "/usr/local/lib/python3.10/dist-packages/sklearn/metrics/_classification.py:1344: UndefinedMetricWarning: Precision and F-score are ill-defined and being set to 0.0 in labels with no predicted samples. Use `zero_division` parameter to control this behavior.\n",
            "  _warn_prf(average, modifier, msg_start, len(result))\n",
            "/usr/local/lib/python3.10/dist-packages/sklearn/metrics/_classification.py:1344: UndefinedMetricWarning: Precision and F-score are ill-defined and being set to 0.0 in labels with no predicted samples. Use `zero_division` parameter to control this behavior.\n",
            "  _warn_prf(average, modifier, msg_start, len(result))\n",
            "/usr/local/lib/python3.10/dist-packages/sklearn/metrics/_classification.py:1344: UndefinedMetricWarning: Precision and F-score are ill-defined and being set to 0.0 in labels with no predicted samples. Use `zero_division` parameter to control this behavior.\n",
            "  _warn_prf(average, modifier, msg_start, len(result))\n"
          ]
        },
        {
          "output_type": "stream",
          "name": "stdout",
          "text": [
            "0.7634863327469472\n",
            "average training loss: 0.02\n",
            "training on epoch:  42\n",
            "training on step:  50\n",
            "total time used is: 11.12 s\n"
          ]
        },
        {
          "output_type": "stream",
          "name": "stderr",
          "text": [
            "/usr/local/lib/python3.10/dist-packages/sklearn/metrics/_classification.py:1344: UndefinedMetricWarning: Precision and F-score are ill-defined and being set to 0.0 in labels with no predicted samples. Use `zero_division` parameter to control this behavior.\n",
            "  _warn_prf(average, modifier, msg_start, len(result))\n",
            "/usr/local/lib/python3.10/dist-packages/sklearn/metrics/_classification.py:1344: UndefinedMetricWarning: Precision and F-score are ill-defined and being set to 0.0 in labels with no predicted samples. Use `zero_division` parameter to control this behavior.\n",
            "  _warn_prf(average, modifier, msg_start, len(result))\n",
            "/usr/local/lib/python3.10/dist-packages/sklearn/metrics/_classification.py:1344: UndefinedMetricWarning: Precision and F-score are ill-defined and being set to 0.0 in labels with no predicted samples. Use `zero_division` parameter to control this behavior.\n",
            "  _warn_prf(average, modifier, msg_start, len(result))\n"
          ]
        },
        {
          "output_type": "stream",
          "name": "stdout",
          "text": [
            "0.7617747010969518\n",
            "average training loss: 0.02\n",
            "training on epoch:  43\n",
            "training on step:  50\n",
            "total time used is: 12.17 s\n"
          ]
        },
        {
          "output_type": "stream",
          "name": "stderr",
          "text": [
            "/usr/local/lib/python3.10/dist-packages/sklearn/metrics/_classification.py:1344: UndefinedMetricWarning: Precision and F-score are ill-defined and being set to 0.0 in labels with no predicted samples. Use `zero_division` parameter to control this behavior.\n",
            "  _warn_prf(average, modifier, msg_start, len(result))\n",
            "/usr/local/lib/python3.10/dist-packages/sklearn/metrics/_classification.py:1344: UndefinedMetricWarning: Precision and F-score are ill-defined and being set to 0.0 in labels with no predicted samples. Use `zero_division` parameter to control this behavior.\n",
            "  _warn_prf(average, modifier, msg_start, len(result))\n",
            "/usr/local/lib/python3.10/dist-packages/sklearn/metrics/_classification.py:1344: UndefinedMetricWarning: Precision and F-score are ill-defined and being set to 0.0 in labels with no predicted samples. Use `zero_division` parameter to control this behavior.\n",
            "  _warn_prf(average, modifier, msg_start, len(result))\n"
          ]
        },
        {
          "output_type": "stream",
          "name": "stdout",
          "text": [
            "0.7626210225315084\n",
            "average training loss: 0.02\n",
            "training on epoch:  44\n",
            "training on step:  50\n",
            "total time used is: 11.09 s\n"
          ]
        },
        {
          "output_type": "stream",
          "name": "stderr",
          "text": [
            "/usr/local/lib/python3.10/dist-packages/sklearn/metrics/_classification.py:1344: UndefinedMetricWarning: Precision and F-score are ill-defined and being set to 0.0 in labels with no predicted samples. Use `zero_division` parameter to control this behavior.\n",
            "  _warn_prf(average, modifier, msg_start, len(result))\n",
            "/usr/local/lib/python3.10/dist-packages/sklearn/metrics/_classification.py:1344: UndefinedMetricWarning: Precision and F-score are ill-defined and being set to 0.0 in labels with no predicted samples. Use `zero_division` parameter to control this behavior.\n",
            "  _warn_prf(average, modifier, msg_start, len(result))\n",
            "/usr/local/lib/python3.10/dist-packages/sklearn/metrics/_classification.py:1344: UndefinedMetricWarning: Precision and F-score are ill-defined and being set to 0.0 in labels with no predicted samples. Use `zero_division` parameter to control this behavior.\n",
            "  _warn_prf(average, modifier, msg_start, len(result))\n"
          ]
        },
        {
          "output_type": "stream",
          "name": "stdout",
          "text": [
            "0.7599202365337923\n",
            "average training loss: 0.02\n",
            "training on epoch:  45\n",
            "training on step:  50\n",
            "total time used is: 11.09 s\n"
          ]
        },
        {
          "output_type": "stream",
          "name": "stderr",
          "text": [
            "/usr/local/lib/python3.10/dist-packages/sklearn/metrics/_classification.py:1344: UndefinedMetricWarning: Precision and F-score are ill-defined and being set to 0.0 in labels with no predicted samples. Use `zero_division` parameter to control this behavior.\n",
            "  _warn_prf(average, modifier, msg_start, len(result))\n",
            "/usr/local/lib/python3.10/dist-packages/sklearn/metrics/_classification.py:1344: UndefinedMetricWarning: Precision and F-score are ill-defined and being set to 0.0 in labels with no predicted samples. Use `zero_division` parameter to control this behavior.\n",
            "  _warn_prf(average, modifier, msg_start, len(result))\n",
            "/usr/local/lib/python3.10/dist-packages/sklearn/metrics/_classification.py:1344: UndefinedMetricWarning: Precision and F-score are ill-defined and being set to 0.0 in labels with no predicted samples. Use `zero_division` parameter to control this behavior.\n",
            "  _warn_prf(average, modifier, msg_start, len(result))\n"
          ]
        },
        {
          "output_type": "stream",
          "name": "stdout",
          "text": [
            "0.7609323468383151\n",
            "average training loss: 0.01\n",
            "training on epoch:  46\n",
            "training on step:  50\n",
            "total time used is: 11.09 s\n"
          ]
        },
        {
          "output_type": "stream",
          "name": "stderr",
          "text": [
            "/usr/local/lib/python3.10/dist-packages/sklearn/metrics/_classification.py:1344: UndefinedMetricWarning: Precision and F-score are ill-defined and being set to 0.0 in labels with no predicted samples. Use `zero_division` parameter to control this behavior.\n",
            "  _warn_prf(average, modifier, msg_start, len(result))\n",
            "/usr/local/lib/python3.10/dist-packages/sklearn/metrics/_classification.py:1344: UndefinedMetricWarning: Precision and F-score are ill-defined and being set to 0.0 in labels with no predicted samples. Use `zero_division` parameter to control this behavior.\n",
            "  _warn_prf(average, modifier, msg_start, len(result))\n",
            "/usr/local/lib/python3.10/dist-packages/sklearn/metrics/_classification.py:1344: UndefinedMetricWarning: Precision and F-score are ill-defined and being set to 0.0 in labels with no predicted samples. Use `zero_division` parameter to control this behavior.\n",
            "  _warn_prf(average, modifier, msg_start, len(result))\n"
          ]
        },
        {
          "output_type": "stream",
          "name": "stdout",
          "text": [
            "0.7617786682728719\n",
            "average training loss: 0.01\n",
            "training on epoch:  47\n",
            "training on step:  50\n",
            "total time used is: 11.12 s\n"
          ]
        },
        {
          "output_type": "stream",
          "name": "stderr",
          "text": [
            "/usr/local/lib/python3.10/dist-packages/sklearn/metrics/_classification.py:1344: UndefinedMetricWarning: Precision and F-score are ill-defined and being set to 0.0 in labels with no predicted samples. Use `zero_division` parameter to control this behavior.\n",
            "  _warn_prf(average, modifier, msg_start, len(result))\n",
            "/usr/local/lib/python3.10/dist-packages/sklearn/metrics/_classification.py:1344: UndefinedMetricWarning: Precision and F-score are ill-defined and being set to 0.0 in labels with no predicted samples. Use `zero_division` parameter to control this behavior.\n",
            "  _warn_prf(average, modifier, msg_start, len(result))\n",
            "/usr/local/lib/python3.10/dist-packages/sklearn/metrics/_classification.py:1344: UndefinedMetricWarning: Precision and F-score are ill-defined and being set to 0.0 in labels with no predicted samples. Use `zero_division` parameter to control this behavior.\n",
            "  _warn_prf(average, modifier, msg_start, len(result))\n"
          ]
        },
        {
          "output_type": "stream",
          "name": "stdout",
          "text": [
            "0.7600554158416162\n",
            "average training loss: 0.02\n",
            "training on epoch:  48\n",
            "training on step:  50\n",
            "total time used is: 11.12 s\n"
          ]
        },
        {
          "output_type": "stream",
          "name": "stderr",
          "text": [
            "/usr/local/lib/python3.10/dist-packages/sklearn/metrics/_classification.py:1344: UndefinedMetricWarning: Precision and F-score are ill-defined and being set to 0.0 in labels with no predicted samples. Use `zero_division` parameter to control this behavior.\n",
            "  _warn_prf(average, modifier, msg_start, len(result))\n",
            "/usr/local/lib/python3.10/dist-packages/sklearn/metrics/_classification.py:1344: UndefinedMetricWarning: Precision and F-score are ill-defined and being set to 0.0 in labels with no predicted samples. Use `zero_division` parameter to control this behavior.\n",
            "  _warn_prf(average, modifier, msg_start, len(result))\n",
            "/usr/local/lib/python3.10/dist-packages/sklearn/metrics/_classification.py:1344: UndefinedMetricWarning: Precision and F-score are ill-defined and being set to 0.0 in labels with no predicted samples. Use `zero_division` parameter to control this behavior.\n",
            "  _warn_prf(average, modifier, msg_start, len(result))\n"
          ]
        },
        {
          "output_type": "stream",
          "name": "stdout",
          "text": [
            "0.7609323468383151\n",
            "average training loss: 0.01\n",
            "training on epoch:  49\n",
            "training on step:  50\n",
            "total time used is: 11.43 s\n",
            "0.7609323468383151\n",
            "average training loss: 0.01\n"
          ]
        },
        {
          "output_type": "stream",
          "name": "stderr",
          "text": [
            "/usr/local/lib/python3.10/dist-packages/sklearn/metrics/_classification.py:1344: UndefinedMetricWarning: Precision and F-score are ill-defined and being set to 0.0 in labels with no predicted samples. Use `zero_division` parameter to control this behavior.\n",
            "  _warn_prf(average, modifier, msg_start, len(result))\n",
            "/usr/local/lib/python3.10/dist-packages/sklearn/metrics/_classification.py:1344: UndefinedMetricWarning: Precision and F-score are ill-defined and being set to 0.0 in labels with no predicted samples. Use `zero_division` parameter to control this behavior.\n",
            "  _warn_prf(average, modifier, msg_start, len(result))\n",
            "/usr/local/lib/python3.10/dist-packages/sklearn/metrics/_classification.py:1344: UndefinedMetricWarning: Precision and F-score are ill-defined and being set to 0.0 in labels with no predicted samples. Use `zero_division` parameter to control this behavior.\n",
            "  _warn_prf(average, modifier, msg_start, len(result))\n"
          ]
        }
      ],
      "source": [
        "# Training\n",
        "# Store the average loss after each epoch\n",
        "fscores=[]\n",
        "loss_values = []\n",
        "# number of total steps for each epoch\n",
        "print('total steps per epoch: ',  len(train_dataloader) / batch_size)\n",
        "# looping over epochs\n",
        "for epoch_i in range(0, epochs):\n",
        "\n",
        "    print('training on epoch: ', epoch_i)\n",
        "    # set start time\n",
        "    t0 = time.time()\n",
        "    # reset total loss\n",
        "    total_loss = 0\n",
        "    # model in training\n",
        "    model.train()\n",
        "    # loop through batch\n",
        "    for step, batch in enumerate(train_dataloader):\n",
        "        # Progress update every 50 step\n",
        "        if step % 50 == 0 and not step == 0:\n",
        "            print('training on step: ', step)\n",
        "            print('total time used is: {0:.2f} s'.format(time.time() - t0))\n",
        "\n",
        "        # load data from dataloader\n",
        "        b_input_ids = batch[0].to(device)\n",
        "        b_input_mask = batch[1].to(device)\n",
        "        b_labels = batch[2].to(device)\n",
        "\n",
        "        # get outputs\n",
        "        outputs = model(b_input_ids,\n",
        "                        token_type_ids=None,\n",
        "                        attention_mask=b_input_mask,\n",
        "                        labels=b_labels)\n",
        "        # get loss\n",
        "        loss = outputs[0]\n",
        "        loss.backward()\n",
        "        # total loss\n",
        "        total_loss += loss.item()\n",
        "        #print(loss.item())\n",
        "        # clip the norm of the gradients to 1.0.\n",
        "        torch.nn.utils.clip_grad_norm_(model.parameters(), 1.0)\n",
        "        # update optimizer\n",
        "        optimizer.step()\n",
        "        # update learning rate\n",
        "        scheduler.step()\n",
        "        # clear any previously calculated gradients\n",
        "        model.zero_grad()\n",
        "    #######################\n",
        "    # model in validation mode\n",
        "    model.eval()\n",
        "    # save prediction\n",
        "    predictions,true_labels =[],[]\n",
        "    # evaluate data for one epoch\n",
        "    for batch in validation_dataloader:\n",
        "        # Add batch to GPU\n",
        "        batch = tuple(t.to(device) for t in batch)\n",
        "        # Unpack the inputs from our dataloader\n",
        "        b_input_ids, b_input_mask, b_labels = batch\n",
        "        # validation\n",
        "        with torch.no_grad():\n",
        "            outputs = model(b_input_ids,\n",
        "                            token_type_ids=None,\n",
        "                            attention_mask=b_input_mask)\n",
        "        # get output\n",
        "        logits = outputs[0]\n",
        "        # move logits and labels to CPU\n",
        "        logits = logits.detach().cpu().numpy()\n",
        "        label_ids = b_labels.to('cpu').numpy()\n",
        "        final_prediction = np.argmax(logits, axis=-1).flatten()\n",
        "        predictions.append(final_prediction)\n",
        "        true_labels.append(label_ids)\n",
        "    final_prediction_list = le.inverse_transform(np.concatenate(predictions))\n",
        "    final_truelabel_list = le.inverse_transform(np.concatenate(true_labels))\n",
        "    cr = classification_report(final_truelabel_list,\n",
        "                        final_prediction_list,\n",
        "                        output_dict=True)\n",
        "    print(cr[\"weighted avg\"][\"f1-score\"])\n",
        "    fscores.append(cr[\"weighted avg\"][\"f1-score\"])\n",
        "    #######################\n",
        "\n",
        "    # Calculate the average loss over the training data.\n",
        "    avg_train_loss = total_loss / len(train_dataloader)\n",
        "    # Store the loss value for plotting the learning curve.\n",
        "    loss_values.append(avg_train_loss)\n",
        "    print(\"average training loss: {0:.2f}\".format(avg_train_loss))"
      ]
    },
    {
      "cell_type": "code",
      "execution_count": null,
      "metadata": {
        "id": "mzyl0DKqa7U4",
        "colab": {
          "base_uri": "https://localhost:8080/"
        },
        "outputId": "0a8faaf5-e010-475e-b1e0-82c43c948c4f"
      },
      "outputs": [
        {
          "output_type": "stream",
          "name": "stdout",
          "text": [
            "total time used is: 0.60 s\n"
          ]
        }
      ],
      "source": [
        "# Test\n",
        "t0 = time.time()\n",
        "# model in validation mode\n",
        "model.eval()\n",
        "# save prediction\n",
        "predictions,true_labels =[],[]\n",
        "# evaluate data for one epoch\n",
        "for batch in validation_dataloader:\n",
        "    # Add batch to GPU\n",
        "    batch = tuple(t.to(device) for t in batch)\n",
        "    # Unpack the inputs from our dataloader\n",
        "    b_input_ids, b_input_mask, b_labels = batch\n",
        "    # validation\n",
        "    with torch.no_grad():\n",
        "        outputs = model(b_input_ids,\n",
        "                        token_type_ids=None,\n",
        "                        attention_mask=b_input_mask)\n",
        "    # get output\n",
        "    logits = outputs[0]\n",
        "    # move logits and labels to CPU\n",
        "    logits = logits.detach().cpu().numpy()\n",
        "    label_ids = b_labels.to('cpu').numpy()\n",
        "    final_prediction = np.argmax(logits, axis=-1).flatten()\n",
        "    predictions.append(final_prediction)\n",
        "    true_labels.append(label_ids)\n",
        "\n",
        "print('total time used is: {0:.2f} s'.format(time.time() - t0))"
      ]
    },
    {
      "cell_type": "code",
      "execution_count": null,
      "metadata": {
        "id": "Y2PFNoOmbOvM",
        "colab": {
          "base_uri": "https://localhost:8080/"
        },
        "outputId": "92226ee4-381c-4065-e9d1-f83fd75f6225"
      },
      "outputs": [
        {
          "output_type": "execute_result",
          "data": {
            "text/plain": [
              "[array([ 0, 70,  2,  3,  3,  3,  3,  3,  3,  4, 30,  6,  7,  8,  9, 10, 11,\n",
              "        12, 13, 14, 15, 15, 16, 17, 18, 19, 20, 20, 21, 22, 22, 23]),\n",
              " array([24, 25, 26, 27, 30, 29, 30, 31, 32, 33, 34, 34, 35, 20, 38, 39, 70,\n",
              "        40, 41, 42, 43, 44, 45, 47, 48, 49, 50, 51, 51, 52, 53, 54]),\n",
              " array([ 55,  56,  57,  58,  58,  59,  60,  61,  62,  63,  64,  65,  66,\n",
              "         67, 107, 107,  67,  67,  67,  67,  70,  70,  71,  72,  73,  73,\n",
              "         74,  75,  76,  76,  77,  77]),\n",
              " array([ 78,  74, 107,  80, 107, 107,  81,  81,  81,  81,  82,  82,  82,\n",
              "         82,  82, 107,  82,  82,  82, 107,  82,  82,  83,  83,  84,  84,\n",
              "         84,  84,  84,  84,  84,  85]),\n",
              " array([ 86,  86,  86, 104,  87,  87,  88,  88,  88,  89, 101,  89,  89,\n",
              "         84,  89, 107, 107,  89,  89,  89, 102,  89,  89,  89,  89,  89,\n",
              "        107,  89,  89,  90,  90,  91]),\n",
              " array([ 92,  93,  94,  97,  98,  98,  89,  89, 100,  81, 100, 100, 100,\n",
              "        101, 101, 101, 101, 102, 102, 102, 103, 104,  82,  79, 106, 107,\n",
              "        107, 107, 107,  80, 107, 107]),\n",
              " array([107, 107, 107, 107, 139, 107, 107, 107, 107, 107, 107, 107, 102,\n",
              "         89, 107, 107, 107, 107, 107, 107, 107, 107, 107, 107, 107, 107,\n",
              "        107, 107, 107, 107, 107, 107]),\n",
              " array([107,  80, 107, 102, 107, 107,  89, 107, 107, 107,  80, 107, 107,\n",
              "        107,  82, 107, 107, 107, 107, 107, 107, 107, 107, 107, 107, 107,\n",
              "        107, 108, 109, 110, 111, 112]),\n",
              " array([113, 114, 114, 115, 116, 117, 118, 119, 120, 121, 122, 123, 130,\n",
              "        132, 123, 124, 125, 126, 127, 128, 129, 107, 130, 130, 131, 132,\n",
              "        139, 132, 132, 133, 134, 135]),\n",
              " array([135, 136, 137, 138, 138, 138, 139, 132, 139, 139, 139, 139, 139,\n",
              "        140, 141, 142,  73, 144])]"
            ]
          },
          "metadata": {},
          "execution_count": 80
        }
      ],
      "source": [
        "predictions"
      ]
    },
    {
      "cell_type": "code",
      "execution_count": null,
      "metadata": {
        "id": "FLBHiyWHbZNI"
      },
      "outputs": [],
      "source": [
        "# convert numeric label to string\n",
        "final_prediction_list = le.inverse_transform(np.concatenate(predictions))\n",
        "final_truelabel_list = le.inverse_transform(np.concatenate(true_labels))"
      ]
    },
    {
      "cell_type": "code",
      "execution_count": null,
      "metadata": {
        "id": "a-zRTlX_bq83",
        "colab": {
          "base_uri": "https://localhost:8080/"
        },
        "outputId": "857731ba-1c3f-4a87-e71d-231755f26fe8"
      },
      "outputs": [
        {
          "output_type": "execute_result",
          "data": {
            "text/plain": [
              "array(['afirmar', 'saludo', 'estado', 'motivo_de_consulta',\n",
              "       'motivo_de_consulta', 'motivo_de_consulta', 'motivo_de_consulta',\n",
              "       'motivo_de_consulta', 'motivo_de_consulta', 'otros',\n",
              "       'personal_dieta_describir', 'personal_adiccion_alcohol_describir',\n",
              "       'personal_adiccion_alcohol_duracion',\n",
              "       'personal_adiccion_alcohol_frecuencia',\n",
              "       'personal_adiccion_alcohol_otros',\n",
              "       'personal_adiccion_alcohol_si_o_no',\n",
              "       'personal_adiccion_fumar_cantidad',\n",
              "       'personal_adiccion_fumar_duracion',\n",
              "       'personal_adiccion_fumar_frecuencia',\n",
              "       'personal_adiccion_fumar_inicio',\n",
              "       'personal_adiccion_fumar_si_o_no',\n",
              "       'personal_adiccion_fumar_si_o_no',\n",
              "       'personal_adiccion_otros_describir',\n",
              "       'personal_adiccion_otros_si_o_no', 'personal_contacto',\n",
              "       'personal_datos_direccion', 'personal_datos_edad',\n",
              "       'personal_datos_edad', 'personal_datos_fecha_de_nacimiento',\n",
              "       'personal_datos_nombre', 'personal_datos_nombre',\n",
              "       'personal_deporte_cantidad', 'personal_deporte_cuando',\n",
              "       'personal_deporte_describir', 'personal_deporte_frecuencia',\n",
              "       'personal_deporte_si_o_no', 'personal_dieta_describir',\n",
              "       'personal_dieta_cuando', 'personal_dieta_describir',\n",
              "       'personal_dieta_duracion', 'personal_dieta_frecuencia',\n",
              "       'personal_dieta_otros', 'personal_dieta_si_o_no',\n",
              "       'personal_dieta_si_o_no', 'personal_entorno_describir',\n",
              "       'personal_datos_edad', 'personal_entorno_hijos_nombre',\n",
              "       'personal_entorno_hijos_otros', 'saludo',\n",
              "       'personal_entorno_hijos_si_o_no',\n",
              "       'personal_entorno_mascota_si_o_no',\n",
              "       'personal_entorno_otros_describir',\n",
              "       'personal_entorno_otros_si_o_no',\n",
              "       'personal_entorno_padres_si_o_no',\n",
              "       'personal_entorno_pareja_nombre',\n",
              "       'personal_entorno_pareja_si_o_no', 'personal_fisico_altura',\n",
              "       'personal_fisico_peso_cambio', 'personal_fisico_peso_duracion',\n",
              "       'personal_fisico_peso_peso', 'personal_fisico_peso_peso',\n",
              "       'personal_otros_describir', 'personal_otros_si_o_no',\n",
              "       'personal_sueño_describir', 'personal_sueño_horas',\n",
              "       'personal_sueño_si_o_no', 'personal_trabajo_anterior',\n",
              "       'personal_trabajo_describir', 'personal_trabajo_describir',\n",
              "       'personal_trabajo_duracion', 'personal_trabajo_horas',\n",
              "       'personal_trabajo_lugar', 'personal_trabajo_otros',\n",
              "       'personal_trabajo_si_o_no', 'personal_viajes_describir',\n",
              "       'personal_viajes_otros', 'personal_viajes_si_o_no', 'psiquiatria',\n",
              "       'sintoma_paciente_si_o_no', 'sintoma_paciente_si_o_no',\n",
              "       'psiquiatria', 'psiquiatria', 'psiquiatria', 'psiquiatria',\n",
              "       'saludo', 'saludo', 'sintoma_bebe_peso', 'sintoma_bebe_si_o_no',\n",
              "       'sintoma_entorno_si_o_no', 'sintoma_entorno_si_o_no',\n",
              "       'sintoma_familia_describir', 'sintoma_familia_inicio',\n",
              "       'sintoma_familia_si_o_no', 'sintoma_familia_si_o_no',\n",
              "       'sintoma_paciente_alergia_describir',\n",
              "       'sintoma_paciente_alergia_describir',\n",
              "       'sintoma_paciente_alergia_si_o_no', 'sintoma_familia_describir',\n",
              "       'sintoma_paciente_si_o_no',\n",
              "       'sintoma_paciente_antecedentes_si_o_no',\n",
              "       'sintoma_paciente_si_o_no', 'sintoma_paciente_si_o_no',\n",
              "       'sintoma_paciente_aparicion_describir',\n",
              "       'sintoma_paciente_aparicion_describir',\n",
              "       'sintoma_paciente_aparicion_describir',\n",
              "       'sintoma_paciente_aparicion_describir',\n",
              "       'sintoma_paciente_aparicion_si_o_no',\n",
              "       'sintoma_paciente_aparicion_si_o_no',\n",
              "       'sintoma_paciente_aparicion_si_o_no',\n",
              "       'sintoma_paciente_aparicion_si_o_no',\n",
              "       'sintoma_paciente_aparicion_si_o_no', 'sintoma_paciente_si_o_no',\n",
              "       'sintoma_paciente_aparicion_si_o_no',\n",
              "       'sintoma_paciente_aparicion_si_o_no',\n",
              "       'sintoma_paciente_aparicion_si_o_no', 'sintoma_paciente_si_o_no',\n",
              "       'sintoma_paciente_aparicion_si_o_no',\n",
              "       'sintoma_paciente_aparicion_si_o_no',\n",
              "       'sintoma_paciente_cambio_describir',\n",
              "       'sintoma_paciente_cambio_describir',\n",
              "       'sintoma_paciente_cambio_si_o_no',\n",
              "       'sintoma_paciente_cambio_si_o_no',\n",
              "       'sintoma_paciente_cambio_si_o_no',\n",
              "       'sintoma_paciente_cambio_si_o_no',\n",
              "       'sintoma_paciente_cambio_si_o_no',\n",
              "       'sintoma_paciente_cambio_si_o_no',\n",
              "       'sintoma_paciente_cambio_si_o_no',\n",
              "       'sintoma_paciente_capacidad_describir',\n",
              "       'sintoma_paciente_capacidad_si_o_no',\n",
              "       'sintoma_paciente_capacidad_si_o_no',\n",
              "       'sintoma_paciente_capacidad_si_o_no',\n",
              "       'sintoma_paciente_secuela_si_o_no',\n",
              "       'sintoma_paciente_causa_describir',\n",
              "       'sintoma_paciente_causa_describir',\n",
              "       'sintoma_paciente_causa_si_o_no', 'sintoma_paciente_causa_si_o_no',\n",
              "       'sintoma_paciente_causa_si_o_no', 'sintoma_paciente_describir',\n",
              "       'sintoma_paciente_localizacion_describir',\n",
              "       'sintoma_paciente_describir', 'sintoma_paciente_describir',\n",
              "       'sintoma_paciente_cambio_si_o_no', 'sintoma_paciente_describir',\n",
              "       'sintoma_paciente_si_o_no', 'sintoma_paciente_si_o_no',\n",
              "       'sintoma_paciente_describir', 'sintoma_paciente_describir',\n",
              "       'sintoma_paciente_describir',\n",
              "       'sintoma_paciente_localizacion_si_o_no',\n",
              "       'sintoma_paciente_describir', 'sintoma_paciente_describir',\n",
              "       'sintoma_paciente_describir', 'sintoma_paciente_describir',\n",
              "       'sintoma_paciente_describir', 'sintoma_paciente_si_o_no',\n",
              "       'sintoma_paciente_describir', 'sintoma_paciente_describir',\n",
              "       'sintoma_paciente_duracion', 'sintoma_paciente_duracion',\n",
              "       'sintoma_paciente_embarazo_antecedentes',\n",
              "       'sintoma_paciente_embarazo_cantidad',\n",
              "       'sintoma_paciente_embarazo_describir',\n",
              "       'sintoma_paciente_embarazo_fin',\n",
              "       'sintoma_paciente_fiebre_describir',\n",
              "       'sintoma_paciente_fiebre_si_o_no',\n",
              "       'sintoma_paciente_fiebre_si_o_no', 'sintoma_paciente_describir',\n",
              "       'sintoma_paciente_describir', 'sintoma_paciente_inicio',\n",
              "       'sintoma_paciente_aparicion_describir', 'sintoma_paciente_inicio',\n",
              "       'sintoma_paciente_inicio', 'sintoma_paciente_inicio',\n",
              "       'sintoma_paciente_localizacion_describir',\n",
              "       'sintoma_paciente_localizacion_describir',\n",
              "       'sintoma_paciente_localizacion_describir',\n",
              "       'sintoma_paciente_localizacion_describir',\n",
              "       'sintoma_paciente_localizacion_si_o_no',\n",
              "       'sintoma_paciente_localizacion_si_o_no',\n",
              "       'sintoma_paciente_localizacion_si_o_no',\n",
              "       'sintoma_paciente_secuela_describir',\n",
              "       'sintoma_paciente_secuela_si_o_no',\n",
              "       'sintoma_paciente_aparicion_si_o_no',\n",
              "       'sintoma_paciente_antecedentes_describir',\n",
              "       'sintoma_paciente_seguimiento_si_o_no', 'sintoma_paciente_si_o_no',\n",
              "       'sintoma_paciente_si_o_no', 'sintoma_paciente_si_o_no',\n",
              "       'sintoma_paciente_si_o_no',\n",
              "       'sintoma_paciente_antecedentes_si_o_no',\n",
              "       'sintoma_paciente_si_o_no', 'sintoma_paciente_si_o_no',\n",
              "       'sintoma_paciente_si_o_no', 'sintoma_paciente_si_o_no',\n",
              "       'sintoma_paciente_si_o_no', 'sintoma_paciente_si_o_no',\n",
              "       'tratamiento_operacion_si_o_no', 'sintoma_paciente_si_o_no',\n",
              "       'sintoma_paciente_si_o_no', 'sintoma_paciente_si_o_no',\n",
              "       'sintoma_paciente_si_o_no', 'sintoma_paciente_si_o_no',\n",
              "       'sintoma_paciente_si_o_no', 'sintoma_paciente_si_o_no',\n",
              "       'sintoma_paciente_localizacion_si_o_no',\n",
              "       'sintoma_paciente_describir', 'sintoma_paciente_si_o_no',\n",
              "       'sintoma_paciente_si_o_no', 'sintoma_paciente_si_o_no',\n",
              "       'sintoma_paciente_si_o_no', 'sintoma_paciente_si_o_no',\n",
              "       'sintoma_paciente_si_o_no', 'sintoma_paciente_si_o_no',\n",
              "       'sintoma_paciente_si_o_no', 'sintoma_paciente_si_o_no',\n",
              "       'sintoma_paciente_si_o_no', 'sintoma_paciente_si_o_no',\n",
              "       'sintoma_paciente_si_o_no', 'sintoma_paciente_si_o_no',\n",
              "       'sintoma_paciente_si_o_no', 'sintoma_paciente_si_o_no',\n",
              "       'sintoma_paciente_si_o_no', 'sintoma_paciente_si_o_no',\n",
              "       'sintoma_paciente_si_o_no', 'sintoma_paciente_si_o_no',\n",
              "       'sintoma_paciente_antecedentes_si_o_no',\n",
              "       'sintoma_paciente_si_o_no',\n",
              "       'sintoma_paciente_localizacion_si_o_no',\n",
              "       'sintoma_paciente_si_o_no', 'sintoma_paciente_si_o_no',\n",
              "       'sintoma_paciente_describir', 'sintoma_paciente_si_o_no',\n",
              "       'sintoma_paciente_si_o_no', 'sintoma_paciente_si_o_no',\n",
              "       'sintoma_paciente_antecedentes_si_o_no',\n",
              "       'sintoma_paciente_si_o_no', 'sintoma_paciente_si_o_no',\n",
              "       'sintoma_paciente_si_o_no', 'sintoma_paciente_aparicion_si_o_no',\n",
              "       'sintoma_paciente_si_o_no', 'sintoma_paciente_si_o_no',\n",
              "       'sintoma_paciente_si_o_no', 'sintoma_paciente_si_o_no',\n",
              "       'sintoma_paciente_si_o_no', 'sintoma_paciente_si_o_no',\n",
              "       'sintoma_paciente_si_o_no', 'sintoma_paciente_si_o_no',\n",
              "       'sintoma_paciente_si_o_no', 'sintoma_paciente_si_o_no',\n",
              "       'sintoma_paciente_si_o_no', 'sintoma_paciente_si_o_no',\n",
              "       'tratamiento_anticonceptivos_describir',\n",
              "       'tratamiento_anticonceptivos_frecuencia',\n",
              "       'tratamiento_anticonceptivos_si_o_no',\n",
              "       'tratamiento_consulta_describir',\n",
              "       'tratamiento_consulta_especialista_si_o_no',\n",
              "       'tratamiento_consulta_fecha', 'tratamiento_consulta_si_o_no',\n",
              "       'tratamiento_consulta_si_o_no', 'tratamiento_diagnostico_como',\n",
              "       'tratamiento_diagnostico_fecha', 'tratamiento_diagnostico_quien',\n",
              "       'tratamiento_diagnostico_si_o_no',\n",
              "       'tratamiento_historial_describir', 'tratamiento_historial_si_o_no',\n",
              "       'tratamiento_medicacion_antecedentes',\n",
              "       'tratamiento_medicacion_cuando',\n",
              "       'tratamiento_medicacion_describir',\n",
              "       'tratamiento_medicacion_si_o_no',\n",
              "       'tratamiento_operacion_describir',\n",
              "       'tratamiento_medicacion_describir', 'tratamiento_medicacion_dosis',\n",
              "       'tratamiento_medicacion_duracion',\n",
              "       'tratamiento_medicacion_frecuencia',\n",
              "       'tratamiento_medicacion_motivo', 'tratamiento_medicacion_otros',\n",
              "       'tratamiento_medicacion_receta', 'sintoma_paciente_si_o_no',\n",
              "       'tratamiento_medicacion_si_o_no', 'tratamiento_medicacion_si_o_no',\n",
              "       'tratamiento_operacion_complicaciones',\n",
              "       'tratamiento_operacion_describir', 'tratamiento_operacion_si_o_no',\n",
              "       'tratamiento_operacion_describir',\n",
              "       'tratamiento_operacion_describir', 'tratamiento_operacion_dosis',\n",
              "       'tratamiento_operacion_especialista',\n",
              "       'tratamiento_operacion_fecha', 'tratamiento_operacion_fecha',\n",
              "       'tratamiento_operacion_frecuencia', 'tratamiento_operacion_motivo',\n",
              "       'tratamiento_operacion_resultados',\n",
              "       'tratamiento_operacion_resultados',\n",
              "       'tratamiento_operacion_resultados',\n",
              "       'tratamiento_operacion_si_o_no', 'tratamiento_operacion_describir',\n",
              "       'tratamiento_operacion_si_o_no', 'tratamiento_operacion_si_o_no',\n",
              "       'tratamiento_operacion_si_o_no', 'tratamiento_operacion_si_o_no',\n",
              "       'tratamiento_operacion_si_o_no', 'vida_sexual_describir',\n",
              "       'vida_sexual_edad', 'vida_sexual_frecuencia',\n",
              "       'sintoma_entorno_si_o_no', 'vida_sexual_si_o_no'], dtype='<U41')"
            ]
          },
          "metadata": {},
          "execution_count": 82
        }
      ],
      "source": [
        "final_prediction_list\n"
      ]
    },
    {
      "cell_type": "code",
      "execution_count": null,
      "metadata": {
        "id": "NEyhz846btw6",
        "colab": {
          "base_uri": "https://localhost:8080/"
        },
        "outputId": "28990aad-99ab-41e6-9151-343211fb71db"
      },
      "outputs": [
        {
          "output_type": "stream",
          "name": "stdout",
          "text": [
            "                                           precision    recall  f1-score   support\n",
            "\n",
            "                                  afirmar       0.50      1.00      0.67         1\n",
            "                                despedida       0.00      0.00      0.00         1\n",
            "                                   estado       1.00      1.00      1.00         1\n",
            "                       motivo_de_consulta       1.00      1.00      1.00         6\n",
            "                                    otros       1.00      1.00      1.00         1\n",
            "       personal_adiccion_alcohol_cantidad       0.00      0.00      0.00         1\n",
            "      personal_adiccion_alcohol_describir       1.00      1.00      1.00         1\n",
            "       personal_adiccion_alcohol_duracion       1.00      1.00      1.00         1\n",
            "     personal_adiccion_alcohol_frecuencia       1.00      1.00      1.00         1\n",
            "          personal_adiccion_alcohol_otros       1.00      1.00      1.00         1\n",
            "        personal_adiccion_alcohol_si_o_no       1.00      1.00      1.00         1\n",
            "         personal_adiccion_fumar_cantidad       1.00      1.00      1.00         1\n",
            "         personal_adiccion_fumar_duracion       1.00      1.00      1.00         1\n",
            "       personal_adiccion_fumar_frecuencia       1.00      1.00      1.00         1\n",
            "           personal_adiccion_fumar_inicio       1.00      1.00      1.00         1\n",
            "          personal_adiccion_fumar_si_o_no       1.00      1.00      1.00         2\n",
            "        personal_adiccion_otros_describir       1.00      1.00      1.00         1\n",
            "          personal_adiccion_otros_si_o_no       1.00      1.00      1.00         1\n",
            "                        personal_contacto       1.00      1.00      1.00         1\n",
            "                 personal_datos_direccion       1.00      1.00      1.00         1\n",
            "                      personal_datos_edad       0.67      1.00      0.80         2\n",
            "       personal_datos_fecha_de_nacimiento       1.00      1.00      1.00         1\n",
            "                    personal_datos_nombre       1.00      0.50      0.67         2\n",
            "                personal_deporte_cantidad       1.00      1.00      1.00         1\n",
            "                  personal_deporte_cuando       1.00      1.00      1.00         1\n",
            "               personal_deporte_describir       1.00      1.00      1.00         1\n",
            "              personal_deporte_frecuencia       1.00      1.00      1.00         1\n",
            "                 personal_deporte_si_o_no       1.00      1.00      1.00         1\n",
            "                  personal_dieta_cantidad       0.00      0.00      0.00         1\n",
            "                    personal_dieta_cuando       1.00      1.00      1.00         1\n",
            "                 personal_dieta_describir       0.50      1.00      0.67         1\n",
            "                  personal_dieta_duracion       1.00      1.00      1.00         1\n",
            "                personal_dieta_frecuencia       0.00      0.00      0.00         1\n",
            "                     personal_dieta_otros       1.00      1.00      1.00         1\n",
            "                   personal_dieta_si_o_no       0.67      1.00      0.80         2\n",
            "               personal_entorno_describir       1.00      1.00      1.00         1\n",
            "              personal_entorno_hijos_edad       0.00      0.00      0.00         1\n",
            "            personal_entorno_hijos_nombre       1.00      1.00      1.00         1\n",
            "             personal_entorno_hijos_otros       1.00      1.00      1.00         1\n",
            "           personal_entorno_hijos_si_o_no       1.00      0.50      0.67         2\n",
            "         personal_entorno_mascota_si_o_no       1.00      1.00      1.00         1\n",
            "         personal_entorno_otros_describir       1.00      1.00      1.00         1\n",
            "           personal_entorno_otros_si_o_no       1.00      1.00      1.00         1\n",
            "          personal_entorno_padres_si_o_no       1.00      1.00      1.00         1\n",
            "           personal_entorno_pareja_nombre       1.00      1.00      1.00         1\n",
            "          personal_entorno_pareja_si_o_no       1.00      1.00      1.00         1\n",
            "                   personal_fisico_altura       1.00      1.00      1.00         1\n",
            "              personal_fisico_peso_cambio       1.00      1.00      1.00         1\n",
            "            personal_fisico_peso_duracion       1.00      1.00      1.00         1\n",
            "                personal_fisico_peso_peso       1.00      1.00      1.00         2\n",
            "                 personal_otros_describir       1.00      1.00      1.00         1\n",
            "                   personal_otros_si_o_no       1.00      1.00      1.00         1\n",
            "                 personal_sueño_describir       1.00      1.00      1.00         1\n",
            "                     personal_sueño_horas       0.00      0.00      0.00         1\n",
            "                   personal_sueño_si_o_no       0.50      1.00      0.67         1\n",
            "                personal_trabajo_anterior       1.00      1.00      1.00         1\n",
            "               personal_trabajo_describir       1.00      1.00      1.00         2\n",
            "                personal_trabajo_duracion       1.00      1.00      1.00         1\n",
            "                   personal_trabajo_horas       1.00      1.00      1.00         1\n",
            "                   personal_trabajo_lugar       1.00      1.00      1.00         1\n",
            "                   personal_trabajo_otros       1.00      1.00      1.00         1\n",
            "                 personal_trabajo_si_o_no       1.00      1.00      1.00         1\n",
            "                personal_viajes_describir       1.00      1.00      1.00         1\n",
            "                    personal_viajes_otros       1.00      1.00      1.00         1\n",
            "                  personal_viajes_si_o_no       1.00      1.00      1.00         1\n",
            "                              psiquiatria       0.50      0.40      0.44         5\n",
            "    psiquiatria_estado de animo_describir       0.00      0.00      0.00         1\n",
            "      psiquiatria_estado de animo_si_o_no       0.00      0.00      0.00         1\n",
            "                                   saludo       1.00      1.00      1.00         2\n",
            "                        sintoma_bebe_peso       1.00      1.00      1.00         1\n",
            "                     sintoma_bebe_si_o_no       1.00      1.00      1.00         1\n",
            "                  sintoma_entorno_si_o_no       1.00      0.50      0.67         2\n",
            "                sintoma_familia_describir       0.00      0.00      0.00         1\n",
            "                   sintoma_familia_inicio       1.00      1.00      1.00         1\n",
            "                  sintoma_familia_si_o_no       0.67      1.00      0.80         2\n",
            "       sintoma_paciente_alergia_describir       1.00      1.00      1.00         2\n",
            "         sintoma_paciente_alergia_si_o_no       1.00      1.00      1.00         1\n",
            "  sintoma_paciente_antecedentes_describir       0.00      0.00      0.00         1\n",
            "    sintoma_paciente_antecedentes_si_o_no       0.40      0.50      0.44         4\n",
            "     sintoma_paciente_aparicion_describir       0.50      0.25      0.33         4\n",
            "       sintoma_paciente_aparicion_si_o_no       0.90      0.75      0.82        12\n",
            "        sintoma_paciente_cambio_describir       1.00      0.67      0.80         3\n",
            "          sintoma_paciente_cambio_si_o_no       0.75      1.00      0.86         6\n",
            "     sintoma_paciente_capacidad_describir       0.33      1.00      0.50         1\n",
            "       sintoma_paciente_capacidad_si_o_no       0.75      1.00      0.86         3\n",
            "         sintoma_paciente_causa_describir       1.00      0.67      0.80         3\n",
            "           sintoma_paciente_causa_si_o_no       1.00      0.67      0.80         3\n",
            "               sintoma_paciente_describir       0.70      0.70      0.70        20\n",
            "                sintoma_paciente_duracion       0.67      1.00      0.80         2\n",
            "   sintoma_paciente_embarazo_antecedentes       1.00      1.00      1.00         1\n",
            "       sintoma_paciente_embarazo_cantidad       1.00      1.00      1.00         1\n",
            "      sintoma_paciente_embarazo_describir       1.00      1.00      1.00         1\n",
            "            sintoma_paciente_embarazo_fin       1.00      1.00      1.00         1\n",
            "        sintoma_paciente_fiebre_describir       1.00      1.00      1.00         1\n",
            "          sintoma_paciente_fiebre_si_o_no       1.00      1.00      1.00         2\n",
            "              sintoma_paciente_frecuencia       0.50      0.50      0.50         2\n",
            "                  sintoma_paciente_inicio       0.80      0.80      0.80         5\n",
            "  sintoma_paciente_localizacion_describir       0.25      0.33      0.29         3\n",
            "    sintoma_paciente_localizacion_si_o_no       0.67      0.50      0.57         4\n",
            "       sintoma_paciente_secuela_describir       0.33      1.00      0.50         1\n",
            "         sintoma_paciente_secuela_si_o_no       0.00      0.00      0.00         2\n",
            "   sintoma_paciente_seguimiento_describir       0.00      0.00      0.00         1\n",
            "     sintoma_paciente_seguimiento_si_o_no       1.00      1.00      1.00         1\n",
            "                 sintoma_paciente_si_o_no       0.77      0.83      0.80        66\n",
            "    tratamiento_anticonceptivos_describir       1.00      1.00      1.00         1\n",
            "   tratamiento_anticonceptivos_frecuencia       1.00      1.00      1.00         1\n",
            "      tratamiento_anticonceptivos_si_o_no       1.00      1.00      1.00         1\n",
            "           tratamiento_consulta_describir       0.50      1.00      0.67         1\n",
            "tratamiento_consulta_especialista_si_o_no       1.00      1.00      1.00         1\n",
            "               tratamiento_consulta_fecha       1.00      1.00      1.00         1\n",
            "             tratamiento_consulta_si_o_no       0.00      0.00      0.00         2\n",
            "             tratamiento_diagnostico_como       0.00      0.00      0.00         1\n",
            "            tratamiento_diagnostico_fecha       1.00      1.00      1.00         1\n",
            "            tratamiento_diagnostico_quien       1.00      1.00      1.00         1\n",
            "          tratamiento_diagnostico_si_o_no       1.00      1.00      1.00         1\n",
            "          tratamiento_historial_describir       0.00      0.00      0.00         1\n",
            "            tratamiento_historial_si_o_no       0.33      1.00      0.50         1\n",
            "      tratamiento_medicacion_antecedentes       1.00      1.00      1.00         1\n",
            "            tratamiento_medicacion_cuando       1.00      1.00      1.00         1\n",
            "         tratamiento_medicacion_describir       1.00      0.50      0.67         4\n",
            "             tratamiento_medicacion_dosis       1.00      1.00      1.00         1\n",
            "          tratamiento_medicacion_duracion       1.00      1.00      1.00         1\n",
            "        tratamiento_medicacion_frecuencia       1.00      1.00      1.00         1\n",
            "            tratamiento_medicacion_motivo       0.50      1.00      0.67         1\n",
            "             tratamiento_medicacion_otros       1.00      1.00      1.00         1\n",
            "            tratamiento_medicacion_receta       1.00      1.00      1.00         1\n",
            "           tratamiento_medicacion_si_o_no       0.20      0.33      0.25         3\n",
            "     tratamiento_operacion_complicaciones       1.00      1.00      1.00         1\n",
            "          tratamiento_operacion_describir       0.43      0.75      0.55         4\n",
            "              tratamiento_operacion_dosis       1.00      1.00      1.00         1\n",
            "       tratamiento_operacion_especialista       1.00      1.00      1.00         1\n",
            "              tratamiento_operacion_fecha       0.67      1.00      0.80         2\n",
            "         tratamiento_operacion_frecuencia       1.00      1.00      1.00         1\n",
            "             tratamiento_operacion_motivo       1.00      1.00      1.00         1\n",
            "         tratamiento_operacion_resultados       1.00      1.00      1.00         3\n",
            "            tratamiento_operacion_si_o_no       0.50      0.29      0.36         7\n",
            "                    vida_sexual_describir       1.00      1.00      1.00         1\n",
            "                         vida_sexual_edad       1.00      1.00      1.00         1\n",
            "                   vida_sexual_frecuencia       1.00      1.00      1.00         1\n",
            "                        vida_sexual_otros       0.00      0.00      0.00         1\n",
            "                      vida_sexual_si_o_no       0.50      1.00      0.67         1\n",
            "\n",
            "                                 accuracy                           0.78       306\n",
            "                                macro avg       0.79      0.82      0.80       306\n",
            "                             weighted avg       0.77      0.78      0.76       306\n",
            "\n"
          ]
        },
        {
          "output_type": "stream",
          "name": "stderr",
          "text": [
            "/usr/local/lib/python3.10/dist-packages/sklearn/metrics/_classification.py:1344: UndefinedMetricWarning: Precision and F-score are ill-defined and being set to 0.0 in labels with no predicted samples. Use `zero_division` parameter to control this behavior.\n",
            "  _warn_prf(average, modifier, msg_start, len(result))\n",
            "/usr/local/lib/python3.10/dist-packages/sklearn/metrics/_classification.py:1344: UndefinedMetricWarning: Precision and F-score are ill-defined and being set to 0.0 in labels with no predicted samples. Use `zero_division` parameter to control this behavior.\n",
            "  _warn_prf(average, modifier, msg_start, len(result))\n",
            "/usr/local/lib/python3.10/dist-packages/sklearn/metrics/_classification.py:1344: UndefinedMetricWarning: Precision and F-score are ill-defined and being set to 0.0 in labels with no predicted samples. Use `zero_division` parameter to control this behavior.\n",
            "  _warn_prf(average, modifier, msg_start, len(result))\n"
          ]
        }
      ],
      "source": [
        "cr = classification_report(final_truelabel_list,\n",
        "                           final_prediction_list,\n",
        "                           output_dict=False)\n",
        "print(cr)\n"
      ]
    },
    {
      "cell_type": "code",
      "execution_count": null,
      "metadata": {
        "id": "0yCTBZNkMfp0"
      },
      "outputs": [],
      "source": [
        "# Plot best learning rate\n",
        "# Original code from: http://scikit-learn.org/stable/auto_examples/model_selection/plot_learning_curve.html\n",
        "\n",
        "\n",
        "\n",
        "def plot_learning_curve(par_values, scores1,  title =\" Learning Rate Curve\", ylim=None, xlab=\"Learning rate\", ylab=\"F-Scores\"):\n",
        "    \"\"\"\n",
        "    Generate a simple plot of the test and training learning curve.\n",
        "\n",
        "    Parameters\n",
        "    ----------\n",
        "    par_values : list of checked values of the current parameter.\n",
        "\n",
        "    train_scores : list of scores obtained in training set (same length as par_values).\n",
        "\n",
        "    test_scores : list of scores obtained in dev set (same length as par_values)\n",
        "\n",
        "    title : string\n",
        "        Title for the chart.\n",
        "\n",
        "    ylim : tuple, shape (ymin, ymax), optional\n",
        "        Defines minimum and maximum yvalues plotted.\n",
        "\n",
        "    \"\"\"\n",
        "    plt.figure()\n",
        "    plt.title(title)\n",
        "    if ylim is not None:\n",
        "        plt.ylim(*ylim)\n",
        "    plt.xlabel(xlab)\n",
        "    plt.ylabel(ylab)\n",
        "\n",
        "    plt.grid()\n",
        "\n",
        "\n",
        "    plt.plot(par_values, scores1, 'o-', color=\"r\",\n",
        "             label=\"Dev Score\")\n",
        "\n",
        "\n",
        "\n",
        "    plt.legend(loc=\"best\")\n",
        "    return plt"
      ]
    },
    {
      "cell_type": "code",
      "execution_count": null,
      "metadata": {
        "id": "_3C7oonHLtWw",
        "colab": {
          "base_uri": "https://localhost:8080/",
          "height": 312
        },
        "outputId": "6a73f0a4-58d2-4524-9268-4184024e2445"
      },
      "outputs": [
        {
          "output_type": "execute_result",
          "data": {
            "text/plain": [
              "<module 'matplotlib.pyplot' from '/usr/local/lib/python3.9/dist-packages/matplotlib/pyplot.py'>"
            ]
          },
          "metadata": {},
          "execution_count": 93
        },
        {
          "output_type": "display_data",
          "data": {
            "text/plain": [
              "<Figure size 432x288 with 1 Axes>"
            ],
            "image/png": "[encoded data removed]"
          },
          "metadata": {
            "needs_background": "light"
          }
        }
      ],
      "source": [
        "plot_learning_curve([i for i in range(50)], fscores,  title =\"Dev Learning Curve\", xlab=\"Epoch\")"
      ]
    },
    {
      "cell_type": "markdown",
      "source": [
        "# **TESTING**"
      ],
      "metadata": {
        "id": "G_OApwtQe6sX"
      }
    },
    {
      "cell_type": "code",
      "source": [
        "df_test = pd.read_csv('./Data/IntentClassfication/test.csv', encoding='UTF-8')\n",
        "df_test['text'] = df_test.texto.apply(lambda x: clean_text(x))"
      ],
      "metadata": {
        "id": "XQTmJgIK1xT0"
      },
      "execution_count": null,
      "outputs": []
    },
    {
      "cell_type": "code",
      "source": [
        "tokenized_feature_raw_val = tokenizer.batch_encode_plus(\n",
        "                            # Sentences to encode\n",
        "                            df_test.text.values.tolist(),\n",
        "                            # Add '[CLS]' and '[SEP]'\n",
        "                            add_special_tokens = True\n",
        "                   )"
      ],
      "metadata": {
        "id": "wHiNgSJo2OsD"
      },
      "execution_count": null,
      "outputs": []
    },
    {
      "cell_type": "code",
      "source": [
        "features_test = df_test.text.values.tolist()\n",
        "target_test = df_test.intent_4.values.tolist()"
      ],
      "metadata": {
        "id": "aVmnU2ty2iBG"
      },
      "execution_count": null,
      "outputs": []
    },
    {
      "cell_type": "code",
      "source": [
        "tokenized_feature_test = tokenizer.batch_encode_plus(\n",
        "                            # Sentences to encode\n",
        "                            features_test,\n",
        "                            # Add '[CLS]' and '[SEP]'\n",
        "                            add_special_tokens = True,\n",
        "                            # Add empty tokens if len(text)<MAX_LEN\n",
        "                            padding = 'max_length',\n",
        "                            # Truncate all sentences to max length\n",
        "                            truncation=True,\n",
        "                            # Set the maximum length\n",
        "                            max_length = MAX_LEN,\n",
        "                            # Return attention mask\n",
        "                            return_attention_mask = True,\n",
        "                            # Return pytorch tensors\n",
        "                            return_tensors = 'pt'\n",
        "                   )"
      ],
      "metadata": {
        "id": "-lbZVVni2uXw"
      },
      "execution_count": null,
      "outputs": []
    },
    {
      "cell_type": "code",
      "source": [
        "le_test = LabelEncoder()\n",
        "le_test.fit(target_test)\n",
        "target_num_test = le.transform(target_test)"
      ],
      "metadata": {
        "id": "SnIVLHKd2zAX"
      },
      "execution_count": null,
      "outputs": []
    },
    {
      "cell_type": "code",
      "source": [
        "test_data = TensorDataset(tokenized_feature_test['input_ids'], tokenized_feature_test['attention_mask'], torch.tensor(target_num_test))\n",
        "test_sampler = SequentialSampler(test_data)\n",
        "test_dataloader = DataLoader(test_data, sampler=validation_sampler, batch_size=batch_size)"
      ],
      "metadata": {
        "id": "LA6-rc9i3I8w"
      },
      "execution_count": null,
      "outputs": []
    },
    {
      "cell_type": "code",
      "source": [
        "# Test\n",
        "t0 = time.time()\n",
        "# model in validation mode\n",
        "model.eval()\n",
        "# save prediction\n",
        "predictions,true_labels =[],[]\n",
        "# evaluate data for one epoch\n",
        "for batch in test_dataloader:\n",
        "    # Add batch to GPU\n",
        "    batch = tuple(t.to(device) for t in batch)\n",
        "    # Unpack the inputs from our dataloader\n",
        "    b_input_ids, b_input_mask, b_labels = batch\n",
        "    # validation\n",
        "    with torch.no_grad():\n",
        "        outputs = model(b_input_ids,\n",
        "                        token_type_ids=None,\n",
        "                        attention_mask=b_input_mask)\n",
        "    # get output\n",
        "    logits = outputs[0]\n",
        "    # move logits and labels to CPU\n",
        "    logits = logits.detach().cpu().numpy()\n",
        "    label_ids = b_labels.to('cpu').numpy()\n",
        "    final_prediction = np.argmax(logits, axis=-1).flatten()\n",
        "    predictions.append(final_prediction)\n",
        "    true_labels.append(label_ids)\n",
        "\n",
        "print('total time used is: {0:.2f} s'.format(time.time() - t0))"
      ],
      "metadata": {
        "colab": {
          "base_uri": "https://localhost:8080/"
        },
        "id": "vYswZIvv3o0E",
        "outputId": "abe926f8-37cb-465e-c683-c95cef6831b6"
      },
      "execution_count": null,
      "outputs": [
        {
          "output_type": "stream",
          "name": "stdout",
          "text": [
            "total time used is: 0.73 s\n"
          ]
        }
      ]
    },
    {
      "cell_type": "code",
      "source": [
        "final_prediction_list = le.inverse_transform(np.concatenate(predictions))\n",
        "final_truelabel_list = le.inverse_transform(np.concatenate(true_labels))"
      ],
      "metadata": {
        "id": "D3sATs3R30AZ"
      },
      "execution_count": null,
      "outputs": []
    },
    {
      "cell_type": "code",
      "source": [
        "cr = classification_report(final_truelabel_list,\n",
        "                           final_prediction_list,\n",
        "                           output_dict=False)\n",
        "print(cr)"
      ],
      "metadata": {
        "colab": {
          "base_uri": "https://localhost:8080/"
        },
        "id": "3SxD9ZC230rZ",
        "outputId": "eab9bf01-3699-4ba4-a339-d61ad9409ef4"
      },
      "execution_count": null,
      "outputs": [
        {
          "output_type": "stream",
          "name": "stdout",
          "text": [
            "                                           precision    recall  f1-score   support\n",
            "\n",
            "                                  afirmar       1.00      1.00      1.00         1\n",
            "                                despedida       0.00      0.00      0.00         1\n",
            "                                   estado       1.00      1.00      1.00         1\n",
            "                       motivo_de_consulta       1.00      1.00      1.00         6\n",
            "                                    otros       1.00      1.00      1.00         1\n",
            "       personal_adiccion_alcohol_cantidad       0.00      0.00      0.00         1\n",
            "      personal_adiccion_alcohol_describir       1.00      1.00      1.00         1\n",
            "       personal_adiccion_alcohol_duracion       1.00      1.00      1.00         1\n",
            "     personal_adiccion_alcohol_frecuencia       1.00      1.00      1.00         1\n",
            "          personal_adiccion_alcohol_otros       1.00      1.00      1.00         1\n",
            "        personal_adiccion_alcohol_si_o_no       1.00      1.00      1.00         2\n",
            "         personal_adiccion_fumar_cantidad       0.50      1.00      0.67         1\n",
            "         personal_adiccion_fumar_duracion       1.00      1.00      1.00         1\n",
            "       personal_adiccion_fumar_frecuencia       1.00      1.00      1.00         1\n",
            "           personal_adiccion_fumar_inicio       1.00      1.00      1.00         1\n",
            "          personal_adiccion_fumar_si_o_no       1.00      0.67      0.80         3\n",
            "        personal_adiccion_otros_describir       1.00      1.00      1.00         1\n",
            "          personal_adiccion_otros_si_o_no       1.00      1.00      1.00         1\n",
            "                        personal_contacto       1.00      1.00      1.00         1\n",
            "                 personal_datos_direccion       1.00      1.00      1.00         1\n",
            "                      personal_datos_edad       0.67      1.00      0.80         2\n",
            "       personal_datos_fecha_de_nacimiento       1.00      1.00      1.00         1\n",
            "                    personal_datos_nombre       1.00      1.00      1.00         3\n",
            "                personal_deporte_cantidad       1.00      1.00      1.00         1\n",
            "                  personal_deporte_cuando       1.00      1.00      1.00         1\n",
            "               personal_deporte_describir       1.00      1.00      1.00         1\n",
            "              personal_deporte_frecuencia       1.00      1.00      1.00         1\n",
            "                 personal_deporte_si_o_no       1.00      1.00      1.00         1\n",
            "                  personal_dieta_cantidad       0.00      0.00      0.00         1\n",
            "                    personal_dieta_cuando       1.00      1.00      1.00         1\n",
            "                 personal_dieta_describir       0.33      1.00      0.50         1\n",
            "                  personal_dieta_duracion       1.00      1.00      1.00         1\n",
            "                personal_dieta_frecuencia       1.00      1.00      1.00         1\n",
            "                     personal_dieta_otros       1.00      1.00      1.00         1\n",
            "                   personal_dieta_si_o_no       1.00      1.00      1.00         3\n",
            "               personal_entorno_describir       1.00      1.00      1.00         1\n",
            "              personal_entorno_hijos_edad       0.00      0.00      0.00         1\n",
            "            personal_entorno_hijos_nombre       1.00      1.00      1.00         1\n",
            "             personal_entorno_hijos_otros       1.00      1.00      1.00         1\n",
            "           personal_entorno_hijos_si_o_no       1.00      0.50      0.67         2\n",
            "         personal_entorno_mascota_si_o_no       1.00      1.00      1.00         1\n",
            "         personal_entorno_otros_describir       1.00      1.00      1.00         1\n",
            "           personal_entorno_otros_si_o_no       1.00      1.00      1.00         1\n",
            "          personal_entorno_padres_si_o_no       1.00      1.00      1.00         1\n",
            "           personal_entorno_pareja_nombre       1.00      1.00      1.00         1\n",
            "          personal_entorno_pareja_si_o_no       1.00      1.00      1.00         1\n",
            "                   personal_fisico_altura       1.00      1.00      1.00         2\n",
            "              personal_fisico_peso_cambio       1.00      1.00      1.00         1\n",
            "            personal_fisico_peso_duracion       1.00      1.00      1.00         1\n",
            "                personal_fisico_peso_peso       1.00      1.00      1.00         2\n",
            "                 personal_otros_describir       1.00      1.00      1.00         1\n",
            "                   personal_otros_si_o_no       1.00      1.00      1.00         1\n",
            "                 personal_sueño_describir       1.00      1.00      1.00         1\n",
            "                     personal_sueño_horas       1.00      1.00      1.00         1\n",
            "                   personal_sueño_si_o_no       1.00      1.00      1.00         1\n",
            "                personal_trabajo_anterior       1.00      1.00      1.00         1\n",
            "               personal_trabajo_describir       1.00      1.00      1.00         1\n",
            "                personal_trabajo_duracion       1.00      1.00      1.00         1\n",
            "                   personal_trabajo_horas       1.00      1.00      1.00         1\n",
            "                   personal_trabajo_lugar       1.00      1.00      1.00         1\n",
            "                   personal_trabajo_otros       1.00      1.00      1.00         1\n",
            "                 personal_trabajo_si_o_no       1.00      1.00      1.00         1\n",
            "                personal_viajes_describir       1.00      1.00      1.00         1\n",
            "                    personal_viajes_otros       1.00      1.00      1.00         1\n",
            "                  personal_viajes_si_o_no       1.00      1.00      1.00         1\n",
            "                              psiquiatria       0.00      0.00      0.00         4\n",
            "    psiquiatria_estado de animo_describir       0.00      0.00      0.00         1\n",
            "      psiquiatria_estado de animo_si_o_no       0.00      0.00      0.00         1\n",
            "                                   saludo       0.75      1.00      0.86         3\n",
            "                        sintoma_bebe_peso       1.00      1.00      1.00         1\n",
            "                     sintoma_bebe_si_o_no       1.00      1.00      1.00         1\n",
            "                  sintoma_entorno_si_o_no       0.67      1.00      0.80         2\n",
            "                sintoma_familia_describir       1.00      1.00      1.00         1\n",
            "                   sintoma_familia_inicio       1.00      1.00      1.00         1\n",
            "                  sintoma_familia_si_o_no       1.00      1.00      1.00         3\n",
            "       sintoma_paciente_alergia_describir       1.00      1.00      1.00         2\n",
            "         sintoma_paciente_alergia_si_o_no       1.00      1.00      1.00         1\n",
            "  sintoma_paciente_antecedentes_describir       0.50      1.00      0.67         1\n",
            "    sintoma_paciente_antecedentes_si_o_no       1.00      0.50      0.67         4\n",
            "     sintoma_paciente_aparicion_describir       0.67      0.67      0.67         3\n",
            "       sintoma_paciente_aparicion_si_o_no       0.70      0.58      0.64        12\n",
            "        sintoma_paciente_cambio_describir       1.00      0.50      0.67         2\n",
            "          sintoma_paciente_cambio_si_o_no       0.75      0.86      0.80         7\n",
            "     sintoma_paciente_capacidad_describir       1.00      1.00      1.00         1\n",
            "       sintoma_paciente_capacidad_si_o_no       1.00      0.75      0.86         4\n",
            "         sintoma_paciente_causa_describir       1.00      1.00      1.00         3\n",
            "           sintoma_paciente_causa_si_o_no       0.67      0.67      0.67         3\n",
            "               sintoma_paciente_describir       0.71      0.79      0.75        19\n",
            "                sintoma_paciente_duracion       1.00      1.00      1.00         2\n",
            "   sintoma_paciente_embarazo_antecedentes       1.00      1.00      1.00         1\n",
            "       sintoma_paciente_embarazo_cantidad       0.50      1.00      0.67         1\n",
            "      sintoma_paciente_embarazo_describir       1.00      1.00      1.00         1\n",
            "            sintoma_paciente_embarazo_fin       1.00      1.00      1.00         1\n",
            "        sintoma_paciente_fiebre_describir       1.00      1.00      1.00         1\n",
            "          sintoma_paciente_fiebre_si_o_no       1.00      1.00      1.00         1\n",
            "              sintoma_paciente_frecuencia       1.00      1.00      1.00         1\n",
            "                  sintoma_paciente_inicio       1.00      1.00      1.00         4\n",
            "  sintoma_paciente_localizacion_describir       0.60      1.00      0.75         3\n",
            "    sintoma_paciente_localizacion_si_o_no       1.00      0.75      0.86         4\n",
            "       sintoma_paciente_secuela_describir       1.00      1.00      1.00         1\n",
            "         sintoma_paciente_secuela_si_o_no       1.00      1.00      1.00         2\n",
            "   sintoma_paciente_seguimiento_describir       0.00      0.00      0.00         1\n",
            "     sintoma_paciente_seguimiento_si_o_no       1.00      1.00      1.00         1\n",
            "                 sintoma_paciente_si_o_no       0.83      0.88      0.85        66\n",
            "    tratamiento_anticonceptivos_describir       1.00      1.00      1.00         1\n",
            "   tratamiento_anticonceptivos_frecuencia       1.00      1.00      1.00         1\n",
            "      tratamiento_anticonceptivos_si_o_no       0.50      1.00      0.67         1\n",
            "           tratamiento_consulta_describir       1.00      1.00      1.00         1\n",
            "tratamiento_consulta_especialista_si_o_no       0.50      1.00      0.67         1\n",
            "               tratamiento_consulta_fecha       1.00      1.00      1.00         1\n",
            "             tratamiento_consulta_si_o_no       0.00      0.00      0.00         1\n",
            "             tratamiento_diagnostico_como       1.00      1.00      1.00         1\n",
            "            tratamiento_diagnostico_fecha       1.00      1.00      1.00         1\n",
            "            tratamiento_diagnostico_quien       1.00      1.00      1.00         1\n",
            "          tratamiento_diagnostico_si_o_no       1.00      1.00      1.00         1\n",
            "          tratamiento_historial_describir       1.00      1.00      1.00         1\n",
            "            tratamiento_historial_si_o_no       1.00      1.00      1.00         1\n",
            "      tratamiento_medicacion_antecedentes       1.00      1.00      1.00         1\n",
            "            tratamiento_medicacion_cuando       1.00      1.00      1.00         1\n",
            "         tratamiento_medicacion_describir       1.00      1.00      1.00         3\n",
            "             tratamiento_medicacion_dosis       1.00      1.00      1.00         1\n",
            "          tratamiento_medicacion_duracion       1.00      1.00      1.00         1\n",
            "        tratamiento_medicacion_frecuencia       1.00      1.00      1.00         1\n",
            "            tratamiento_medicacion_motivo       1.00      1.00      1.00         1\n",
            "             tratamiento_medicacion_otros       1.00      1.00      1.00         1\n",
            "            tratamiento_medicacion_receta       1.00      1.00      1.00         1\n",
            "           tratamiento_medicacion_si_o_no       1.00      0.67      0.80         3\n",
            "     tratamiento_operacion_complicaciones       1.00      1.00      1.00         1\n",
            "          tratamiento_operacion_describir       1.00      1.00      1.00         5\n",
            "              tratamiento_operacion_dosis       1.00      1.00      1.00         1\n",
            "       tratamiento_operacion_especialista       1.00      1.00      1.00         1\n",
            "              tratamiento_operacion_fecha       1.00      1.00      1.00         1\n",
            "         tratamiento_operacion_frecuencia       1.00      1.00      1.00         1\n",
            "             tratamiento_operacion_motivo       1.00      1.00      1.00         1\n",
            "         tratamiento_operacion_resultados       1.00      1.00      1.00         3\n",
            "            tratamiento_operacion_si_o_no       0.78      0.88      0.82         8\n",
            "                    vida_sexual_describir       1.00      1.00      1.00         1\n",
            "                         vida_sexual_edad       1.00      1.00      1.00         1\n",
            "                   vida_sexual_frecuencia       1.00      1.00      1.00         1\n",
            "                        vida_sexual_otros       0.00      0.00      0.00         1\n",
            "                      vida_sexual_si_o_no       1.00      1.00      1.00         1\n",
            "\n",
            "                                 accuracy                           0.86       306\n",
            "                                macro avg       0.88      0.90      0.88       306\n",
            "                             weighted avg       0.85      0.86      0.85       306\n",
            "\n"
          ]
        },
        {
          "output_type": "stream",
          "name": "stderr",
          "text": [
            "/usr/local/lib/python3.9/dist-packages/sklearn/metrics/_classification.py:1344: UndefinedMetricWarning: Precision and F-score are ill-defined and being set to 0.0 in labels with no predicted samples. Use `zero_division` parameter to control this behavior.\n",
            "  _warn_prf(average, modifier, msg_start, len(result))\n",
            "/usr/local/lib/python3.9/dist-packages/sklearn/metrics/_classification.py:1344: UndefinedMetricWarning: Precision and F-score are ill-defined and being set to 0.0 in labels with no predicted samples. Use `zero_division` parameter to control this behavior.\n",
            "  _warn_prf(average, modifier, msg_start, len(result))\n",
            "/usr/local/lib/python3.9/dist-packages/sklearn/metrics/_classification.py:1344: UndefinedMetricWarning: Precision and F-score are ill-defined and being set to 0.0 in labels with no predicted samples. Use `zero_division` parameter to control this behavior.\n",
            "  _warn_prf(average, modifier, msg_start, len(result))\n"
          ]
        }
      ]
    }
  ],
  "metadata": {
    "accelerator": "GPU",
    "colab": {
      "provenance": []
    },
    "gpuClass": "standard",
    "kernelspec": {
      "display_name": "Python 3",
      "name": "python3"
    },
    "language_info": {
      "name": "python"
    },
    "widgets": {
      "application/vnd.jupyter.widget-state+json": {
        "13e7b60e5b1e42a9bc8d6b5e6e9d85d8": {
          "model_module": "@jupyter-widgets/controls",
          "model_name": "HBoxModel",
          "model_module_version": "1.5.0",
          "state": {
            "_dom_classes": [],
            "_model_module": "@jupyter-widgets/controls",
            "_model_module_version": "1.5.0",
            "_model_name": "HBoxModel",
            "_view_count": null,
            "_view_module": "@jupyter-widgets/controls",
            "_view_module_version": "1.5.0",
            "_view_name": "HBoxView",
            "box_style": "",
            "children": [
              "IPY_MODEL_cb1e367ab13b450595001af81803bd2b",
              "IPY_MODEL_91472790aa49498abf0de5c3108be270",
              "IPY_MODEL_f4678b0827524d62b3625315e36e0f91"
            ],
            "layout": "IPY_MODEL_f6199ac6acdb4ab9a60285b7ad60d6a8"
          }
        },
        "cb1e367ab13b450595001af81803bd2b": {
          "model_module": "@jupyter-widgets/controls",
          "model_name": "HTMLModel",
          "model_module_version": "1.5.0",
          "state": {
            "_dom_classes": [],
            "_model_module": "@jupyter-widgets/controls",
            "_model_module_version": "1.5.0",
            "_model_name": "HTMLModel",
            "_view_count": null,
            "_view_module": "@jupyter-widgets/controls",
            "_view_module_version": "1.5.0",
            "_view_name": "HTMLView",
            "description": "",
            "description_tooltip": null,
            "layout": "IPY_MODEL_5471224010a24bbba485b55644675624",
            "placeholder": "​",
            "style": "IPY_MODEL_29aa16fa6d064ec8bf63cdb08e5778e1",
            "value": "Downloading: 100%"
          }
        },
        "91472790aa49498abf0de5c3108be270": {
          "model_module": "@jupyter-widgets/controls",
          "model_name": "FloatProgressModel",
          "model_module_version": "1.5.0",
          "state": {
            "_dom_classes": [],
            "_model_module": "@jupyter-widgets/controls",
            "_model_module_version": "1.5.0",
            "_model_name": "FloatProgressModel",
            "_view_count": null,
            "_view_module": "@jupyter-widgets/controls",
            "_view_module_version": "1.5.0",
            "_view_name": "ProgressView",
            "bar_style": "success",
            "description": "",
            "description_tooltip": null,
            "layout": "IPY_MODEL_a34c206702e6472fa5529118de2e7805",
            "max": 481,
            "min": 0,
            "orientation": "horizontal",
            "style": "IPY_MODEL_1e2e9b3601724885a7fed0ce0e84bbd7",
            "value": 481
          }
        },
        "f4678b0827524d62b3625315e36e0f91": {
          "model_module": "@jupyter-widgets/controls",
          "model_name": "HTMLModel",
          "model_module_version": "1.5.0",
          "state": {
            "_dom_classes": [],
            "_model_module": "@jupyter-widgets/controls",
            "_model_module_version": "1.5.0",
            "_model_name": "HTMLModel",
            "_view_count": null,
            "_view_module": "@jupyter-widgets/controls",
            "_view_module_version": "1.5.0",
            "_view_name": "HTMLView",
            "description": "",
            "description_tooltip": null,
            "layout": "IPY_MODEL_e6b2a8c5d614418fafb5a78d8b379d9d",
            "placeholder": "​",
            "style": "IPY_MODEL_345ca83fdb694d3fa0eef3dc357f82c0",
            "value": " 481/481 [00:00&lt;00:00, 14.5kB/s]"
          }
        },
        "f6199ac6acdb4ab9a60285b7ad60d6a8": {
          "model_module": "@jupyter-widgets/base",
          "model_name": "LayoutModel",
          "model_module_version": "1.2.0",
          "state": {
            "_model_module": "@jupyter-widgets/base",
            "_model_module_version": "1.2.0",
            "_model_name": "LayoutModel",
            "_view_count": null,
            "_view_module": "@jupyter-widgets/base",
            "_view_module_version": "1.2.0",
            "_view_name": "LayoutView",
            "align_content": null,
            "align_items": null,
            "align_self": null,
            "border": null,
            "bottom": null,
            "display": null,
            "flex": null,
            "flex_flow": null,
            "grid_area": null,
            "grid_auto_columns": null,
            "grid_auto_flow": null,
            "grid_auto_rows": null,
            "grid_column": null,
            "grid_gap": null,
            "grid_row": null,
            "grid_template_areas": null,
            "grid_template_columns": null,
            "grid_template_rows": null,
            "height": null,
            "justify_content": null,
            "justify_items": null,
            "left": null,
            "margin": null,
            "max_height": null,
            "max_width": null,
            "min_height": null,
            "min_width": null,
            "object_fit": null,
            "object_position": null,
            "order": null,
            "overflow": null,
            "overflow_x": null,
            "overflow_y": null,
            "padding": null,
            "right": null,
            "top": null,
            "visibility": null,
            "width": null
          }
        },
        "5471224010a24bbba485b55644675624": {
          "model_module": "@jupyter-widgets/base",
          "model_name": "LayoutModel",
          "model_module_version": "1.2.0",
          "state": {
            "_model_module": "@jupyter-widgets/base",
            "_model_module_version": "1.2.0",
            "_model_name": "LayoutModel",
            "_view_count": null,
            "_view_module": "@jupyter-widgets/base",
            "_view_module_version": "1.2.0",
            "_view_name": "LayoutView",
            "align_content": null,
            "align_items": null,
            "align_self": null,
            "border": null,
            "bottom": null,
            "display": null,
            "flex": null,
            "flex_flow": null,
            "grid_area": null,
            "grid_auto_columns": null,
            "grid_auto_flow": null,
            "grid_auto_rows": null,
            "grid_column": null,
            "grid_gap": null,
            "grid_row": null,
            "grid_template_areas": null,
            "grid_template_columns": null,
            "grid_template_rows": null,
            "height": null,
            "justify_content": null,
            "justify_items": null,
            "left": null,
            "margin": null,
            "max_height": null,
            "max_width": null,
            "min_height": null,
            "min_width": null,
            "object_fit": null,
            "object_position": null,
            "order": null,
            "overflow": null,
            "overflow_x": null,
            "overflow_y": null,
            "padding": null,
            "right": null,
            "top": null,
            "visibility": null,
            "width": null
          }
        },
        "29aa16fa6d064ec8bf63cdb08e5778e1": {
          "model_module": "@jupyter-widgets/controls",
          "model_name": "DescriptionStyleModel",
          "model_module_version": "1.5.0",
          "state": {
            "_model_module": "@jupyter-widgets/controls",
            "_model_module_version": "1.5.0",
            "_model_name": "DescriptionStyleModel",
            "_view_count": null,
            "_view_module": "@jupyter-widgets/base",
            "_view_module_version": "1.2.0",
            "_view_name": "StyleView",
            "description_width": ""
          }
        },
        "a34c206702e6472fa5529118de2e7805": {
          "model_module": "@jupyter-widgets/base",
          "model_name": "LayoutModel",
          "model_module_version": "1.2.0",
          "state": {
            "_model_module": "@jupyter-widgets/base",
            "_model_module_version": "1.2.0",
            "_model_name": "LayoutModel",
            "_view_count": null,
            "_view_module": "@jupyter-widgets/base",
            "_view_module_version": "1.2.0",
            "_view_name": "LayoutView",
            "align_content": null,
            "align_items": null,
            "align_self": null,
            "border": null,
            "bottom": null,
            "display": null,
            "flex": null,
            "flex_flow": null,
            "grid_area": null,
            "grid_auto_columns": null,
            "grid_auto_flow": null,
            "grid_auto_rows": null,
            "grid_column": null,
            "grid_gap": null,
            "grid_row": null,
            "grid_template_areas": null,
            "grid_template_columns": null,
            "grid_template_rows": null,
            "height": null,
            "justify_content": null,
            "justify_items": null,
            "left": null,
            "margin": null,
            "max_height": null,
            "max_width": null,
            "min_height": null,
            "min_width": null,
            "object_fit": null,
            "object_position": null,
            "order": null,
            "overflow": null,
            "overflow_x": null,
            "overflow_y": null,
            "padding": null,
            "right": null,
            "top": null,
            "visibility": null,
            "width": null
          }
        },
        "1e2e9b3601724885a7fed0ce0e84bbd7": {
          "model_module": "@jupyter-widgets/controls",
          "model_name": "ProgressStyleModel",
          "model_module_version": "1.5.0",
          "state": {
            "_model_module": "@jupyter-widgets/controls",
            "_model_module_version": "1.5.0",
            "_model_name": "ProgressStyleModel",
            "_view_count": null,
            "_view_module": "@jupyter-widgets/base",
            "_view_module_version": "1.2.0",
            "_view_name": "StyleView",
            "bar_color": null,
            "description_width": ""
          }
        },
        "e6b2a8c5d614418fafb5a78d8b379d9d": {
          "model_module": "@jupyter-widgets/base",
          "model_name": "LayoutModel",
          "model_module_version": "1.2.0",
          "state": {
            "_model_module": "@jupyter-widgets/base",
            "_model_module_version": "1.2.0",
            "_model_name": "LayoutModel",
            "_view_count": null,
            "_view_module": "@jupyter-widgets/base",
            "_view_module_version": "1.2.0",
            "_view_name": "LayoutView",
            "align_content": null,
            "align_items": null,
            "align_self": null,
            "border": null,
            "bottom": null,
            "display": null,
            "flex": null,
            "flex_flow": null,
            "grid_area": null,
            "grid_auto_columns": null,
            "grid_auto_flow": null,
            "grid_auto_rows": null,
            "grid_column": null,
            "grid_gap": null,
            "grid_row": null,
            "grid_template_areas": null,
            "grid_template_columns": null,
            "grid_template_rows": null,
            "height": null,
            "justify_content": null,
            "justify_items": null,
            "left": null,
            "margin": null,
            "max_height": null,
            "max_width": null,
            "min_height": null,
            "min_width": null,
            "object_fit": null,
            "object_position": null,
            "order": null,
            "overflow": null,
            "overflow_x": null,
            "overflow_y": null,
            "padding": null,
            "right": null,
            "top": null,
            "visibility": null,
            "width": null
          }
        },
        "345ca83fdb694d3fa0eef3dc357f82c0": {
          "model_module": "@jupyter-widgets/controls",
          "model_name": "DescriptionStyleModel",
          "model_module_version": "1.5.0",
          "state": {
            "_model_module": "@jupyter-widgets/controls",
            "_model_module_version": "1.5.0",
            "_model_name": "DescriptionStyleModel",
            "_view_count": null,
            "_view_module": "@jupyter-widgets/base",
            "_view_module_version": "1.2.0",
            "_view_name": "StyleView",
            "description_width": ""
          }
        },
        "4aed64841fee46e39b327dc10fb1669f": {
          "model_module": "@jupyter-widgets/controls",
          "model_name": "HBoxModel",
          "model_module_version": "1.5.0",
          "state": {
            "_dom_classes": [],
            "_model_module": "@jupyter-widgets/controls",
            "_model_module_version": "1.5.0",
            "_model_name": "HBoxModel",
            "_view_count": null,
            "_view_module": "@jupyter-widgets/controls",
            "_view_module_version": "1.5.0",
            "_view_name": "HBoxView",
            "box_style": "",
            "children": [
              "IPY_MODEL_dac37e08a44c401f92ed3a6dfda2beff",
              "IPY_MODEL_90f4d8a1a7fb44ce81ff444a03f024c3",
              "IPY_MODEL_ab5e34eb5e6c4e908db22e2d6ec463e1"
            ],
            "layout": "IPY_MODEL_da39a239f2d74ce69f349a60b125ac43"
          }
        },
        "dac37e08a44c401f92ed3a6dfda2beff": {
          "model_module": "@jupyter-widgets/controls",
          "model_name": "HTMLModel",
          "model_module_version": "1.5.0",
          "state": {
            "_dom_classes": [],
            "_model_module": "@jupyter-widgets/controls",
            "_model_module_version": "1.5.0",
            "_model_name": "HTMLModel",
            "_view_count": null,
            "_view_module": "@jupyter-widgets/controls",
            "_view_module_version": "1.5.0",
            "_view_name": "HTMLView",
            "description": "",
            "description_tooltip": null,
            "layout": "IPY_MODEL_318b1cc933f94ab2bffc24e49a82ad1f",
            "placeholder": "​",
            "style": "IPY_MODEL_a8c603d6edb9418eb6fb393832fea1fc",
            "value": "Downloading: 100%"
          }
        },
        "90f4d8a1a7fb44ce81ff444a03f024c3": {
          "model_module": "@jupyter-widgets/controls",
          "model_name": "FloatProgressModel",
          "model_module_version": "1.5.0",
          "state": {
            "_dom_classes": [],
            "_model_module": "@jupyter-widgets/controls",
            "_model_module_version": "1.5.0",
            "_model_name": "FloatProgressModel",
            "_view_count": null,
            "_view_module": "@jupyter-widgets/controls",
            "_view_module_version": "1.5.0",
            "_view_name": "ProgressView",
            "bar_style": "success",
            "description": "",
            "description_tooltip": null,
            "layout": "IPY_MODEL_4a18d67907834231be235762b00a6332",
            "max": 898823,
            "min": 0,
            "orientation": "horizontal",
            "style": "IPY_MODEL_3f4f8fa7457b43499052f6af9727652b",
            "value": 898823
          }
        },
        "ab5e34eb5e6c4e908db22e2d6ec463e1": {
          "model_module": "@jupyter-widgets/controls",
          "model_name": "HTMLModel",
          "model_module_version": "1.5.0",
          "state": {
            "_dom_classes": [],
            "_model_module": "@jupyter-widgets/controls",
            "_model_module_version": "1.5.0",
            "_model_name": "HTMLModel",
            "_view_count": null,
            "_view_module": "@jupyter-widgets/controls",
            "_view_module_version": "1.5.0",
            "_view_name": "HTMLView",
            "description": "",
            "description_tooltip": null,
            "layout": "IPY_MODEL_f73457f0f30443938c786a5e6c03f296",
            "placeholder": "​",
            "style": "IPY_MODEL_88a7619936864751b27b1c92d1992ed0",
            "value": " 878k/878k [00:00&lt;00:00, 23.3MB/s]"
          }
        },
        "da39a239f2d74ce69f349a60b125ac43": {
          "model_module": "@jupyter-widgets/base",
          "model_name": "LayoutModel",
          "model_module_version": "1.2.0",
          "state": {
            "_model_module": "@jupyter-widgets/base",
            "_model_module_version": "1.2.0",
            "_model_name": "LayoutModel",
            "_view_count": null,
            "_view_module": "@jupyter-widgets/base",
            "_view_module_version": "1.2.0",
            "_view_name": "LayoutView",
            "align_content": null,
            "align_items": null,
            "align_self": null,
            "border": null,
            "bottom": null,
            "display": null,
            "flex": null,
            "flex_flow": null,
            "grid_area": null,
            "grid_auto_columns": null,
            "grid_auto_flow": null,
            "grid_auto_rows": null,
            "grid_column": null,
            "grid_gap": null,
            "grid_row": null,
            "grid_template_areas": null,
            "grid_template_columns": null,
            "grid_template_rows": null,
            "height": null,
            "justify_content": null,
            "justify_items": null,
            "left": null,
            "margin": null,
            "max_height": null,
            "max_width": null,
            "min_height": null,
            "min_width": null,
            "object_fit": null,
            "object_position": null,
            "order": null,
            "overflow": null,
            "overflow_x": null,
            "overflow_y": null,
            "padding": null,
            "right": null,
            "top": null,
            "visibility": null,
            "width": null
          }
        },
        "318b1cc933f94ab2bffc24e49a82ad1f": {
          "model_module": "@jupyter-widgets/base",
          "model_name": "LayoutModel",
          "model_module_version": "1.2.0",
          "state": {
            "_model_module": "@jupyter-widgets/base",
            "_model_module_version": "1.2.0",
            "_model_name": "LayoutModel",
            "_view_count": null,
            "_view_module": "@jupyter-widgets/base",
            "_view_module_version": "1.2.0",
            "_view_name": "LayoutView",
            "align_content": null,
            "align_items": null,
            "align_self": null,
            "border": null,
            "bottom": null,
            "display": null,
            "flex": null,
            "flex_flow": null,
            "grid_area": null,
            "grid_auto_columns": null,
            "grid_auto_flow": null,
            "grid_auto_rows": null,
            "grid_column": null,
            "grid_gap": null,
            "grid_row": null,
            "grid_template_areas": null,
            "grid_template_columns": null,
            "grid_template_rows": null,
            "height": null,
            "justify_content": null,
            "justify_items": null,
            "left": null,
            "margin": null,
            "max_height": null,
            "max_width": null,
            "min_height": null,
            "min_width": null,
            "object_fit": null,
            "object_position": null,
            "order": null,
            "overflow": null,
            "overflow_x": null,
            "overflow_y": null,
            "padding": null,
            "right": null,
            "top": null,
            "visibility": null,
            "width": null
          }
        },
        "a8c603d6edb9418eb6fb393832fea1fc": {
          "model_module": "@jupyter-widgets/controls",
          "model_name": "DescriptionStyleModel",
          "model_module_version": "1.5.0",
          "state": {
            "_model_module": "@jupyter-widgets/controls",
            "_model_module_version": "1.5.0",
            "_model_name": "DescriptionStyleModel",
            "_view_count": null,
            "_view_module": "@jupyter-widgets/base",
            "_view_module_version": "1.2.0",
            "_view_name": "StyleView",
            "description_width": ""
          }
        },
        "4a18d67907834231be235762b00a6332": {
          "model_module": "@jupyter-widgets/base",
          "model_name": "LayoutModel",
          "model_module_version": "1.2.0",
          "state": {
            "_model_module": "@jupyter-widgets/base",
            "_model_module_version": "1.2.0",
            "_model_name": "LayoutModel",
            "_view_count": null,
            "_view_module": "@jupyter-widgets/base",
            "_view_module_version": "1.2.0",
            "_view_name": "LayoutView",
            "align_content": null,
            "align_items": null,
            "align_self": null,
            "border": null,
            "bottom": null,
            "display": null,
            "flex": null,
            "flex_flow": null,
            "grid_area": null,
            "grid_auto_columns": null,
            "grid_auto_flow": null,
            "grid_auto_rows": null,
            "grid_column": null,
            "grid_gap": null,
            "grid_row": null,
            "grid_template_areas": null,
            "grid_template_columns": null,
            "grid_template_rows": null,
            "height": null,
            "justify_content": null,
            "justify_items": null,
            "left": null,
            "margin": null,
            "max_height": null,
            "max_width": null,
            "min_height": null,
            "min_width": null,
            "object_fit": null,
            "object_position": null,
            "order": null,
            "overflow": null,
            "overflow_x": null,
            "overflow_y": null,
            "padding": null,
            "right": null,
            "top": null,
            "visibility": null,
            "width": null
          }
        },
        "3f4f8fa7457b43499052f6af9727652b": {
          "model_module": "@jupyter-widgets/controls",
          "model_name": "ProgressStyleModel",
          "model_module_version": "1.5.0",
          "state": {
            "_model_module": "@jupyter-widgets/controls",
            "_model_module_version": "1.5.0",
            "_model_name": "ProgressStyleModel",
            "_view_count": null,
            "_view_module": "@jupyter-widgets/base",
            "_view_module_version": "1.2.0",
            "_view_name": "StyleView",
            "bar_color": null,
            "description_width": ""
          }
        },
        "f73457f0f30443938c786a5e6c03f296": {
          "model_module": "@jupyter-widgets/base",
          "model_name": "LayoutModel",
          "model_module_version": "1.2.0",
          "state": {
            "_model_module": "@jupyter-widgets/base",
            "_model_module_version": "1.2.0",
            "_model_name": "LayoutModel",
            "_view_count": null,
            "_view_module": "@jupyter-widgets/base",
            "_view_module_version": "1.2.0",
            "_view_name": "LayoutView",
            "align_content": null,
            "align_items": null,
            "align_self": null,
            "border": null,
            "bottom": null,
            "display": null,
            "flex": null,
            "flex_flow": null,
            "grid_area": null,
            "grid_auto_columns": null,
            "grid_auto_flow": null,
            "grid_auto_rows": null,
            "grid_column": null,
            "grid_gap": null,
            "grid_row": null,
            "grid_template_areas": null,
            "grid_template_columns": null,
            "grid_template_rows": null,
            "height": null,
            "justify_content": null,
            "justify_items": null,
            "left": null,
            "margin": null,
            "max_height": null,
            "max_width": null,
            "min_height": null,
            "min_width": null,
            "object_fit": null,
            "object_position": null,
            "order": null,
            "overflow": null,
            "overflow_x": null,
            "overflow_y": null,
            "padding": null,
            "right": null,
            "top": null,
            "visibility": null,
            "width": null
          }
        },
        "88a7619936864751b27b1c92d1992ed0": {
          "model_module": "@jupyter-widgets/controls",
          "model_name": "DescriptionStyleModel",
          "model_module_version": "1.5.0",
          "state": {
            "_model_module": "@jupyter-widgets/controls",
            "_model_module_version": "1.5.0",
            "_model_name": "DescriptionStyleModel",
            "_view_count": null,
            "_view_module": "@jupyter-widgets/base",
            "_view_module_version": "1.2.0",
            "_view_name": "StyleView",
            "description_width": ""
          }
        },
        "f02b1dea3db54db6a027d99c003d3e0e": {
          "model_module": "@jupyter-widgets/controls",
          "model_name": "HBoxModel",
          "model_module_version": "1.5.0",
          "state": {
            "_dom_classes": [],
            "_model_module": "@jupyter-widgets/controls",
            "_model_module_version": "1.5.0",
            "_model_name": "HBoxModel",
            "_view_count": null,
            "_view_module": "@jupyter-widgets/controls",
            "_view_module_version": "1.5.0",
            "_view_name": "HBoxView",
            "box_style": "",
            "children": [
              "IPY_MODEL_da4c7da63d474515bcb462207f28b134",
              "IPY_MODEL_9af9b646223c40c39e5af133769ba35c",
              "IPY_MODEL_e0daa2727c374ff7b4061653b85dd9c1"
            ],
            "layout": "IPY_MODEL_1e0bcb928ea54febadd50740c4228383"
          }
        },
        "da4c7da63d474515bcb462207f28b134": {
          "model_module": "@jupyter-widgets/controls",
          "model_name": "HTMLModel",
          "model_module_version": "1.5.0",
          "state": {
            "_dom_classes": [],
            "_model_module": "@jupyter-widgets/controls",
            "_model_module_version": "1.5.0",
            "_model_name": "HTMLModel",
            "_view_count": null,
            "_view_module": "@jupyter-widgets/controls",
            "_view_module_version": "1.5.0",
            "_view_name": "HTMLView",
            "description": "",
            "description_tooltip": null,
            "layout": "IPY_MODEL_970f1ebac6604d5b85d2f10bf7e66371",
            "placeholder": "​",
            "style": "IPY_MODEL_6ad4b40cea5f48b4906f7dd729795ec5",
            "value": "Downloading: 100%"
          }
        },
        "9af9b646223c40c39e5af133769ba35c": {
          "model_module": "@jupyter-widgets/controls",
          "model_name": "FloatProgressModel",
          "model_module_version": "1.5.0",
          "state": {
            "_dom_classes": [],
            "_model_module": "@jupyter-widgets/controls",
            "_model_module_version": "1.5.0",
            "_model_name": "FloatProgressModel",
            "_view_count": null,
            "_view_module": "@jupyter-widgets/controls",
            "_view_module_version": "1.5.0",
            "_view_name": "ProgressView",
            "bar_style": "success",
            "description": "",
            "description_tooltip": null,
            "layout": "IPY_MODEL_fe6250b386a94a84a862c394333eb46e",
            "max": 456318,
            "min": 0,
            "orientation": "horizontal",
            "style": "IPY_MODEL_2b118a4cc8ff4b6e81410baf44e0b958",
            "value": 456318
          }
        },
        "e0daa2727c374ff7b4061653b85dd9c1": {
          "model_module": "@jupyter-widgets/controls",
          "model_name": "HTMLModel",
          "model_module_version": "1.5.0",
          "state": {
            "_dom_classes": [],
            "_model_module": "@jupyter-widgets/controls",
            "_model_module_version": "1.5.0",
            "_model_name": "HTMLModel",
            "_view_count": null,
            "_view_module": "@jupyter-widgets/controls",
            "_view_module_version": "1.5.0",
            "_view_name": "HTMLView",
            "description": "",
            "description_tooltip": null,
            "layout": "IPY_MODEL_f611eec8868b40298cb5af77431f4345",
            "placeholder": "​",
            "style": "IPY_MODEL_4e43c7f391d04d2286b49ca8f8ae1015",
            "value": " 446k/446k [00:00&lt;00:00, 618kB/s]"
          }
        },
        "1e0bcb928ea54febadd50740c4228383": {
          "model_module": "@jupyter-widgets/base",
          "model_name": "LayoutModel",
          "model_module_version": "1.2.0",
          "state": {
            "_model_module": "@jupyter-widgets/base",
            "_model_module_version": "1.2.0",
            "_model_name": "LayoutModel",
            "_view_count": null,
            "_view_module": "@jupyter-widgets/base",
            "_view_module_version": "1.2.0",
            "_view_name": "LayoutView",
            "align_content": null,
            "align_items": null,
            "align_self": null,
            "border": null,
            "bottom": null,
            "display": null,
            "flex": null,
            "flex_flow": null,
            "grid_area": null,
            "grid_auto_columns": null,
            "grid_auto_flow": null,
            "grid_auto_rows": null,
            "grid_column": null,
            "grid_gap": null,
            "grid_row": null,
            "grid_template_areas": null,
            "grid_template_columns": null,
            "grid_template_rows": null,
            "height": null,
            "justify_content": null,
            "justify_items": null,
            "left": null,
            "margin": null,
            "max_height": null,
            "max_width": null,
            "min_height": null,
            "min_width": null,
            "object_fit": null,
            "object_position": null,
            "order": null,
            "overflow": null,
            "overflow_x": null,
            "overflow_y": null,
            "padding": null,
            "right": null,
            "top": null,
            "visibility": null,
            "width": null
          }
        },
        "970f1ebac6604d5b85d2f10bf7e66371": {
          "model_module": "@jupyter-widgets/base",
          "model_name": "LayoutModel",
          "model_module_version": "1.2.0",
          "state": {
            "_model_module": "@jupyter-widgets/base",
            "_model_module_version": "1.2.0",
            "_model_name": "LayoutModel",
            "_view_count": null,
            "_view_module": "@jupyter-widgets/base",
            "_view_module_version": "1.2.0",
            "_view_name": "LayoutView",
            "align_content": null,
            "align_items": null,
            "align_self": null,
            "border": null,
            "bottom": null,
            "display": null,
            "flex": null,
            "flex_flow": null,
            "grid_area": null,
            "grid_auto_columns": null,
            "grid_auto_flow": null,
            "grid_auto_rows": null,
            "grid_column": null,
            "grid_gap": null,
            "grid_row": null,
            "grid_template_areas": null,
            "grid_template_columns": null,
            "grid_template_rows": null,
            "height": null,
            "justify_content": null,
            "justify_items": null,
            "left": null,
            "margin": null,
            "max_height": null,
            "max_width": null,
            "min_height": null,
            "min_width": null,
            "object_fit": null,
            "object_position": null,
            "order": null,
            "overflow": null,
            "overflow_x": null,
            "overflow_y": null,
            "padding": null,
            "right": null,
            "top": null,
            "visibility": null,
            "width": null
          }
        },
        "6ad4b40cea5f48b4906f7dd729795ec5": {
          "model_module": "@jupyter-widgets/controls",
          "model_name": "DescriptionStyleModel",
          "model_module_version": "1.5.0",
          "state": {
            "_model_module": "@jupyter-widgets/controls",
            "_model_module_version": "1.5.0",
            "_model_name": "DescriptionStyleModel",
            "_view_count": null,
            "_view_module": "@jupyter-widgets/base",
            "_view_module_version": "1.2.0",
            "_view_name": "StyleView",
            "description_width": ""
          }
        },
        "fe6250b386a94a84a862c394333eb46e": {
          "model_module": "@jupyter-widgets/base",
          "model_name": "LayoutModel",
          "model_module_version": "1.2.0",
          "state": {
            "_model_module": "@jupyter-widgets/base",
            "_model_module_version": "1.2.0",
            "_model_name": "LayoutModel",
            "_view_count": null,
            "_view_module": "@jupyter-widgets/base",
            "_view_module_version": "1.2.0",
            "_view_name": "LayoutView",
            "align_content": null,
            "align_items": null,
            "align_self": null,
            "border": null,
            "bottom": null,
            "display": null,
            "flex": null,
            "flex_flow": null,
            "grid_area": null,
            "grid_auto_columns": null,
            "grid_auto_flow": null,
            "grid_auto_rows": null,
            "grid_column": null,
            "grid_gap": null,
            "grid_row": null,
            "grid_template_areas": null,
            "grid_template_columns": null,
            "grid_template_rows": null,
            "height": null,
            "justify_content": null,
            "justify_items": null,
            "left": null,
            "margin": null,
            "max_height": null,
            "max_width": null,
            "min_height": null,
            "min_width": null,
            "object_fit": null,
            "object_position": null,
            "order": null,
            "overflow": null,
            "overflow_x": null,
            "overflow_y": null,
            "padding": null,
            "right": null,
            "top": null,
            "visibility": null,
            "width": null
          }
        },
        "2b118a4cc8ff4b6e81410baf44e0b958": {
          "model_module": "@jupyter-widgets/controls",
          "model_name": "ProgressStyleModel",
          "model_module_version": "1.5.0",
          "state": {
            "_model_module": "@jupyter-widgets/controls",
            "_model_module_version": "1.5.0",
            "_model_name": "ProgressStyleModel",
            "_view_count": null,
            "_view_module": "@jupyter-widgets/base",
            "_view_module_version": "1.2.0",
            "_view_name": "StyleView",
            "bar_color": null,
            "description_width": ""
          }
        },
        "f611eec8868b40298cb5af77431f4345": {
          "model_module": "@jupyter-widgets/base",
          "model_name": "LayoutModel",
          "model_module_version": "1.2.0",
          "state": {
            "_model_module": "@jupyter-widgets/base",
            "_model_module_version": "1.2.0",
            "_model_name": "LayoutModel",
            "_view_count": null,
            "_view_module": "@jupyter-widgets/base",
            "_view_module_version": "1.2.0",
            "_view_name": "LayoutView",
            "align_content": null,
            "align_items": null,
            "align_self": null,
            "border": null,
            "bottom": null,
            "display": null,
            "flex": null,
            "flex_flow": null,
            "grid_area": null,
            "grid_auto_columns": null,
            "grid_auto_flow": null,
            "grid_auto_rows": null,
            "grid_column": null,
            "grid_gap": null,
            "grid_row": null,
            "grid_template_areas": null,
            "grid_template_columns": null,
            "grid_template_rows": null,
            "height": null,
            "justify_content": null,
            "justify_items": null,
            "left": null,
            "margin": null,
            "max_height": null,
            "max_width": null,
            "min_height": null,
            "min_width": null,
            "object_fit": null,
            "object_position": null,
            "order": null,
            "overflow": null,
            "overflow_x": null,
            "overflow_y": null,
            "padding": null,
            "right": null,
            "top": null,
            "visibility": null,
            "width": null
          }
        },
        "4e43c7f391d04d2286b49ca8f8ae1015": {
          "model_module": "@jupyter-widgets/controls",
          "model_name": "DescriptionStyleModel",
          "model_module_version": "1.5.0",
          "state": {
            "_model_module": "@jupyter-widgets/controls",
            "_model_module_version": "1.5.0",
            "_model_name": "DescriptionStyleModel",
            "_view_count": null,
            "_view_module": "@jupyter-widgets/base",
            "_view_module_version": "1.2.0",
            "_view_name": "StyleView",
            "description_width": ""
          }
        },
        "d75c4a111b65489685556fe3e4fb1523": {
          "model_module": "@jupyter-widgets/controls",
          "model_name": "HBoxModel",
          "model_module_version": "1.5.0",
          "state": {
            "_dom_classes": [],
            "_model_module": "@jupyter-widgets/controls",
            "_model_module_version": "1.5.0",
            "_model_name": "HBoxModel",
            "_view_count": null,
            "_view_module": "@jupyter-widgets/controls",
            "_view_module_version": "1.5.0",
            "_view_name": "HBoxView",
            "box_style": "",
            "children": [
              "IPY_MODEL_e389d49e16d54289ad7d3e204f81d8eb",
              "IPY_MODEL_b969daff8266470c905e0370ac9a0bd0",
              "IPY_MODEL_45a26eca087146f59aa6302a31d29e06"
            ],
            "layout": "IPY_MODEL_d4823ce3c6954aa291df9680642b4424"
          }
        },
        "e389d49e16d54289ad7d3e204f81d8eb": {
          "model_module": "@jupyter-widgets/controls",
          "model_name": "HTMLModel",
          "model_module_version": "1.5.0",
          "state": {
            "_dom_classes": [],
            "_model_module": "@jupyter-widgets/controls",
            "_model_module_version": "1.5.0",
            "_model_name": "HTMLModel",
            "_view_count": null,
            "_view_module": "@jupyter-widgets/controls",
            "_view_module_version": "1.5.0",
            "_view_name": "HTMLView",
            "description": "",
            "description_tooltip": null,
            "layout": "IPY_MODEL_1e813ffdd2db4b9f93a7975c83a9f577",
            "placeholder": "​",
            "style": "IPY_MODEL_5e7b38698d2e4dc0be913e4b7a289210",
            "value": "Downloading: 100%"
          }
        },
        "b969daff8266470c905e0370ac9a0bd0": {
          "model_module": "@jupyter-widgets/controls",
          "model_name": "FloatProgressModel",
          "model_module_version": "1.5.0",
          "state": {
            "_dom_classes": [],
            "_model_module": "@jupyter-widgets/controls",
            "_model_module_version": "1.5.0",
            "_model_name": "FloatProgressModel",
            "_view_count": null,
            "_view_module": "@jupyter-widgets/controls",
            "_view_module_version": "1.5.0",
            "_view_name": "ProgressView",
            "bar_style": "success",
            "description": "",
            "description_tooltip": null,
            "layout": "IPY_MODEL_3eefb49ecbf24a0380efb166ddde0e50",
            "max": 1355863,
            "min": 0,
            "orientation": "horizontal",
            "style": "IPY_MODEL_bab64a3dc94e46b59fd608538ccf66e7",
            "value": 1355863
          }
        },
        "45a26eca087146f59aa6302a31d29e06": {
          "model_module": "@jupyter-widgets/controls",
          "model_name": "HTMLModel",
          "model_module_version": "1.5.0",
          "state": {
            "_dom_classes": [],
            "_model_module": "@jupyter-widgets/controls",
            "_model_module_version": "1.5.0",
            "_model_name": "HTMLModel",
            "_view_count": null,
            "_view_module": "@jupyter-widgets/controls",
            "_view_module_version": "1.5.0",
            "_view_name": "HTMLView",
            "description": "",
            "description_tooltip": null,
            "layout": "IPY_MODEL_d89b077004624b7bbb4395efbd592e0a",
            "placeholder": "​",
            "style": "IPY_MODEL_1cc91fcbbaec4f6d86a3278c3e81bc39",
            "value": " 1.29M/1.29M [00:00&lt;00:00, 1.80MB/s]"
          }
        },
        "d4823ce3c6954aa291df9680642b4424": {
          "model_module": "@jupyter-widgets/base",
          "model_name": "LayoutModel",
          "model_module_version": "1.2.0",
          "state": {
            "_model_module": "@jupyter-widgets/base",
            "_model_module_version": "1.2.0",
            "_model_name": "LayoutModel",
            "_view_count": null,
            "_view_module": "@jupyter-widgets/base",
            "_view_module_version": "1.2.0",
            "_view_name": "LayoutView",
            "align_content": null,
            "align_items": null,
            "align_self": null,
            "border": null,
            "bottom": null,
            "display": null,
            "flex": null,
            "flex_flow": null,
            "grid_area": null,
            "grid_auto_columns": null,
            "grid_auto_flow": null,
            "grid_auto_rows": null,
            "grid_column": null,
            "grid_gap": null,
            "grid_row": null,
            "grid_template_areas": null,
            "grid_template_columns": null,
            "grid_template_rows": null,
            "height": null,
            "justify_content": null,
            "justify_items": null,
            "left": null,
            "margin": null,
            "max_height": null,
            "max_width": null,
            "min_height": null,
            "min_width": null,
            "object_fit": null,
            "object_position": null,
            "order": null,
            "overflow": null,
            "overflow_x": null,
            "overflow_y": null,
            "padding": null,
            "right": null,
            "top": null,
            "visibility": null,
            "width": null
          }
        },
        "1e813ffdd2db4b9f93a7975c83a9f577": {
          "model_module": "@jupyter-widgets/base",
          "model_name": "LayoutModel",
          "model_module_version": "1.2.0",
          "state": {
            "_model_module": "@jupyter-widgets/base",
            "_model_module_version": "1.2.0",
            "_model_name": "LayoutModel",
            "_view_count": null,
            "_view_module": "@jupyter-widgets/base",
            "_view_module_version": "1.2.0",
            "_view_name": "LayoutView",
            "align_content": null,
            "align_items": null,
            "align_self": null,
            "border": null,
            "bottom": null,
            "display": null,
            "flex": null,
            "flex_flow": null,
            "grid_area": null,
            "grid_auto_columns": null,
            "grid_auto_flow": null,
            "grid_auto_rows": null,
            "grid_column": null,
            "grid_gap": null,
            "grid_row": null,
            "grid_template_areas": null,
            "grid_template_columns": null,
            "grid_template_rows": null,
            "height": null,
            "justify_content": null,
            "justify_items": null,
            "left": null,
            "margin": null,
            "max_height": null,
            "max_width": null,
            "min_height": null,
            "min_width": null,
            "object_fit": null,
            "object_position": null,
            "order": null,
            "overflow": null,
            "overflow_x": null,
            "overflow_y": null,
            "padding": null,
            "right": null,
            "top": null,
            "visibility": null,
            "width": null
          }
        },
        "5e7b38698d2e4dc0be913e4b7a289210": {
          "model_module": "@jupyter-widgets/controls",
          "model_name": "DescriptionStyleModel",
          "model_module_version": "1.5.0",
          "state": {
            "_model_module": "@jupyter-widgets/controls",
            "_model_module_version": "1.5.0",
            "_model_name": "DescriptionStyleModel",
            "_view_count": null,
            "_view_module": "@jupyter-widgets/base",
            "_view_module_version": "1.2.0",
            "_view_name": "StyleView",
            "description_width": ""
          }
        },
        "3eefb49ecbf24a0380efb166ddde0e50": {
          "model_module": "@jupyter-widgets/base",
          "model_name": "LayoutModel",
          "model_module_version": "1.2.0",
          "state": {
            "_model_module": "@jupyter-widgets/base",
            "_model_module_version": "1.2.0",
            "_model_name": "LayoutModel",
            "_view_count": null,
            "_view_module": "@jupyter-widgets/base",
            "_view_module_version": "1.2.0",
            "_view_name": "LayoutView",
            "align_content": null,
            "align_items": null,
            "align_self": null,
            "border": null,
            "bottom": null,
            "display": null,
            "flex": null,
            "flex_flow": null,
            "grid_area": null,
            "grid_auto_columns": null,
            "grid_auto_flow": null,
            "grid_auto_rows": null,
            "grid_column": null,
            "grid_gap": null,
            "grid_row": null,
            "grid_template_areas": null,
            "grid_template_columns": null,
            "grid_template_rows": null,
            "height": null,
            "justify_content": null,
            "justify_items": null,
            "left": null,
            "margin": null,
            "max_height": null,
            "max_width": null,
            "min_height": null,
            "min_width": null,
            "object_fit": null,
            "object_position": null,
            "order": null,
            "overflow": null,
            "overflow_x": null,
            "overflow_y": null,
            "padding": null,
            "right": null,
            "top": null,
            "visibility": null,
            "width": null
          }
        },
        "bab64a3dc94e46b59fd608538ccf66e7": {
          "model_module": "@jupyter-widgets/controls",
          "model_name": "ProgressStyleModel",
          "model_module_version": "1.5.0",
          "state": {
            "_model_module": "@jupyter-widgets/controls",
            "_model_module_version": "1.5.0",
            "_model_name": "ProgressStyleModel",
            "_view_count": null,
            "_view_module": "@jupyter-widgets/base",
            "_view_module_version": "1.2.0",
            "_view_name": "StyleView",
            "bar_color": null,
            "description_width": ""
          }
        },
        "d89b077004624b7bbb4395efbd592e0a": {
          "model_module": "@jupyter-widgets/base",
          "model_name": "LayoutModel",
          "model_module_version": "1.2.0",
          "state": {
            "_model_module": "@jupyter-widgets/base",
            "_model_module_version": "1.2.0",
            "_model_name": "LayoutModel",
            "_view_count": null,
            "_view_module": "@jupyter-widgets/base",
            "_view_module_version": "1.2.0",
            "_view_name": "LayoutView",
            "align_content": null,
            "align_items": null,
            "align_self": null,
            "border": null,
            "bottom": null,
            "display": null,
            "flex": null,
            "flex_flow": null,
            "grid_area": null,
            "grid_auto_columns": null,
            "grid_auto_flow": null,
            "grid_auto_rows": null,
            "grid_column": null,
            "grid_gap": null,
            "grid_row": null,
            "grid_template_areas": null,
            "grid_template_columns": null,
            "grid_template_rows": null,
            "height": null,
            "justify_content": null,
            "justify_items": null,
            "left": null,
            "margin": null,
            "max_height": null,
            "max_width": null,
            "min_height": null,
            "min_width": null,
            "object_fit": null,
            "object_position": null,
            "order": null,
            "overflow": null,
            "overflow_x": null,
            "overflow_y": null,
            "padding": null,
            "right": null,
            "top": null,
            "visibility": null,
            "width": null
          }
        },
        "1cc91fcbbaec4f6d86a3278c3e81bc39": {
          "model_module": "@jupyter-widgets/controls",
          "model_name": "DescriptionStyleModel",
          "model_module_version": "1.5.0",
          "state": {
            "_model_module": "@jupyter-widgets/controls",
            "_model_module_version": "1.5.0",
            "_model_name": "DescriptionStyleModel",
            "_view_count": null,
            "_view_module": "@jupyter-widgets/base",
            "_view_module_version": "1.2.0",
            "_view_name": "StyleView",
            "description_width": ""
          }
        },
        "bb7feccbb6964a0998caa84fdc7fee36": {
          "model_module": "@jupyter-widgets/controls",
          "model_name": "HBoxModel",
          "model_module_version": "1.5.0",
          "state": {
            "_dom_classes": [],
            "_model_module": "@jupyter-widgets/controls",
            "_model_module_version": "1.5.0",
            "_model_name": "HBoxModel",
            "_view_count": null,
            "_view_module": "@jupyter-widgets/controls",
            "_view_module_version": "1.5.0",
            "_view_name": "HBoxView",
            "box_style": "",
            "children": [
              "IPY_MODEL_afb0becb08a843b89e8d1448aa1243f1",
              "IPY_MODEL_93fa8b3825e04fe4b54cad682aacae16",
              "IPY_MODEL_b779f117422d469fa465ae1784557488"
            ],
            "layout": "IPY_MODEL_bcb925067b0042e2ba0adb476eecaf20"
          }
        },
        "afb0becb08a843b89e8d1448aa1243f1": {
          "model_module": "@jupyter-widgets/controls",
          "model_name": "HTMLModel",
          "model_module_version": "1.5.0",
          "state": {
            "_dom_classes": [],
            "_model_module": "@jupyter-widgets/controls",
            "_model_module_version": "1.5.0",
            "_model_name": "HTMLModel",
            "_view_count": null,
            "_view_module": "@jupyter-widgets/controls",
            "_view_module_version": "1.5.0",
            "_view_name": "HTMLView",
            "description": "",
            "description_tooltip": null,
            "layout": "IPY_MODEL_9222242e6c7a4b3a80b485dad31fbd70",
            "placeholder": "​",
            "style": "IPY_MODEL_9e501f7e08ae472fa85e8fdd8bab6644",
            "value": "Downloading: 100%"
          }
        },
        "93fa8b3825e04fe4b54cad682aacae16": {
          "model_module": "@jupyter-widgets/controls",
          "model_name": "FloatProgressModel",
          "model_module_version": "1.5.0",
          "state": {
            "_dom_classes": [],
            "_model_module": "@jupyter-widgets/controls",
            "_model_module_version": "1.5.0",
            "_model_name": "FloatProgressModel",
            "_view_count": null,
            "_view_module": "@jupyter-widgets/controls",
            "_view_module_version": "1.5.0",
            "_view_name": "ProgressView",
            "bar_style": "success",
            "description": "",
            "description_tooltip": null,
            "layout": "IPY_MODEL_2bc45e943787446c8d721fd1c45af0f2",
            "max": 501200538,
            "min": 0,
            "orientation": "horizontal",
            "style": "IPY_MODEL_03dc0899b39c452aa6158a170c9281e9",
            "value": 501200538
          }
        },
        "b779f117422d469fa465ae1784557488": {
          "model_module": "@jupyter-widgets/controls",
          "model_name": "HTMLModel",
          "model_module_version": "1.5.0",
          "state": {
            "_dom_classes": [],
            "_model_module": "@jupyter-widgets/controls",
            "_model_module_version": "1.5.0",
            "_model_name": "HTMLModel",
            "_view_count": null,
            "_view_module": "@jupyter-widgets/controls",
            "_view_module_version": "1.5.0",
            "_view_name": "HTMLView",
            "description": "",
            "description_tooltip": null,
            "layout": "IPY_MODEL_db89f5cf7bf147a39bc49df9821fa0ce",
            "placeholder": "​",
            "style": "IPY_MODEL_3fe5038182394e44b8cb639d021688fa",
            "value": " 478M/478M [00:13&lt;00:00, 36.4MB/s]"
          }
        },
        "bcb925067b0042e2ba0adb476eecaf20": {
          "model_module": "@jupyter-widgets/base",
          "model_name": "LayoutModel",
          "model_module_version": "1.2.0",
          "state": {
            "_model_module": "@jupyter-widgets/base",
            "_model_module_version": "1.2.0",
            "_model_name": "LayoutModel",
            "_view_count": null,
            "_view_module": "@jupyter-widgets/base",
            "_view_module_version": "1.2.0",
            "_view_name": "LayoutView",
            "align_content": null,
            "align_items": null,
            "align_self": null,
            "border": null,
            "bottom": null,
            "display": null,
            "flex": null,
            "flex_flow": null,
            "grid_area": null,
            "grid_auto_columns": null,
            "grid_auto_flow": null,
            "grid_auto_rows": null,
            "grid_column": null,
            "grid_gap": null,
            "grid_row": null,
            "grid_template_areas": null,
            "grid_template_columns": null,
            "grid_template_rows": null,
            "height": null,
            "justify_content": null,
            "justify_items": null,
            "left": null,
            "margin": null,
            "max_height": null,
            "max_width": null,
            "min_height": null,
            "min_width": null,
            "object_fit": null,
            "object_position": null,
            "order": null,
            "overflow": null,
            "overflow_x": null,
            "overflow_y": null,
            "padding": null,
            "right": null,
            "top": null,
            "visibility": null,
            "width": null
          }
        },
        "9222242e6c7a4b3a80b485dad31fbd70": {
          "model_module": "@jupyter-widgets/base",
          "model_name": "LayoutModel",
          "model_module_version": "1.2.0",
          "state": {
            "_model_module": "@jupyter-widgets/base",
            "_model_module_version": "1.2.0",
            "_model_name": "LayoutModel",
            "_view_count": null,
            "_view_module": "@jupyter-widgets/base",
            "_view_module_version": "1.2.0",
            "_view_name": "LayoutView",
            "align_content": null,
            "align_items": null,
            "align_self": null,
            "border": null,
            "bottom": null,
            "display": null,
            "flex": null,
            "flex_flow": null,
            "grid_area": null,
            "grid_auto_columns": null,
            "grid_auto_flow": null,
            "grid_auto_rows": null,
            "grid_column": null,
            "grid_gap": null,
            "grid_row": null,
            "grid_template_areas": null,
            "grid_template_columns": null,
            "grid_template_rows": null,
            "height": null,
            "justify_content": null,
            "justify_items": null,
            "left": null,
            "margin": null,
            "max_height": null,
            "max_width": null,
            "min_height": null,
            "min_width": null,
            "object_fit": null,
            "object_position": null,
            "order": null,
            "overflow": null,
            "overflow_x": null,
            "overflow_y": null,
            "padding": null,
            "right": null,
            "top": null,
            "visibility": null,
            "width": null
          }
        },
        "9e501f7e08ae472fa85e8fdd8bab6644": {
          "model_module": "@jupyter-widgets/controls",
          "model_name": "DescriptionStyleModel",
          "model_module_version": "1.5.0",
          "state": {
            "_model_module": "@jupyter-widgets/controls",
            "_model_module_version": "1.5.0",
            "_model_name": "DescriptionStyleModel",
            "_view_count": null,
            "_view_module": "@jupyter-widgets/base",
            "_view_module_version": "1.2.0",
            "_view_name": "StyleView",
            "description_width": ""
          }
        },
        "2bc45e943787446c8d721fd1c45af0f2": {
          "model_module": "@jupyter-widgets/base",
          "model_name": "LayoutModel",
          "model_module_version": "1.2.0",
          "state": {
            "_model_module": "@jupyter-widgets/base",
            "_model_module_version": "1.2.0",
            "_model_name": "LayoutModel",
            "_view_count": null,
            "_view_module": "@jupyter-widgets/base",
            "_view_module_version": "1.2.0",
            "_view_name": "LayoutView",
            "align_content": null,
            "align_items": null,
            "align_self": null,
            "border": null,
            "bottom": null,
            "display": null,
            "flex": null,
            "flex_flow": null,
            "grid_area": null,
            "grid_auto_columns": null,
            "grid_auto_flow": null,
            "grid_auto_rows": null,
            "grid_column": null,
            "grid_gap": null,
            "grid_row": null,
            "grid_template_areas": null,
            "grid_template_columns": null,
            "grid_template_rows": null,
            "height": null,
            "justify_content": null,
            "justify_items": null,
            "left": null,
            "margin": null,
            "max_height": null,
            "max_width": null,
            "min_height": null,
            "min_width": null,
            "object_fit": null,
            "object_position": null,
            "order": null,
            "overflow": null,
            "overflow_x": null,
            "overflow_y": null,
            "padding": null,
            "right": null,
            "top": null,
            "visibility": null,
            "width": null
          }
        },
        "03dc0899b39c452aa6158a170c9281e9": {
          "model_module": "@jupyter-widgets/controls",
          "model_name": "ProgressStyleModel",
          "model_module_version": "1.5.0",
          "state": {
            "_model_module": "@jupyter-widgets/controls",
            "_model_module_version": "1.5.0",
            "_model_name": "ProgressStyleModel",
            "_view_count": null,
            "_view_module": "@jupyter-widgets/base",
            "_view_module_version": "1.2.0",
            "_view_name": "StyleView",
            "bar_color": null,
            "description_width": ""
          }
        },
        "db89f5cf7bf147a39bc49df9821fa0ce": {
          "model_module": "@jupyter-widgets/base",
          "model_name": "LayoutModel",
          "model_module_version": "1.2.0",
          "state": {
            "_model_module": "@jupyter-widgets/base",
            "_model_module_version": "1.2.0",
            "_model_name": "LayoutModel",
            "_view_count": null,
            "_view_module": "@jupyter-widgets/base",
            "_view_module_version": "1.2.0",
            "_view_name": "LayoutView",
            "align_content": null,
            "align_items": null,
            "align_self": null,
            "border": null,
            "bottom": null,
            "display": null,
            "flex": null,
            "flex_flow": null,
            "grid_area": null,
            "grid_auto_columns": null,
            "grid_auto_flow": null,
            "grid_auto_rows": null,
            "grid_column": null,
            "grid_gap": null,
            "grid_row": null,
            "grid_template_areas": null,
            "grid_template_columns": null,
            "grid_template_rows": null,
            "height": null,
            "justify_content": null,
            "justify_items": null,
            "left": null,
            "margin": null,
            "max_height": null,
            "max_width": null,
            "min_height": null,
            "min_width": null,
            "object_fit": null,
            "object_position": null,
            "order": null,
            "overflow": null,
            "overflow_x": null,
            "overflow_y": null,
            "padding": null,
            "right": null,
            "top": null,
            "visibility": null,
            "width": null
          }
        },
        "3fe5038182394e44b8cb639d021688fa": {
          "model_module": "@jupyter-widgets/controls",
          "model_name": "DescriptionStyleModel",
          "model_module_version": "1.5.0",
          "state": {
            "_model_module": "@jupyter-widgets/controls",
            "_model_module_version": "1.5.0",
            "_model_name": "DescriptionStyleModel",
            "_view_count": null,
            "_view_module": "@jupyter-widgets/base",
            "_view_module_version": "1.2.0",
            "_view_name": "StyleView",
            "description_width": ""
          }
        }
      }
    }
  },
  "nbformat": 4,
  "nbformat_minor": 0
}
